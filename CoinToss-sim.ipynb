{
 "cells": [
  {
   "cell_type": "markdown",
   "metadata": {},
   "source": [
    "## Coin Toss Game"
   ]
  },
  {
   "cell_type": "markdown",
   "metadata": {},
   "source": [
    "This notebook simulates a coin tossing game where the player gets to pick a string of head/tail occurences as the endgame. A coin is tossed until the chosen sequence of head/tail occurs. When the endgame sequence occurs the game ends. The objective is to find the sequence of head/tail occurences that will end the game with the least number of tosses. This is simulated by running a given number of coin toss games with the chosen endgame sequence. The average number of tosses required to win is computed and its distribution is plotted."
   ]
  },
  {
   "cell_type": "code",
   "execution_count": 1,
   "metadata": {},
   "outputs": [
    {
     "data": {
      "text/html": [
       "\n",
       "    <div class=\"bk-root\">\n",
       "        <a href=\"https://bokeh.pydata.org\" target=\"_blank\" class=\"bk-logo bk-logo-small bk-logo-notebook\"></a>\n",
       "        <span id=\"af9c6e5d-9b68-42d4-802b-188b0f35b38d\">Loading BokehJS ...</span>\n",
       "    </div>"
      ]
     },
     "metadata": {},
     "output_type": "display_data"
    },
    {
     "data": {
      "application/javascript": [
       "\n",
       "(function(root) {\n",
       "  function now() {\n",
       "    return new Date();\n",
       "  }\n",
       "\n",
       "  var force = true;\n",
       "\n",
       "  if (typeof (root._bokeh_onload_callbacks) === \"undefined\" || force === true) {\n",
       "    root._bokeh_onload_callbacks = [];\n",
       "    root._bokeh_is_loading = undefined;\n",
       "  }\n",
       "\n",
       "  var JS_MIME_TYPE = 'application/javascript';\n",
       "  var HTML_MIME_TYPE = 'text/html';\n",
       "  var EXEC_MIME_TYPE = 'application/vnd.bokehjs_exec.v0+json';\n",
       "  var CLASS_NAME = 'output_bokeh rendered_html';\n",
       "\n",
       "  /**\n",
       "   * Render data to the DOM node\n",
       "   */\n",
       "  function render(props, node) {\n",
       "    var script = document.createElement(\"script\");\n",
       "    node.appendChild(script);\n",
       "  }\n",
       "\n",
       "  /**\n",
       "   * Handle when an output is cleared or removed\n",
       "   */\n",
       "  function handleClearOutput(event, handle) {\n",
       "    var cell = handle.cell;\n",
       "\n",
       "    var id = cell.output_area._bokeh_element_id;\n",
       "    var server_id = cell.output_area._bokeh_server_id;\n",
       "    // Clean up Bokeh references\n",
       "    if (id != null && id in Bokeh.index) {\n",
       "      Bokeh.index[id].model.document.clear();\n",
       "      delete Bokeh.index[id];\n",
       "    }\n",
       "\n",
       "    if (server_id !== undefined) {\n",
       "      // Clean up Bokeh references\n",
       "      var cmd = \"from bokeh.io.state import curstate; print(curstate().uuid_to_server['\" + server_id + \"'].get_sessions()[0].document.roots[0]._id)\";\n",
       "      cell.notebook.kernel.execute(cmd, {\n",
       "        iopub: {\n",
       "          output: function(msg) {\n",
       "            var id = msg.content.text.trim();\n",
       "            if (id in Bokeh.index) {\n",
       "              Bokeh.index[id].model.document.clear();\n",
       "              delete Bokeh.index[id];\n",
       "            }\n",
       "          }\n",
       "        }\n",
       "      });\n",
       "      // Destroy server and session\n",
       "      var cmd = \"import bokeh.io.notebook as ion; ion.destroy_server('\" + server_id + \"')\";\n",
       "      cell.notebook.kernel.execute(cmd);\n",
       "    }\n",
       "  }\n",
       "\n",
       "  /**\n",
       "   * Handle when a new output is added\n",
       "   */\n",
       "  function handleAddOutput(event, handle) {\n",
       "    var output_area = handle.output_area;\n",
       "    var output = handle.output;\n",
       "\n",
       "    // limit handleAddOutput to display_data with EXEC_MIME_TYPE content only\n",
       "    if ((output.output_type != \"display_data\") || (!output.data.hasOwnProperty(EXEC_MIME_TYPE))) {\n",
       "      return\n",
       "    }\n",
       "\n",
       "    var toinsert = output_area.element.find(\".\" + CLASS_NAME.split(' ')[0]);\n",
       "\n",
       "    if (output.metadata[EXEC_MIME_TYPE][\"id\"] !== undefined) {\n",
       "      toinsert[toinsert.length - 1].firstChild.textContent = output.data[JS_MIME_TYPE];\n",
       "      // store reference to embed id on output_area\n",
       "      output_area._bokeh_element_id = output.metadata[EXEC_MIME_TYPE][\"id\"];\n",
       "    }\n",
       "    if (output.metadata[EXEC_MIME_TYPE][\"server_id\"] !== undefined) {\n",
       "      var bk_div = document.createElement(\"div\");\n",
       "      bk_div.innerHTML = output.data[HTML_MIME_TYPE];\n",
       "      var script_attrs = bk_div.children[0].attributes;\n",
       "      for (var i = 0; i < script_attrs.length; i++) {\n",
       "        toinsert[toinsert.length - 1].firstChild.setAttribute(script_attrs[i].name, script_attrs[i].value);\n",
       "      }\n",
       "      // store reference to server id on output_area\n",
       "      output_area._bokeh_server_id = output.metadata[EXEC_MIME_TYPE][\"server_id\"];\n",
       "    }\n",
       "  }\n",
       "\n",
       "  function register_renderer(events, OutputArea) {\n",
       "\n",
       "    function append_mime(data, metadata, element) {\n",
       "      // create a DOM node to render to\n",
       "      var toinsert = this.create_output_subarea(\n",
       "        metadata,\n",
       "        CLASS_NAME,\n",
       "        EXEC_MIME_TYPE\n",
       "      );\n",
       "      this.keyboard_manager.register_events(toinsert);\n",
       "      // Render to node\n",
       "      var props = {data: data, metadata: metadata[EXEC_MIME_TYPE]};\n",
       "      render(props, toinsert[toinsert.length - 1]);\n",
       "      element.append(toinsert);\n",
       "      return toinsert\n",
       "    }\n",
       "\n",
       "    /* Handle when an output is cleared or removed */\n",
       "    events.on('clear_output.CodeCell', handleClearOutput);\n",
       "    events.on('delete.Cell', handleClearOutput);\n",
       "\n",
       "    /* Handle when a new output is added */\n",
       "    events.on('output_added.OutputArea', handleAddOutput);\n",
       "\n",
       "    /**\n",
       "     * Register the mime type and append_mime function with output_area\n",
       "     */\n",
       "    OutputArea.prototype.register_mime_type(EXEC_MIME_TYPE, append_mime, {\n",
       "      /* Is output safe? */\n",
       "      safe: true,\n",
       "      /* Index of renderer in `output_area.display_order` */\n",
       "      index: 0\n",
       "    });\n",
       "  }\n",
       "\n",
       "  // register the mime type if in Jupyter Notebook environment and previously unregistered\n",
       "  if (root.Jupyter !== undefined) {\n",
       "    var events = require('base/js/events');\n",
       "    var OutputArea = require('notebook/js/outputarea').OutputArea;\n",
       "\n",
       "    if (OutputArea.prototype.mime_types().indexOf(EXEC_MIME_TYPE) == -1) {\n",
       "      register_renderer(events, OutputArea);\n",
       "    }\n",
       "  }\n",
       "\n",
       "  \n",
       "  if (typeof (root._bokeh_timeout) === \"undefined\" || force === true) {\n",
       "    root._bokeh_timeout = Date.now() + 5000;\n",
       "    root._bokeh_failed_load = false;\n",
       "  }\n",
       "\n",
       "  var NB_LOAD_WARNING = {'data': {'text/html':\n",
       "     \"<div style='background-color: #fdd'>\\n\"+\n",
       "     \"<p>\\n\"+\n",
       "     \"BokehJS does not appear to have successfully loaded. If loading BokehJS from CDN, this \\n\"+\n",
       "     \"may be due to a slow or bad network connection. Possible fixes:\\n\"+\n",
       "     \"</p>\\n\"+\n",
       "     \"<ul>\\n\"+\n",
       "     \"<li>re-rerun `output_notebook()` to attempt to load from CDN again, or</li>\\n\"+\n",
       "     \"<li>use INLINE resources instead, as so:</li>\\n\"+\n",
       "     \"</ul>\\n\"+\n",
       "     \"<code>\\n\"+\n",
       "     \"from bokeh.resources import INLINE\\n\"+\n",
       "     \"output_notebook(resources=INLINE)\\n\"+\n",
       "     \"</code>\\n\"+\n",
       "     \"</div>\"}};\n",
       "\n",
       "  function display_loaded() {\n",
       "    var el = document.getElementById(\"af9c6e5d-9b68-42d4-802b-188b0f35b38d\");\n",
       "    if (el != null) {\n",
       "      el.textContent = \"BokehJS is loading...\";\n",
       "    }\n",
       "    if (root.Bokeh !== undefined) {\n",
       "      if (el != null) {\n",
       "        el.textContent = \"BokehJS \" + root.Bokeh.version + \" successfully loaded.\";\n",
       "      }\n",
       "    } else if (Date.now() < root._bokeh_timeout) {\n",
       "      setTimeout(display_loaded, 100)\n",
       "    }\n",
       "  }\n",
       "\n",
       "\n",
       "  function run_callbacks() {\n",
       "    try {\n",
       "      root._bokeh_onload_callbacks.forEach(function(callback) { callback() });\n",
       "    }\n",
       "    finally {\n",
       "      delete root._bokeh_onload_callbacks\n",
       "    }\n",
       "    console.info(\"Bokeh: all callbacks have finished\");\n",
       "  }\n",
       "\n",
       "  function load_libs(js_urls, callback) {\n",
       "    root._bokeh_onload_callbacks.push(callback);\n",
       "    if (root._bokeh_is_loading > 0) {\n",
       "      console.log(\"Bokeh: BokehJS is being loaded, scheduling callback at\", now());\n",
       "      return null;\n",
       "    }\n",
       "    if (js_urls == null || js_urls.length === 0) {\n",
       "      run_callbacks();\n",
       "      return null;\n",
       "    }\n",
       "    console.log(\"Bokeh: BokehJS not loaded, scheduling load and callback at\", now());\n",
       "    root._bokeh_is_loading = js_urls.length;\n",
       "    for (var i = 0; i < js_urls.length; i++) {\n",
       "      var url = js_urls[i];\n",
       "      var s = document.createElement('script');\n",
       "      s.src = url;\n",
       "      s.async = false;\n",
       "      s.onreadystatechange = s.onload = function() {\n",
       "        root._bokeh_is_loading--;\n",
       "        if (root._bokeh_is_loading === 0) {\n",
       "          console.log(\"Bokeh: all BokehJS libraries loaded\");\n",
       "          run_callbacks()\n",
       "        }\n",
       "      };\n",
       "      s.onerror = function() {\n",
       "        console.warn(\"failed to load library \" + url);\n",
       "      };\n",
       "      console.log(\"Bokeh: injecting script tag for BokehJS library: \", url);\n",
       "      document.getElementsByTagName(\"head\")[0].appendChild(s);\n",
       "    }\n",
       "  };var element = document.getElementById(\"af9c6e5d-9b68-42d4-802b-188b0f35b38d\");\n",
       "  if (element == null) {\n",
       "    console.log(\"Bokeh: ERROR: autoload.js configured with elementid 'af9c6e5d-9b68-42d4-802b-188b0f35b38d' but no matching script tag was found. \")\n",
       "    return false;\n",
       "  }\n",
       "\n",
       "  var js_urls = [\"https://cdn.pydata.org/bokeh/release/bokeh-0.13.0.min.js\", \"https://cdn.pydata.org/bokeh/release/bokeh-widgets-0.13.0.min.js\", \"https://cdn.pydata.org/bokeh/release/bokeh-tables-0.13.0.min.js\", \"https://cdn.pydata.org/bokeh/release/bokeh-gl-0.13.0.min.js\"];\n",
       "\n",
       "  var inline_js = [\n",
       "    function(Bokeh) {\n",
       "      Bokeh.set_log_level(\"info\");\n",
       "    },\n",
       "    \n",
       "    function(Bokeh) {\n",
       "      \n",
       "    },\n",
       "    function(Bokeh) {\n",
       "      console.log(\"Bokeh: injecting CSS: https://cdn.pydata.org/bokeh/release/bokeh-0.13.0.min.css\");\n",
       "      Bokeh.embed.inject_css(\"https://cdn.pydata.org/bokeh/release/bokeh-0.13.0.min.css\");\n",
       "      console.log(\"Bokeh: injecting CSS: https://cdn.pydata.org/bokeh/release/bokeh-widgets-0.13.0.min.css\");\n",
       "      Bokeh.embed.inject_css(\"https://cdn.pydata.org/bokeh/release/bokeh-widgets-0.13.0.min.css\");\n",
       "      console.log(\"Bokeh: injecting CSS: https://cdn.pydata.org/bokeh/release/bokeh-tables-0.13.0.min.css\");\n",
       "      Bokeh.embed.inject_css(\"https://cdn.pydata.org/bokeh/release/bokeh-tables-0.13.0.min.css\");\n",
       "    }\n",
       "  ];\n",
       "\n",
       "  function run_inline_js() {\n",
       "    \n",
       "    if ((root.Bokeh !== undefined) || (force === true)) {\n",
       "      for (var i = 0; i < inline_js.length; i++) {\n",
       "        inline_js[i].call(root, root.Bokeh);\n",
       "      }if (force === true) {\n",
       "        display_loaded();\n",
       "      }} else if (Date.now() < root._bokeh_timeout) {\n",
       "      setTimeout(run_inline_js, 100);\n",
       "    } else if (!root._bokeh_failed_load) {\n",
       "      console.log(\"Bokeh: BokehJS failed to load within specified timeout.\");\n",
       "      root._bokeh_failed_load = true;\n",
       "    } else if (force !== true) {\n",
       "      var cell = $(document.getElementById(\"af9c6e5d-9b68-42d4-802b-188b0f35b38d\")).parents('.cell').data().cell;\n",
       "      cell.output_area.append_execute_result(NB_LOAD_WARNING)\n",
       "    }\n",
       "\n",
       "  }\n",
       "\n",
       "  if (root._bokeh_is_loading === 0) {\n",
       "    console.log(\"Bokeh: BokehJS loaded, going straight to plotting\");\n",
       "    run_inline_js();\n",
       "  } else {\n",
       "    load_libs(js_urls, function() {\n",
       "      console.log(\"Bokeh: BokehJS plotting callback run at\", now());\n",
       "      run_inline_js();\n",
       "    });\n",
       "  }\n",
       "}(window));"
      ],
      "application/vnd.bokehjs_load.v0+json": "\n(function(root) {\n  function now() {\n    return new Date();\n  }\n\n  var force = true;\n\n  if (typeof (root._bokeh_onload_callbacks) === \"undefined\" || force === true) {\n    root._bokeh_onload_callbacks = [];\n    root._bokeh_is_loading = undefined;\n  }\n\n  \n\n  \n  if (typeof (root._bokeh_timeout) === \"undefined\" || force === true) {\n    root._bokeh_timeout = Date.now() + 5000;\n    root._bokeh_failed_load = false;\n  }\n\n  var NB_LOAD_WARNING = {'data': {'text/html':\n     \"<div style='background-color: #fdd'>\\n\"+\n     \"<p>\\n\"+\n     \"BokehJS does not appear to have successfully loaded. If loading BokehJS from CDN, this \\n\"+\n     \"may be due to a slow or bad network connection. Possible fixes:\\n\"+\n     \"</p>\\n\"+\n     \"<ul>\\n\"+\n     \"<li>re-rerun `output_notebook()` to attempt to load from CDN again, or</li>\\n\"+\n     \"<li>use INLINE resources instead, as so:</li>\\n\"+\n     \"</ul>\\n\"+\n     \"<code>\\n\"+\n     \"from bokeh.resources import INLINE\\n\"+\n     \"output_notebook(resources=INLINE)\\n\"+\n     \"</code>\\n\"+\n     \"</div>\"}};\n\n  function display_loaded() {\n    var el = document.getElementById(\"af9c6e5d-9b68-42d4-802b-188b0f35b38d\");\n    if (el != null) {\n      el.textContent = \"BokehJS is loading...\";\n    }\n    if (root.Bokeh !== undefined) {\n      if (el != null) {\n        el.textContent = \"BokehJS \" + root.Bokeh.version + \" successfully loaded.\";\n      }\n    } else if (Date.now() < root._bokeh_timeout) {\n      setTimeout(display_loaded, 100)\n    }\n  }\n\n\n  function run_callbacks() {\n    try {\n      root._bokeh_onload_callbacks.forEach(function(callback) { callback() });\n    }\n    finally {\n      delete root._bokeh_onload_callbacks\n    }\n    console.info(\"Bokeh: all callbacks have finished\");\n  }\n\n  function load_libs(js_urls, callback) {\n    root._bokeh_onload_callbacks.push(callback);\n    if (root._bokeh_is_loading > 0) {\n      console.log(\"Bokeh: BokehJS is being loaded, scheduling callback at\", now());\n      return null;\n    }\n    if (js_urls == null || js_urls.length === 0) {\n      run_callbacks();\n      return null;\n    }\n    console.log(\"Bokeh: BokehJS not loaded, scheduling load and callback at\", now());\n    root._bokeh_is_loading = js_urls.length;\n    for (var i = 0; i < js_urls.length; i++) {\n      var url = js_urls[i];\n      var s = document.createElement('script');\n      s.src = url;\n      s.async = false;\n      s.onreadystatechange = s.onload = function() {\n        root._bokeh_is_loading--;\n        if (root._bokeh_is_loading === 0) {\n          console.log(\"Bokeh: all BokehJS libraries loaded\");\n          run_callbacks()\n        }\n      };\n      s.onerror = function() {\n        console.warn(\"failed to load library \" + url);\n      };\n      console.log(\"Bokeh: injecting script tag for BokehJS library: \", url);\n      document.getElementsByTagName(\"head\")[0].appendChild(s);\n    }\n  };var element = document.getElementById(\"af9c6e5d-9b68-42d4-802b-188b0f35b38d\");\n  if (element == null) {\n    console.log(\"Bokeh: ERROR: autoload.js configured with elementid 'af9c6e5d-9b68-42d4-802b-188b0f35b38d' but no matching script tag was found. \")\n    return false;\n  }\n\n  var js_urls = [\"https://cdn.pydata.org/bokeh/release/bokeh-0.13.0.min.js\", \"https://cdn.pydata.org/bokeh/release/bokeh-widgets-0.13.0.min.js\", \"https://cdn.pydata.org/bokeh/release/bokeh-tables-0.13.0.min.js\", \"https://cdn.pydata.org/bokeh/release/bokeh-gl-0.13.0.min.js\"];\n\n  var inline_js = [\n    function(Bokeh) {\n      Bokeh.set_log_level(\"info\");\n    },\n    \n    function(Bokeh) {\n      \n    },\n    function(Bokeh) {\n      console.log(\"Bokeh: injecting CSS: https://cdn.pydata.org/bokeh/release/bokeh-0.13.0.min.css\");\n      Bokeh.embed.inject_css(\"https://cdn.pydata.org/bokeh/release/bokeh-0.13.0.min.css\");\n      console.log(\"Bokeh: injecting CSS: https://cdn.pydata.org/bokeh/release/bokeh-widgets-0.13.0.min.css\");\n      Bokeh.embed.inject_css(\"https://cdn.pydata.org/bokeh/release/bokeh-widgets-0.13.0.min.css\");\n      console.log(\"Bokeh: injecting CSS: https://cdn.pydata.org/bokeh/release/bokeh-tables-0.13.0.min.css\");\n      Bokeh.embed.inject_css(\"https://cdn.pydata.org/bokeh/release/bokeh-tables-0.13.0.min.css\");\n    }\n  ];\n\n  function run_inline_js() {\n    \n    if ((root.Bokeh !== undefined) || (force === true)) {\n      for (var i = 0; i < inline_js.length; i++) {\n        inline_js[i].call(root, root.Bokeh);\n      }if (force === true) {\n        display_loaded();\n      }} else if (Date.now() < root._bokeh_timeout) {\n      setTimeout(run_inline_js, 100);\n    } else if (!root._bokeh_failed_load) {\n      console.log(\"Bokeh: BokehJS failed to load within specified timeout.\");\n      root._bokeh_failed_load = true;\n    } else if (force !== true) {\n      var cell = $(document.getElementById(\"af9c6e5d-9b68-42d4-802b-188b0f35b38d\")).parents('.cell').data().cell;\n      cell.output_area.append_execute_result(NB_LOAD_WARNING)\n    }\n\n  }\n\n  if (root._bokeh_is_loading === 0) {\n    console.log(\"Bokeh: BokehJS loaded, going straight to plotting\");\n    run_inline_js();\n  } else {\n    load_libs(js_urls, function() {\n      console.log(\"Bokeh: BokehJS plotting callback run at\", now());\n      run_inline_js();\n    });\n  }\n}(window));"
     },
     "metadata": {},
     "output_type": "display_data"
    }
   ],
   "source": [
    "# Import useful packages\n",
    "import numpy as np\n",
    "from collections import deque\n",
    "from bokeh.io import push_notebook, show, output_notebook\n",
    "from bokeh.plotting import figure \n",
    "output_notebook()"
   ]
  },
  {
   "cell_type": "code",
   "execution_count": 3,
   "metadata": {},
   "outputs": [],
   "source": [
    "# Defines a class for the coin toss game\n",
    "class CoinToss:\n",
    "    \n",
    "    # Initializing variables\n",
    "    # Arguments: number of games to simulate, sequence of head/tail to end the game\n",
    "    def __init__(self, number_of_games, endgame):\n",
    "        self.numgames = number_of_games\n",
    "        self.endgamelen = len(endgame)\n",
    "        self.endgame = endgame\n",
    "        self.reset()\n",
    "        \n",
    "    # Reset all the counters\n",
    "    def reset(self):\n",
    "        self.counter = np.zeros(self.numgames)\n",
    "        \n",
    "    # Run the coin toss game\n",
    "    def run(self):\n",
    "        # Initialize a queue for the current sequence\n",
    "        curr_seq = deque('', self.endgamelen)\n",
    "        endgame_reached = False\n",
    "        # Start looping through number of games \n",
    "        for i in range(self.numgames):\n",
    "            while not endgame_reached:\n",
    "                # Update counter for current game\n",
    "                self.counter[i] += 1\n",
    "                # Check if coin toss resulted in a Head or a Tail\n",
    "                if np.random.random_sample() < 0.5:\n",
    "                    curr_seq.append('H')\n",
    "                else:\n",
    "                    curr_seq.append('T')\n",
    "                # Check if the current sequence is equal to the endgame\n",
    "                check = sum(cs == eg for (cs, eg) in zip(curr_seq, self.endgame))\n",
    "                if check == self.endgamelen:\n",
    "                    endgame_reached = True\n",
    "                    curr_seq.clear()\n",
    "            endgame_reached = False\n",
    "        print('Average number of tosses to reach endgame = ', np.mean(self.counter))\n",
    "        \n",
    "    # Plot the distribution of number of tosses required to end the game\n",
    "    def plot_counts(self):\n",
    "        hist, edges = np.histogram(self.counter, density=False, bins=50)\n",
    "        p = figure(title='{} games with endgame {}'.format(self.numgames, self.endgame), \n",
    "                   tools='', background_fill_color='#fafafa')\n",
    "        p.quad(top=hist, bottom=0, left=edges[:-1], right=edges[1:], fill_color=\"navy\", \n",
    "               line_color=\"white\", alpha=0.5)\n",
    "        p.y_range.start = 0\n",
    "        p.xaxis.axis_label = 'Number of tosses to reach endgame'\n",
    "        p.yaxis.axis_label = 'counts'\n",
    "        show(p)"
   ]
  },
  {
   "cell_type": "code",
   "execution_count": 9,
   "metadata": {},
   "outputs": [
    {
     "name": "stdout",
     "output_type": "stream",
     "text": [
      "Average number of tosses to reach endgame =  5.95\n"
     ]
    },
    {
     "data": {
      "text/html": [
       "\n",
       "\n",
       "\n",
       "\n",
       "\n",
       "\n",
       "  <div class=\"bk-root\" id=\"95f38a59-3939-4566-a3ec-4d2de553c229\"></div>\n"
      ]
     },
     "metadata": {},
     "output_type": "display_data"
    },
    {
     "data": {
      "application/javascript": [
       "(function(root) {\n",
       "  function embed_document(root) {\n",
       "    \n",
       "  var docs_json = {\"31e697e4-a48e-4d38-a88d-ca4de7d92fae\":{\"roots\":{\"references\":[{\"attributes\":{\"bottom\":{\"value\":0},\"fill_alpha\":{\"value\":0.1},\"fill_color\":{\"value\":\"#1f77b4\"},\"left\":{\"field\":\"left\"},\"line_alpha\":{\"value\":0.1},\"line_color\":{\"value\":\"#1f77b4\"},\"right\":{\"field\":\"right\"},\"top\":{\"field\":\"top\"}},\"id\":\"f32b0ba7-780d-481f-a59f-be3064d2d744\",\"type\":\"Quad\"},{\"attributes\":{},\"id\":\"994cfe1d-6961-4b58-980e-2bbca8aec053\",\"type\":\"LinearScale\"},{\"attributes\":{\"active_drag\":\"auto\",\"active_inspect\":\"auto\",\"active_multi\":null,\"active_scroll\":\"auto\",\"active_tap\":\"auto\"},\"id\":\"011fea45-fa03-4339-b205-15f7cdf2e721\",\"type\":\"Toolbar\"},{\"attributes\":{\"data_source\":{\"id\":\"162d54db-a258-4016-9d0d-f99029e73518\",\"type\":\"ColumnDataSource\"},\"glyph\":{\"id\":\"fd4ea99e-48cb-4497-b1b5-cc43c8dc06fe\",\"type\":\"Quad\"},\"hover_glyph\":null,\"muted_glyph\":null,\"nonselection_glyph\":{\"id\":\"f32b0ba7-780d-481f-a59f-be3064d2d744\",\"type\":\"Quad\"},\"selection_glyph\":null,\"view\":{\"id\":\"ec57e2be-599b-48d6-a920-f4370bf181ca\",\"type\":\"CDSView\"}},\"id\":\"26b8dd5e-60fd-43e1-b844-44c097b32966\",\"type\":\"GlyphRenderer\"},{\"attributes\":{\"callback\":null,\"data\":{\"left\":{\"__ndarray__\":\"AAAAAAAAAEAzMzMzMzMDQGZmZmZmZgZAmpmZmZmZCUDNzMzMzMwMQAAAAAAAABBAmpmZmZmZEUA0MzMzMzMTQM3MzMzMzBRAZmZmZmZmFkAAAAAAAAAYQJqZmZmZmRlANDMzMzMzG0DNzMzMzMwcQGdmZmZmZh5AAAAAAAAAIEDNzMzMzMwgQJqZmZmZmSFAZmZmZmZmIkA0MzMzMzMjQAAAAAAAACRAzczMzMzMJECamZmZmZklQGdmZmZmZiZANDMzMzMzJ0AAAAAAAAAoQM3MzMzMzChAmpmZmZmZKUBnZmZmZmYqQDQzMzMzMytAAAAAAAAALEDNzMzMzMwsQJqZmZmZmS1AZ2ZmZmZmLkA0MzMzMzMvQAAAAAAAADBAZmZmZmZmMEDNzMzMzMwwQDQzMzMzMzFAmpmZmZmZMUAAAAAAAAAyQGdmZmZmZjJAzczMzMzMMkAzMzMzMzMzQJqZmZmZmTNAAAAAAAAANEBnZmZmZmY0QM3MzMzMzDRANDMzMzMzNUCamZmZmZk1QA==\",\"dtype\":\"float64\",\"shape\":[50]},\"right\":{\"__ndarray__\":\"MzMzMzMzA0BmZmZmZmYGQJqZmZmZmQlAzczMzMzMDEAAAAAAAAAQQJqZmZmZmRFANDMzMzMzE0DNzMzMzMwUQGZmZmZmZhZAAAAAAAAAGECamZmZmZkZQDQzMzMzMxtAzczMzMzMHEBnZmZmZmYeQAAAAAAAACBAzczMzMzMIECamZmZmZkhQGZmZmZmZiJANDMzMzMzI0AAAAAAAAAkQM3MzMzMzCRAmpmZmZmZJUBnZmZmZmYmQDQzMzMzMydAAAAAAAAAKEDNzMzMzMwoQJqZmZmZmSlAZ2ZmZmZmKkA0MzMzMzMrQAAAAAAAACxAzczMzMzMLECamZmZmZktQGdmZmZmZi5ANDMzMzMzL0AAAAAAAAAwQGZmZmZmZjBAzczMzMzMMEA0MzMzMzMxQJqZmZmZmTFAAAAAAAAAMkBnZmZmZmYyQM3MzMzMzDJAMzMzMzMzM0CamZmZmZkzQAAAAAAAADRAZ2ZmZmZmNEDNzMzMzMw0QDQzMzMzMzVAmpmZmZmZNUAAAAAAAAA2QA==\",\"dtype\":\"float64\",\"shape\":[50]},\"top\":[20,0,18,0,0,16,0,9,0,0,7,0,5,0,0,2,0,5,0,0,3,0,2,0,0,2,0,3,0,0,2,0,1,0,0,1,0,1,0,0,0,0,1,0,0,0,0,0,0,2]},\"selected\":{\"id\":\"c2e8655e-4a98-40c6-acc1-94ec6d437618\",\"type\":\"Selection\"},\"selection_policy\":{\"id\":\"dafe3b13-cbcb-4543-bd12-0690e25df331\",\"type\":\"UnionRenderers\"}},\"id\":\"162d54db-a258-4016-9d0d-f99029e73518\",\"type\":\"ColumnDataSource\"},{\"attributes\":{\"bottom\":{\"value\":0},\"fill_alpha\":{\"value\":0.5},\"fill_color\":{\"value\":\"navy\"},\"left\":{\"field\":\"left\"},\"line_alpha\":{\"value\":0.5},\"line_color\":{\"value\":\"white\"},\"right\":{\"field\":\"right\"},\"top\":{\"field\":\"top\"}},\"id\":\"fd4ea99e-48cb-4497-b1b5-cc43c8dc06fe\",\"type\":\"Quad\"},{\"attributes\":{},\"id\":\"df08d5ea-a135-46bd-ba90-799ef35e922d\",\"type\":\"BasicTicker\"},{\"attributes\":{\"plot\":null,\"text\":\"100 games with endgame HH\"},\"id\":\"f1942036-4536-4660-8587-0e1e23f23dd9\",\"type\":\"Title\"},{\"attributes\":{\"background_fill_color\":{\"value\":\"#fafafa\"},\"below\":[{\"id\":\"fec7c0ec-7218-4aa1-b5e3-e8c8966f18e8\",\"type\":\"LinearAxis\"}],\"left\":[{\"id\":\"46be33dd-dfab-4e24-bcfc-dab934a4390b\",\"type\":\"LinearAxis\"}],\"renderers\":[{\"id\":\"fec7c0ec-7218-4aa1-b5e3-e8c8966f18e8\",\"type\":\"LinearAxis\"},{\"id\":\"c41df695-7088-4905-b2b5-d1237dc0c8fd\",\"type\":\"Grid\"},{\"id\":\"46be33dd-dfab-4e24-bcfc-dab934a4390b\",\"type\":\"LinearAxis\"},{\"id\":\"76962577-89f7-4230-b68f-3930fc07840d\",\"type\":\"Grid\"},{\"id\":\"26b8dd5e-60fd-43e1-b844-44c097b32966\",\"type\":\"GlyphRenderer\"}],\"title\":{\"id\":\"f1942036-4536-4660-8587-0e1e23f23dd9\",\"type\":\"Title\"},\"toolbar\":{\"id\":\"011fea45-fa03-4339-b205-15f7cdf2e721\",\"type\":\"Toolbar\"},\"x_range\":{\"id\":\"3cd2d169-88ed-427b-a23a-c85c7b697a7b\",\"type\":\"DataRange1d\"},\"x_scale\":{\"id\":\"994cfe1d-6961-4b58-980e-2bbca8aec053\",\"type\":\"LinearScale\"},\"y_range\":{\"id\":\"ba7974c2-c8fd-4bbd-a127-d60adb8a3c3f\",\"type\":\"DataRange1d\"},\"y_scale\":{\"id\":\"486cf4e9-040d-49ce-91a5-bfb67604fbd4\",\"type\":\"LinearScale\"}},\"id\":\"851d327a-74f9-4a9b-90ce-b1062426c3ec\",\"subtype\":\"Figure\",\"type\":\"Plot\"},{\"attributes\":{\"callback\":null},\"id\":\"3cd2d169-88ed-427b-a23a-c85c7b697a7b\",\"type\":\"DataRange1d\"},{\"attributes\":{},\"id\":\"dafe3b13-cbcb-4543-bd12-0690e25df331\",\"type\":\"UnionRenderers\"},{\"attributes\":{},\"id\":\"486cf4e9-040d-49ce-91a5-bfb67604fbd4\",\"type\":\"LinearScale\"},{\"attributes\":{\"plot\":{\"id\":\"851d327a-74f9-4a9b-90ce-b1062426c3ec\",\"subtype\":\"Figure\",\"type\":\"Plot\"},\"ticker\":{\"id\":\"df08d5ea-a135-46bd-ba90-799ef35e922d\",\"type\":\"BasicTicker\"}},\"id\":\"c41df695-7088-4905-b2b5-d1237dc0c8fd\",\"type\":\"Grid\"},{\"attributes\":{},\"id\":\"9cd1d0b2-9c6e-428d-a181-77b6904e6732\",\"type\":\"BasicTicker\"},{\"attributes\":{\"axis_label\":\"counts\",\"formatter\":{\"id\":\"b8118396-1a7e-4825-a810-821852480014\",\"type\":\"BasicTickFormatter\"},\"plot\":{\"id\":\"851d327a-74f9-4a9b-90ce-b1062426c3ec\",\"subtype\":\"Figure\",\"type\":\"Plot\"},\"ticker\":{\"id\":\"9cd1d0b2-9c6e-428d-a181-77b6904e6732\",\"type\":\"BasicTicker\"}},\"id\":\"46be33dd-dfab-4e24-bcfc-dab934a4390b\",\"type\":\"LinearAxis\"},{\"attributes\":{\"source\":{\"id\":\"162d54db-a258-4016-9d0d-f99029e73518\",\"type\":\"ColumnDataSource\"}},\"id\":\"ec57e2be-599b-48d6-a920-f4370bf181ca\",\"type\":\"CDSView\"},{\"attributes\":{\"callback\":null,\"start\":0},\"id\":\"ba7974c2-c8fd-4bbd-a127-d60adb8a3c3f\",\"type\":\"DataRange1d\"},{\"attributes\":{\"dimension\":1,\"plot\":{\"id\":\"851d327a-74f9-4a9b-90ce-b1062426c3ec\",\"subtype\":\"Figure\",\"type\":\"Plot\"},\"ticker\":{\"id\":\"9cd1d0b2-9c6e-428d-a181-77b6904e6732\",\"type\":\"BasicTicker\"}},\"id\":\"76962577-89f7-4230-b68f-3930fc07840d\",\"type\":\"Grid\"},{\"attributes\":{},\"id\":\"c2e8655e-4a98-40c6-acc1-94ec6d437618\",\"type\":\"Selection\"},{\"attributes\":{},\"id\":\"b8118396-1a7e-4825-a810-821852480014\",\"type\":\"BasicTickFormatter\"},{\"attributes\":{},\"id\":\"a0983e94-2326-46d5-b00d-add1af55b83d\",\"type\":\"BasicTickFormatter\"},{\"attributes\":{\"axis_label\":\"Number of tosses to reach endgame\",\"formatter\":{\"id\":\"a0983e94-2326-46d5-b00d-add1af55b83d\",\"type\":\"BasicTickFormatter\"},\"plot\":{\"id\":\"851d327a-74f9-4a9b-90ce-b1062426c3ec\",\"subtype\":\"Figure\",\"type\":\"Plot\"},\"ticker\":{\"id\":\"df08d5ea-a135-46bd-ba90-799ef35e922d\",\"type\":\"BasicTicker\"}},\"id\":\"fec7c0ec-7218-4aa1-b5e3-e8c8966f18e8\",\"type\":\"LinearAxis\"}],\"root_ids\":[\"851d327a-74f9-4a9b-90ce-b1062426c3ec\"]},\"title\":\"Bokeh Application\",\"version\":\"0.13.0\"}};\n",
       "  var render_items = [{\"docid\":\"31e697e4-a48e-4d38-a88d-ca4de7d92fae\",\"roots\":{\"851d327a-74f9-4a9b-90ce-b1062426c3ec\":\"95f38a59-3939-4566-a3ec-4d2de553c229\"}}];\n",
       "  root.Bokeh.embed.embed_items_notebook(docs_json, render_items);\n",
       "\n",
       "  }\n",
       "  if (root.Bokeh !== undefined) {\n",
       "    embed_document(root);\n",
       "  } else {\n",
       "    var attempts = 0;\n",
       "    var timer = setInterval(function(root) {\n",
       "      if (root.Bokeh !== undefined) {\n",
       "        embed_document(root);\n",
       "        clearInterval(timer);\n",
       "      }\n",
       "      attempts++;\n",
       "      if (attempts > 100) {\n",
       "        console.log(\"Bokeh: ERROR: Unable to run BokehJS code because BokehJS library is missing\")\n",
       "        clearInterval(timer);\n",
       "      }\n",
       "    }, 10, root)\n",
       "  }\n",
       "})(window);"
      ],
      "application/vnd.bokehjs_exec.v0+json": ""
     },
     "metadata": {
      "application/vnd.bokehjs_exec.v0+json": {
       "id": "851d327a-74f9-4a9b-90ce-b1062426c3ec"
      }
     },
     "output_type": "display_data"
    }
   ],
   "source": [
    "# Example of running 100 games with the endgame sequence HH\n",
    "\n",
    "c = CoinToss(100, 'HH')\n",
    "c.run()\n",
    "c.plot_counts()"
   ]
  },
  {
   "cell_type": "code",
   "execution_count": 10,
   "metadata": {},
   "outputs": [
    {
     "name": "stdout",
     "output_type": "stream",
     "text": [
      "Average number of tosses to reach endgame =  4.16\n"
     ]
    },
    {
     "data": {
      "text/html": [
       "\n",
       "\n",
       "\n",
       "\n",
       "\n",
       "\n",
       "  <div class=\"bk-root\" id=\"ab9b8696-b73c-4bfa-9fe6-0a5fb674ab74\"></div>\n"
      ]
     },
     "metadata": {},
     "output_type": "display_data"
    },
    {
     "data": {
      "application/javascript": [
       "(function(root) {\n",
       "  function embed_document(root) {\n",
       "    \n",
       "  var docs_json = {\"66fcd16e-bf54-43b8-9c31-87657feb0a38\":{\"roots\":{\"references\":[{\"attributes\":{\"data_source\":{\"id\":\"75a75bca-0b89-415a-9ec8-40d2db6c3da2\",\"type\":\"ColumnDataSource\"},\"glyph\":{\"id\":\"51889c89-290c-4f7b-9ef0-746f77c45476\",\"type\":\"Quad\"},\"hover_glyph\":null,\"muted_glyph\":null,\"nonselection_glyph\":{\"id\":\"48ab5b81-e58c-492e-9828-f4d84b0e06db\",\"type\":\"Quad\"},\"selection_glyph\":null,\"view\":{\"id\":\"57c6d7cf-7f4a-4767-bfbf-c30b0beaea26\",\"type\":\"CDSView\"}},\"id\":\"86b2128f-d6cf-401a-ade7-0a06492fc880\",\"type\":\"GlyphRenderer\"},{\"attributes\":{\"source\":{\"id\":\"75a75bca-0b89-415a-9ec8-40d2db6c3da2\",\"type\":\"ColumnDataSource\"}},\"id\":\"57c6d7cf-7f4a-4767-bfbf-c30b0beaea26\",\"type\":\"CDSView\"},{\"attributes\":{},\"id\":\"1455c275-85c8-4ca2-b40e-cfd9b6915208\",\"type\":\"Selection\"},{\"attributes\":{\"callback\":null,\"data\":{\"left\":{\"__ndarray__\":\"AAAAAAAAAEBxPQrXo3ABQOF6FK5H4QJAUrgehetRBEDC9Shcj8IFQDMzMzMzMwdApHA9CtejCEAUrkfhehQKQIXrUbgehQtA9ihcj8L1DEBmZmZmZmYOQNejcD0K1w9ApHA9CtejEEBcj8L1KFwRQBSuR+F6FBJAzMzMzMzMEkCF61G4HoUTQD4K16NwPRRA9ihcj8L1FECuR+F6FK4VQGZmZmZmZhZAHoXrUbgeF0DXo3A9CtcXQI/C9ShcjxhASOF6FK5HGUAAAAAAAAAaQLgehetRuBpAcD0K16NwG0ApXI/C9SgcQOF6FK5H4RxAmZmZmZmZHUBSuB6F61EeQArXo3A9Ch9AwvUoXI/CH0A+CtejcD0gQJqZmZmZmSBA9ihcj8L1IEBSuB6F61EhQK5H4XoUriFACtejcD0KIkBmZmZmZmYiQML1KFyPwiJAHoXrUbgeI0B6FK5H4XojQNejcD0K1yNAMzMzMzMzJECPwvUoXI8kQOtRuB6F6yRASOF6FK5HJUCkcD0K16MlQA==\",\"dtype\":\"float64\",\"shape\":[50]},\"right\":{\"__ndarray__\":\"cT0K16NwAUDhehSuR+ECQFK4HoXrUQRAwvUoXI/CBUAzMzMzMzMHQKRwPQrXowhAFK5H4XoUCkCF61G4HoULQPYoXI/C9QxAZmZmZmZmDkDXo3A9CtcPQKRwPQrXoxBAXI/C9ShcEUAUrkfhehQSQMzMzMzMzBJAhetRuB6FE0A+CtejcD0UQPYoXI/C9RRArkfhehSuFUBmZmZmZmYWQB6F61G4HhdA16NwPQrXF0CPwvUoXI8YQEjhehSuRxlAAAAAAAAAGkC4HoXrUbgaQHA9CtejcBtAKVyPwvUoHEDhehSuR+EcQJmZmZmZmR1AUrgehetRHkAK16NwPQofQML1KFyPwh9APgrXo3A9IECamZmZmZkgQPYoXI/C9SBAUrgehetRIUCuR+F6FK4hQArXo3A9CiJAZmZmZmZmIkDC9Shcj8IiQB6F61G4HiNAehSuR+F6I0DXo3A9CtcjQDMzMzMzMyRAj8L1KFyPJEDrUbgeheskQEjhehSuRyVApHA9CtejJUAAAAAAAAAmQA==\",\"dtype\":\"float64\",\"shape\":[50]},\"top\":[23,0,0,0,0,26,0,0,0,0,0,24,0,0,0,0,8,0,0,0,0,0,4,0,0,0,0,5,0,0,0,0,0,1,0,0,0,0,3,0,0,0,0,0,4,0,0,0,0,2]},\"selected\":{\"id\":\"1455c275-85c8-4ca2-b40e-cfd9b6915208\",\"type\":\"Selection\"},\"selection_policy\":{\"id\":\"f67c0bee-e562-4a56-978a-167c425aa536\",\"type\":\"UnionRenderers\"}},\"id\":\"75a75bca-0b89-415a-9ec8-40d2db6c3da2\",\"type\":\"ColumnDataSource\"},{\"attributes\":{},\"id\":\"7dcad1a3-dee3-49a0-aa8c-b2ebc667feeb\",\"type\":\"BasicTickFormatter\"},{\"attributes\":{\"plot\":null,\"text\":\"100 games with endgame HT\"},\"id\":\"6829b271-a7c1-4c63-8cd9-5794e0aae7b4\",\"type\":\"Title\"},{\"attributes\":{},\"id\":\"0c387312-295c-4117-b99d-cfb4f5d044bd\",\"type\":\"BasicTickFormatter\"},{\"attributes\":{},\"id\":\"3b38db54-61ac-48f4-aef3-0e2d24e2d442\",\"type\":\"BasicTicker\"},{\"attributes\":{},\"id\":\"f67c0bee-e562-4a56-978a-167c425aa536\",\"type\":\"UnionRenderers\"},{\"attributes\":{},\"id\":\"1938be16-6acf-43d1-8089-8ef3927570d4\",\"type\":\"LinearScale\"},{\"attributes\":{},\"id\":\"5f4a9ca3-dd12-4462-94bb-ba17a41bd236\",\"type\":\"BasicTicker\"},{\"attributes\":{\"active_drag\":\"auto\",\"active_inspect\":\"auto\",\"active_multi\":null,\"active_scroll\":\"auto\",\"active_tap\":\"auto\"},\"id\":\"59e15881-65fa-4d4c-874a-2d54225b1321\",\"type\":\"Toolbar\"},{\"attributes\":{},\"id\":\"6d070a0a-a2d4-4721-b785-07ac418e78fb\",\"type\":\"LinearScale\"},{\"attributes\":{\"axis_label\":\"counts\",\"formatter\":{\"id\":\"0c387312-295c-4117-b99d-cfb4f5d044bd\",\"type\":\"BasicTickFormatter\"},\"plot\":{\"id\":\"826d2bed-9396-408e-86aa-cd0c2c0ba028\",\"subtype\":\"Figure\",\"type\":\"Plot\"},\"ticker\":{\"id\":\"3b38db54-61ac-48f4-aef3-0e2d24e2d442\",\"type\":\"BasicTicker\"}},\"id\":\"e40de015-1f90-4038-b9f1-5f06893879fb\",\"type\":\"LinearAxis\"},{\"attributes\":{\"axis_label\":\"Number of tosses to reach endgame\",\"formatter\":{\"id\":\"7dcad1a3-dee3-49a0-aa8c-b2ebc667feeb\",\"type\":\"BasicTickFormatter\"},\"plot\":{\"id\":\"826d2bed-9396-408e-86aa-cd0c2c0ba028\",\"subtype\":\"Figure\",\"type\":\"Plot\"},\"ticker\":{\"id\":\"5f4a9ca3-dd12-4462-94bb-ba17a41bd236\",\"type\":\"BasicTicker\"}},\"id\":\"4e31a5cd-7f91-4d18-b640-f360639e97b7\",\"type\":\"LinearAxis\"},{\"attributes\":{\"plot\":{\"id\":\"826d2bed-9396-408e-86aa-cd0c2c0ba028\",\"subtype\":\"Figure\",\"type\":\"Plot\"},\"ticker\":{\"id\":\"5f4a9ca3-dd12-4462-94bb-ba17a41bd236\",\"type\":\"BasicTicker\"}},\"id\":\"e8385170-7078-49f1-ba0b-d6a85516ba00\",\"type\":\"Grid\"},{\"attributes\":{\"background_fill_color\":{\"value\":\"#fafafa\"},\"below\":[{\"id\":\"4e31a5cd-7f91-4d18-b640-f360639e97b7\",\"type\":\"LinearAxis\"}],\"left\":[{\"id\":\"e40de015-1f90-4038-b9f1-5f06893879fb\",\"type\":\"LinearAxis\"}],\"renderers\":[{\"id\":\"4e31a5cd-7f91-4d18-b640-f360639e97b7\",\"type\":\"LinearAxis\"},{\"id\":\"e8385170-7078-49f1-ba0b-d6a85516ba00\",\"type\":\"Grid\"},{\"id\":\"e40de015-1f90-4038-b9f1-5f06893879fb\",\"type\":\"LinearAxis\"},{\"id\":\"aadec9bf-c97f-4f3c-b460-e7ae62fd5f8b\",\"type\":\"Grid\"},{\"id\":\"86b2128f-d6cf-401a-ade7-0a06492fc880\",\"type\":\"GlyphRenderer\"}],\"title\":{\"id\":\"6829b271-a7c1-4c63-8cd9-5794e0aae7b4\",\"type\":\"Title\"},\"toolbar\":{\"id\":\"59e15881-65fa-4d4c-874a-2d54225b1321\",\"type\":\"Toolbar\"},\"x_range\":{\"id\":\"03eb2d80-8766-48de-96ff-982d2c0b5eee\",\"type\":\"DataRange1d\"},\"x_scale\":{\"id\":\"1938be16-6acf-43d1-8089-8ef3927570d4\",\"type\":\"LinearScale\"},\"y_range\":{\"id\":\"14ddd004-0d3a-4ca3-b017-82e8f3314d03\",\"type\":\"DataRange1d\"},\"y_scale\":{\"id\":\"6d070a0a-a2d4-4721-b785-07ac418e78fb\",\"type\":\"LinearScale\"}},\"id\":\"826d2bed-9396-408e-86aa-cd0c2c0ba028\",\"subtype\":\"Figure\",\"type\":\"Plot\"},{\"attributes\":{\"bottom\":{\"value\":0},\"fill_alpha\":{\"value\":0.5},\"fill_color\":{\"value\":\"navy\"},\"left\":{\"field\":\"left\"},\"line_alpha\":{\"value\":0.5},\"line_color\":{\"value\":\"white\"},\"right\":{\"field\":\"right\"},\"top\":{\"field\":\"top\"}},\"id\":\"51889c89-290c-4f7b-9ef0-746f77c45476\",\"type\":\"Quad\"},{\"attributes\":{\"bottom\":{\"value\":0},\"fill_alpha\":{\"value\":0.1},\"fill_color\":{\"value\":\"#1f77b4\"},\"left\":{\"field\":\"left\"},\"line_alpha\":{\"value\":0.1},\"line_color\":{\"value\":\"#1f77b4\"},\"right\":{\"field\":\"right\"},\"top\":{\"field\":\"top\"}},\"id\":\"48ab5b81-e58c-492e-9828-f4d84b0e06db\",\"type\":\"Quad\"},{\"attributes\":{\"callback\":null,\"start\":0},\"id\":\"14ddd004-0d3a-4ca3-b017-82e8f3314d03\",\"type\":\"DataRange1d\"},{\"attributes\":{\"dimension\":1,\"plot\":{\"id\":\"826d2bed-9396-408e-86aa-cd0c2c0ba028\",\"subtype\":\"Figure\",\"type\":\"Plot\"},\"ticker\":{\"id\":\"3b38db54-61ac-48f4-aef3-0e2d24e2d442\",\"type\":\"BasicTicker\"}},\"id\":\"aadec9bf-c97f-4f3c-b460-e7ae62fd5f8b\",\"type\":\"Grid\"},{\"attributes\":{\"callback\":null},\"id\":\"03eb2d80-8766-48de-96ff-982d2c0b5eee\",\"type\":\"DataRange1d\"}],\"root_ids\":[\"826d2bed-9396-408e-86aa-cd0c2c0ba028\"]},\"title\":\"Bokeh Application\",\"version\":\"0.13.0\"}};\n",
       "  var render_items = [{\"docid\":\"66fcd16e-bf54-43b8-9c31-87657feb0a38\",\"roots\":{\"826d2bed-9396-408e-86aa-cd0c2c0ba028\":\"ab9b8696-b73c-4bfa-9fe6-0a5fb674ab74\"}}];\n",
       "  root.Bokeh.embed.embed_items_notebook(docs_json, render_items);\n",
       "\n",
       "  }\n",
       "  if (root.Bokeh !== undefined) {\n",
       "    embed_document(root);\n",
       "  } else {\n",
       "    var attempts = 0;\n",
       "    var timer = setInterval(function(root) {\n",
       "      if (root.Bokeh !== undefined) {\n",
       "        embed_document(root);\n",
       "        clearInterval(timer);\n",
       "      }\n",
       "      attempts++;\n",
       "      if (attempts > 100) {\n",
       "        console.log(\"Bokeh: ERROR: Unable to run BokehJS code because BokehJS library is missing\")\n",
       "        clearInterval(timer);\n",
       "      }\n",
       "    }, 10, root)\n",
       "  }\n",
       "})(window);"
      ],
      "application/vnd.bokehjs_exec.v0+json": ""
     },
     "metadata": {
      "application/vnd.bokehjs_exec.v0+json": {
       "id": "826d2bed-9396-408e-86aa-cd0c2c0ba028"
      }
     },
     "output_type": "display_data"
    }
   ],
   "source": [
    "# Example of running 100 games with the endgame sequence HT\n",
    "\n",
    "c = CoinToss(100, 'HT')\n",
    "c.run()\n",
    "c.plot_counts()"
   ]
  },
  {
   "cell_type": "code",
   "execution_count": 11,
   "metadata": {},
   "outputs": [
    {
     "name": "stdout",
     "output_type": "stream",
     "text": [
      "Average number of tosses to reach endgame =  14.86\n"
     ]
    },
    {
     "data": {
      "text/html": [
       "\n",
       "\n",
       "\n",
       "\n",
       "\n",
       "\n",
       "  <div class=\"bk-root\" id=\"4c631fa5-f5a0-4373-ae92-5ab290b470c8\"></div>\n"
      ]
     },
     "metadata": {},
     "output_type": "display_data"
    },
    {
     "data": {
      "application/javascript": [
       "(function(root) {\n",
       "  function embed_document(root) {\n",
       "    \n",
       "  var docs_json = {\"c3b5839a-15d8-473a-a4b4-639116c0e2bf\":{\"roots\":{\"references\":[{\"attributes\":{\"active_drag\":\"auto\",\"active_inspect\":\"auto\",\"active_multi\":null,\"active_scroll\":\"auto\",\"active_tap\":\"auto\"},\"id\":\"871ba0a2-d98c-4213-b653-44bd0edfde3c\",\"type\":\"Toolbar\"},{\"attributes\":{},\"id\":\"44b65a1d-9eee-4f64-9535-0b11e2f1fcb7\",\"type\":\"BasicTicker\"},{\"attributes\":{\"axis_label\":\"counts\",\"formatter\":{\"id\":\"af47634f-18fe-4f99-8f51-358c09f54e5d\",\"type\":\"BasicTickFormatter\"},\"plot\":{\"id\":\"9ac20915-5b4f-4064-94b7-e9d1b15e2268\",\"subtype\":\"Figure\",\"type\":\"Plot\"},\"ticker\":{\"id\":\"44b65a1d-9eee-4f64-9535-0b11e2f1fcb7\",\"type\":\"BasicTicker\"}},\"id\":\"77fba5e1-f29d-4d9f-a6b9-50519f24df7c\",\"type\":\"LinearAxis\"},{\"attributes\":{},\"id\":\"5a29df5a-5254-4321-88d2-b80dde4add2d\",\"type\":\"Selection\"},{\"attributes\":{},\"id\":\"7efe0204-0541-47eb-af5e-e54a300a77c5\",\"type\":\"LinearScale\"},{\"attributes\":{\"dimension\":1,\"plot\":{\"id\":\"9ac20915-5b4f-4064-94b7-e9d1b15e2268\",\"subtype\":\"Figure\",\"type\":\"Plot\"},\"ticker\":{\"id\":\"44b65a1d-9eee-4f64-9535-0b11e2f1fcb7\",\"type\":\"BasicTicker\"}},\"id\":\"8d04c18a-0d6e-4ccc-94e7-15c72997db5c\",\"type\":\"Grid\"},{\"attributes\":{\"callback\":null,\"start\":0},\"id\":\"a9cab5c2-cb98-45b8-9eb8-95053bfce268\",\"type\":\"DataRange1d\"},{\"attributes\":{},\"id\":\"26f27998-6441-4835-92cd-0c3af85de50f\",\"type\":\"BasicTicker\"},{\"attributes\":{},\"id\":\"af47634f-18fe-4f99-8f51-358c09f54e5d\",\"type\":\"BasicTickFormatter\"},{\"attributes\":{\"axis_label\":\"Number of tosses to reach endgame\",\"formatter\":{\"id\":\"e611bec4-9f2a-4d7a-bc12-6f93d0454fa3\",\"type\":\"BasicTickFormatter\"},\"plot\":{\"id\":\"9ac20915-5b4f-4064-94b7-e9d1b15e2268\",\"subtype\":\"Figure\",\"type\":\"Plot\"},\"ticker\":{\"id\":\"26f27998-6441-4835-92cd-0c3af85de50f\",\"type\":\"BasicTicker\"}},\"id\":\"68fdd5e4-8ad8-4a4c-b999-5c7924b5a50b\",\"type\":\"LinearAxis\"},{\"attributes\":{\"bottom\":{\"value\":0},\"fill_alpha\":{\"value\":0.1},\"fill_color\":{\"value\":\"#1f77b4\"},\"left\":{\"field\":\"left\"},\"line_alpha\":{\"value\":0.1},\"line_color\":{\"value\":\"#1f77b4\"},\"right\":{\"field\":\"right\"},\"top\":{\"field\":\"top\"}},\"id\":\"e7f627ce-ee91-4a0d-a2f3-3cf953202cc4\",\"type\":\"Quad\"},{\"attributes\":{},\"id\":\"e611bec4-9f2a-4d7a-bc12-6f93d0454fa3\",\"type\":\"BasicTickFormatter\"},{\"attributes\":{\"plot\":null,\"text\":\"200 games with endgame TTT\"},\"id\":\"e1b76d54-736d-459a-b148-3d1c734b9f7b\",\"type\":\"Title\"},{\"attributes\":{},\"id\":\"b4905ef4-0986-4ef6-b745-674853aaf7af\",\"type\":\"UnionRenderers\"},{\"attributes\":{\"bottom\":{\"value\":0},\"fill_alpha\":{\"value\":0.5},\"fill_color\":{\"value\":\"navy\"},\"left\":{\"field\":\"left\"},\"line_alpha\":{\"value\":0.5},\"line_color\":{\"value\":\"white\"},\"right\":{\"field\":\"right\"},\"top\":{\"field\":\"top\"}},\"id\":\"0f094854-e83a-4edf-9108-c36bc9f5f6c5\",\"type\":\"Quad\"},{\"attributes\":{},\"id\":\"1e39cf20-b091-467f-bf0d-eedc7799d10d\",\"type\":\"LinearScale\"},{\"attributes\":{\"background_fill_color\":{\"value\":\"#fafafa\"},\"below\":[{\"id\":\"68fdd5e4-8ad8-4a4c-b999-5c7924b5a50b\",\"type\":\"LinearAxis\"}],\"left\":[{\"id\":\"77fba5e1-f29d-4d9f-a6b9-50519f24df7c\",\"type\":\"LinearAxis\"}],\"renderers\":[{\"id\":\"68fdd5e4-8ad8-4a4c-b999-5c7924b5a50b\",\"type\":\"LinearAxis\"},{\"id\":\"70030b3d-5324-4d1c-a975-a51dbab119bd\",\"type\":\"Grid\"},{\"id\":\"77fba5e1-f29d-4d9f-a6b9-50519f24df7c\",\"type\":\"LinearAxis\"},{\"id\":\"8d04c18a-0d6e-4ccc-94e7-15c72997db5c\",\"type\":\"Grid\"},{\"id\":\"9dcbcad4-1913-4dc6-ab88-bad760411d12\",\"type\":\"GlyphRenderer\"}],\"title\":{\"id\":\"e1b76d54-736d-459a-b148-3d1c734b9f7b\",\"type\":\"Title\"},\"toolbar\":{\"id\":\"871ba0a2-d98c-4213-b653-44bd0edfde3c\",\"type\":\"Toolbar\"},\"x_range\":{\"id\":\"df4d395a-f9da-420d-a6f5-9daea61a00b1\",\"type\":\"DataRange1d\"},\"x_scale\":{\"id\":\"1e39cf20-b091-467f-bf0d-eedc7799d10d\",\"type\":\"LinearScale\"},\"y_range\":{\"id\":\"a9cab5c2-cb98-45b8-9eb8-95053bfce268\",\"type\":\"DataRange1d\"},\"y_scale\":{\"id\":\"7efe0204-0541-47eb-af5e-e54a300a77c5\",\"type\":\"LinearScale\"}},\"id\":\"9ac20915-5b4f-4064-94b7-e9d1b15e2268\",\"subtype\":\"Figure\",\"type\":\"Plot\"},{\"attributes\":{\"source\":{\"id\":\"2354d892-151d-4845-83c8-ed237a119ecf\",\"type\":\"ColumnDataSource\"}},\"id\":\"12c3f0cd-a7dc-45ba-a091-6e8a8b787bad\",\"type\":\"CDSView\"},{\"attributes\":{\"callback\":null,\"data\":{\"left\":{\"__ndarray__\":\"AAAAAAAACECuR+F6FK4RQFyPwvUoXBdACtejcD0KHUBcj8L1KFwhQDMzMzMzMyRACtejcD0KJ0DhehSuR+EpQLgehetRuCxAj8L1KFyPL0AzMzMzMzMxQB6F61G4njJACtejcD0KNED2KFyPwnU1QOF6FK5H4TZAzMzMzMxMOEC4HoXrUbg5QKRwPQrXIztAj8L1KFyPPEB6FK5H4fo9QGZmZmZmZj9AKVyPwvVoQEAehetRuB5BQBSuR+F61EFACtejcD2KQkAAAAAAAEBDQPYoXI/C9UNA61G4HoWrREDhehSuR2FFQNejcD0KF0ZAzMzMzMzMRkDC9Shcj4JHQLgehetROEhArkfhehTuSECkcD0K16NJQJmZmZmZWUpAj8L1KFwPS0CF61G4HsVLQHoUrkfhekxAcD0K16MwTUBmZmZmZuZNQFyPwvUonE5AUrgehetRT0CkcD0K1wNQQB6F61G4XlBAmpmZmZm5UEAUrkfhehRRQI/C9Shcb1FACtejcD3KUUCF61G4HiVSQA==\",\"dtype\":\"float64\",\"shape\":[50]},\"right\":{\"__ndarray__\":\"rkfhehSuEUBcj8L1KFwXQArXo3A9Ch1AXI/C9ShcIUAzMzMzMzMkQArXo3A9CidA4XoUrkfhKUC4HoXrUbgsQI/C9Shcjy9AMzMzMzMzMUAehetRuJ4yQArXo3A9CjRA9ihcj8J1NUDhehSuR+E2QMzMzMzMTDhAuB6F61G4OUCkcD0K1yM7QI/C9ShcjzxAehSuR+H6PUBmZmZmZmY/QClcj8L1aEBAHoXrUbgeQUAUrkfhetRBQArXo3A9ikJAAAAAAABAQ0D2KFyPwvVDQOtRuB6Fq0RA4XoUrkdhRUDXo3A9ChdGQMzMzMzMzEZAwvUoXI+CR0C4HoXrUThIQK5H4XoU7khApHA9CtejSUCZmZmZmVlKQI/C9ShcD0tAhetRuB7FS0B6FK5H4XpMQHA9CtejME1AZmZmZmbmTUBcj8L1KJxOQFK4HoXrUU9ApHA9CtcDUEAehetRuF5QQJqZmZmZuVBAFK5H4XoUUUCPwvUoXG9RQArXo3A9ylFAhetRuB4lUkAAAAAAAIBSQA==\",\"dtype\":\"float64\",\"shape\":[50]},\"top\":[36,15,25,12,12,8,8,10,4,7,5,7,2,3,7,2,7,4,2,3,2,2,2,2,1,0,0,1,2,1,3,0,0,1,0,0,0,1,1,1,0,0,0,0,0,0,0,0,0,1]},\"selected\":{\"id\":\"5a29df5a-5254-4321-88d2-b80dde4add2d\",\"type\":\"Selection\"},\"selection_policy\":{\"id\":\"b4905ef4-0986-4ef6-b745-674853aaf7af\",\"type\":\"UnionRenderers\"}},\"id\":\"2354d892-151d-4845-83c8-ed237a119ecf\",\"type\":\"ColumnDataSource\"},{\"attributes\":{\"data_source\":{\"id\":\"2354d892-151d-4845-83c8-ed237a119ecf\",\"type\":\"ColumnDataSource\"},\"glyph\":{\"id\":\"0f094854-e83a-4edf-9108-c36bc9f5f6c5\",\"type\":\"Quad\"},\"hover_glyph\":null,\"muted_glyph\":null,\"nonselection_glyph\":{\"id\":\"e7f627ce-ee91-4a0d-a2f3-3cf953202cc4\",\"type\":\"Quad\"},\"selection_glyph\":null,\"view\":{\"id\":\"12c3f0cd-a7dc-45ba-a091-6e8a8b787bad\",\"type\":\"CDSView\"}},\"id\":\"9dcbcad4-1913-4dc6-ab88-bad760411d12\",\"type\":\"GlyphRenderer\"},{\"attributes\":{\"plot\":{\"id\":\"9ac20915-5b4f-4064-94b7-e9d1b15e2268\",\"subtype\":\"Figure\",\"type\":\"Plot\"},\"ticker\":{\"id\":\"26f27998-6441-4835-92cd-0c3af85de50f\",\"type\":\"BasicTicker\"}},\"id\":\"70030b3d-5324-4d1c-a975-a51dbab119bd\",\"type\":\"Grid\"},{\"attributes\":{\"callback\":null},\"id\":\"df4d395a-f9da-420d-a6f5-9daea61a00b1\",\"type\":\"DataRange1d\"}],\"root_ids\":[\"9ac20915-5b4f-4064-94b7-e9d1b15e2268\"]},\"title\":\"Bokeh Application\",\"version\":\"0.13.0\"}};\n",
       "  var render_items = [{\"docid\":\"c3b5839a-15d8-473a-a4b4-639116c0e2bf\",\"roots\":{\"9ac20915-5b4f-4064-94b7-e9d1b15e2268\":\"4c631fa5-f5a0-4373-ae92-5ab290b470c8\"}}];\n",
       "  root.Bokeh.embed.embed_items_notebook(docs_json, render_items);\n",
       "\n",
       "  }\n",
       "  if (root.Bokeh !== undefined) {\n",
       "    embed_document(root);\n",
       "  } else {\n",
       "    var attempts = 0;\n",
       "    var timer = setInterval(function(root) {\n",
       "      if (root.Bokeh !== undefined) {\n",
       "        embed_document(root);\n",
       "        clearInterval(timer);\n",
       "      }\n",
       "      attempts++;\n",
       "      if (attempts > 100) {\n",
       "        console.log(\"Bokeh: ERROR: Unable to run BokehJS code because BokehJS library is missing\")\n",
       "        clearInterval(timer);\n",
       "      }\n",
       "    }, 10, root)\n",
       "  }\n",
       "})(window);"
      ],
      "application/vnd.bokehjs_exec.v0+json": ""
     },
     "metadata": {
      "application/vnd.bokehjs_exec.v0+json": {
       "id": "9ac20915-5b4f-4064-94b7-e9d1b15e2268"
      }
     },
     "output_type": "display_data"
    }
   ],
   "source": [
    "# Example of running 200 games with the endgame sequence TTT\n",
    "\n",
    "c1 = CoinToss(200, 'TTT')\n",
    "c1.run()\n",
    "c1.plot_counts()"
   ]
  },
  {
   "cell_type": "code",
   "execution_count": 12,
   "metadata": {},
   "outputs": [
    {
     "name": "stdout",
     "output_type": "stream",
     "text": [
      "Average number of tosses to reach endgame =  9.935\n"
     ]
    },
    {
     "data": {
      "text/html": [
       "\n",
       "\n",
       "\n",
       "\n",
       "\n",
       "\n",
       "  <div class=\"bk-root\" id=\"62b6a711-1b78-4aac-b980-996297c973d7\"></div>\n"
      ]
     },
     "metadata": {},
     "output_type": "display_data"
    },
    {
     "data": {
      "application/javascript": [
       "(function(root) {\n",
       "  function embed_document(root) {\n",
       "    \n",
       "  var docs_json = {\"eeea691c-4c1a-4bd8-95fb-6ac0429b0042\":{\"roots\":{\"references\":[{\"attributes\":{\"active_drag\":\"auto\",\"active_inspect\":\"auto\",\"active_multi\":null,\"active_scroll\":\"auto\",\"active_tap\":\"auto\"},\"id\":\"b52b0be0-3bfc-4954-bfb6-634a4a0f98a8\",\"type\":\"Toolbar\"},{\"attributes\":{},\"id\":\"5f5daf08-53f3-4062-9477-73ef28bf710d\",\"type\":\"BasicTickFormatter\"},{\"attributes\":{\"bottom\":{\"value\":0},\"fill_alpha\":{\"value\":0.1},\"fill_color\":{\"value\":\"#1f77b4\"},\"left\":{\"field\":\"left\"},\"line_alpha\":{\"value\":0.1},\"line_color\":{\"value\":\"#1f77b4\"},\"right\":{\"field\":\"right\"},\"top\":{\"field\":\"top\"}},\"id\":\"e3073f8c-68a1-49e2-a473-a5534984d90a\",\"type\":\"Quad\"},{\"attributes\":{\"background_fill_color\":{\"value\":\"#fafafa\"},\"below\":[{\"id\":\"5905b370-3743-4cae-b5b3-557d3e164633\",\"type\":\"LinearAxis\"}],\"left\":[{\"id\":\"b46cafd9-2046-49f2-bc89-65238a28acfc\",\"type\":\"LinearAxis\"}],\"renderers\":[{\"id\":\"5905b370-3743-4cae-b5b3-557d3e164633\",\"type\":\"LinearAxis\"},{\"id\":\"c05bd98f-8be4-4b50-a1c6-d9733e0fbe78\",\"type\":\"Grid\"},{\"id\":\"b46cafd9-2046-49f2-bc89-65238a28acfc\",\"type\":\"LinearAxis\"},{\"id\":\"ae5fa7db-4781-4ef6-9f23-4b2891fc2ae5\",\"type\":\"Grid\"},{\"id\":\"093f1bfc-8024-417d-9675-db6a1f6589ef\",\"type\":\"GlyphRenderer\"}],\"title\":{\"id\":\"d9416fbb-6dfc-4e2c-a91a-9d79da263b3c\",\"type\":\"Title\"},\"toolbar\":{\"id\":\"b52b0be0-3bfc-4954-bfb6-634a4a0f98a8\",\"type\":\"Toolbar\"},\"x_range\":{\"id\":\"4740b34c-facd-4574-bf3a-2f1c758fa87c\",\"type\":\"DataRange1d\"},\"x_scale\":{\"id\":\"6b16b3a7-142d-42dc-917e-bb7735492598\",\"type\":\"LinearScale\"},\"y_range\":{\"id\":\"4a8f35f8-7a00-4192-aa5c-a3e27a2ce442\",\"type\":\"DataRange1d\"},\"y_scale\":{\"id\":\"ae95bbd9-717f-45c5-98bc-86bd19852529\",\"type\":\"LinearScale\"}},\"id\":\"4d0f0b13-0722-4337-bd8a-91c1e0657d36\",\"subtype\":\"Figure\",\"type\":\"Plot\"},{\"attributes\":{\"data_source\":{\"id\":\"a6293ae9-9828-4424-83ed-286216fa2717\",\"type\":\"ColumnDataSource\"},\"glyph\":{\"id\":\"570ff159-f57c-46ed-b1e3-435fef71be5b\",\"type\":\"Quad\"},\"hover_glyph\":null,\"muted_glyph\":null,\"nonselection_glyph\":{\"id\":\"e3073f8c-68a1-49e2-a473-a5534984d90a\",\"type\":\"Quad\"},\"selection_glyph\":null,\"view\":{\"id\":\"63b8dddf-a1f5-446b-bf18-e7c6fb6a4db9\",\"type\":\"CDSView\"}},\"id\":\"093f1bfc-8024-417d-9675-db6a1f6589ef\",\"type\":\"GlyphRenderer\"},{\"attributes\":{\"bottom\":{\"value\":0},\"fill_alpha\":{\"value\":0.5},\"fill_color\":{\"value\":\"navy\"},\"left\":{\"field\":\"left\"},\"line_alpha\":{\"value\":0.5},\"line_color\":{\"value\":\"white\"},\"right\":{\"field\":\"right\"},\"top\":{\"field\":\"top\"}},\"id\":\"570ff159-f57c-46ed-b1e3-435fef71be5b\",\"type\":\"Quad\"},{\"attributes\":{},\"id\":\"6b16b3a7-142d-42dc-917e-bb7735492598\",\"type\":\"LinearScale\"},{\"attributes\":{\"callback\":null},\"id\":\"4740b34c-facd-4574-bf3a-2f1c758fa87c\",\"type\":\"DataRange1d\"},{\"attributes\":{\"plot\":null,\"text\":\"200 games with endgame THT\"},\"id\":\"d9416fbb-6dfc-4e2c-a91a-9d79da263b3c\",\"type\":\"Title\"},{\"attributes\":{},\"id\":\"cf9efc81-cde4-4c2a-979d-f4f29710dc96\",\"type\":\"BasicTickFormatter\"},{\"attributes\":{\"callback\":null,\"start\":0},\"id\":\"4a8f35f8-7a00-4192-aa5c-a3e27a2ce442\",\"type\":\"DataRange1d\"},{\"attributes\":{},\"id\":\"cbf0db5b-ee1b-4b00-a666-838ea11d5593\",\"type\":\"BasicTicker\"},{\"attributes\":{\"source\":{\"id\":\"a6293ae9-9828-4424-83ed-286216fa2717\",\"type\":\"ColumnDataSource\"}},\"id\":\"63b8dddf-a1f5-446b-bf18-e7c6fb6a4db9\",\"type\":\"CDSView\"},{\"attributes\":{\"axis_label\":\"counts\",\"formatter\":{\"id\":\"5f5daf08-53f3-4062-9477-73ef28bf710d\",\"type\":\"BasicTickFormatter\"},\"plot\":{\"id\":\"4d0f0b13-0722-4337-bd8a-91c1e0657d36\",\"subtype\":\"Figure\",\"type\":\"Plot\"},\"ticker\":{\"id\":\"09d7fa2f-cb53-4e9e-851c-57b3ac7ae5a6\",\"type\":\"BasicTicker\"}},\"id\":\"b46cafd9-2046-49f2-bc89-65238a28acfc\",\"type\":\"LinearAxis\"},{\"attributes\":{\"dimension\":1,\"plot\":{\"id\":\"4d0f0b13-0722-4337-bd8a-91c1e0657d36\",\"subtype\":\"Figure\",\"type\":\"Plot\"},\"ticker\":{\"id\":\"09d7fa2f-cb53-4e9e-851c-57b3ac7ae5a6\",\"type\":\"BasicTicker\"}},\"id\":\"ae5fa7db-4781-4ef6-9f23-4b2891fc2ae5\",\"type\":\"Grid\"},{\"attributes\":{\"plot\":{\"id\":\"4d0f0b13-0722-4337-bd8a-91c1e0657d36\",\"subtype\":\"Figure\",\"type\":\"Plot\"},\"ticker\":{\"id\":\"cbf0db5b-ee1b-4b00-a666-838ea11d5593\",\"type\":\"BasicTicker\"}},\"id\":\"c05bd98f-8be4-4b50-a1c6-d9733e0fbe78\",\"type\":\"Grid\"},{\"attributes\":{},\"id\":\"09d7fa2f-cb53-4e9e-851c-57b3ac7ae5a6\",\"type\":\"BasicTicker\"},{\"attributes\":{\"axis_label\":\"Number of tosses to reach endgame\",\"formatter\":{\"id\":\"cf9efc81-cde4-4c2a-979d-f4f29710dc96\",\"type\":\"BasicTickFormatter\"},\"plot\":{\"id\":\"4d0f0b13-0722-4337-bd8a-91c1e0657d36\",\"subtype\":\"Figure\",\"type\":\"Plot\"},\"ticker\":{\"id\":\"cbf0db5b-ee1b-4b00-a666-838ea11d5593\",\"type\":\"BasicTicker\"}},\"id\":\"5905b370-3743-4cae-b5b3-557d3e164633\",\"type\":\"LinearAxis\"},{\"attributes\":{\"callback\":null,\"data\":{\"left\":{\"__ndarray__\":\"AAAAAAAACEAzMzMzMzMPQDMzMzMzMxNAzczMzMzMFkBmZmZmZmYaQAAAAAAAAB5AzczMzMzMIECamZmZmZkiQGZmZmZmZiRAMzMzMzMzJkAAAAAAAAAoQM3MzMzMzClAmpmZmZmZK0BnZmZmZmYtQDMzMzMzMy9AAAAAAACAMEBmZmZmZmYxQM3MzMzMTDJAMzMzMzMzM0CamZmZmRk0QAAAAAAAADVAZ2ZmZmbmNUDNzMzMzMw2QDMzMzMzszdAmpmZmZmZOEAAAAAAAIA5QGdmZmZmZjpAzczMzMxMO0AzMzMzMzM8QJqZmZmZGT1AAAAAAAAAPkBnZmZmZuY+QM3MzMzMzD9AmpmZmZlZQEDNzMzMzMxAQAAAAAAAQEFAMzMzMzOzQUBnZmZmZiZCQJqZmZmZmUJAzczMzMwMQ0AAAAAAAIBDQDMzMzMz80NAZ2ZmZmZmRECamZmZmdlEQM3MzMzMTEVAAAAAAADARUAzMzMzMzNGQGdmZmZmpkZAmpmZmZkZR0DNzMzMzIxHQA==\",\"dtype\":\"float64\",\"shape\":[50]},\"right\":{\"__ndarray__\":\"MzMzMzMzD0AzMzMzMzMTQM3MzMzMzBZAZmZmZmZmGkAAAAAAAAAeQM3MzMzMzCBAmpmZmZmZIkBmZmZmZmYkQDMzMzMzMyZAAAAAAAAAKEDNzMzMzMwpQJqZmZmZmStAZ2ZmZmZmLUAzMzMzMzMvQAAAAAAAgDBAZmZmZmZmMUDNzMzMzEwyQDMzMzMzMzNAmpmZmZkZNEAAAAAAAAA1QGdmZmZm5jVAzczMzMzMNkAzMzMzM7M3QJqZmZmZmThAAAAAAACAOUBnZmZmZmY6QM3MzMzMTDtAMzMzMzMzPECamZmZmRk9QAAAAAAAAD5AZ2ZmZmbmPkDNzMzMzMw/QJqZmZmZWUBAzczMzMzMQEAAAAAAAEBBQDMzMzMzs0FAZ2ZmZmYmQkCamZmZmZlCQM3MzMzMDENAAAAAAACAQ0AzMzMzM/NDQGdmZmZmZkRAmpmZmZnZREDNzMzMzExFQAAAAAAAwEVAMzMzMzMzRkBnZmZmZqZGQJqZmZmZGUdAzczMzMyMR0AAAAAAAABIQA==\",\"dtype\":\"float64\",\"shape\":[50]},\"top\":[26,28,19,15,9,18,11,9,11,0,7,6,1,4,4,3,3,4,2,0,2,3,1,1,1,4,1,1,0,0,1,0,0,0,0,1,0,0,0,0,0,1,2,0,0,0,0,0,0,1]},\"selected\":{\"id\":\"46e3501b-a9f4-4827-854d-4b08783f8339\",\"type\":\"Selection\"},\"selection_policy\":{\"id\":\"b7d64b32-b193-4466-aad9-fcd0d7cd5442\",\"type\":\"UnionRenderers\"}},\"id\":\"a6293ae9-9828-4424-83ed-286216fa2717\",\"type\":\"ColumnDataSource\"},{\"attributes\":{},\"id\":\"46e3501b-a9f4-4827-854d-4b08783f8339\",\"type\":\"Selection\"},{\"attributes\":{},\"id\":\"ae95bbd9-717f-45c5-98bc-86bd19852529\",\"type\":\"LinearScale\"},{\"attributes\":{},\"id\":\"b7d64b32-b193-4466-aad9-fcd0d7cd5442\",\"type\":\"UnionRenderers\"}],\"root_ids\":[\"4d0f0b13-0722-4337-bd8a-91c1e0657d36\"]},\"title\":\"Bokeh Application\",\"version\":\"0.13.0\"}};\n",
       "  var render_items = [{\"docid\":\"eeea691c-4c1a-4bd8-95fb-6ac0429b0042\",\"roots\":{\"4d0f0b13-0722-4337-bd8a-91c1e0657d36\":\"62b6a711-1b78-4aac-b980-996297c973d7\"}}];\n",
       "  root.Bokeh.embed.embed_items_notebook(docs_json, render_items);\n",
       "\n",
       "  }\n",
       "  if (root.Bokeh !== undefined) {\n",
       "    embed_document(root);\n",
       "  } else {\n",
       "    var attempts = 0;\n",
       "    var timer = setInterval(function(root) {\n",
       "      if (root.Bokeh !== undefined) {\n",
       "        embed_document(root);\n",
       "        clearInterval(timer);\n",
       "      }\n",
       "      attempts++;\n",
       "      if (attempts > 100) {\n",
       "        console.log(\"Bokeh: ERROR: Unable to run BokehJS code because BokehJS library is missing\")\n",
       "        clearInterval(timer);\n",
       "      }\n",
       "    }, 10, root)\n",
       "  }\n",
       "})(window);"
      ],
      "application/vnd.bokehjs_exec.v0+json": ""
     },
     "metadata": {
      "application/vnd.bokehjs_exec.v0+json": {
       "id": "4d0f0b13-0722-4337-bd8a-91c1e0657d36"
      }
     },
     "output_type": "display_data"
    }
   ],
   "source": [
    "# Example of running 200 games with the endgame sequence THT\n",
    "\n",
    "c2 = CoinToss(200, 'THT')\n",
    "c2.run()\n",
    "c2.plot_counts()"
   ]
  },
  {
   "cell_type": "code",
   "execution_count": 13,
   "metadata": {},
   "outputs": [
    {
     "name": "stdout",
     "output_type": "stream",
     "text": [
      "Average number of tosses to reach endgame =  35.2225\n"
     ]
    },
    {
     "data": {
      "text/html": [
       "\n",
       "\n",
       "\n",
       "\n",
       "\n",
       "\n",
       "  <div class=\"bk-root\" id=\"ccaa7d22-1c87-436e-ac73-0ef5a201039e\"></div>\n"
      ]
     },
     "metadata": {},
     "output_type": "display_data"
    },
    {
     "data": {
      "application/javascript": [
       "(function(root) {\n",
       "  function embed_document(root) {\n",
       "    \n",
       "  var docs_json = {\"c8c3bf4a-231d-4dfd-85f2-5b449c16ca62\":{\"roots\":{\"references\":[{\"attributes\":{\"bottom\":{\"value\":0},\"fill_alpha\":{\"value\":0.1},\"fill_color\":{\"value\":\"#1f77b4\"},\"left\":{\"field\":\"left\"},\"line_alpha\":{\"value\":0.1},\"line_color\":{\"value\":\"#1f77b4\"},\"right\":{\"field\":\"right\"},\"top\":{\"field\":\"top\"}},\"id\":\"dae9f07b-2bf7-4789-b55a-0319f9160db7\",\"type\":\"Quad\"},{\"attributes\":{\"data_source\":{\"id\":\"0e31302e-eefd-4a2a-a037-d0dc77b59232\",\"type\":\"ColumnDataSource\"},\"glyph\":{\"id\":\"87af2a8e-fada-42be-8aef-7ae5a7e19535\",\"type\":\"Quad\"},\"hover_glyph\":null,\"muted_glyph\":null,\"nonselection_glyph\":{\"id\":\"dae9f07b-2bf7-4789-b55a-0319f9160db7\",\"type\":\"Quad\"},\"selection_glyph\":null,\"view\":{\"id\":\"d4e27f88-ea20-4b6a-9373-f0a1737e8ea1\",\"type\":\"CDSView\"}},\"id\":\"8e85ea8a-ee30-41b9-b250-6597fecf6b7e\",\"type\":\"GlyphRenderer\"},{\"attributes\":{\"source\":{\"id\":\"0e31302e-eefd-4a2a-a037-d0dc77b59232\",\"type\":\"ColumnDataSource\"}},\"id\":\"d4e27f88-ea20-4b6a-9373-f0a1737e8ea1\",\"type\":\"CDSView\"},{\"attributes\":{},\"id\":\"93ce01f9-c612-4b92-a8fe-542516b8c4dd\",\"type\":\"BasicTickFormatter\"},{\"attributes\":{\"callback\":null,\"data\":{\"left\":{\"__ndarray__\":\"AAAAAAAAFEDXo3A9CtciQK5H4XoUritAwvUoXI9CMkCuR+F6FK42QJqZmZmZGTtAhetRuB6FP0C4HoXrUfhBQK5H4XoULkRApHA9CtdjRkCamZmZmZlIQI/C9Shcz0pAhetRuB4FTUB7FK5H4TpPQLgehetRuFBAMzMzMzPTUUCuR+F6FO5SQClcj8L1CFRApHA9CtcjVUAfhetRuD5WQJqZmZmZWVdAFK5H4Xp0WECPwvUoXI9ZQArXo3A9qlpAhetRuB7FW0AAAAAAAOBcQHsUrkfh+l1A9ihcj8IVX0C4HoXrURhgQPYoXI/CpWBAMzMzMzMzYUBxPQrXo8BhQK5H4XoUTmJA61G4HoXbYkApXI/C9WhjQGZmZmZm9mNApHA9CteDZEDhehSuRxFlQB+F61G4nmVAXI/C9SgsZkCamZmZmblmQNejcD0KR2dAFK5H4XrUZ0BSuB6F62FoQI/C9Shc72hAzczMzMx8aUAK16NwPQpqQEjhehSul2pAhetRuB4la0DC9Shcj7JrQA==\",\"dtype\":\"float64\",\"shape\":[50]},\"right\":{\"__ndarray__\":\"16NwPQrXIkCuR+F6FK4rQML1KFyPQjJArkfhehSuNkCamZmZmRk7QIXrUbgehT9AuB6F61H4QUCuR+F6FC5EQKRwPQrXY0ZAmpmZmZmZSECPwvUoXM9KQIXrUbgeBU1AexSuR+E6T0C4HoXrUbhQQDMzMzMz01FArkfhehTuUkApXI/C9QhUQKRwPQrXI1VAH4XrUbg+VkCamZmZmVlXQBSuR+F6dFhAj8L1KFyPWUAK16NwPapaQIXrUbgexVtAAAAAAADgXEB7FK5H4fpdQPYoXI/CFV9AuB6F61EYYED2KFyPwqVgQDMzMzMzM2FAcT0K16PAYUCuR+F6FE5iQOtRuB6F22JAKVyPwvVoY0BmZmZmZvZjQKRwPQrXg2RA4XoUrkcRZUAfhetRuJ5lQFyPwvUoLGZAmpmZmZm5ZkDXo3A9CkdnQBSuR+F61GdAUrgehethaECPwvUoXO9oQM3MzMzMfGlACtejcD0KakBI4XoUrpdqQIXrUbgeJWtAwvUoXI+ya0AAAAAAAEBsQA==\",\"dtype\":\"float64\",\"shape\":[50]},\"top\":[283,213,221,181,165,110,99,93,69,79,74,53,47,53,31,34,28,23,26,17,13,14,7,15,5,6,4,8,3,3,3,1,3,2,4,2,1,1,0,2,0,0,2,0,0,1,0,0,0,1]},\"selected\":{\"id\":\"9fd994e4-5090-46ee-8d8c-923c6ac67758\",\"type\":\"Selection\"},\"selection_policy\":{\"id\":\"6adbdc61-d8bf-44bc-a289-b4e23c4b17c6\",\"type\":\"UnionRenderers\"}},\"id\":\"0e31302e-eefd-4a2a-a037-d0dc77b59232\",\"type\":\"ColumnDataSource\"},{\"attributes\":{\"plot\":null,\"text\":\"2000 games with endgame HTHHT\"},\"id\":\"6e4831fa-3bab-44c6-8f66-afb10c1209e4\",\"type\":\"Title\"},{\"attributes\":{},\"id\":\"6adbdc61-d8bf-44bc-a289-b4e23c4b17c6\",\"type\":\"UnionRenderers\"},{\"attributes\":{\"callback\":null},\"id\":\"a8564f33-6bee-482f-88d8-733c52dbb408\",\"type\":\"DataRange1d\"},{\"attributes\":{},\"id\":\"20ee8cd8-b696-47d1-9f44-9554ecc119f8\",\"type\":\"BasicTickFormatter\"},{\"attributes\":{\"background_fill_color\":{\"value\":\"#fafafa\"},\"below\":[{\"id\":\"b9a0ce72-c309-47df-8572-15e598e28e54\",\"type\":\"LinearAxis\"}],\"left\":[{\"id\":\"49b88943-aaff-4157-af94-8dc0b3728f50\",\"type\":\"LinearAxis\"}],\"renderers\":[{\"id\":\"b9a0ce72-c309-47df-8572-15e598e28e54\",\"type\":\"LinearAxis\"},{\"id\":\"4a380b26-de94-4a32-aa75-a54b942bf7f4\",\"type\":\"Grid\"},{\"id\":\"49b88943-aaff-4157-af94-8dc0b3728f50\",\"type\":\"LinearAxis\"},{\"id\":\"0ba10573-7807-446e-bde6-7351eb767ddf\",\"type\":\"Grid\"},{\"id\":\"8e85ea8a-ee30-41b9-b250-6597fecf6b7e\",\"type\":\"GlyphRenderer\"}],\"title\":{\"id\":\"6e4831fa-3bab-44c6-8f66-afb10c1209e4\",\"type\":\"Title\"},\"toolbar\":{\"id\":\"9a4bda15-4f30-44c1-8312-b2349aea71bc\",\"type\":\"Toolbar\"},\"x_range\":{\"id\":\"a8564f33-6bee-482f-88d8-733c52dbb408\",\"type\":\"DataRange1d\"},\"x_scale\":{\"id\":\"d605622a-b0f0-4023-9a8e-b9f88e98db87\",\"type\":\"LinearScale\"},\"y_range\":{\"id\":\"c9bd4abb-321d-482a-8a22-8ab3ab36110c\",\"type\":\"DataRange1d\"},\"y_scale\":{\"id\":\"a3f3881f-aae3-4a5e-85e4-01ebf80bfe2e\",\"type\":\"LinearScale\"}},\"id\":\"ac8d4284-bc84-479c-8498-868a9197c4d4\",\"subtype\":\"Figure\",\"type\":\"Plot\"},{\"attributes\":{},\"id\":\"9fd994e4-5090-46ee-8d8c-923c6ac67758\",\"type\":\"Selection\"},{\"attributes\":{\"active_drag\":\"auto\",\"active_inspect\":\"auto\",\"active_multi\":null,\"active_scroll\":\"auto\",\"active_tap\":\"auto\"},\"id\":\"9a4bda15-4f30-44c1-8312-b2349aea71bc\",\"type\":\"Toolbar\"},{\"attributes\":{\"bottom\":{\"value\":0},\"fill_alpha\":{\"value\":0.5},\"fill_color\":{\"value\":\"navy\"},\"left\":{\"field\":\"left\"},\"line_alpha\":{\"value\":0.5},\"line_color\":{\"value\":\"white\"},\"right\":{\"field\":\"right\"},\"top\":{\"field\":\"top\"}},\"id\":\"87af2a8e-fada-42be-8aef-7ae5a7e19535\",\"type\":\"Quad\"},{\"attributes\":{},\"id\":\"d605622a-b0f0-4023-9a8e-b9f88e98db87\",\"type\":\"LinearScale\"},{\"attributes\":{\"callback\":null,\"start\":0},\"id\":\"c9bd4abb-321d-482a-8a22-8ab3ab36110c\",\"type\":\"DataRange1d\"},{\"attributes\":{},\"id\":\"a3f3881f-aae3-4a5e-85e4-01ebf80bfe2e\",\"type\":\"LinearScale\"},{\"attributes\":{\"plot\":{\"id\":\"ac8d4284-bc84-479c-8498-868a9197c4d4\",\"subtype\":\"Figure\",\"type\":\"Plot\"},\"ticker\":{\"id\":\"04a2c721-31bc-47aa-ae3e-a5044e1ef94f\",\"type\":\"BasicTicker\"}},\"id\":\"4a380b26-de94-4a32-aa75-a54b942bf7f4\",\"type\":\"Grid\"},{\"attributes\":{\"axis_label\":\"Number of tosses to reach endgame\",\"formatter\":{\"id\":\"93ce01f9-c612-4b92-a8fe-542516b8c4dd\",\"type\":\"BasicTickFormatter\"},\"plot\":{\"id\":\"ac8d4284-bc84-479c-8498-868a9197c4d4\",\"subtype\":\"Figure\",\"type\":\"Plot\"},\"ticker\":{\"id\":\"04a2c721-31bc-47aa-ae3e-a5044e1ef94f\",\"type\":\"BasicTicker\"}},\"id\":\"b9a0ce72-c309-47df-8572-15e598e28e54\",\"type\":\"LinearAxis\"},{\"attributes\":{},\"id\":\"04a2c721-31bc-47aa-ae3e-a5044e1ef94f\",\"type\":\"BasicTicker\"},{\"attributes\":{\"axis_label\":\"counts\",\"formatter\":{\"id\":\"20ee8cd8-b696-47d1-9f44-9554ecc119f8\",\"type\":\"BasicTickFormatter\"},\"plot\":{\"id\":\"ac8d4284-bc84-479c-8498-868a9197c4d4\",\"subtype\":\"Figure\",\"type\":\"Plot\"},\"ticker\":{\"id\":\"d1b9c1f0-e191-49f3-b597-7fa166695bb2\",\"type\":\"BasicTicker\"}},\"id\":\"49b88943-aaff-4157-af94-8dc0b3728f50\",\"type\":\"LinearAxis\"},{\"attributes\":{},\"id\":\"d1b9c1f0-e191-49f3-b597-7fa166695bb2\",\"type\":\"BasicTicker\"},{\"attributes\":{\"dimension\":1,\"plot\":{\"id\":\"ac8d4284-bc84-479c-8498-868a9197c4d4\",\"subtype\":\"Figure\",\"type\":\"Plot\"},\"ticker\":{\"id\":\"d1b9c1f0-e191-49f3-b597-7fa166695bb2\",\"type\":\"BasicTicker\"}},\"id\":\"0ba10573-7807-446e-bde6-7351eb767ddf\",\"type\":\"Grid\"}],\"root_ids\":[\"ac8d4284-bc84-479c-8498-868a9197c4d4\"]},\"title\":\"Bokeh Application\",\"version\":\"0.13.0\"}};\n",
       "  var render_items = [{\"docid\":\"c8c3bf4a-231d-4dfd-85f2-5b449c16ca62\",\"roots\":{\"ac8d4284-bc84-479c-8498-868a9197c4d4\":\"ccaa7d22-1c87-436e-ac73-0ef5a201039e\"}}];\n",
       "  root.Bokeh.embed.embed_items_notebook(docs_json, render_items);\n",
       "\n",
       "  }\n",
       "  if (root.Bokeh !== undefined) {\n",
       "    embed_document(root);\n",
       "  } else {\n",
       "    var attempts = 0;\n",
       "    var timer = setInterval(function(root) {\n",
       "      if (root.Bokeh !== undefined) {\n",
       "        embed_document(root);\n",
       "        clearInterval(timer);\n",
       "      }\n",
       "      attempts++;\n",
       "      if (attempts > 100) {\n",
       "        console.log(\"Bokeh: ERROR: Unable to run BokehJS code because BokehJS library is missing\")\n",
       "        clearInterval(timer);\n",
       "      }\n",
       "    }, 10, root)\n",
       "  }\n",
       "})(window);"
      ],
      "application/vnd.bokehjs_exec.v0+json": ""
     },
     "metadata": {
      "application/vnd.bokehjs_exec.v0+json": {
       "id": "ac8d4284-bc84-479c-8498-868a9197c4d4"
      }
     },
     "output_type": "display_data"
    }
   ],
   "source": [
    "# Example of running 2000 games with the endgame sequence HTHHT\n",
    "\n",
    "c3 = CoinToss(2000, 'HTHHT')\n",
    "c3.run()\n",
    "c3.plot_counts()"
   ]
  },
  {
   "cell_type": "code",
   "execution_count": 14,
   "metadata": {},
   "outputs": [
    {
     "name": "stdout",
     "output_type": "stream",
     "text": [
      "Average number of tosses to reach endgame =  62.2805\n"
     ]
    },
    {
     "data": {
      "text/html": [
       "\n",
       "\n",
       "\n",
       "\n",
       "\n",
       "\n",
       "  <div class=\"bk-root\" id=\"f65baceb-0e8c-486c-adc7-70bda1b60692\"></div>\n"
      ]
     },
     "metadata": {},
     "output_type": "display_data"
    },
    {
     "data": {
      "application/javascript": [
       "(function(root) {\n",
       "  function embed_document(root) {\n",
       "    \n",
       "  var docs_json = {\"e6dfa5e0-bd12-4536-b740-cb669aafda6c\":{\"roots\":{\"references\":[{\"attributes\":{\"active_drag\":\"auto\",\"active_inspect\":\"auto\",\"active_multi\":null,\"active_scroll\":\"auto\",\"active_tap\":\"auto\"},\"id\":\"a91441d0-0924-48c4-862e-13d3f2b6ee84\",\"type\":\"Toolbar\"},{\"attributes\":{\"callback\":null},\"id\":\"50e00617-4f81-4fcc-84a7-f118c6ae70e4\",\"type\":\"DataRange1d\"},{\"attributes\":{\"callback\":null,\"data\":{\"left\":{\"__ndarray__\":\"AAAAAAAAFEAfhetRuB4uQB+F61G4HjlA16NwPQqXQUAfhetRuJ5GQGdmZmZmpktA16NwPQpXUEB7FK5H4dpSQB+F61G4XlVAw/UoXI/iV0BnZmZmZmZaQAvXo3A96lxArkfhehRuX0ApXI/C9fhgQHsUrkfhOmJAzczMzMx8Y0AfhetRuL5kQHE9CtejAGZAw/UoXI9CZ0AVrkfheoRoQGdmZmZmxmlAuR6F61EIa0AL16NwPUpsQF2PwvUojG1ArkfhehTObkAAAAAAAAhwQClcj8L1qHBAUrgehetJcUB7FK5H4epxQKRwPQrXi3JAzczMzMwsc0D2KFyPws1zQB+F61G4bnRASOF6FK4PdUBxPQrXo7B1QJqZmZmZUXZAw/UoXI/ydkDsUbgehZN3QBWuR+F6NHhAPgrXo3DVeEBnZmZmZnZ5QJDC9ShcF3pAuR6F61G4ekDiehSuR1l7QAvXo3A9+ntANDMzMzObfEBdj8L1KDx9QIbrUbge3X1ArkfhehR+fkDXo3A9Ch9/QA==\",\"dtype\":\"float64\",\"shape\":[50]},\"right\":{\"__ndarray__\":\"H4XrUbgeLkAfhetRuB45QNejcD0Kl0FAH4XrUbieRkBnZmZmZqZLQNejcD0KV1BAexSuR+HaUkAfhetRuF5VQMP1KFyP4ldAZ2ZmZmZmWkAL16NwPepcQK5H4XoUbl9AKVyPwvX4YEB7FK5H4TpiQM3MzMzMfGNAH4XrUbi+ZEBxPQrXowBmQMP1KFyPQmdAFa5H4XqEaEBnZmZmZsZpQLkehetRCGtAC9ejcD1KbEBdj8L1KIxtQK5H4XoUzm5AAAAAAAAIcEApXI/C9ahwQFK4HoXrSXFAexSuR+HqcUCkcD0K14tyQM3MzMzMLHNA9ihcj8LNc0AfhetRuG50QEjhehSuD3VAcT0K16OwdUCamZmZmVF2QMP1KFyP8nZA7FG4HoWTd0AVrkfhejR4QD4K16Nw1XhAZ2ZmZmZ2eUCQwvUoXBd6QLkehetRuHpA4noUrkdZe0AL16NwPfp7QDQzMzMzm3xAXY/C9Sg8fUCG61G4Ht19QK5H4XoUfn5A16NwPQoff0AAAAAAAMB/QA==\",\"dtype\":\"float64\",\"shape\":[50]},\"top\":[378,263,233,166,140,127,111,98,54,58,56,53,44,30,22,25,30,20,9,18,11,11,5,6,6,5,3,2,2,5,2,1,1,1,1,1,0,1,0,0,0,0,0,0,0,0,0,0,0,1]},\"selected\":{\"id\":\"500c2f11-8df5-40d9-8e5a-46049b4891aa\",\"type\":\"Selection\"},\"selection_policy\":{\"id\":\"ab862d26-c336-48c2-a148-572806d14a7a\",\"type\":\"UnionRenderers\"}},\"id\":\"4a8e5032-af5c-4596-815c-21b84ba53a7a\",\"type\":\"ColumnDataSource\"},{\"attributes\":{\"data_source\":{\"id\":\"4a8e5032-af5c-4596-815c-21b84ba53a7a\",\"type\":\"ColumnDataSource\"},\"glyph\":{\"id\":\"bbc25aca-d13b-4dd7-ad8e-001e9ad7a1b6\",\"type\":\"Quad\"},\"hover_glyph\":null,\"muted_glyph\":null,\"nonselection_glyph\":{\"id\":\"f3f6f1a6-b343-4b0f-b10e-f9061ac7d762\",\"type\":\"Quad\"},\"selection_glyph\":null,\"view\":{\"id\":\"08a3b964-7811-486a-9cae-f31261d0ee4d\",\"type\":\"CDSView\"}},\"id\":\"b34be94c-7c04-444d-be1c-54674591545c\",\"type\":\"GlyphRenderer\"},{\"attributes\":{\"dimension\":1,\"plot\":{\"id\":\"3ddd7deb-e9ed-49a4-94aa-d36d6eb3b9c2\",\"subtype\":\"Figure\",\"type\":\"Plot\"},\"ticker\":{\"id\":\"e15e0e56-d2f8-4df5-8226-3a86fdecaa8c\",\"type\":\"BasicTicker\"}},\"id\":\"afaea914-2d2d-4119-82ca-423585d53db5\",\"type\":\"Grid\"},{\"attributes\":{},\"id\":\"8463f30e-fde7-4ced-9b19-5886e0cbc217\",\"type\":\"BasicTicker\"},{\"attributes\":{},\"id\":\"70f0002f-7057-415c-976f-c7d92a722ec4\",\"type\":\"BasicTickFormatter\"},{\"attributes\":{},\"id\":\"69a22f4f-b04f-4c78-8e84-0711450ac722\",\"type\":\"LinearScale\"},{\"attributes\":{},\"id\":\"e26239fa-c8d9-4ee9-bc27-10b656f5a0af\",\"type\":\"BasicTickFormatter\"},{\"attributes\":{\"background_fill_color\":{\"value\":\"#fafafa\"},\"below\":[{\"id\":\"9d8fb1d7-d42a-4068-aa44-d5fb0f8ab511\",\"type\":\"LinearAxis\"}],\"left\":[{\"id\":\"16bec58e-22a9-4f97-98ce-8b057d1a5deb\",\"type\":\"LinearAxis\"}],\"renderers\":[{\"id\":\"9d8fb1d7-d42a-4068-aa44-d5fb0f8ab511\",\"type\":\"LinearAxis\"},{\"id\":\"ebf59908-919a-4ff9-bd54-5c850fa6f5c1\",\"type\":\"Grid\"},{\"id\":\"16bec58e-22a9-4f97-98ce-8b057d1a5deb\",\"type\":\"LinearAxis\"},{\"id\":\"afaea914-2d2d-4119-82ca-423585d53db5\",\"type\":\"Grid\"},{\"id\":\"b34be94c-7c04-444d-be1c-54674591545c\",\"type\":\"GlyphRenderer\"}],\"title\":{\"id\":\"74107194-6d80-4da1-8d68-ecc003857846\",\"type\":\"Title\"},\"toolbar\":{\"id\":\"a91441d0-0924-48c4-862e-13d3f2b6ee84\",\"type\":\"Toolbar\"},\"x_range\":{\"id\":\"50e00617-4f81-4fcc-84a7-f118c6ae70e4\",\"type\":\"DataRange1d\"},\"x_scale\":{\"id\":\"69a22f4f-b04f-4c78-8e84-0711450ac722\",\"type\":\"LinearScale\"},\"y_range\":{\"id\":\"abe8d6db-e03f-4079-baa3-abd7faed32bf\",\"type\":\"DataRange1d\"},\"y_scale\":{\"id\":\"2e375534-ad37-4f26-bec7-ad0198248431\",\"type\":\"LinearScale\"}},\"id\":\"3ddd7deb-e9ed-49a4-94aa-d36d6eb3b9c2\",\"subtype\":\"Figure\",\"type\":\"Plot\"},{\"attributes\":{},\"id\":\"500c2f11-8df5-40d9-8e5a-46049b4891aa\",\"type\":\"Selection\"},{\"attributes\":{},\"id\":\"ab862d26-c336-48c2-a148-572806d14a7a\",\"type\":\"UnionRenderers\"},{\"attributes\":{},\"id\":\"2e375534-ad37-4f26-bec7-ad0198248431\",\"type\":\"LinearScale\"},{\"attributes\":{\"plot\":null,\"text\":\"2000 games with endgame HHHHH\"},\"id\":\"74107194-6d80-4da1-8d68-ecc003857846\",\"type\":\"Title\"},{\"attributes\":{\"axis_label\":\"Number of tosses to reach endgame\",\"formatter\":{\"id\":\"e26239fa-c8d9-4ee9-bc27-10b656f5a0af\",\"type\":\"BasicTickFormatter\"},\"plot\":{\"id\":\"3ddd7deb-e9ed-49a4-94aa-d36d6eb3b9c2\",\"subtype\":\"Figure\",\"type\":\"Plot\"},\"ticker\":{\"id\":\"8463f30e-fde7-4ced-9b19-5886e0cbc217\",\"type\":\"BasicTicker\"}},\"id\":\"9d8fb1d7-d42a-4068-aa44-d5fb0f8ab511\",\"type\":\"LinearAxis\"},{\"attributes\":{\"plot\":{\"id\":\"3ddd7deb-e9ed-49a4-94aa-d36d6eb3b9c2\",\"subtype\":\"Figure\",\"type\":\"Plot\"},\"ticker\":{\"id\":\"8463f30e-fde7-4ced-9b19-5886e0cbc217\",\"type\":\"BasicTicker\"}},\"id\":\"ebf59908-919a-4ff9-bd54-5c850fa6f5c1\",\"type\":\"Grid\"},{\"attributes\":{\"bottom\":{\"value\":0},\"fill_alpha\":{\"value\":0.5},\"fill_color\":{\"value\":\"navy\"},\"left\":{\"field\":\"left\"},\"line_alpha\":{\"value\":0.5},\"line_color\":{\"value\":\"white\"},\"right\":{\"field\":\"right\"},\"top\":{\"field\":\"top\"}},\"id\":\"bbc25aca-d13b-4dd7-ad8e-001e9ad7a1b6\",\"type\":\"Quad\"},{\"attributes\":{\"source\":{\"id\":\"4a8e5032-af5c-4596-815c-21b84ba53a7a\",\"type\":\"ColumnDataSource\"}},\"id\":\"08a3b964-7811-486a-9cae-f31261d0ee4d\",\"type\":\"CDSView\"},{\"attributes\":{\"callback\":null,\"start\":0},\"id\":\"abe8d6db-e03f-4079-baa3-abd7faed32bf\",\"type\":\"DataRange1d\"},{\"attributes\":{},\"id\":\"e15e0e56-d2f8-4df5-8226-3a86fdecaa8c\",\"type\":\"BasicTicker\"},{\"attributes\":{\"axis_label\":\"counts\",\"formatter\":{\"id\":\"70f0002f-7057-415c-976f-c7d92a722ec4\",\"type\":\"BasicTickFormatter\"},\"plot\":{\"id\":\"3ddd7deb-e9ed-49a4-94aa-d36d6eb3b9c2\",\"subtype\":\"Figure\",\"type\":\"Plot\"},\"ticker\":{\"id\":\"e15e0e56-d2f8-4df5-8226-3a86fdecaa8c\",\"type\":\"BasicTicker\"}},\"id\":\"16bec58e-22a9-4f97-98ce-8b057d1a5deb\",\"type\":\"LinearAxis\"},{\"attributes\":{\"bottom\":{\"value\":0},\"fill_alpha\":{\"value\":0.1},\"fill_color\":{\"value\":\"#1f77b4\"},\"left\":{\"field\":\"left\"},\"line_alpha\":{\"value\":0.1},\"line_color\":{\"value\":\"#1f77b4\"},\"right\":{\"field\":\"right\"},\"top\":{\"field\":\"top\"}},\"id\":\"f3f6f1a6-b343-4b0f-b10e-f9061ac7d762\",\"type\":\"Quad\"}],\"root_ids\":[\"3ddd7deb-e9ed-49a4-94aa-d36d6eb3b9c2\"]},\"title\":\"Bokeh Application\",\"version\":\"0.13.0\"}};\n",
       "  var render_items = [{\"docid\":\"e6dfa5e0-bd12-4536-b740-cb669aafda6c\",\"roots\":{\"3ddd7deb-e9ed-49a4-94aa-d36d6eb3b9c2\":\"f65baceb-0e8c-486c-adc7-70bda1b60692\"}}];\n",
       "  root.Bokeh.embed.embed_items_notebook(docs_json, render_items);\n",
       "\n",
       "  }\n",
       "  if (root.Bokeh !== undefined) {\n",
       "    embed_document(root);\n",
       "  } else {\n",
       "    var attempts = 0;\n",
       "    var timer = setInterval(function(root) {\n",
       "      if (root.Bokeh !== undefined) {\n",
       "        embed_document(root);\n",
       "        clearInterval(timer);\n",
       "      }\n",
       "      attempts++;\n",
       "      if (attempts > 100) {\n",
       "        console.log(\"Bokeh: ERROR: Unable to run BokehJS code because BokehJS library is missing\")\n",
       "        clearInterval(timer);\n",
       "      }\n",
       "    }, 10, root)\n",
       "  }\n",
       "})(window);"
      ],
      "application/vnd.bokehjs_exec.v0+json": ""
     },
     "metadata": {
      "application/vnd.bokehjs_exec.v0+json": {
       "id": "3ddd7deb-e9ed-49a4-94aa-d36d6eb3b9c2"
      }
     },
     "output_type": "display_data"
    }
   ],
   "source": [
    "# Example of running 2000 games with the endgame sequence HHHHH\n",
    "\n",
    "c3 = CoinToss(2000, 'HHHHH')\n",
    "c3.run()\n",
    "c3.plot_counts()"
   ]
  },
  {
   "cell_type": "code",
   "execution_count": null,
   "metadata": {},
   "outputs": [],
   "source": []
  }
 ],
 "metadata": {
  "kernelspec": {
   "display_name": "Python 3",
   "language": "python",
   "name": "python3"
  },
  "language_info": {
   "codemirror_mode": {
    "name": "ipython",
    "version": 3
   },
   "file_extension": ".py",
   "mimetype": "text/x-python",
   "name": "python",
   "nbconvert_exporter": "python",
   "pygments_lexer": "ipython3",
   "version": "3.6.2"
  }
 },
 "nbformat": 4,
 "nbformat_minor": 2
}
