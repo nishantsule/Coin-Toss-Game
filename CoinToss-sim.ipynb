{
 "cells": [
  {
   "cell_type": "markdown",
   "metadata": {},
   "source": [
    "## Coin Toss Game"
   ]
  },
  {
   "cell_type": "markdown",
   "metadata": {},
   "source": [
    "This notebook simulates a coin tossing game where the player gets to pick a string of head/tail occurances as the endgame. A coin is tossed until the chosen sequence of head/tail occurs. When the endgame sequence occurs the game ends. The objective is that for a given length of the endgame what is the sequence of head/tail occurances that will be end the game with the least number of tosses. This is simulated by running a given number of coin toss games with the chosen endgame sequence. The avarage number of tosses required to win is computed and its distribution is plotted."
   ]
  },
  {
   "cell_type": "code",
   "execution_count": null,
   "metadata": {},
   "outputs": [],
   "source": [
    "# Import useful packages\n",
    "import numpy as np\n",
    "from collections import deque\n",
    "from bokeh.io import push_notebook, show, output_notebook\n",
    "from bokeh.plotting import figure \n",
    "output_notebook()"
   ]
  },
  {
   "cell_type": "code",
   "execution_count": 176,
   "metadata": {},
   "outputs": [],
   "source": [
    "# Defines a class for the coin toss game\n",
    "class CoinToss:\n",
    "    # Initializing variables\n",
    "    def __init__(self, number_of_games, endgame):\n",
    "        self.numgames = number_of_games\n",
    "        self.endgamelen = len(endgame)\n",
    "        self.endgame = endgame\n",
    "        self.reset()\n",
    "    # Reset all the counters\n",
    "    def reset(self):\n",
    "        self.counter = np.zeros(self.numgames)\n",
    "    # Run the coin toss game\n",
    "    def run(self):\n",
    "        curr_seq = deque('', self.endgamelen)\n",
    "        endgame_reached = False\n",
    "        for i in range(self.numgames):\n",
    "            while not endgame_reached:\n",
    "                self.counter[i] += 1\n",
    "                if np.random.random_sample() < 0.5:\n",
    "                    curr_seq.append('H')\n",
    "                else:\n",
    "                    curr_seq.append('T')\n",
    "                check = sum(cs == eg for (cs, eg) in zip(curr_seq, self.endgame))\n",
    "                if check == self.endgamelen:\n",
    "                    endgame_reached = True\n",
    "                    curr_seq.clear()\n",
    "            endgame_reached = False\n",
    "        print('Average number of tosses to reach endgame = ', np.mean(self.counter))\n",
    "    # Plot the distribution of number of tosses required to end the game\n",
    "    def plot_counts(self):\n",
    "        hist, edges = np.histogram(self.counter, density=False, bins=50)\n",
    "        p = figure(title='{} games with endgame {}'.format(self.numgames, self.endgame), \n",
    "                   tools='', background_fill_color='#fafafa')\n",
    "        p.quad(top=hist, bottom=0, left=edges[:-1], right=edges[1:], fill_color=\"navy\", line_color=\"white\", alpha=0.5)\n",
    "        p.y_range.start = 0\n",
    "        p.xaxis.axis_label = 'Number of tosses to reach endgame'\n",
    "        p.yaxis.axis_label = 'counts'\n",
    "        show(p)"
   ]
  },
  {
   "cell_type": "code",
   "execution_count": 177,
   "metadata": {},
   "outputs": [
    {
     "name": "stdout",
     "output_type": "stream",
     "text": [
      "Average number of tosses to reach endgame =  14.625\n"
     ]
    },
    {
     "data": {
      "text/html": [
       "\n",
       "\n",
       "\n",
       "\n",
       "\n",
       "\n",
       "  <div class=\"bk-root\" id=\"b680b111-4def-47f1-b1e1-08ecf55280c6\"></div>\n"
      ]
     },
     "metadata": {},
     "output_type": "display_data"
    },
    {
     "data": {
      "application/javascript": [
       "(function(root) {\n",
       "  function embed_document(root) {\n",
       "    \n",
       "  var docs_json = {\"1c2c7dc2-d6e9-445f-a2c0-da46b7460e9f\":{\"roots\":{\"references\":[{\"attributes\":{},\"id\":\"356b789d-bb24-4ca9-b09b-9a86bc7ff294\",\"type\":\"BasicTicker\"},{\"attributes\":{\"axis_label\":\"counts\",\"formatter\":{\"id\":\"ce54ff7b-22fb-4aa5-9fc7-405f7b3f5493\",\"type\":\"BasicTickFormatter\"},\"plot\":{\"id\":\"b43e8b7f-1872-4a7d-b973-122db50d84a7\",\"subtype\":\"Figure\",\"type\":\"Plot\"},\"ticker\":{\"id\":\"356b789d-bb24-4ca9-b09b-9a86bc7ff294\",\"type\":\"BasicTicker\"}},\"id\":\"6e2debc3-a5b6-4a5e-bded-732326991fc4\",\"type\":\"LinearAxis\"},{\"attributes\":{\"active_drag\":\"auto\",\"active_inspect\":\"auto\",\"active_multi\":null,\"active_scroll\":\"auto\",\"active_tap\":\"auto\"},\"id\":\"35165394-bc1b-413f-a26f-cb9b8868b054\",\"type\":\"Toolbar\"},{\"attributes\":{\"callback\":null,\"start\":0},\"id\":\"3142b829-9552-4c42-ad41-d459fcc45bdd\",\"type\":\"DataRange1d\"},{\"attributes\":{\"plot\":{\"id\":\"b43e8b7f-1872-4a7d-b973-122db50d84a7\",\"subtype\":\"Figure\",\"type\":\"Plot\"},\"ticker\":{\"id\":\"7b1db2c7-45e4-43e4-9589-fc8cd11f1fab\",\"type\":\"BasicTicker\"}},\"id\":\"685af99a-5906-4a18-9932-74656a787688\",\"type\":\"Grid\"},{\"attributes\":{},\"id\":\"7b1db2c7-45e4-43e4-9589-fc8cd11f1fab\",\"type\":\"BasicTicker\"},{\"attributes\":{\"background_fill_color\":{\"value\":\"#fafafa\"},\"below\":[{\"id\":\"86a5869a-5134-4571-9a95-0c714ce23295\",\"type\":\"LinearAxis\"}],\"left\":[{\"id\":\"6e2debc3-a5b6-4a5e-bded-732326991fc4\",\"type\":\"LinearAxis\"}],\"renderers\":[{\"id\":\"86a5869a-5134-4571-9a95-0c714ce23295\",\"type\":\"LinearAxis\"},{\"id\":\"685af99a-5906-4a18-9932-74656a787688\",\"type\":\"Grid\"},{\"id\":\"6e2debc3-a5b6-4a5e-bded-732326991fc4\",\"type\":\"LinearAxis\"},{\"id\":\"303cbe31-1872-4d93-b87d-c62b1416661a\",\"type\":\"Grid\"},{\"id\":\"647a51f8-8c7b-4b81-bc5d-231be2e1143b\",\"type\":\"GlyphRenderer\"}],\"title\":{\"id\":\"56a92fca-b8bc-40cc-be1e-9b170192a24f\",\"type\":\"Title\"},\"toolbar\":{\"id\":\"35165394-bc1b-413f-a26f-cb9b8868b054\",\"type\":\"Toolbar\"},\"x_range\":{\"id\":\"01d48525-8126-48eb-97eb-a0c83a2a5e2f\",\"type\":\"DataRange1d\"},\"x_scale\":{\"id\":\"b6763e90-db05-422d-a733-5a4fc92bc9e3\",\"type\":\"LinearScale\"},\"y_range\":{\"id\":\"3142b829-9552-4c42-ad41-d459fcc45bdd\",\"type\":\"DataRange1d\"},\"y_scale\":{\"id\":\"237568dc-54b5-4eed-b12d-38d367613436\",\"type\":\"LinearScale\"}},\"id\":\"b43e8b7f-1872-4a7d-b973-122db50d84a7\",\"subtype\":\"Figure\",\"type\":\"Plot\"},{\"attributes\":{\"plot\":null,\"text\":\"200 games with endgame TTT\"},\"id\":\"56a92fca-b8bc-40cc-be1e-9b170192a24f\",\"type\":\"Title\"},{\"attributes\":{\"callback\":null},\"id\":\"01d48525-8126-48eb-97eb-a0c83a2a5e2f\",\"type\":\"DataRange1d\"},{\"attributes\":{\"dimension\":1,\"plot\":{\"id\":\"b43e8b7f-1872-4a7d-b973-122db50d84a7\",\"subtype\":\"Figure\",\"type\":\"Plot\"},\"ticker\":{\"id\":\"356b789d-bb24-4ca9-b09b-9a86bc7ff294\",\"type\":\"BasicTicker\"}},\"id\":\"303cbe31-1872-4d93-b87d-c62b1416661a\",\"type\":\"Grid\"},{\"attributes\":{},\"id\":\"237568dc-54b5-4eed-b12d-38d367613436\",\"type\":\"LinearScale\"},{\"attributes\":{},\"id\":\"b6763e90-db05-422d-a733-5a4fc92bc9e3\",\"type\":\"LinearScale\"},{\"attributes\":{},\"id\":\"ce54ff7b-22fb-4aa5-9fc7-405f7b3f5493\",\"type\":\"BasicTickFormatter\"},{\"attributes\":{\"source\":{\"id\":\"6cf9ac0e-491a-4412-ab01-fcfbed9de068\",\"type\":\"ColumnDataSource\"}},\"id\":\"3f83b6d1-0888-45a0-ab20-6ee6d7d1196e\",\"type\":\"CDSView\"},{\"attributes\":{},\"id\":\"847324f2-28d3-4503-b0d7-d45051c97f88\",\"type\":\"BasicTickFormatter\"},{\"attributes\":{},\"id\":\"90243212-100b-4956-b6f1-94865d404226\",\"type\":\"UnionRenderers\"},{\"attributes\":{\"callback\":null,\"data\":{\"left\":{\"__ndarray__\":\"AAAAAAAACEC4HoXrUbgQQHA9CtejcBVAKVyPwvUoGkDhehSuR+EeQMzMzMzMzCFAKVyPwvUoJECF61G4HoUmQOF6FK5H4ShAPQrXo3A9K0CZmZmZmZktQPUoXI/C9S9AKVyPwvUoMUDXo3A9ClcyQIXrUbgehTNAMzMzMzOzNEDhehSuR+E1QI/C9ShcDzdAPQrXo3A9OEDrUbgehWs5QJmZmZmZmTpAR+F6FK7HO0D1KFyPwvU8QKNwPQrXIz5AUrgehetRP0AAAAAAAEBAQNejcD0K10BArkfhehRuQUCF61G4HgVCQFyPwvUonEJAMzMzMzMzQ0AK16NwPcpDQOF6FK5HYURAuB6F61H4RECPwvUoXI9FQGZmZmZmJkZAPQrXo3C9RkAUrkfhelRHQOtRuB6F60dAwvUoXI+CSECZmZmZmRlJQHA9CtejsElAR+F6FK5HSkAehetRuN5KQPUoXI/CdUtAzMzMzMwMTECjcD0K16NMQHoUrkfhOk1AUrgehevRTUApXI/C9WhOQA==\",\"dtype\":\"float64\",\"shape\":[50]},\"right\":{\"__ndarray__\":\"uB6F61G4EEBwPQrXo3AVQClcj8L1KBpA4XoUrkfhHkDMzMzMzMwhQClcj8L1KCRAhetRuB6FJkDhehSuR+EoQD0K16NwPStAmZmZmZmZLUD1KFyPwvUvQClcj8L1KDFA16NwPQpXMkCF61G4HoUzQDMzMzMzszRA4XoUrkfhNUCPwvUoXA83QD0K16NwPThA61G4HoVrOUCZmZmZmZk6QEfhehSuxztA9Shcj8L1PECjcD0K1yM+QFK4HoXrUT9AAAAAAABAQEDXo3A9CtdAQK5H4XoUbkFAhetRuB4FQkBcj8L1KJxCQDMzMzMzM0NACtejcD3KQ0DhehSuR2FEQLgehetR+ERAj8L1KFyPRUBmZmZmZiZGQD0K16NwvUZAFK5H4XpUR0DrUbgehetHQML1KFyPgkhAmZmZmZkZSUBwPQrXo7BJQEfhehSuR0pAHoXrUbjeSkD1KFyPwnVLQMzMzMzMDExAo3A9CtejTEB6FK5H4TpNQFK4HoXr0U1AKVyPwvVoTkAAAAAAAABPQA==\",\"dtype\":\"float64\",\"shape\":[50]},\"top\":[35,16,13,6,9,20,10,7,6,7,6,8,3,3,5,1,8,6,1,0,3,4,2,1,3,0,1,3,0,1,0,0,1,1,0,1,1,1,1,0,0,0,1,0,1,1,1,0,0,2]},\"selected\":{\"id\":\"fe8ea208-37af-4de9-8a71-beccfa61daf8\",\"type\":\"Selection\"},\"selection_policy\":{\"id\":\"90243212-100b-4956-b6f1-94865d404226\",\"type\":\"UnionRenderers\"}},\"id\":\"6cf9ac0e-491a-4412-ab01-fcfbed9de068\",\"type\":\"ColumnDataSource\"},{\"attributes\":{\"data_source\":{\"id\":\"6cf9ac0e-491a-4412-ab01-fcfbed9de068\",\"type\":\"ColumnDataSource\"},\"glyph\":{\"id\":\"2dc978e9-25d3-47b0-a48c-a67341871933\",\"type\":\"Quad\"},\"hover_glyph\":null,\"muted_glyph\":null,\"nonselection_glyph\":{\"id\":\"781e2dba-a17d-4dc2-9315-953598de4241\",\"type\":\"Quad\"},\"selection_glyph\":null,\"view\":{\"id\":\"3f83b6d1-0888-45a0-ab20-6ee6d7d1196e\",\"type\":\"CDSView\"}},\"id\":\"647a51f8-8c7b-4b81-bc5d-231be2e1143b\",\"type\":\"GlyphRenderer\"},{\"attributes\":{\"bottom\":{\"value\":0},\"fill_alpha\":{\"value\":0.1},\"fill_color\":{\"value\":\"#1f77b4\"},\"left\":{\"field\":\"left\"},\"line_alpha\":{\"value\":0.1},\"line_color\":{\"value\":\"#1f77b4\"},\"right\":{\"field\":\"right\"},\"top\":{\"field\":\"top\"}},\"id\":\"781e2dba-a17d-4dc2-9315-953598de4241\",\"type\":\"Quad\"},{\"attributes\":{},\"id\":\"fe8ea208-37af-4de9-8a71-beccfa61daf8\",\"type\":\"Selection\"},{\"attributes\":{\"axis_label\":\"Number of tosses to reach endgame\",\"formatter\":{\"id\":\"847324f2-28d3-4503-b0d7-d45051c97f88\",\"type\":\"BasicTickFormatter\"},\"plot\":{\"id\":\"b43e8b7f-1872-4a7d-b973-122db50d84a7\",\"subtype\":\"Figure\",\"type\":\"Plot\"},\"ticker\":{\"id\":\"7b1db2c7-45e4-43e4-9589-fc8cd11f1fab\",\"type\":\"BasicTicker\"}},\"id\":\"86a5869a-5134-4571-9a95-0c714ce23295\",\"type\":\"LinearAxis\"},{\"attributes\":{\"bottom\":{\"value\":0},\"fill_alpha\":{\"value\":0.5},\"fill_color\":{\"value\":\"navy\"},\"left\":{\"field\":\"left\"},\"line_alpha\":{\"value\":0.5},\"line_color\":{\"value\":\"white\"},\"right\":{\"field\":\"right\"},\"top\":{\"field\":\"top\"}},\"id\":\"2dc978e9-25d3-47b0-a48c-a67341871933\",\"type\":\"Quad\"}],\"root_ids\":[\"b43e8b7f-1872-4a7d-b973-122db50d84a7\"]},\"title\":\"Bokeh Application\",\"version\":\"0.13.0\"}};\n",
       "  var render_items = [{\"docid\":\"1c2c7dc2-d6e9-445f-a2c0-da46b7460e9f\",\"roots\":{\"b43e8b7f-1872-4a7d-b973-122db50d84a7\":\"b680b111-4def-47f1-b1e1-08ecf55280c6\"}}];\n",
       "  root.Bokeh.embed.embed_items_notebook(docs_json, render_items);\n",
       "\n",
       "  }\n",
       "  if (root.Bokeh !== undefined) {\n",
       "    embed_document(root);\n",
       "  } else {\n",
       "    var attempts = 0;\n",
       "    var timer = setInterval(function(root) {\n",
       "      if (root.Bokeh !== undefined) {\n",
       "        embed_document(root);\n",
       "        clearInterval(timer);\n",
       "      }\n",
       "      attempts++;\n",
       "      if (attempts > 100) {\n",
       "        console.log(\"Bokeh: ERROR: Unable to run BokehJS code because BokehJS library is missing\")\n",
       "        clearInterval(timer);\n",
       "      }\n",
       "    }, 10, root)\n",
       "  }\n",
       "})(window);"
      ],
      "application/vnd.bokehjs_exec.v0+json": ""
     },
     "metadata": {
      "application/vnd.bokehjs_exec.v0+json": {
       "id": "b43e8b7f-1872-4a7d-b973-122db50d84a7"
      }
     },
     "output_type": "display_data"
    }
   ],
   "source": [
    "# Example of running 200 games with the endgame sequence TTT\n",
    "c1 = CoinToss(200, 'TTT')\n",
    "c1.run()\n",
    "c1.plot_counts()"
   ]
  },
  {
   "cell_type": "code",
   "execution_count": 178,
   "metadata": {},
   "outputs": [
    {
     "name": "stdout",
     "output_type": "stream",
     "text": [
      "Average number of tosses to reach endgame =  9.775\n"
     ]
    },
    {
     "data": {
      "text/html": [
       "\n",
       "\n",
       "\n",
       "\n",
       "\n",
       "\n",
       "  <div class=\"bk-root\" id=\"41fe0fb5-eedf-4fe4-9b8a-ba869a243de4\"></div>\n"
      ]
     },
     "metadata": {},
     "output_type": "display_data"
    },
    {
     "data": {
      "application/javascript": [
       "(function(root) {\n",
       "  function embed_document(root) {\n",
       "    \n",
       "  var docs_json = {\"1dbb403f-5f4c-41be-9ecc-19a7458c4ebc\":{\"roots\":{\"references\":[{\"attributes\":{\"plot\":null,\"text\":\"200 games with endgame THT\"},\"id\":\"2f547fc7-5449-49e5-b808-7c5251caaee6\",\"type\":\"Title\"},{\"attributes\":{},\"id\":\"4d40c81a-f34d-4a48-bb65-2a4a1d91a3d7\",\"type\":\"BasicTicker\"},{\"attributes\":{\"background_fill_color\":{\"value\":\"#fafafa\"},\"below\":[{\"id\":\"7bed4962-21d9-41c8-94d1-e2437ade4fe6\",\"type\":\"LinearAxis\"}],\"left\":[{\"id\":\"b05c8d2a-5b50-4f17-a29c-4a4745e11af7\",\"type\":\"LinearAxis\"}],\"renderers\":[{\"id\":\"7bed4962-21d9-41c8-94d1-e2437ade4fe6\",\"type\":\"LinearAxis\"},{\"id\":\"08005926-f69d-4e6a-848d-fe8c7a0c6a62\",\"type\":\"Grid\"},{\"id\":\"b05c8d2a-5b50-4f17-a29c-4a4745e11af7\",\"type\":\"LinearAxis\"},{\"id\":\"51169cfb-37a8-4a5c-b8bc-2d2c2a575607\",\"type\":\"Grid\"},{\"id\":\"57353ad0-a394-4761-96c6-97a14f8868ed\",\"type\":\"GlyphRenderer\"}],\"title\":{\"id\":\"2f547fc7-5449-49e5-b808-7c5251caaee6\",\"type\":\"Title\"},\"toolbar\":{\"id\":\"20e65ff5-e7e6-4169-9357-fc6ce18b573f\",\"type\":\"Toolbar\"},\"x_range\":{\"id\":\"b842a115-ba42-484b-b22e-fdc709d964d8\",\"type\":\"DataRange1d\"},\"x_scale\":{\"id\":\"d88bc0da-b4b0-4f16-9387-63ba438b5440\",\"type\":\"LinearScale\"},\"y_range\":{\"id\":\"8d593961-b2f3-4309-9c4b-46e095156c69\",\"type\":\"DataRange1d\"},\"y_scale\":{\"id\":\"dbcfb681-a07c-443b-8f72-d7579e708cb7\",\"type\":\"LinearScale\"}},\"id\":\"257154a0-baa0-4052-ae6c-2ffee3533d08\",\"subtype\":\"Figure\",\"type\":\"Plot\"},{\"attributes\":{},\"id\":\"d88bc0da-b4b0-4f16-9387-63ba438b5440\",\"type\":\"LinearScale\"},{\"attributes\":{\"axis_label\":\"counts\",\"formatter\":{\"id\":\"4c4c29ef-1a7a-4485-99ae-c4d25013d97d\",\"type\":\"BasicTickFormatter\"},\"plot\":{\"id\":\"257154a0-baa0-4052-ae6c-2ffee3533d08\",\"subtype\":\"Figure\",\"type\":\"Plot\"},\"ticker\":{\"id\":\"e92ba657-a86f-470e-aa12-efcb006fc8c7\",\"type\":\"BasicTicker\"}},\"id\":\"b05c8d2a-5b50-4f17-a29c-4a4745e11af7\",\"type\":\"LinearAxis\"},{\"attributes\":{\"callback\":null},\"id\":\"b842a115-ba42-484b-b22e-fdc709d964d8\",\"type\":\"DataRange1d\"},{\"attributes\":{\"axis_label\":\"Number of tosses to reach endgame\",\"formatter\":{\"id\":\"e1f21821-339c-46be-9b31-6ffb151e54dc\",\"type\":\"BasicTickFormatter\"},\"plot\":{\"id\":\"257154a0-baa0-4052-ae6c-2ffee3533d08\",\"subtype\":\"Figure\",\"type\":\"Plot\"},\"ticker\":{\"id\":\"4d40c81a-f34d-4a48-bb65-2a4a1d91a3d7\",\"type\":\"BasicTicker\"}},\"id\":\"7bed4962-21d9-41c8-94d1-e2437ade4fe6\",\"type\":\"LinearAxis\"},{\"attributes\":{\"data_source\":{\"id\":\"f6a51eb1-cc47-4a9f-a329-379e245da4eb\",\"type\":\"ColumnDataSource\"},\"glyph\":{\"id\":\"3dd5fa2a-9de3-4f74-9229-6840afd1ce8a\",\"type\":\"Quad\"},\"hover_glyph\":null,\"muted_glyph\":null,\"nonselection_glyph\":{\"id\":\"052edb53-f3cc-4b33-a7c7-0e93b80b8a39\",\"type\":\"Quad\"},\"selection_glyph\":null,\"view\":{\"id\":\"e67f65d7-5e6b-44ae-abe2-79b316930a2a\",\"type\":\"CDSView\"}},\"id\":\"57353ad0-a394-4761-96c6-97a14f8868ed\",\"type\":\"GlyphRenderer\"},{\"attributes\":{},\"id\":\"f3a0b683-e1ae-43da-802a-b1083ae9230a\",\"type\":\"UnionRenderers\"},{\"attributes\":{\"bottom\":{\"value\":0},\"fill_alpha\":{\"value\":0.5},\"fill_color\":{\"value\":\"navy\"},\"left\":{\"field\":\"left\"},\"line_alpha\":{\"value\":0.5},\"line_color\":{\"value\":\"white\"},\"right\":{\"field\":\"right\"},\"top\":{\"field\":\"top\"}},\"id\":\"3dd5fa2a-9de3-4f74-9229-6840afd1ce8a\",\"type\":\"Quad\"},{\"attributes\":{\"bottom\":{\"value\":0},\"fill_alpha\":{\"value\":0.1},\"fill_color\":{\"value\":\"#1f77b4\"},\"left\":{\"field\":\"left\"},\"line_alpha\":{\"value\":0.1},\"line_color\":{\"value\":\"#1f77b4\"},\"right\":{\"field\":\"right\"},\"top\":{\"field\":\"top\"}},\"id\":\"052edb53-f3cc-4b33-a7c7-0e93b80b8a39\",\"type\":\"Quad\"},{\"attributes\":{\"source\":{\"id\":\"f6a51eb1-cc47-4a9f-a329-379e245da4eb\",\"type\":\"ColumnDataSource\"}},\"id\":\"e67f65d7-5e6b-44ae-abe2-79b316930a2a\",\"type\":\"CDSView\"},{\"attributes\":{\"dimension\":1,\"plot\":{\"id\":\"257154a0-baa0-4052-ae6c-2ffee3533d08\",\"subtype\":\"Figure\",\"type\":\"Plot\"},\"ticker\":{\"id\":\"e92ba657-a86f-470e-aa12-efcb006fc8c7\",\"type\":\"BasicTicker\"}},\"id\":\"51169cfb-37a8-4a5c-b8bc-2d2c2a575607\",\"type\":\"Grid\"},{\"attributes\":{},\"id\":\"e92ba657-a86f-470e-aa12-efcb006fc8c7\",\"type\":\"BasicTicker\"},{\"attributes\":{},\"id\":\"852e7d4a-93fc-4cb3-9323-02eba7fff694\",\"type\":\"Selection\"},{\"attributes\":{\"callback\":null,\"data\":{\"left\":{\"__ndarray__\":\"AAAAAAAACEAUrkfhehQOQBSuR+F6FBJAH4XrUbgeFUApXI/C9SgYQDMzMzMzMxtAPgrXo3A9HkCkcD0K16MgQClcj8L1KCJArkfhehSuI0AzMzMzMzMlQLgehetRuCZAPgrXo3A9KEDD9Shcj8IpQEjhehSuRytAzczMzMzMLEBSuB6F61EuQNejcD0K1y9ArkfhehSuMEBwPQrXo3AxQDMzMzMzMzJA9ihcj8L1MkC4HoXrUbgzQHsUrkfhejRAPgrXo3A9NUAAAAAAAAA2QMP1KFyPwjZAhetRuB6FN0BI4XoUrkc4QArXo3A9CjlAzczMzMzMOUCPwvUoXI86QFK4HoXrUTtAFa5H4XoUPEDXo3A9Ctc8QJqZmZmZmT1AXI/C9ShcPkAfhetRuB4/QOF6FK5H4T9AUrgehetRQEAzMzMzM7NAQBSuR+F6FEFA9ihcj8J1QUDXo3A9CtdBQLgehetROEJAmpmZmZmZQkB7FK5H4fpCQFyPwvUoXENAPgrXo3C9Q0AfhetRuB5EQA==\",\"dtype\":\"float64\",\"shape\":[50]},\"right\":{\"__ndarray__\":\"FK5H4XoUDkAUrkfhehQSQB+F61G4HhVAKVyPwvUoGEAzMzMzMzMbQD4K16NwPR5ApHA9CtejIEApXI/C9SgiQK5H4XoUriNAMzMzMzMzJUC4HoXrUbgmQD4K16NwPShAw/UoXI/CKUBI4XoUrkcrQM3MzMzMzCxAUrgehetRLkDXo3A9CtcvQK5H4XoUrjBAcD0K16NwMUAzMzMzMzMyQPYoXI/C9TJAuB6F61G4M0B7FK5H4Xo0QD4K16NwPTVAAAAAAAAANkDD9Shcj8I2QIXrUbgehTdASOF6FK5HOEAK16NwPQo5QM3MzMzMzDlAj8L1KFyPOkBSuB6F61E7QBWuR+F6FDxA16NwPQrXPECamZmZmZk9QFyPwvUoXD5AH4XrUbgeP0DhehSuR+E/QFK4HoXrUUBAMzMzMzOzQEAUrkfhehRBQPYoXI/CdUFA16NwPQrXQUC4HoXrUThCQJqZmZmZmUJAexSuR+H6QkBcj8L1KFxDQD4K16NwvUNAH4XrUbgeREAAAAAAAIBEQA==\",\"dtype\":\"float64\",\"shape\":[50]},\"top\":[21,28,17,21,0,20,15,11,0,6,8,6,0,2,5,5,0,3,3,4,0,3,4,2,0,2,2,1,1,0,2,0,0,0,1,2,0,0,0,1,0,0,0,0,1,0,1,0,1,1]},\"selected\":{\"id\":\"852e7d4a-93fc-4cb3-9323-02eba7fff694\",\"type\":\"Selection\"},\"selection_policy\":{\"id\":\"f3a0b683-e1ae-43da-802a-b1083ae9230a\",\"type\":\"UnionRenderers\"}},\"id\":\"f6a51eb1-cc47-4a9f-a329-379e245da4eb\",\"type\":\"ColumnDataSource\"},{\"attributes\":{\"plot\":{\"id\":\"257154a0-baa0-4052-ae6c-2ffee3533d08\",\"subtype\":\"Figure\",\"type\":\"Plot\"},\"ticker\":{\"id\":\"4d40c81a-f34d-4a48-bb65-2a4a1d91a3d7\",\"type\":\"BasicTicker\"}},\"id\":\"08005926-f69d-4e6a-848d-fe8c7a0c6a62\",\"type\":\"Grid\"},{\"attributes\":{\"callback\":null,\"start\":0},\"id\":\"8d593961-b2f3-4309-9c4b-46e095156c69\",\"type\":\"DataRange1d\"},{\"attributes\":{},\"id\":\"4c4c29ef-1a7a-4485-99ae-c4d25013d97d\",\"type\":\"BasicTickFormatter\"},{\"attributes\":{},\"id\":\"e1f21821-339c-46be-9b31-6ffb151e54dc\",\"type\":\"BasicTickFormatter\"},{\"attributes\":{},\"id\":\"dbcfb681-a07c-443b-8f72-d7579e708cb7\",\"type\":\"LinearScale\"},{\"attributes\":{\"active_drag\":\"auto\",\"active_inspect\":\"auto\",\"active_multi\":null,\"active_scroll\":\"auto\",\"active_tap\":\"auto\"},\"id\":\"20e65ff5-e7e6-4169-9357-fc6ce18b573f\",\"type\":\"Toolbar\"}],\"root_ids\":[\"257154a0-baa0-4052-ae6c-2ffee3533d08\"]},\"title\":\"Bokeh Application\",\"version\":\"0.13.0\"}};\n",
       "  var render_items = [{\"docid\":\"1dbb403f-5f4c-41be-9ecc-19a7458c4ebc\",\"roots\":{\"257154a0-baa0-4052-ae6c-2ffee3533d08\":\"41fe0fb5-eedf-4fe4-9b8a-ba869a243de4\"}}];\n",
       "  root.Bokeh.embed.embed_items_notebook(docs_json, render_items);\n",
       "\n",
       "  }\n",
       "  if (root.Bokeh !== undefined) {\n",
       "    embed_document(root);\n",
       "  } else {\n",
       "    var attempts = 0;\n",
       "    var timer = setInterval(function(root) {\n",
       "      if (root.Bokeh !== undefined) {\n",
       "        embed_document(root);\n",
       "        clearInterval(timer);\n",
       "      }\n",
       "      attempts++;\n",
       "      if (attempts > 100) {\n",
       "        console.log(\"Bokeh: ERROR: Unable to run BokehJS code because BokehJS library is missing\")\n",
       "        clearInterval(timer);\n",
       "      }\n",
       "    }, 10, root)\n",
       "  }\n",
       "})(window);"
      ],
      "application/vnd.bokehjs_exec.v0+json": ""
     },
     "metadata": {
      "application/vnd.bokehjs_exec.v0+json": {
       "id": "257154a0-baa0-4052-ae6c-2ffee3533d08"
      }
     },
     "output_type": "display_data"
    }
   ],
   "source": [
    "# Example of running 200 games with the endgame sequence THT\n",
    "c2 = CoinToss(200, 'THT')\n",
    "c2.run()\n",
    "c2.plot_counts()"
   ]
  },
  {
   "cell_type": "code",
   "execution_count": 179,
   "metadata": {},
   "outputs": [
    {
     "name": "stdout",
     "output_type": "stream",
     "text": [
      "Average number of tosses to reach endgame =  36.872\n"
     ]
    },
    {
     "data": {
      "text/html": [
       "\n",
       "\n",
       "\n",
       "\n",
       "\n",
       "\n",
       "  <div class=\"bk-root\" id=\"46a5657b-ce65-467f-ae8d-09fb7fd61e5a\"></div>\n"
      ]
     },
     "metadata": {},
     "output_type": "display_data"
    },
    {
     "data": {
      "application/javascript": [
       "(function(root) {\n",
       "  function embed_document(root) {\n",
       "    \n",
       "  var docs_json = {\"a3039399-908b-4a8a-8d0b-5af9d21f3a5a\":{\"roots\":{\"references\":[{\"attributes\":{\"background_fill_color\":{\"value\":\"#fafafa\"},\"below\":[{\"id\":\"9d05730e-831d-471d-ad56-a1438ad45651\",\"type\":\"LinearAxis\"}],\"left\":[{\"id\":\"43bf29f4-6b45-45c9-b84b-8aeb9452c0db\",\"type\":\"LinearAxis\"}],\"renderers\":[{\"id\":\"9d05730e-831d-471d-ad56-a1438ad45651\",\"type\":\"LinearAxis\"},{\"id\":\"162bc067-3c32-402e-b964-39aa31ce1d3e\",\"type\":\"Grid\"},{\"id\":\"43bf29f4-6b45-45c9-b84b-8aeb9452c0db\",\"type\":\"LinearAxis\"},{\"id\":\"3e158ead-0be2-473a-b2c3-4e4adc874172\",\"type\":\"Grid\"},{\"id\":\"fc0658c2-2e12-4c9a-98a2-b86c5df14a7e\",\"type\":\"GlyphRenderer\"}],\"title\":{\"id\":\"bfaf161b-5c7e-47d8-ab04-57d9b4bbd929\",\"type\":\"Title\"},\"toolbar\":{\"id\":\"68a2240e-3bb1-40ca-b4b3-c50b83a72229\",\"type\":\"Toolbar\"},\"x_range\":{\"id\":\"c54e1e36-fbcc-43e0-aa53-d0f66a4b17ef\",\"type\":\"DataRange1d\"},\"x_scale\":{\"id\":\"1ac0ef3d-5434-4101-81f3-485d9101e57f\",\"type\":\"LinearScale\"},\"y_range\":{\"id\":\"93145a46-16d3-4b76-99fc-34dbfeed4501\",\"type\":\"DataRange1d\"},\"y_scale\":{\"id\":\"0fa366a8-c4d0-422b-a02c-b6bae2c8c1a1\",\"type\":\"LinearScale\"}},\"id\":\"eaf9d1b2-40f6-4e5b-9a82-505ea79a66b5\",\"subtype\":\"Figure\",\"type\":\"Plot\"},{\"attributes\":{},\"id\":\"9a12ab97-c2ba-46b3-b6a0-2f6066ce4469\",\"type\":\"BasicTickFormatter\"},{\"attributes\":{\"source\":{\"id\":\"093bf93c-3dbe-4109-8b7b-b4da7d837455\",\"type\":\"ColumnDataSource\"}},\"id\":\"309e6ec0-fb5b-4b61-bcee-8511cd916a2b\",\"type\":\"CDSView\"},{\"attributes\":{},\"id\":\"0d9547d7-e622-416e-942e-cda1af87d963\",\"type\":\"BasicTicker\"},{\"attributes\":{\"bottom\":{\"value\":0},\"fill_alpha\":{\"value\":0.5},\"fill_color\":{\"value\":\"navy\"},\"left\":{\"field\":\"left\"},\"line_alpha\":{\"value\":0.5},\"line_color\":{\"value\":\"white\"},\"right\":{\"field\":\"right\"},\"top\":{\"field\":\"top\"}},\"id\":\"aef2a6b7-bc8d-401b-8de3-0c5b6f1af900\",\"type\":\"Quad\"},{\"attributes\":{},\"id\":\"1ac0ef3d-5434-4101-81f3-485d9101e57f\",\"type\":\"LinearScale\"},{\"attributes\":{\"active_drag\":\"auto\",\"active_inspect\":\"auto\",\"active_multi\":null,\"active_scroll\":\"auto\",\"active_tap\":\"auto\"},\"id\":\"68a2240e-3bb1-40ca-b4b3-c50b83a72229\",\"type\":\"Toolbar\"},{\"attributes\":{\"callback\":null,\"data\":{\"left\":{\"__ndarray__\":\"AAAAAAAAFEA+CtejcD0jQHsUrkfheixAXI/C9SjcMkB7FK5H4Xo3QJqZmZmZGTxAXI/C9ShcQEDsUbgehatCQHsUrkfh+kRACtejcD1KR0CamZmZmZlJQClcj8L16EtAuB6F61E4TkCkcD0K10NQQOxRuB6Fa1FAMzMzMzOTUkB7FK5H4bpTQMP1KFyP4lRACtejcD0KVkBSuB6F6zFXQJqZmZmZWVhA4XoUrkeBWUApXI/C9ahaQHE9Ctej0FtAuB6F61H4XEAAAAAAACBeQEjhehSuR19ASOF6FK43YEDsUbgehctgQI/C9ShcX2FAMzMzMzPzYUDXo3A9CodiQHsUrkfhGmNAH4XrUbiuY0DD9Shcj0JkQGdmZmZm1mRACtejcD1qZUCuR+F6FP5lQFK4HoXrkWZA9ihcj8IlZ0CamZmZmblnQD4K16NwTWhA4XoUrkfhaECF61G4HnVpQClcj8L1CGpAzczMzMycakBxPQrXozBrQBWuR+F6xGtAuB6F61FYbEBcj8L1KOxsQA==\",\"dtype\":\"float64\",\"shape\":[50]},\"right\":{\"__ndarray__\":\"PgrXo3A9I0B7FK5H4XosQFyPwvUo3DJAexSuR+F6N0CamZmZmRk8QFyPwvUoXEBA7FG4HoWrQkB7FK5H4fpEQArXo3A9SkdAmpmZmZmZSUApXI/C9ehLQLgehetROE5ApHA9CtdDUEDsUbgehWtRQDMzMzMzk1JAexSuR+G6U0DD9Shcj+JUQArXo3A9ClZAUrgehesxV0CamZmZmVlYQOF6FK5HgVlAKVyPwvWoWkBxPQrXo9BbQLgehetR+FxAAAAAAAAgXkBI4XoUrkdfQEjhehSuN2BA7FG4HoXLYECPwvUoXF9hQDMzMzMz82FA16NwPQqHYkB7FK5H4RpjQB+F61G4rmNAw/UoXI9CZEBnZmZmZtZkQArXo3A9amVArkfhehT+ZUBSuB6F65FmQPYoXI/CJWdAmpmZmZm5Z0A+CtejcE1oQOF6FK5H4WhAhetRuB51aUApXI/C9QhqQM3MzMzMnGpAcT0K16Mwa0AVrkfhesRrQLgehetRWGxAXI/C9SjsbEAAAAAAAIBtQA==\",\"dtype\":\"float64\",\"shape\":[50]},\"top\":[256,218,171,216,156,124,127,81,100,86,60,69,51,34,27,36,33,27,17,11,15,7,10,7,9,6,5,9,3,7,1,3,2,2,2,1,0,1,2,0,1,2,1,1,1,0,0,0,1,1]},\"selected\":{\"id\":\"72bc2c29-e485-4dad-8324-447d741f2b93\",\"type\":\"Selection\"},\"selection_policy\":{\"id\":\"2e5d498a-e337-4a4d-8cfe-92a5fe63482f\",\"type\":\"UnionRenderers\"}},\"id\":\"093bf93c-3dbe-4109-8b7b-b4da7d837455\",\"type\":\"ColumnDataSource\"},{\"attributes\":{\"callback\":null,\"start\":0},\"id\":\"93145a46-16d3-4b76-99fc-34dbfeed4501\",\"type\":\"DataRange1d\"},{\"attributes\":{},\"id\":\"97c746b7-710c-404c-9c45-38af581c471f\",\"type\":\"BasicTickFormatter\"},{\"attributes\":{\"bottom\":{\"value\":0},\"fill_alpha\":{\"value\":0.1},\"fill_color\":{\"value\":\"#1f77b4\"},\"left\":{\"field\":\"left\"},\"line_alpha\":{\"value\":0.1},\"line_color\":{\"value\":\"#1f77b4\"},\"right\":{\"field\":\"right\"},\"top\":{\"field\":\"top\"}},\"id\":\"bcdcf197-9985-4092-ab1f-512af9f804bc\",\"type\":\"Quad\"},{\"attributes\":{\"plot\":{\"id\":\"eaf9d1b2-40f6-4e5b-9a82-505ea79a66b5\",\"subtype\":\"Figure\",\"type\":\"Plot\"},\"ticker\":{\"id\":\"50d09f9a-86ce-47e8-9488-457462105acd\",\"type\":\"BasicTicker\"}},\"id\":\"162bc067-3c32-402e-b964-39aa31ce1d3e\",\"type\":\"Grid\"},{\"attributes\":{\"axis_label\":\"Number of tosses to reach endgame\",\"formatter\":{\"id\":\"9a12ab97-c2ba-46b3-b6a0-2f6066ce4469\",\"type\":\"BasicTickFormatter\"},\"plot\":{\"id\":\"eaf9d1b2-40f6-4e5b-9a82-505ea79a66b5\",\"subtype\":\"Figure\",\"type\":\"Plot\"},\"ticker\":{\"id\":\"50d09f9a-86ce-47e8-9488-457462105acd\",\"type\":\"BasicTicker\"}},\"id\":\"9d05730e-831d-471d-ad56-a1438ad45651\",\"type\":\"LinearAxis\"},{\"attributes\":{},\"id\":\"0fa366a8-c4d0-422b-a02c-b6bae2c8c1a1\",\"type\":\"LinearScale\"},{\"attributes\":{},\"id\":\"72bc2c29-e485-4dad-8324-447d741f2b93\",\"type\":\"Selection\"},{\"attributes\":{\"axis_label\":\"counts\",\"formatter\":{\"id\":\"97c746b7-710c-404c-9c45-38af581c471f\",\"type\":\"BasicTickFormatter\"},\"plot\":{\"id\":\"eaf9d1b2-40f6-4e5b-9a82-505ea79a66b5\",\"subtype\":\"Figure\",\"type\":\"Plot\"},\"ticker\":{\"id\":\"0d9547d7-e622-416e-942e-cda1af87d963\",\"type\":\"BasicTicker\"}},\"id\":\"43bf29f4-6b45-45c9-b84b-8aeb9452c0db\",\"type\":\"LinearAxis\"},{\"attributes\":{},\"id\":\"50d09f9a-86ce-47e8-9488-457462105acd\",\"type\":\"BasicTicker\"},{\"attributes\":{\"dimension\":1,\"plot\":{\"id\":\"eaf9d1b2-40f6-4e5b-9a82-505ea79a66b5\",\"subtype\":\"Figure\",\"type\":\"Plot\"},\"ticker\":{\"id\":\"0d9547d7-e622-416e-942e-cda1af87d963\",\"type\":\"BasicTicker\"}},\"id\":\"3e158ead-0be2-473a-b2c3-4e4adc874172\",\"type\":\"Grid\"},{\"attributes\":{},\"id\":\"2e5d498a-e337-4a4d-8cfe-92a5fe63482f\",\"type\":\"UnionRenderers\"},{\"attributes\":{\"callback\":null},\"id\":\"c54e1e36-fbcc-43e0-aa53-d0f66a4b17ef\",\"type\":\"DataRange1d\"},{\"attributes\":{\"plot\":null,\"text\":\"2000 games with endgame HTHHT\"},\"id\":\"bfaf161b-5c7e-47d8-ab04-57d9b4bbd929\",\"type\":\"Title\"},{\"attributes\":{\"data_source\":{\"id\":\"093bf93c-3dbe-4109-8b7b-b4da7d837455\",\"type\":\"ColumnDataSource\"},\"glyph\":{\"id\":\"aef2a6b7-bc8d-401b-8de3-0c5b6f1af900\",\"type\":\"Quad\"},\"hover_glyph\":null,\"muted_glyph\":null,\"nonselection_glyph\":{\"id\":\"bcdcf197-9985-4092-ab1f-512af9f804bc\",\"type\":\"Quad\"},\"selection_glyph\":null,\"view\":{\"id\":\"309e6ec0-fb5b-4b61-bcee-8511cd916a2b\",\"type\":\"CDSView\"}},\"id\":\"fc0658c2-2e12-4c9a-98a2-b86c5df14a7e\",\"type\":\"GlyphRenderer\"}],\"root_ids\":[\"eaf9d1b2-40f6-4e5b-9a82-505ea79a66b5\"]},\"title\":\"Bokeh Application\",\"version\":\"0.13.0\"}};\n",
       "  var render_items = [{\"docid\":\"a3039399-908b-4a8a-8d0b-5af9d21f3a5a\",\"roots\":{\"eaf9d1b2-40f6-4e5b-9a82-505ea79a66b5\":\"46a5657b-ce65-467f-ae8d-09fb7fd61e5a\"}}];\n",
       "  root.Bokeh.embed.embed_items_notebook(docs_json, render_items);\n",
       "\n",
       "  }\n",
       "  if (root.Bokeh !== undefined) {\n",
       "    embed_document(root);\n",
       "  } else {\n",
       "    var attempts = 0;\n",
       "    var timer = setInterval(function(root) {\n",
       "      if (root.Bokeh !== undefined) {\n",
       "        embed_document(root);\n",
       "        clearInterval(timer);\n",
       "      }\n",
       "      attempts++;\n",
       "      if (attempts > 100) {\n",
       "        console.log(\"Bokeh: ERROR: Unable to run BokehJS code because BokehJS library is missing\")\n",
       "        clearInterval(timer);\n",
       "      }\n",
       "    }, 10, root)\n",
       "  }\n",
       "})(window);"
      ],
      "application/vnd.bokehjs_exec.v0+json": ""
     },
     "metadata": {
      "application/vnd.bokehjs_exec.v0+json": {
       "id": "eaf9d1b2-40f6-4e5b-9a82-505ea79a66b5"
      }
     },
     "output_type": "display_data"
    }
   ],
   "source": [
    "# Example of running 2000 games with the endgame sequence HTHHT\n",
    "c3 = CoinToss(2000, 'HTHHT')\n",
    "c3.run()\n",
    "c3.plot_counts()"
   ]
  },
  {
   "cell_type": "code",
   "execution_count": 180,
   "metadata": {},
   "outputs": [
    {
     "name": "stdout",
     "output_type": "stream",
     "text": [
      "Average number of tosses to reach endgame =  62.737\n"
     ]
    },
    {
     "data": {
      "text/html": [
       "\n",
       "\n",
       "\n",
       "\n",
       "\n",
       "\n",
       "  <div class=\"bk-root\" id=\"45e77c2b-4149-47f5-ba94-046709e8a00f\"></div>\n"
      ]
     },
     "metadata": {},
     "output_type": "display_data"
    },
    {
     "data": {
      "application/javascript": [
       "(function(root) {\n",
       "  function embed_document(root) {\n",
       "    \n",
       "  var docs_json = {\"f41dd1d0-afc6-4657-a3fa-f2b6929ececa\":{\"roots\":{\"references\":[{\"attributes\":{},\"id\":\"adff9f9b-b6d8-4e45-9706-01a5f28035d4\",\"type\":\"UnionRenderers\"},{\"attributes\":{\"axis_label\":\"counts\",\"formatter\":{\"id\":\"4bb7f0ba-1bc9-4014-a64c-201e55c9ff62\",\"type\":\"BasicTickFormatter\"},\"plot\":{\"id\":\"8a44c936-1df6-4621-8ce3-72d8a50787ec\",\"subtype\":\"Figure\",\"type\":\"Plot\"},\"ticker\":{\"id\":\"2c8b3eaf-ad9a-4d5c-a656-641da7c82478\",\"type\":\"BasicTicker\"}},\"id\":\"5fe76e77-9d5d-4d41-b6e2-0d07f07dda5b\",\"type\":\"LinearAxis\"},{\"attributes\":{\"plot\":null,\"text\":\"2000 games with endgame HHHHH\"},\"id\":\"d4c1f548-0a9e-4407-badb-a2488ac55aa9\",\"type\":\"Title\"},{\"attributes\":{\"bottom\":{\"value\":0},\"fill_alpha\":{\"value\":0.1},\"fill_color\":{\"value\":\"#1f77b4\"},\"left\":{\"field\":\"left\"},\"line_alpha\":{\"value\":0.1},\"line_color\":{\"value\":\"#1f77b4\"},\"right\":{\"field\":\"right\"},\"top\":{\"field\":\"top\"}},\"id\":\"7bb089b0-7086-4202-8a69-976655115aaa\",\"type\":\"Quad\"},{\"attributes\":{\"dimension\":1,\"plot\":{\"id\":\"8a44c936-1df6-4621-8ce3-72d8a50787ec\",\"subtype\":\"Figure\",\"type\":\"Plot\"},\"ticker\":{\"id\":\"2c8b3eaf-ad9a-4d5c-a656-641da7c82478\",\"type\":\"BasicTicker\"}},\"id\":\"1bda57a9-1461-4be8-b1c8-7afbd2706e1d\",\"type\":\"Grid\"},{\"attributes\":{\"axis_label\":\"Number of tosses to reach endgame\",\"formatter\":{\"id\":\"da812b73-6c25-4e87-a7e1-1e5e7bcc4353\",\"type\":\"BasicTickFormatter\"},\"plot\":{\"id\":\"8a44c936-1df6-4621-8ce3-72d8a50787ec\",\"subtype\":\"Figure\",\"type\":\"Plot\"},\"ticker\":{\"id\":\"ce2363a1-87d4-4607-a873-c8eef3073f48\",\"type\":\"BasicTicker\"}},\"id\":\"a1f182ee-ffa5-4585-8ca4-73ad5df1ea05\",\"type\":\"LinearAxis\"},{\"attributes\":{},\"id\":\"203dfcd5-4ddb-4ede-8d77-e0e52dd3ad83\",\"type\":\"LinearScale\"},{\"attributes\":{},\"id\":\"08441044-6756-4dfe-bb74-5d7a433f2077\",\"type\":\"Selection\"},{\"attributes\":{},\"id\":\"da812b73-6c25-4e87-a7e1-1e5e7bcc4353\",\"type\":\"BasicTickFormatter\"},{\"attributes\":{},\"id\":\"2c8b3eaf-ad9a-4d5c-a656-641da7c82478\",\"type\":\"BasicTicker\"},{\"attributes\":{\"background_fill_color\":{\"value\":\"#fafafa\"},\"below\":[{\"id\":\"a1f182ee-ffa5-4585-8ca4-73ad5df1ea05\",\"type\":\"LinearAxis\"}],\"left\":[{\"id\":\"5fe76e77-9d5d-4d41-b6e2-0d07f07dda5b\",\"type\":\"LinearAxis\"}],\"renderers\":[{\"id\":\"a1f182ee-ffa5-4585-8ca4-73ad5df1ea05\",\"type\":\"LinearAxis\"},{\"id\":\"d808f478-99b3-4d4c-8162-777d37626008\",\"type\":\"Grid\"},{\"id\":\"5fe76e77-9d5d-4d41-b6e2-0d07f07dda5b\",\"type\":\"LinearAxis\"},{\"id\":\"1bda57a9-1461-4be8-b1c8-7afbd2706e1d\",\"type\":\"Grid\"},{\"id\":\"e97d2e81-fc71-4792-bd8a-b4d1eb3252c6\",\"type\":\"GlyphRenderer\"}],\"title\":{\"id\":\"d4c1f548-0a9e-4407-badb-a2488ac55aa9\",\"type\":\"Title\"},\"toolbar\":{\"id\":\"57f3f71e-fa0b-41ad-9c48-c6c707011ddc\",\"type\":\"Toolbar\"},\"x_range\":{\"id\":\"a7911d8d-6e0e-42df-ac7e-ff90fcd3f263\",\"type\":\"DataRange1d\"},\"x_scale\":{\"id\":\"96c121c9-4454-4a03-982e-41abf06d0a5a\",\"type\":\"LinearScale\"},\"y_range\":{\"id\":\"11d7cf55-1d91-402a-8a8c-24b130243611\",\"type\":\"DataRange1d\"},\"y_scale\":{\"id\":\"203dfcd5-4ddb-4ede-8d77-e0e52dd3ad83\",\"type\":\"LinearScale\"}},\"id\":\"8a44c936-1df6-4621-8ce3-72d8a50787ec\",\"subtype\":\"Figure\",\"type\":\"Plot\"},{\"attributes\":{\"data_source\":{\"id\":\"2b918e22-2585-4c02-aa54-7ff02e90a745\",\"type\":\"ColumnDataSource\"},\"glyph\":{\"id\":\"432ab5e2-9bd3-43f8-8dab-dbc5e30e123f\",\"type\":\"Quad\"},\"hover_glyph\":null,\"muted_glyph\":null,\"nonselection_glyph\":{\"id\":\"7bb089b0-7086-4202-8a69-976655115aaa\",\"type\":\"Quad\"},\"selection_glyph\":null,\"view\":{\"id\":\"4304bce3-adec-41e0-bc05-fc639b332902\",\"type\":\"CDSView\"}},\"id\":\"e97d2e81-fc71-4792-bd8a-b4d1eb3252c6\",\"type\":\"GlyphRenderer\"},{\"attributes\":{},\"id\":\"ce2363a1-87d4-4607-a873-c8eef3073f48\",\"type\":\"BasicTicker\"},{\"attributes\":{\"source\":{\"id\":\"2b918e22-2585-4c02-aa54-7ff02e90a745\",\"type\":\"ColumnDataSource\"}},\"id\":\"4304bce3-adec-41e0-bc05-fc639b332902\",\"type\":\"CDSView\"},{\"attributes\":{\"callback\":null,\"start\":0},\"id\":\"11d7cf55-1d91-402a-8a8c-24b130243611\",\"type\":\"DataRange1d\"},{\"attributes\":{\"active_drag\":\"auto\",\"active_inspect\":\"auto\",\"active_multi\":null,\"active_scroll\":\"auto\",\"active_tap\":\"auto\"},\"id\":\"57f3f71e-fa0b-41ad-9c48-c6c707011ddc\",\"type\":\"Toolbar\"},{\"attributes\":{\"bottom\":{\"value\":0},\"fill_alpha\":{\"value\":0.5},\"fill_color\":{\"value\":\"navy\"},\"left\":{\"field\":\"left\"},\"line_alpha\":{\"value\":0.5},\"line_color\":{\"value\":\"white\"},\"right\":{\"field\":\"right\"},\"top\":{\"field\":\"top\"}},\"id\":\"432ab5e2-9bd3-43f8-8dab-dbc5e30e123f\",\"type\":\"Quad\"},{\"attributes\":{\"callback\":null,\"data\":{\"left\":{\"__ndarray__\":\"AAAAAAAAFEApXI/C9SgqQClcj8L1KDVAPgrXo3A9PUApXI/C9ahCQDMzMzMzs0ZAPgrXo3C9SkBI4XoUrsdOQClcj8L1aFFArkfhehRuU0AzMzMzM3NVQLgehetReFdAPgrXo3B9WUDD9Shcj4JbQEjhehSuh11AzczMzMyMX0ApXI/C9chgQOxRuB6Fy2FArkfhehTOYkBxPQrXo9BjQDMzMzMz02RA9ihcj8LVZUC4HoXrUdhmQHsUrkfh2mdAPgrXo3DdaEAAAAAAAOBpQMP1KFyP4mpAhetRuB7la0BI4XoUrudsQArXo3A96m1AzczMzMzsbkCPwvUoXO9vQClcj8L1eHBACtejcD36cEDsUbgehXtxQM3MzMzM/HFArkfhehR+ckCPwvUoXP9yQHE9CtejgHNAUrgehesBdEAzMzMzM4N0QBWuR+F6BHVA9ihcj8KFdUDXo3A9Cgd2QLgehetRiHZAmpmZmZkJd0B7FK5H4Yp3QFyPwvUoDHhAPgrXo3CNeEAfhetRuA55QA==\",\"dtype\":\"float64\",\"shape\":[50]},\"right\":{\"__ndarray__\":\"KVyPwvUoKkApXI/C9Sg1QD4K16NwPT1AKVyPwvWoQkAzMzMzM7NGQD4K16NwvUpASOF6FK7HTkApXI/C9WhRQK5H4XoUblNAMzMzMzNzVUC4HoXrUXhXQD4K16NwfVlAw/UoXI+CW0BI4XoUroddQM3MzMzMjF9AKVyPwvXIYEDsUbgehcthQK5H4XoUzmJAcT0K16PQY0AzMzMzM9NkQPYoXI/C1WVAuB6F61HYZkB7FK5H4dpnQD4K16Nw3WhAAAAAAADgaUDD9Shcj+JqQIXrUbge5WtASOF6FK7nbEAK16NwPeptQM3MzMzM7G5Aj8L1KFzvb0ApXI/C9XhwQArXo3A9+nBA7FG4HoV7cUDNzMzMzPxxQK5H4XoUfnJAj8L1KFz/ckBxPQrXo4BzQFK4HoXrAXRAMzMzMzODdEAVrkfhegR1QPYoXI/ChXVA16NwPQoHdkC4HoXrUYh2QJqZmZmZCXdAexSuR+GKd0Bcj8L1KAx4QD4K16NwjXhAH4XrUbgOeUAAAAAAAJB5QA==\",\"dtype\":\"float64\",\"shape\":[50]},\"top\":[293,231,202,141,126,129,113,102,83,76,54,64,53,52,30,33,26,21,22,20,14,17,15,6,11,10,12,10,4,4,5,3,4,1,3,3,3,1,0,0,0,0,1,0,0,0,0,0,1,1]},\"selected\":{\"id\":\"08441044-6756-4dfe-bb74-5d7a433f2077\",\"type\":\"Selection\"},\"selection_policy\":{\"id\":\"adff9f9b-b6d8-4e45-9706-01a5f28035d4\",\"type\":\"UnionRenderers\"}},\"id\":\"2b918e22-2585-4c02-aa54-7ff02e90a745\",\"type\":\"ColumnDataSource\"},{\"attributes\":{},\"id\":\"4bb7f0ba-1bc9-4014-a64c-201e55c9ff62\",\"type\":\"BasicTickFormatter\"},{\"attributes\":{\"callback\":null},\"id\":\"a7911d8d-6e0e-42df-ac7e-ff90fcd3f263\",\"type\":\"DataRange1d\"},{\"attributes\":{},\"id\":\"96c121c9-4454-4a03-982e-41abf06d0a5a\",\"type\":\"LinearScale\"},{\"attributes\":{\"plot\":{\"id\":\"8a44c936-1df6-4621-8ce3-72d8a50787ec\",\"subtype\":\"Figure\",\"type\":\"Plot\"},\"ticker\":{\"id\":\"ce2363a1-87d4-4607-a873-c8eef3073f48\",\"type\":\"BasicTicker\"}},\"id\":\"d808f478-99b3-4d4c-8162-777d37626008\",\"type\":\"Grid\"}],\"root_ids\":[\"8a44c936-1df6-4621-8ce3-72d8a50787ec\"]},\"title\":\"Bokeh Application\",\"version\":\"0.13.0\"}};\n",
       "  var render_items = [{\"docid\":\"f41dd1d0-afc6-4657-a3fa-f2b6929ececa\",\"roots\":{\"8a44c936-1df6-4621-8ce3-72d8a50787ec\":\"45e77c2b-4149-47f5-ba94-046709e8a00f\"}}];\n",
       "  root.Bokeh.embed.embed_items_notebook(docs_json, render_items);\n",
       "\n",
       "  }\n",
       "  if (root.Bokeh !== undefined) {\n",
       "    embed_document(root);\n",
       "  } else {\n",
       "    var attempts = 0;\n",
       "    var timer = setInterval(function(root) {\n",
       "      if (root.Bokeh !== undefined) {\n",
       "        embed_document(root);\n",
       "        clearInterval(timer);\n",
       "      }\n",
       "      attempts++;\n",
       "      if (attempts > 100) {\n",
       "        console.log(\"Bokeh: ERROR: Unable to run BokehJS code because BokehJS library is missing\")\n",
       "        clearInterval(timer);\n",
       "      }\n",
       "    }, 10, root)\n",
       "  }\n",
       "})(window);"
      ],
      "application/vnd.bokehjs_exec.v0+json": ""
     },
     "metadata": {
      "application/vnd.bokehjs_exec.v0+json": {
       "id": "8a44c936-1df6-4621-8ce3-72d8a50787ec"
      }
     },
     "output_type": "display_data"
    }
   ],
   "source": [
    "# Example of running 2000 games with the endgame sequence HHHHH\n",
    "c3 = CoinToss(2000, 'HHHHH')\n",
    "c3.run()\n",
    "c3.plot_counts()"
   ]
  },
  {
   "cell_type": "code",
   "execution_count": null,
   "metadata": {},
   "outputs": [],
   "source": []
  }
 ],
 "metadata": {
  "kernelspec": {
   "display_name": "Python 3",
   "language": "python",
   "name": "python3"
  },
  "language_info": {
   "codemirror_mode": {
    "name": "ipython",
    "version": 3
   },
   "file_extension": ".py",
   "mimetype": "text/x-python",
   "name": "python",
   "nbconvert_exporter": "python",
   "pygments_lexer": "ipython3",
   "version": "3.6.2"
  }
 },
 "nbformat": 4,
 "nbformat_minor": 2
}
