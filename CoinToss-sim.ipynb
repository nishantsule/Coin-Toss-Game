{
 "cells": [
  {
   "cell_type": "markdown",
   "metadata": {},
   "source": [
    "## Coin Toss Game"
   ]
  },
  {
   "cell_type": "markdown",
   "metadata": {},
   "source": [
    "This notebook simulates a coin tossing game where the player gets to pick a string of head/tail occurances as the endgame. A coin is tossed until the chosen sequence of head/tail occurs. When the endgame sequence occurs the game ends. The objective is that for a given length of the endgame what is the sequence of head/tail occurances that will be end the game with the least number of tosses. This is simulated by running a given number of coin toss games with the chosen endgame sequence. The avarage number of tosses required to win is computed and its distribution is plotted."
   ]
  },
  {
   "cell_type": "code",
   "execution_count": null,
   "metadata": {},
   "outputs": [],
   "source": [
    "# Import useful packages\n",
    "import numpy as np\n",
    "from collections import deque\n",
    "from bokeh.io import push_notebook, show, output_notebook\n",
    "from bokeh.plotting import figure \n",
    "output_notebook()"
   ]
  },
  {
   "cell_type": "code",
   "execution_count": 169,
   "metadata": {},
   "outputs": [],
   "source": [
    "# Defines a class for the coin toss game\n",
    "class CoinToss:\n",
    "    # Initializing variables\n",
    "    def __init__(self, number_of_games, endgame):\n",
    "        self.numgames = number_of_games\n",
    "        self.endgamelen = len(endgame)\n",
    "        self.endgame = endgame\n",
    "        self.reset()\n",
    "    # Reset all the counters\n",
    "    def reset(self):\n",
    "        self.counter = np.zeros(self.numgames)\n",
    "    # Run the coin toss game\n",
    "    def run(self):\n",
    "        curr_seq = deque('', self.endgamelen)\n",
    "        endgame_reached = False\n",
    "        for i in range(self.numgames):\n",
    "            while not endgame_reached:\n",
    "                self.counter[i] += 1\n",
    "                if np.random.random_sample() < 0.5:\n",
    "                    curr_seq.append('H')\n",
    "                else:\n",
    "                    curr_seq.append('T')\n",
    "                check = sum(cs == eg for (cs, eg) in zip(curr_seq, self.endgame))\n",
    "                if check == self.endgamelen:\n",
    "                    endgame_reached = True\n",
    "                    curr_seq.clear()\n",
    "            endgame_reached = False\n",
    "        print('Average number of tosses to win = ', np.mean(self.counter))\n",
    "    # Plot the distribution of number of tosses required to end the game\n",
    "    def plot_counts(self):\n",
    "        hist, edges = np.histogram(self.counter, density=False, bins=50)\n",
    "        p = figure(title='{} games with endgame {}'.format(self.numgames, self.endgame), \n",
    "                   tools='', background_fill_color='#fafafa')\n",
    "        p.quad(top=hist, bottom=0, left=edges[:-1], right=edges[1:], fill_color=\"navy\", line_color=\"white\", alpha=0.5)\n",
    "        p.y_range.start = 0\n",
    "        p.xaxis.axis_label = 'Number of tosses to reach endgame'\n",
    "        p.yaxis.axis_label = 'counts'\n",
    "        show(p)"
   ]
  },
  {
   "cell_type": "code",
   "execution_count": 170,
   "metadata": {},
   "outputs": [
    {
     "name": "stdout",
     "output_type": "stream",
     "text": [
      "Average number of tosses to win =  12.935\n"
     ]
    },
    {
     "data": {
      "text/html": [
       "\n",
       "\n",
       "\n",
       "\n",
       "\n",
       "\n",
       "  <div class=\"bk-root\" id=\"87bf0650-1d18-47f7-ba01-c4436890cffb\"></div>\n"
      ]
     },
     "metadata": {},
     "output_type": "display_data"
    },
    {
     "data": {
      "application/javascript": [
       "(function(root) {\n",
       "  function embed_document(root) {\n",
       "    \n",
       "  var docs_json = {\"7cb40060-e551-427e-ac58-8943393cf89e\":{\"roots\":{\"references\":[{\"attributes\":{\"data_source\":{\"id\":\"7faa57d8-3ed9-4f98-a2d0-77a969f94575\",\"type\":\"ColumnDataSource\"},\"glyph\":{\"id\":\"b9cdb7f4-6966-4acc-959a-fcb766a0a206\",\"type\":\"Quad\"},\"hover_glyph\":null,\"muted_glyph\":null,\"nonselection_glyph\":{\"id\":\"87aa78aa-9e31-4fe1-a906-7ffb50838370\",\"type\":\"Quad\"},\"selection_glyph\":null,\"view\":{\"id\":\"85713ede-50c2-424b-a5ee-514b17c6d165\",\"type\":\"CDSView\"}},\"id\":\"bf0c3b68-bdb1-4241-8dd1-d159f364a20d\",\"type\":\"GlyphRenderer\"},{\"attributes\":{},\"id\":\"ee95e3bd-0c0c-4ea7-bff6-9393475b2bf8\",\"type\":\"LinearScale\"},{\"attributes\":{\"background_fill_color\":{\"field\":\"\"},\"below\":[{\"id\":\"42f35ad2-0534-4de2-b319-f7ead5710961\",\"type\":\"LinearAxis\"}],\"left\":[{\"id\":\"0ff9ea19-39db-45e3-8a8c-6deb6dc9a1e5\",\"type\":\"LinearAxis\"}],\"renderers\":[{\"id\":\"42f35ad2-0534-4de2-b319-f7ead5710961\",\"type\":\"LinearAxis\"},{\"id\":\"2aaaf9dc-bb18-4170-8039-a247906a9608\",\"type\":\"Grid\"},{\"id\":\"0ff9ea19-39db-45e3-8a8c-6deb6dc9a1e5\",\"type\":\"LinearAxis\"},{\"id\":\"8dbfc932-5654-4fdf-a3ea-944792b8769a\",\"type\":\"Grid\"},{\"id\":\"bf0c3b68-bdb1-4241-8dd1-d159f364a20d\",\"type\":\"GlyphRenderer\"}],\"title\":{\"id\":\"c962d6ae-eaa3-421b-846d-5d8c20bf821d\",\"type\":\"Title\"},\"toolbar\":{\"id\":\"767c6780-689f-4e51-a736-fb2080c50ae1\",\"type\":\"Toolbar\"},\"x_range\":{\"id\":\"fc36d3ad-0771-4c6f-93f6-c05c3a8d2186\",\"type\":\"DataRange1d\"},\"x_scale\":{\"id\":\"ee95e3bd-0c0c-4ea7-bff6-9393475b2bf8\",\"type\":\"LinearScale\"},\"y_range\":{\"id\":\"739c8332-b25c-4177-9ba3-e6290bd995b7\",\"type\":\"DataRange1d\"},\"y_scale\":{\"id\":\"1c79bd51-136f-4218-b710-f61b00c044da\",\"type\":\"LinearScale\"}},\"id\":\"79aaa3e8-fb3e-4313-96ea-e1a60407dff1\",\"subtype\":\"Figure\",\"type\":\"Plot\"},{\"attributes\":{},\"id\":\"b9515b81-7a7b-405d-8ccd-db637d0b8f4a\",\"type\":\"BasicTicker\"},{\"attributes\":{\"bottom\":{\"value\":0},\"fill_alpha\":{\"value\":0.1},\"fill_color\":{\"value\":\"#1f77b4\"},\"left\":{\"field\":\"left\"},\"line_alpha\":{\"value\":0.1},\"line_color\":{\"value\":\"#1f77b4\"},\"right\":{\"field\":\"right\"},\"top\":{\"field\":\"top\"}},\"id\":\"87aa78aa-9e31-4fe1-a906-7ffb50838370\",\"type\":\"Quad\"},{\"attributes\":{\"active_drag\":\"auto\",\"active_inspect\":\"auto\",\"active_multi\":null,\"active_scroll\":\"auto\",\"active_tap\":\"auto\"},\"id\":\"767c6780-689f-4e51-a736-fb2080c50ae1\",\"type\":\"Toolbar\"},{\"attributes\":{},\"id\":\"e73bc354-fc6c-4599-91cb-b567588f47a9\",\"type\":\"BasicTicker\"},{\"attributes\":{\"axis_label\":\"Number of tosses to reach endgame\",\"formatter\":{\"id\":\"b694a834-e3fd-4ae1-924a-a5c676a024e1\",\"type\":\"BasicTickFormatter\"},\"plot\":{\"id\":\"79aaa3e8-fb3e-4313-96ea-e1a60407dff1\",\"subtype\":\"Figure\",\"type\":\"Plot\"},\"ticker\":{\"id\":\"e73bc354-fc6c-4599-91cb-b567588f47a9\",\"type\":\"BasicTicker\"}},\"id\":\"42f35ad2-0534-4de2-b319-f7ead5710961\",\"type\":\"LinearAxis\"},{\"attributes\":{\"dimension\":1,\"plot\":{\"id\":\"79aaa3e8-fb3e-4313-96ea-e1a60407dff1\",\"subtype\":\"Figure\",\"type\":\"Plot\"},\"ticker\":{\"id\":\"b9515b81-7a7b-405d-8ccd-db637d0b8f4a\",\"type\":\"BasicTicker\"}},\"id\":\"8dbfc932-5654-4fdf-a3ea-944792b8769a\",\"type\":\"Grid\"},{\"attributes\":{},\"id\":\"1c79bd51-136f-4218-b710-f61b00c044da\",\"type\":\"LinearScale\"},{\"attributes\":{\"callback\":null,\"data\":{\"left\":{\"__ndarray__\":\"AAAAAAAACEBmZmZmZmYQQM3MzMzMzBRANDMzMzMzGUCamZmZmZkdQAAAAAAAACFANDMzMzMzI0BnZmZmZmYlQJqZmZmZmSdAzczMzMzMKUAAAAAAAAAsQDQzMzMzMy5ANDMzMzMzMEDNzMzMzEwxQGdmZmZmZjJAAAAAAACAM0CamZmZmZk0QDQzMzMzszVAzczMzMzMNkBnZmZmZuY3QAAAAAAAADlAmpmZmZkZOkA0MzMzMzM7QM3MzMzMTDxAZ2ZmZmZmPUABAAAAAIA+QJqZmZmZmT9AmpmZmZlZQEBnZmZmZuZAQDQzMzMzc0FAAAAAAAAAQkDNzMzMzIxCQJqZmZmZGUNAZ2ZmZmamQ0A0MzMzMzNEQAAAAAAAwERAzczMzMxMRUCamZmZmdlFQGdmZmZmZkZANDMzMzPzRkAAAAAAAIBHQM3MzMzMDEhAmpmZmZmZSEBnZmZmZiZJQDQzMzMzs0lAAQAAAABASkDNzMzMzMxKQJqZmZmZWUtAZ2ZmZmbmS0A0MzMzM3NMQA==\",\"dtype\":\"float64\",\"shape\":[50]},\"right\":{\"__ndarray__\":\"ZmZmZmZmEEDNzMzMzMwUQDQzMzMzMxlAmpmZmZmZHUAAAAAAAAAhQDQzMzMzMyNAZ2ZmZmZmJUCamZmZmZknQM3MzMzMzClAAAAAAAAALEA0MzMzMzMuQDQzMzMzMzBAzczMzMxMMUBnZmZmZmYyQAAAAAAAgDNAmpmZmZmZNEA0MzMzM7M1QM3MzMzMzDZAZ2ZmZmbmN0AAAAAAAAA5QJqZmZmZGTpANDMzMzMzO0DNzMzMzEw8QGdmZmZmZj1AAQAAAACAPkCamZmZmZk/QJqZmZmZWUBAZ2ZmZmbmQEA0MzMzM3NBQAAAAAAAAEJAzczMzMyMQkCamZmZmRlDQGdmZmZmpkNANDMzMzMzREAAAAAAAMBEQM3MzMzMTEVAmpmZmZnZRUBnZmZmZmZGQDQzMzMz80ZAAAAAAACAR0DNzMzMzAxIQJqZmZmZmUhAZ2ZmZmYmSUA0MzMzM7NJQAEAAAAAQEpAzczMzMzMSkCamZmZmVlLQGdmZmZm5ktANDMzMzNzTEAAAAAAAABNQA==\",\"dtype\":\"float64\",\"shape\":[50]},\"top\":[36,14,14,10,10,8,12,13,9,8,12,4,4,4,4,4,4,1,1,1,7,4,0,3,1,1,0,2,0,0,2,0,0,0,0,0,0,0,1,0,3,0,0,1,0,0,0,0,0,2]},\"selected\":{\"id\":\"57e31240-fea0-468f-bae2-f8f00ddc34d7\",\"type\":\"Selection\"},\"selection_policy\":{\"id\":\"c402d783-3246-476d-a9ca-860dc434861f\",\"type\":\"UnionRenderers\"}},\"id\":\"7faa57d8-3ed9-4f98-a2d0-77a969f94575\",\"type\":\"ColumnDataSource\"},{\"attributes\":{\"axis_label\":\"counts\",\"formatter\":{\"id\":\"15783534-3606-4ded-af6a-956740c17ebe\",\"type\":\"BasicTickFormatter\"},\"plot\":{\"id\":\"79aaa3e8-fb3e-4313-96ea-e1a60407dff1\",\"subtype\":\"Figure\",\"type\":\"Plot\"},\"ticker\":{\"id\":\"b9515b81-7a7b-405d-8ccd-db637d0b8f4a\",\"type\":\"BasicTicker\"}},\"id\":\"0ff9ea19-39db-45e3-8a8c-6deb6dc9a1e5\",\"type\":\"LinearAxis\"},{\"attributes\":{},\"id\":\"57e31240-fea0-468f-bae2-f8f00ddc34d7\",\"type\":\"Selection\"},{\"attributes\":{\"callback\":null},\"id\":\"fc36d3ad-0771-4c6f-93f6-c05c3a8d2186\",\"type\":\"DataRange1d\"},{\"attributes\":{},\"id\":\"c402d783-3246-476d-a9ca-860dc434861f\",\"type\":\"UnionRenderers\"},{\"attributes\":{\"bottom\":{\"value\":0},\"fill_alpha\":{\"value\":0.5},\"fill_color\":{\"value\":\"navy\"},\"left\":{\"field\":\"left\"},\"line_alpha\":{\"value\":0.5},\"line_color\":{\"value\":\"white\"},\"right\":{\"field\":\"right\"},\"top\":{\"field\":\"top\"}},\"id\":\"b9cdb7f4-6966-4acc-959a-fcb766a0a206\",\"type\":\"Quad\"},{\"attributes\":{\"callback\":null,\"start\":0},\"id\":\"739c8332-b25c-4177-9ba3-e6290bd995b7\",\"type\":\"DataRange1d\"},{\"attributes\":{},\"id\":\"15783534-3606-4ded-af6a-956740c17ebe\",\"type\":\"BasicTickFormatter\"},{\"attributes\":{\"source\":{\"id\":\"7faa57d8-3ed9-4f98-a2d0-77a969f94575\",\"type\":\"ColumnDataSource\"}},\"id\":\"85713ede-50c2-424b-a5ee-514b17c6d165\",\"type\":\"CDSView\"},{\"attributes\":{\"plot\":{\"id\":\"79aaa3e8-fb3e-4313-96ea-e1a60407dff1\",\"subtype\":\"Figure\",\"type\":\"Plot\"},\"ticker\":{\"id\":\"e73bc354-fc6c-4599-91cb-b567588f47a9\",\"type\":\"BasicTicker\"}},\"id\":\"2aaaf9dc-bb18-4170-8039-a247906a9608\",\"type\":\"Grid\"},{\"attributes\":{},\"id\":\"b694a834-e3fd-4ae1-924a-a5c676a024e1\",\"type\":\"BasicTickFormatter\"},{\"attributes\":{\"plot\":null,\"text\":\"200 games with endgame TTT\"},\"id\":\"c962d6ae-eaa3-421b-846d-5d8c20bf821d\",\"type\":\"Title\"}],\"root_ids\":[\"79aaa3e8-fb3e-4313-96ea-e1a60407dff1\"]},\"title\":\"Bokeh Application\",\"version\":\"0.13.0\"}};\n",
       "  var render_items = [{\"docid\":\"7cb40060-e551-427e-ac58-8943393cf89e\",\"roots\":{\"79aaa3e8-fb3e-4313-96ea-e1a60407dff1\":\"87bf0650-1d18-47f7-ba01-c4436890cffb\"}}];\n",
       "  root.Bokeh.embed.embed_items_notebook(docs_json, render_items);\n",
       "\n",
       "  }\n",
       "  if (root.Bokeh !== undefined) {\n",
       "    embed_document(root);\n",
       "  } else {\n",
       "    var attempts = 0;\n",
       "    var timer = setInterval(function(root) {\n",
       "      if (root.Bokeh !== undefined) {\n",
       "        embed_document(root);\n",
       "        clearInterval(timer);\n",
       "      }\n",
       "      attempts++;\n",
       "      if (attempts > 100) {\n",
       "        console.log(\"Bokeh: ERROR: Unable to run BokehJS code because BokehJS library is missing\")\n",
       "        clearInterval(timer);\n",
       "      }\n",
       "    }, 10, root)\n",
       "  }\n",
       "})(window);"
      ],
      "application/vnd.bokehjs_exec.v0+json": ""
     },
     "metadata": {
      "application/vnd.bokehjs_exec.v0+json": {
       "id": "79aaa3e8-fb3e-4313-96ea-e1a60407dff1"
      }
     },
     "output_type": "display_data"
    }
   ],
   "source": [
    "# Example of running 200 games with the endgame sequence TTT\n",
    "c1 = CoinToss(200, 'TTT')\n",
    "c1.run()\n",
    "c1.plot_counts()"
   ]
  },
  {
   "cell_type": "code",
   "execution_count": 166,
   "metadata": {},
   "outputs": [
    {
     "name": "stdout",
     "output_type": "stream",
     "text": [
      "Average number of tosses to win =  9.195\n"
     ]
    },
    {
     "data": {
      "text/html": [
       "\n",
       "\n",
       "\n",
       "\n",
       "\n",
       "\n",
       "  <div class=\"bk-root\" id=\"613e1b09-ffcf-45cc-bf23-8aac1b967735\"></div>\n"
      ]
     },
     "metadata": {},
     "output_type": "display_data"
    },
    {
     "data": {
      "application/javascript": [
       "(function(root) {\n",
       "  function embed_document(root) {\n",
       "    \n",
       "  var docs_json = {\"0f925d76-db84-431e-bba1-30ea9fcb5d2b\":{\"roots\":{\"references\":[{\"attributes\":{\"plot\":{\"id\":\"994007b7-d6e4-4d73-8ecf-78039f922ab2\",\"subtype\":\"Figure\",\"type\":\"Plot\"},\"ticker\":{\"id\":\"7e4ce600-25ce-437f-8ba6-71e64d4bdf78\",\"type\":\"BasicTicker\"}},\"id\":\"df31c1b1-8792-46dc-96e1-b3c090f07320\",\"type\":\"Grid\"},{\"attributes\":{},\"id\":\"77fbfc57-ab2c-4175-b2c8-858bb079b58e\",\"type\":\"LinearScale\"},{\"attributes\":{\"callback\":null,\"data\":{\"left\":{\"__ndarray__\":\"AAAAAAAACEApXI/C9SgMQClcj8L1KBBAPgrXo3A9EkBSuB6F61EUQGZmZmZmZhZAexSuR+F6GECQwvUoXI8aQKRwPQrXoxxAuB6F61G4HkBmZmZmZmYgQHE9CtejcCFAexSuR+F6IkCF61G4HoUjQJDC9ShcjyRAmpmZmZmZJUCkcD0K16MmQK5H4XoUridAuB6F61G4KEDD9Shcj8IpQM3MzMzMzCpA16NwPQrXK0DiehSuR+EsQOxRuB6F6y1A9ihcj8L1LkAAAAAAAAAwQIXrUbgehTBACtejcD0KMUCQwvUoXI8xQBSuR+F6FDJAmpmZmZmZMkAfhetRuB4zQKRwPQrXozNAKVyPwvUoNECuR+F6FK40QDMzMzMzMzVAuB6F61G4NUA+CtejcD02QMP1KFyPwjZASOF6FK5HN0DNzMzMzMw3QFK4HoXrUThA16NwPQrXOEBcj8L1KFw5QOJ6FK5H4TlAZ2ZmZmZmOkDsUbgehes6QHE9CtejcDtA9ihcj8L1O0B7FK5H4Xo8QA==\",\"dtype\":\"float64\",\"shape\":[50]},\"right\":{\"__ndarray__\":\"KVyPwvUoDEApXI/C9SgQQD4K16NwPRJAUrgehetRFEBmZmZmZmYWQHsUrkfhehhAkML1KFyPGkCkcD0K16McQLgehetRuB5AZmZmZmZmIEBxPQrXo3AhQHsUrkfheiJAhetRuB6FI0CQwvUoXI8kQJqZmZmZmSVApHA9CtejJkCuR+F6FK4nQLgehetRuChAw/UoXI/CKUDNzMzMzMwqQNejcD0K1ytA4noUrkfhLEDsUbgehestQPYoXI/C9S5AAAAAAAAAMECF61G4HoUwQArXo3A9CjFAkML1KFyPMUAUrkfhehQyQJqZmZmZmTJAH4XrUbgeM0CkcD0K16MzQClcj8L1KDRArkfhehSuNEAzMzMzMzM1QLgehetRuDVAPgrXo3A9NkDD9Shcj8I2QEjhehSuRzdAzczMzMzMN0BSuB6F61E4QNejcD0K1zhAXI/C9ShcOUDiehSuR+E5QGdmZmZmZjpA7FG4HoXrOkBxPQrXo3A7QPYoXI/C9TtAexSuR+F6PEAAAAAAAAA9QA==\",\"dtype\":\"float64\",\"shape\":[50]},\"top\":[27,27,0,14,0,10,0,14,0,16,0,11,0,13,0,14,0,10,0,7,0,5,0,4,0,3,6,0,2,0,5,0,2,0,1,0,2,0,2,0,0,0,1,0,0,0,1,0,1,2]},\"selected\":{\"id\":\"6b64f2f2-1fec-426c-9c5b-6a472dd93923\",\"type\":\"Selection\"},\"selection_policy\":{\"id\":\"2b65ac78-4a97-4f44-8b63-15e5cdcd1f1b\",\"type\":\"UnionRenderers\"}},\"id\":\"3de6e8b5-3574-4c2f-b35c-759c5d76e576\",\"type\":\"ColumnDataSource\"},{\"attributes\":{\"dimension\":1,\"plot\":{\"id\":\"994007b7-d6e4-4d73-8ecf-78039f922ab2\",\"subtype\":\"Figure\",\"type\":\"Plot\"},\"ticker\":{\"id\":\"8264d22b-679c-4dce-beea-a51bb37245ae\",\"type\":\"BasicTicker\"}},\"id\":\"58786cac-5674-48b8-b83a-99f717014b02\",\"type\":\"Grid\"},{\"attributes\":{\"axis_label\":\"counts\",\"formatter\":{\"id\":\"2bf7780c-edb4-41cd-bd95-ba56953849e5\",\"type\":\"BasicTickFormatter\"},\"plot\":{\"id\":\"994007b7-d6e4-4d73-8ecf-78039f922ab2\",\"subtype\":\"Figure\",\"type\":\"Plot\"},\"ticker\":{\"id\":\"8264d22b-679c-4dce-beea-a51bb37245ae\",\"type\":\"BasicTicker\"}},\"id\":\"9ca1fdc3-dd60-497e-9a4a-c62897ea2032\",\"type\":\"LinearAxis\"},{\"attributes\":{},\"id\":\"79e32a9d-47e7-4415-afb9-f2a8ffac85c8\",\"type\":\"LinearScale\"},{\"attributes\":{\"callback\":null,\"start\":0},\"id\":\"1b8de9a1-e728-4404-aeee-9df76371fbcd\",\"type\":\"DataRange1d\"},{\"attributes\":{},\"id\":\"6b64f2f2-1fec-426c-9c5b-6a472dd93923\",\"type\":\"Selection\"},{\"attributes\":{\"axis_label\":\"Number of tosses to reach endgame\",\"formatter\":{\"id\":\"73f0b661-9dd2-4c3e-931c-6af6fcc01f4d\",\"type\":\"BasicTickFormatter\"},\"plot\":{\"id\":\"994007b7-d6e4-4d73-8ecf-78039f922ab2\",\"subtype\":\"Figure\",\"type\":\"Plot\"},\"ticker\":{\"id\":\"7e4ce600-25ce-437f-8ba6-71e64d4bdf78\",\"type\":\"BasicTicker\"}},\"id\":\"d3337425-a9fb-4156-b393-3b2fb351a10d\",\"type\":\"LinearAxis\"},{\"attributes\":{\"data_source\":{\"id\":\"3de6e8b5-3574-4c2f-b35c-759c5d76e576\",\"type\":\"ColumnDataSource\"},\"glyph\":{\"id\":\"e1630741-9d06-413c-8165-9de6a8ff8ac7\",\"type\":\"Quad\"},\"hover_glyph\":null,\"muted_glyph\":null,\"nonselection_glyph\":{\"id\":\"c2b82881-8b0a-476e-b81c-5ddee40ea41b\",\"type\":\"Quad\"},\"selection_glyph\":null,\"view\":{\"id\":\"d563a5b5-c8a2-46d5-8af8-37c704a7b7bf\",\"type\":\"CDSView\"}},\"id\":\"1edba464-694c-45f2-b955-3b48f6dfab04\",\"type\":\"GlyphRenderer\"},{\"attributes\":{\"plot\":null,\"text\":\"200 games with endgame THT\"},\"id\":\"e3f8c79b-752c-4401-b69e-f3188f730e6e\",\"type\":\"Title\"},{\"attributes\":{},\"id\":\"8264d22b-679c-4dce-beea-a51bb37245ae\",\"type\":\"BasicTicker\"},{\"attributes\":{},\"id\":\"2bf7780c-edb4-41cd-bd95-ba56953849e5\",\"type\":\"BasicTickFormatter\"},{\"attributes\":{\"active_drag\":\"auto\",\"active_inspect\":\"auto\",\"active_multi\":null,\"active_scroll\":\"auto\",\"active_tap\":\"auto\"},\"id\":\"e8a20410-0004-47aa-87ee-49c236922259\",\"type\":\"Toolbar\"},{\"attributes\":{},\"id\":\"7e4ce600-25ce-437f-8ba6-71e64d4bdf78\",\"type\":\"BasicTicker\"},{\"attributes\":{\"bottom\":{\"value\":0},\"fill_alpha\":{\"value\":0.5},\"fill_color\":{\"value\":\"navy\"},\"left\":{\"field\":\"left\"},\"line_alpha\":{\"value\":0.5},\"line_color\":{\"value\":\"white\"},\"right\":{\"field\":\"right\"},\"top\":{\"field\":\"top\"}},\"id\":\"e1630741-9d06-413c-8165-9de6a8ff8ac7\",\"type\":\"Quad\"},{\"attributes\":{\"background_fill_color\":{\"value\":\"#fafafa\"},\"below\":[{\"id\":\"d3337425-a9fb-4156-b393-3b2fb351a10d\",\"type\":\"LinearAxis\"}],\"left\":[{\"id\":\"9ca1fdc3-dd60-497e-9a4a-c62897ea2032\",\"type\":\"LinearAxis\"}],\"renderers\":[{\"id\":\"d3337425-a9fb-4156-b393-3b2fb351a10d\",\"type\":\"LinearAxis\"},{\"id\":\"df31c1b1-8792-46dc-96e1-b3c090f07320\",\"type\":\"Grid\"},{\"id\":\"9ca1fdc3-dd60-497e-9a4a-c62897ea2032\",\"type\":\"LinearAxis\"},{\"id\":\"58786cac-5674-48b8-b83a-99f717014b02\",\"type\":\"Grid\"},{\"id\":\"1edba464-694c-45f2-b955-3b48f6dfab04\",\"type\":\"GlyphRenderer\"}],\"title\":{\"id\":\"e3f8c79b-752c-4401-b69e-f3188f730e6e\",\"type\":\"Title\"},\"toolbar\":{\"id\":\"e8a20410-0004-47aa-87ee-49c236922259\",\"type\":\"Toolbar\"},\"x_range\":{\"id\":\"4970940c-67d8-4346-9534-79cd8788d4cd\",\"type\":\"DataRange1d\"},\"x_scale\":{\"id\":\"77fbfc57-ab2c-4175-b2c8-858bb079b58e\",\"type\":\"LinearScale\"},\"y_range\":{\"id\":\"1b8de9a1-e728-4404-aeee-9df76371fbcd\",\"type\":\"DataRange1d\"},\"y_scale\":{\"id\":\"79e32a9d-47e7-4415-afb9-f2a8ffac85c8\",\"type\":\"LinearScale\"}},\"id\":\"994007b7-d6e4-4d73-8ecf-78039f922ab2\",\"subtype\":\"Figure\",\"type\":\"Plot\"},{\"attributes\":{\"bottom\":{\"value\":0},\"fill_alpha\":{\"value\":0.1},\"fill_color\":{\"value\":\"#1f77b4\"},\"left\":{\"field\":\"left\"},\"line_alpha\":{\"value\":0.1},\"line_color\":{\"value\":\"#1f77b4\"},\"right\":{\"field\":\"right\"},\"top\":{\"field\":\"top\"}},\"id\":\"c2b82881-8b0a-476e-b81c-5ddee40ea41b\",\"type\":\"Quad\"},{\"attributes\":{},\"id\":\"2b65ac78-4a97-4f44-8b63-15e5cdcd1f1b\",\"type\":\"UnionRenderers\"},{\"attributes\":{\"source\":{\"id\":\"3de6e8b5-3574-4c2f-b35c-759c5d76e576\",\"type\":\"ColumnDataSource\"}},\"id\":\"d563a5b5-c8a2-46d5-8af8-37c704a7b7bf\",\"type\":\"CDSView\"},{\"attributes\":{},\"id\":\"73f0b661-9dd2-4c3e-931c-6af6fcc01f4d\",\"type\":\"BasicTickFormatter\"},{\"attributes\":{\"callback\":null},\"id\":\"4970940c-67d8-4346-9534-79cd8788d4cd\",\"type\":\"DataRange1d\"}],\"root_ids\":[\"994007b7-d6e4-4d73-8ecf-78039f922ab2\"]},\"title\":\"Bokeh Application\",\"version\":\"0.13.0\"}};\n",
       "  var render_items = [{\"docid\":\"0f925d76-db84-431e-bba1-30ea9fcb5d2b\",\"roots\":{\"994007b7-d6e4-4d73-8ecf-78039f922ab2\":\"613e1b09-ffcf-45cc-bf23-8aac1b967735\"}}];\n",
       "  root.Bokeh.embed.embed_items_notebook(docs_json, render_items);\n",
       "\n",
       "  }\n",
       "  if (root.Bokeh !== undefined) {\n",
       "    embed_document(root);\n",
       "  } else {\n",
       "    var attempts = 0;\n",
       "    var timer = setInterval(function(root) {\n",
       "      if (root.Bokeh !== undefined) {\n",
       "        embed_document(root);\n",
       "        clearInterval(timer);\n",
       "      }\n",
       "      attempts++;\n",
       "      if (attempts > 100) {\n",
       "        console.log(\"Bokeh: ERROR: Unable to run BokehJS code because BokehJS library is missing\")\n",
       "        clearInterval(timer);\n",
       "      }\n",
       "    }, 10, root)\n",
       "  }\n",
       "})(window);"
      ],
      "application/vnd.bokehjs_exec.v0+json": ""
     },
     "metadata": {
      "application/vnd.bokehjs_exec.v0+json": {
       "id": "994007b7-d6e4-4d73-8ecf-78039f922ab2"
      }
     },
     "output_type": "display_data"
    }
   ],
   "source": [
    "# Example of running 200 games with the endgame sequence THT\n",
    "c2 = CoinToss(200, 'THT')\n",
    "c2.run()\n",
    "c2.plot_counts()"
   ]
  },
  {
   "cell_type": "code",
   "execution_count": 167,
   "metadata": {},
   "outputs": [
    {
     "name": "stdout",
     "output_type": "stream",
     "text": [
      "Average number of tosses to win =  35.2065\n"
     ]
    },
    {
     "data": {
      "text/html": [
       "\n",
       "\n",
       "\n",
       "\n",
       "\n",
       "\n",
       "  <div class=\"bk-root\" id=\"cc6f4725-8821-4d3b-8110-9e842419da16\"></div>\n"
      ]
     },
     "metadata": {},
     "output_type": "display_data"
    },
    {
     "data": {
      "application/javascript": [
       "(function(root) {\n",
       "  function embed_document(root) {\n",
       "    \n",
       "  var docs_json = {\"85fb7792-0cdb-4f75-a68d-50abf5da728b\":{\"roots\":{\"references\":[{\"attributes\":{},\"id\":\"5a42c82a-819c-48ae-903d-f5e90087d5e7\",\"type\":\"BasicTicker\"},{\"attributes\":{\"axis_label\":\"Number of tosses to reach endgame\",\"formatter\":{\"id\":\"45b7e7dd-b6f4-4083-a168-de13c3dc9215\",\"type\":\"BasicTickFormatter\"},\"plot\":{\"id\":\"1d2aba68-10fe-4d1f-9e61-854efacf385a\",\"subtype\":\"Figure\",\"type\":\"Plot\"},\"ticker\":{\"id\":\"933975c1-fa59-4197-baba-40775d8e22c7\",\"type\":\"BasicTicker\"}},\"id\":\"18af670f-8bbf-4b2a-abf9-c20264b4005e\",\"type\":\"LinearAxis\"},{\"attributes\":{\"active_drag\":\"auto\",\"active_inspect\":\"auto\",\"active_multi\":null,\"active_scroll\":\"auto\",\"active_tap\":\"auto\"},\"id\":\"0418b682-4536-4c56-9b30-ab624a5174ce\",\"type\":\"Toolbar\"},{\"attributes\":{\"dimension\":1,\"plot\":{\"id\":\"1d2aba68-10fe-4d1f-9e61-854efacf385a\",\"subtype\":\"Figure\",\"type\":\"Plot\"},\"ticker\":{\"id\":\"5a42c82a-819c-48ae-903d-f5e90087d5e7\",\"type\":\"BasicTicker\"}},\"id\":\"6346879c-e031-4613-980a-9e2186f80ead\",\"type\":\"Grid\"},{\"attributes\":{},\"id\":\"0a57d7f8-d0f3-462a-b88c-a340fbc7e0a7\",\"type\":\"LinearScale\"},{\"attributes\":{\"bottom\":{\"value\":0},\"fill_alpha\":{\"value\":0.5},\"fill_color\":{\"value\":\"navy\"},\"left\":{\"field\":\"left\"},\"line_alpha\":{\"value\":0.5},\"line_color\":{\"value\":\"white\"},\"right\":{\"field\":\"right\"},\"top\":{\"field\":\"top\"}},\"id\":\"f16335ef-ad4d-43ac-ae42-75025fcbb1dc\",\"type\":\"Quad\"},{\"attributes\":{\"axis_label\":\"counts\",\"formatter\":{\"id\":\"531989a2-2dc8-4fc7-8068-3cf5e9dfd3e5\",\"type\":\"BasicTickFormatter\"},\"plot\":{\"id\":\"1d2aba68-10fe-4d1f-9e61-854efacf385a\",\"subtype\":\"Figure\",\"type\":\"Plot\"},\"ticker\":{\"id\":\"5a42c82a-819c-48ae-903d-f5e90087d5e7\",\"type\":\"BasicTicker\"}},\"id\":\"80b4c8d1-fce7-46e2-90db-f7f194a5ca18\",\"type\":\"LinearAxis\"},{\"attributes\":{\"callback\":null,\"start\":0},\"id\":\"bde51482-c21f-4435-bfff-d151077bdca4\",\"type\":\"DataRange1d\"},{\"attributes\":{},\"id\":\"45b7e7dd-b6f4-4083-a168-de13c3dc9215\",\"type\":\"BasicTickFormatter\"},{\"attributes\":{\"plot\":null,\"text\":\"2000 games with endgame HTHHT\"},\"id\":\"b68ceff1-2856-4cc3-80d8-72342de9a1a7\",\"type\":\"Title\"},{\"attributes\":{},\"id\":\"aae35ee3-ccb3-4ba5-9b1d-a1688095da51\",\"type\":\"LinearScale\"},{\"attributes\":{\"callback\":null},\"id\":\"2bad9368-9a83-492a-82ed-b8c4a364a384\",\"type\":\"DataRange1d\"},{\"attributes\":{\"source\":{\"id\":\"b707764f-2db7-4566-a995-a64b4eac63a0\",\"type\":\"ColumnDataSource\"}},\"id\":\"20aba83c-f8d5-4723-ad07-ffb4d44975d7\",\"type\":\"CDSView\"},{\"attributes\":{\"plot\":{\"id\":\"1d2aba68-10fe-4d1f-9e61-854efacf385a\",\"subtype\":\"Figure\",\"type\":\"Plot\"},\"ticker\":{\"id\":\"933975c1-fa59-4197-baba-40775d8e22c7\",\"type\":\"BasicTicker\"}},\"id\":\"01e4694e-69d2-4c8d-98c8-7c5db2a86c0c\",\"type\":\"Grid\"},{\"attributes\":{},\"id\":\"7d5ab2db-6d36-4646-ad48-bb31cf6b9f2a\",\"type\":\"UnionRenderers\"},{\"attributes\":{\"callback\":null,\"data\":{\"left\":{\"__ndarray__\":\"AAAAAAAAFEDC9Shcj8IjQIXrUbgehS1ApHA9CtejM0CF61G4HoU4QGZmZmZmZj1ApHA9CtcjQUAUrkfhepRDQIXrUbgeBUZA9ihcj8J1SEBmZmZmZuZKQNejcD0KV01ASOF6FK7HT0Bcj8L1KBxRQBSuR+F6VFJAzczMzMyMU0CF61G4HsVUQD0K16Nw/VVA9ihcj8I1V0CuR+F6FG5YQGZmZmZmpllAH4XrUbjeWkDXo3A9ChdcQI/C9ShcT11ASOF6FK6HXkAAAAAAAMBfQFyPwvUofGBAuB6F61EYYUAUrkfherRhQHE9CtejUGJAzczMzMzsYkApXI/C9YhjQIXrUbgeJWRA4XoUrkfBZEA9CtejcF1lQJmZmZmZ+WVA9ihcj8KVZkBSuB6F6zFnQK5H4XoUzmdACtejcD1qaEBmZmZmZgZpQML1KFyPomlAH4XrUbg+akB7FK5H4dpqQNejcD0Kd2tAMzMzMzMTbECPwvUoXK9sQOtRuB6FS21ASOF6FK7nbUCkcD0K14NuQA==\",\"dtype\":\"float64\",\"shape\":[50]},\"right\":{\"__ndarray__\":\"wvUoXI/CI0CF61G4HoUtQKRwPQrXozNAhetRuB6FOEBmZmZmZmY9QKRwPQrXI0FAFK5H4XqUQ0CF61G4HgVGQPYoXI/CdUhAZmZmZmbmSkDXo3A9CldNQEjhehSux09AXI/C9SgcUUAUrkfhelRSQM3MzMzMjFNAhetRuB7FVEA9CtejcP1VQPYoXI/CNVdArkfhehRuWEBmZmZmZqZZQB+F61G43lpA16NwPQoXXECPwvUoXE9dQEjhehSuh15AAAAAAADAX0Bcj8L1KHxgQLgehetRGGFAFK5H4Xq0YUBxPQrXo1BiQM3MzMzM7GJAKVyPwvWIY0CF61G4HiVkQOF6FK5HwWRAPQrXo3BdZUCZmZmZmfllQPYoXI/ClWZAUrgehesxZ0CuR+F6FM5nQArXo3A9amhAZmZmZmYGaUDC9Shcj6JpQB+F61G4PmpAexSuR+HaakDXo3A9CndrQDMzMzMzE2xAj8L1KFyvbEDrUbgehUttQEjhehSu521ApHA9CteDbkAAAAAAACBvQA==\",\"dtype\":\"float64\",\"shape\":[50]},\"top\":[322,247,204,182,140,126,118,110,67,70,65,52,51,38,30,31,22,15,21,15,11,10,12,7,4,4,6,2,1,2,2,1,3,1,0,0,1,0,1,0,1,0,0,0,0,0,2,2,0,1]},\"selected\":{\"id\":\"2e48bf64-06c4-42a2-98c5-fc74fcd86795\",\"type\":\"Selection\"},\"selection_policy\":{\"id\":\"7d5ab2db-6d36-4646-ad48-bb31cf6b9f2a\",\"type\":\"UnionRenderers\"}},\"id\":\"b707764f-2db7-4566-a995-a64b4eac63a0\",\"type\":\"ColumnDataSource\"},{\"attributes\":{},\"id\":\"2e48bf64-06c4-42a2-98c5-fc74fcd86795\",\"type\":\"Selection\"},{\"attributes\":{\"background_fill_color\":{\"value\":\"#fafafa\"},\"below\":[{\"id\":\"18af670f-8bbf-4b2a-abf9-c20264b4005e\",\"type\":\"LinearAxis\"}],\"left\":[{\"id\":\"80b4c8d1-fce7-46e2-90db-f7f194a5ca18\",\"type\":\"LinearAxis\"}],\"renderers\":[{\"id\":\"18af670f-8bbf-4b2a-abf9-c20264b4005e\",\"type\":\"LinearAxis\"},{\"id\":\"01e4694e-69d2-4c8d-98c8-7c5db2a86c0c\",\"type\":\"Grid\"},{\"id\":\"80b4c8d1-fce7-46e2-90db-f7f194a5ca18\",\"type\":\"LinearAxis\"},{\"id\":\"6346879c-e031-4613-980a-9e2186f80ead\",\"type\":\"Grid\"},{\"id\":\"ea14db4c-c9f7-44e9-b031-7c870e9b5ebe\",\"type\":\"GlyphRenderer\"}],\"title\":{\"id\":\"b68ceff1-2856-4cc3-80d8-72342de9a1a7\",\"type\":\"Title\"},\"toolbar\":{\"id\":\"0418b682-4536-4c56-9b30-ab624a5174ce\",\"type\":\"Toolbar\"},\"x_range\":{\"id\":\"2bad9368-9a83-492a-82ed-b8c4a364a384\",\"type\":\"DataRange1d\"},\"x_scale\":{\"id\":\"aae35ee3-ccb3-4ba5-9b1d-a1688095da51\",\"type\":\"LinearScale\"},\"y_range\":{\"id\":\"bde51482-c21f-4435-bfff-d151077bdca4\",\"type\":\"DataRange1d\"},\"y_scale\":{\"id\":\"0a57d7f8-d0f3-462a-b88c-a340fbc7e0a7\",\"type\":\"LinearScale\"}},\"id\":\"1d2aba68-10fe-4d1f-9e61-854efacf385a\",\"subtype\":\"Figure\",\"type\":\"Plot\"},{\"attributes\":{},\"id\":\"933975c1-fa59-4197-baba-40775d8e22c7\",\"type\":\"BasicTicker\"},{\"attributes\":{},\"id\":\"531989a2-2dc8-4fc7-8068-3cf5e9dfd3e5\",\"type\":\"BasicTickFormatter\"},{\"attributes\":{\"data_source\":{\"id\":\"b707764f-2db7-4566-a995-a64b4eac63a0\",\"type\":\"ColumnDataSource\"},\"glyph\":{\"id\":\"f16335ef-ad4d-43ac-ae42-75025fcbb1dc\",\"type\":\"Quad\"},\"hover_glyph\":null,\"muted_glyph\":null,\"nonselection_glyph\":{\"id\":\"209b0ec2-f9b7-43a1-9a8e-2c1728588d7d\",\"type\":\"Quad\"},\"selection_glyph\":null,\"view\":{\"id\":\"20aba83c-f8d5-4723-ad07-ffb4d44975d7\",\"type\":\"CDSView\"}},\"id\":\"ea14db4c-c9f7-44e9-b031-7c870e9b5ebe\",\"type\":\"GlyphRenderer\"},{\"attributes\":{\"bottom\":{\"value\":0},\"fill_alpha\":{\"value\":0.1},\"fill_color\":{\"value\":\"#1f77b4\"},\"left\":{\"field\":\"left\"},\"line_alpha\":{\"value\":0.1},\"line_color\":{\"value\":\"#1f77b4\"},\"right\":{\"field\":\"right\"},\"top\":{\"field\":\"top\"}},\"id\":\"209b0ec2-f9b7-43a1-9a8e-2c1728588d7d\",\"type\":\"Quad\"}],\"root_ids\":[\"1d2aba68-10fe-4d1f-9e61-854efacf385a\"]},\"title\":\"Bokeh Application\",\"version\":\"0.13.0\"}};\n",
       "  var render_items = [{\"docid\":\"85fb7792-0cdb-4f75-a68d-50abf5da728b\",\"roots\":{\"1d2aba68-10fe-4d1f-9e61-854efacf385a\":\"cc6f4725-8821-4d3b-8110-9e842419da16\"}}];\n",
       "  root.Bokeh.embed.embed_items_notebook(docs_json, render_items);\n",
       "\n",
       "  }\n",
       "  if (root.Bokeh !== undefined) {\n",
       "    embed_document(root);\n",
       "  } else {\n",
       "    var attempts = 0;\n",
       "    var timer = setInterval(function(root) {\n",
       "      if (root.Bokeh !== undefined) {\n",
       "        embed_document(root);\n",
       "        clearInterval(timer);\n",
       "      }\n",
       "      attempts++;\n",
       "      if (attempts > 100) {\n",
       "        console.log(\"Bokeh: ERROR: Unable to run BokehJS code because BokehJS library is missing\")\n",
       "        clearInterval(timer);\n",
       "      }\n",
       "    }, 10, root)\n",
       "  }\n",
       "})(window);"
      ],
      "application/vnd.bokehjs_exec.v0+json": ""
     },
     "metadata": {
      "application/vnd.bokehjs_exec.v0+json": {
       "id": "1d2aba68-10fe-4d1f-9e61-854efacf385a"
      }
     },
     "output_type": "display_data"
    }
   ],
   "source": [
    "# Example of running 2000 games with the endgame sequence HTHHT\n",
    "c3 = CoinToss(2000, 'HTHHT')\n",
    "c3.run()\n",
    "c3.plot_counts()"
   ]
  },
  {
   "cell_type": "code",
   "execution_count": 168,
   "metadata": {},
   "outputs": [
    {
     "name": "stdout",
     "output_type": "stream",
     "text": [
      "Average number of tosses to win =  60.1025\n"
     ]
    },
    {
     "data": {
      "text/html": [
       "\n",
       "\n",
       "\n",
       "\n",
       "\n",
       "\n",
       "  <div class=\"bk-root\" id=\"97fb0be4-b955-4e49-b131-aebedd078889\"></div>\n"
      ]
     },
     "metadata": {},
     "output_type": "display_data"
    },
    {
     "data": {
      "application/javascript": [
       "(function(root) {\n",
       "  function embed_document(root) {\n",
       "    \n",
       "  var docs_json = {\"a3a65565-e98c-4c3c-93b5-34bd4faf34ea\":{\"roots\":{\"references\":[{\"attributes\":{\"axis_label\":\"counts\",\"formatter\":{\"id\":\"24f8ecc3-b27c-45d2-9d52-73fcfe248b83\",\"type\":\"BasicTickFormatter\"},\"plot\":{\"id\":\"d5f556e4-97d7-4d2f-9459-e598a2b3109d\",\"subtype\":\"Figure\",\"type\":\"Plot\"},\"ticker\":{\"id\":\"77b33a66-ff23-4cc5-a118-a963897aeca2\",\"type\":\"BasicTicker\"}},\"id\":\"758db64c-2930-4100-baa4-3b3e3274da03\",\"type\":\"LinearAxis\"},{\"attributes\":{},\"id\":\"2545d2db-1f76-4701-826e-e89c89db096f\",\"type\":\"BasicTicker\"},{\"attributes\":{\"source\":{\"id\":\"af28038a-13d1-427b-a17f-5af1512f2c20\",\"type\":\"ColumnDataSource\"}},\"id\":\"1ea6654b-73e1-41ba-8fad-dab61c58267d\",\"type\":\"CDSView\"},{\"attributes\":{\"plot\":{\"id\":\"d5f556e4-97d7-4d2f-9459-e598a2b3109d\",\"subtype\":\"Figure\",\"type\":\"Plot\"},\"ticker\":{\"id\":\"2545d2db-1f76-4701-826e-e89c89db096f\",\"type\":\"BasicTicker\"}},\"id\":\"9ed8bdd6-559b-4a37-ab01-573d4ea0d4d5\",\"type\":\"Grid\"},{\"attributes\":{\"bottom\":{\"value\":0},\"fill_alpha\":{\"value\":0.1},\"fill_color\":{\"value\":\"#1f77b4\"},\"left\":{\"field\":\"left\"},\"line_alpha\":{\"value\":0.1},\"line_color\":{\"value\":\"#1f77b4\"},\"right\":{\"field\":\"right\"},\"top\":{\"field\":\"top\"}},\"id\":\"14e7bf40-b09a-473f-89a7-e6908809b8fe\",\"type\":\"Quad\"},{\"attributes\":{\"plot\":null,\"text\":\"2000 games with endgame HHHHH\"},\"id\":\"8e30c8d2-50e8-4d8f-8b56-80b2b9f1ebaa\",\"type\":\"Title\"},{\"attributes\":{\"data_source\":{\"id\":\"af28038a-13d1-427b-a17f-5af1512f2c20\",\"type\":\"ColumnDataSource\"},\"glyph\":{\"id\":\"c342e466-b3a7-47e4-acb3-d48f70743e7e\",\"type\":\"Quad\"},\"hover_glyph\":null,\"muted_glyph\":null,\"nonselection_glyph\":{\"id\":\"14e7bf40-b09a-473f-89a7-e6908809b8fe\",\"type\":\"Quad\"},\"selection_glyph\":null,\"view\":{\"id\":\"1ea6654b-73e1-41ba-8fad-dab61c58267d\",\"type\":\"CDSView\"}},\"id\":\"2e02dae4-021b-4ff6-8852-ec9ae7c4b4a2\",\"type\":\"GlyphRenderer\"},{\"attributes\":{},\"id\":\"bdcdddcc-0e86-418d-8b7e-65b3bb9404be\",\"type\":\"Selection\"},{\"attributes\":{\"background_fill_color\":{\"value\":\"#fafafa\"},\"below\":[{\"id\":\"2ebda48c-3156-40bd-984e-fd62e019e425\",\"type\":\"LinearAxis\"}],\"left\":[{\"id\":\"758db64c-2930-4100-baa4-3b3e3274da03\",\"type\":\"LinearAxis\"}],\"renderers\":[{\"id\":\"2ebda48c-3156-40bd-984e-fd62e019e425\",\"type\":\"LinearAxis\"},{\"id\":\"9ed8bdd6-559b-4a37-ab01-573d4ea0d4d5\",\"type\":\"Grid\"},{\"id\":\"758db64c-2930-4100-baa4-3b3e3274da03\",\"type\":\"LinearAxis\"},{\"id\":\"f0f69362-68e8-4585-aeb7-d0799ff51a6b\",\"type\":\"Grid\"},{\"id\":\"2e02dae4-021b-4ff6-8852-ec9ae7c4b4a2\",\"type\":\"GlyphRenderer\"}],\"title\":{\"id\":\"8e30c8d2-50e8-4d8f-8b56-80b2b9f1ebaa\",\"type\":\"Title\"},\"toolbar\":{\"id\":\"7a5e3a2c-7895-4807-b004-6daf9ee4e9ed\",\"type\":\"Toolbar\"},\"x_range\":{\"id\":\"12ade440-79f7-4b4e-af9e-81ed3144cc6d\",\"type\":\"DataRange1d\"},\"x_scale\":{\"id\":\"4479bde1-b1ed-4446-8567-644ebd3774c0\",\"type\":\"LinearScale\"},\"y_range\":{\"id\":\"04aeb7aa-e438-4def-9c26-7c95e084fc99\",\"type\":\"DataRange1d\"},\"y_scale\":{\"id\":\"786bf1a5-2727-4983-85af-e78a04e2ee74\",\"type\":\"LinearScale\"}},\"id\":\"d5f556e4-97d7-4d2f-9459-e598a2b3109d\",\"subtype\":\"Figure\",\"type\":\"Plot\"},{\"attributes\":{},\"id\":\"4479bde1-b1ed-4446-8567-644ebd3774c0\",\"type\":\"LinearScale\"},{\"attributes\":{\"callback\":null},\"id\":\"12ade440-79f7-4b4e-af9e-81ed3144cc6d\",\"type\":\"DataRange1d\"},{\"attributes\":{},\"id\":\"77b33a66-ff23-4cc5-a118-a963897aeca2\",\"type\":\"BasicTicker\"},{\"attributes\":{},\"id\":\"4385e640-44f0-4a36-bfb5-3f0e587b8e68\",\"type\":\"UnionRenderers\"},{\"attributes\":{\"axis_label\":\"Number of tosses to reach endgame\",\"formatter\":{\"id\":\"8b1f3d7e-e438-44c4-86c5-b026a541a27f\",\"type\":\"BasicTickFormatter\"},\"plot\":{\"id\":\"d5f556e4-97d7-4d2f-9459-e598a2b3109d\",\"subtype\":\"Figure\",\"type\":\"Plot\"},\"ticker\":{\"id\":\"2545d2db-1f76-4701-826e-e89c89db096f\",\"type\":\"BasicTicker\"}},\"id\":\"2ebda48c-3156-40bd-984e-fd62e019e425\",\"type\":\"LinearAxis\"},{\"attributes\":{},\"id\":\"24f8ecc3-b27c-45d2-9d52-73fcfe248b83\",\"type\":\"BasicTickFormatter\"},{\"attributes\":{\"bottom\":{\"value\":0},\"fill_alpha\":{\"value\":0.5},\"fill_color\":{\"value\":\"navy\"},\"left\":{\"field\":\"left\"},\"line_alpha\":{\"value\":0.5},\"line_color\":{\"value\":\"white\"},\"right\":{\"field\":\"right\"},\"top\":{\"field\":\"top\"}},\"id\":\"c342e466-b3a7-47e4-acb3-d48f70743e7e\",\"type\":\"Quad\"},{\"attributes\":{},\"id\":\"8b1f3d7e-e438-44c4-86c5-b026a541a27f\",\"type\":\"BasicTickFormatter\"},{\"attributes\":{\"callback\":null,\"data\":{\"left\":{\"__ndarray__\":\"AAAAAAAAFECQwvUoXI8xQB+F61G4Hj5A16NwPQpXRUAfhetRuJ5LQDQzMzMz81BA16NwPQoXVEB7FK5H4TpXQB+F61G4XlpAw/UoXI+CXUA0MzMzM1NgQIXrUbge5WFA16NwPQp3Y0ApXI/C9QhlQHsUrkfhmmZAzczMzMwsaEAfhetRuL5pQHE9CtejUGtAw/UoXI/ibEAVrkfhenRuQDQzMzMzA3BAXI/C9SjMcECF61G4HpVxQK5H4XoUXnJA16NwPQonc0AAAAAAAPBzQClcj8L1uHRAUrgeheuBdUB7FK5H4Up2QKRwPQrXE3dAzczMzMzcd0D2KFyPwqV4QB+F61G4bnlASOF6FK43ekBxPQrXowB7QJqZmZmZyXtAw/UoXI+SfEDsUbgehVt9QBWuR+F6JH5APgrXo3DtfkBnZmZmZrZ/QEjhehSuP4BAXI/C9SikgEBxPQrXowiBQIXrUbgebYFAmpmZmZnRgUCuR+F6FDaCQMP1KFyPmoJA16NwPQr/gkDsUbgehWODQA==\",\"dtype\":\"float64\",\"shape\":[50]},\"right\":{\"__ndarray__\":\"kML1KFyPMUAfhetRuB4+QNejcD0KV0VAH4XrUbieS0A0MzMzM/NQQNejcD0KF1RAexSuR+E6V0AfhetRuF5aQMP1KFyPgl1ANDMzMzNTYECF61G4HuVhQNejcD0Kd2NAKVyPwvUIZUB7FK5H4ZpmQM3MzMzMLGhAH4XrUbi+aUBxPQrXo1BrQMP1KFyP4mxAFa5H4Xp0bkA0MzMzMwNwQFyPwvUozHBAhetRuB6VcUCuR+F6FF5yQNejcD0KJ3NAAAAAAADwc0ApXI/C9bh0QFK4HoXrgXVAexSuR+FKdkCkcD0K1xN3QM3MzMzM3HdA9ihcj8KleEAfhetRuG55QEjhehSuN3pAcT0K16MAe0CamZmZmcl7QMP1KFyPknxA7FG4HoVbfUAVrkfheiR+QD4K16Nw7X5AZ2ZmZma2f0BI4XoUrj+AQFyPwvUopIBAcT0K16MIgUCF61G4Hm2BQJqZmZmZ0YFArkfhehQ2gkDD9Shcj5qCQNejcD0K/4JA7FG4HoVjg0AAAAAAAMiDQA==\",\"dtype\":\"float64\",\"shape\":[50]},\"top\":[438,322,211,238,155,112,112,99,65,43,34,30,31,22,21,14,9,15,5,3,2,3,1,2,1,6,1,1,0,2,0,0,1,0,0,0,0,0,0,0,0,0,0,0,0,0,0,0,0,1]},\"selected\":{\"id\":\"bdcdddcc-0e86-418d-8b7e-65b3bb9404be\",\"type\":\"Selection\"},\"selection_policy\":{\"id\":\"4385e640-44f0-4a36-bfb5-3f0e587b8e68\",\"type\":\"UnionRenderers\"}},\"id\":\"af28038a-13d1-427b-a17f-5af1512f2c20\",\"type\":\"ColumnDataSource\"},{\"attributes\":{\"callback\":null,\"start\":0},\"id\":\"04aeb7aa-e438-4def-9c26-7c95e084fc99\",\"type\":\"DataRange1d\"},{\"attributes\":{\"dimension\":1,\"plot\":{\"id\":\"d5f556e4-97d7-4d2f-9459-e598a2b3109d\",\"subtype\":\"Figure\",\"type\":\"Plot\"},\"ticker\":{\"id\":\"77b33a66-ff23-4cc5-a118-a963897aeca2\",\"type\":\"BasicTicker\"}},\"id\":\"f0f69362-68e8-4585-aeb7-d0799ff51a6b\",\"type\":\"Grid\"},{\"attributes\":{},\"id\":\"786bf1a5-2727-4983-85af-e78a04e2ee74\",\"type\":\"LinearScale\"},{\"attributes\":{\"active_drag\":\"auto\",\"active_inspect\":\"auto\",\"active_multi\":null,\"active_scroll\":\"auto\",\"active_tap\":\"auto\"},\"id\":\"7a5e3a2c-7895-4807-b004-6daf9ee4e9ed\",\"type\":\"Toolbar\"}],\"root_ids\":[\"d5f556e4-97d7-4d2f-9459-e598a2b3109d\"]},\"title\":\"Bokeh Application\",\"version\":\"0.13.0\"}};\n",
       "  var render_items = [{\"docid\":\"a3a65565-e98c-4c3c-93b5-34bd4faf34ea\",\"roots\":{\"d5f556e4-97d7-4d2f-9459-e598a2b3109d\":\"97fb0be4-b955-4e49-b131-aebedd078889\"}}];\n",
       "  root.Bokeh.embed.embed_items_notebook(docs_json, render_items);\n",
       "\n",
       "  }\n",
       "  if (root.Bokeh !== undefined) {\n",
       "    embed_document(root);\n",
       "  } else {\n",
       "    var attempts = 0;\n",
       "    var timer = setInterval(function(root) {\n",
       "      if (root.Bokeh !== undefined) {\n",
       "        embed_document(root);\n",
       "        clearInterval(timer);\n",
       "      }\n",
       "      attempts++;\n",
       "      if (attempts > 100) {\n",
       "        console.log(\"Bokeh: ERROR: Unable to run BokehJS code because BokehJS library is missing\")\n",
       "        clearInterval(timer);\n",
       "      }\n",
       "    }, 10, root)\n",
       "  }\n",
       "})(window);"
      ],
      "application/vnd.bokehjs_exec.v0+json": ""
     },
     "metadata": {
      "application/vnd.bokehjs_exec.v0+json": {
       "id": "d5f556e4-97d7-4d2f-9459-e598a2b3109d"
      }
     },
     "output_type": "display_data"
    }
   ],
   "source": [
    "# Example of running 2000 games with the endgame sequence HHHHH\n",
    "c3 = CoinToss(2000, 'HHHHH')\n",
    "c3.run()\n",
    "c3.plot_counts()"
   ]
  },
  {
   "cell_type": "code",
   "execution_count": null,
   "metadata": {},
   "outputs": [],
   "source": []
  }
 ],
 "metadata": {
  "kernelspec": {
   "display_name": "Python 3",
   "language": "python",
   "name": "python3"
  },
  "language_info": {
   "codemirror_mode": {
    "name": "ipython",
    "version": 3
   },
   "file_extension": ".py",
   "mimetype": "text/x-python",
   "name": "python",
   "nbconvert_exporter": "python",
   "pygments_lexer": "ipython3",
   "version": "3.6.2"
  }
 },
 "nbformat": 4,
 "nbformat_minor": 2
}
