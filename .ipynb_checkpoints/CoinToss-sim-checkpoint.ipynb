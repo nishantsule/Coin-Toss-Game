{
 "cells": [
  {
   "cell_type": "markdown",
   "metadata": {},
   "source": [
    "## Coin Toss Game"
   ]
  },
  {
   "cell_type": "markdown",
   "metadata": {},
   "source": [
    "This notebook simulates a coin tossing game where the player gets to pick a string of head/tail occurances as the endgame. A coin is tossed until the chosen sequence of head/tail occurs. When the endgame sequence occurs the game ends. The objective is that for a given length of the endgame what is the sequence of head/tail occurances that will be end the game with the least number of tosses. This is simulated by running a given number of coin toss games with the chosen endgame sequence. The avarage number of tosses required to win is computed and its distribution is plotted."
   ]
  },
  {
   "cell_type": "code",
   "execution_count": null,
   "metadata": {},
   "outputs": [],
   "source": [
    "# Import useful packages\n",
    "import numpy as np\n",
    "from collections import deque\n",
    "from bokeh.io import push_notebook, show, output_notebook\n",
    "from bokeh.plotting import figure \n",
    "output_notebook()"
   ]
  },
  {
   "cell_type": "code",
   "execution_count": 157,
   "metadata": {},
   "outputs": [],
   "source": [
    "# Defines a class for the coin toss game\n",
    "class CoinToss:\n",
    "    # Initializing variables\n",
    "    def __init__(self, number_of_games, endgame):\n",
    "        self.numgames = number_of_games\n",
    "        self.endgamelen = len(endgame)\n",
    "        self.endgame = endgame\n",
    "        self.reset()\n",
    "    # Reset all the counters\n",
    "    def reset(self):\n",
    "        self.counter = np.zeros(self.numgames)\n",
    "    # Run the coin toss game\n",
    "    def run(self):\n",
    "        curr_seq = deque('', self.endgamelen)\n",
    "        endgame_reached = False\n",
    "        for i in range(self.numgames):\n",
    "            while not endgame_reached:\n",
    "                self.counter[i] += 1\n",
    "                if np.random.random_sample() < 0.5:\n",
    "                    curr_seq.append('H')\n",
    "                else:\n",
    "                    curr_seq.append('T')\n",
    "                check = sum(cs == eg for (cs, eg) in zip(curr_seq, self.endgame))\n",
    "                if check == self.endgamelen:\n",
    "                    endgame_reached = True\n",
    "                    curr_seq.clear()\n",
    "            endgame_reached = False\n",
    "        print('Average number of tosses to win = ', np.mean(self.counter))\n",
    "    # Plot the distribution of number of tosses required to end the game\n",
    "    def plot_counts(self):\n",
    "        hist, edges = np.histogram(self.counter, density=False, bins=50)\n",
    "        p = figure(title='', tools='', background_fill_color=\"#fafafa\")\n",
    "        p.quad(top=hist, bottom=0, left=edges[:-1], right=edges[1:],\n",
    "           fill_color=\"navy\", line_color=\"white\", alpha=0.5)\n",
    "        p.y_range.start = 0\n",
    "        p.xaxis.axis_label = 'Number of tosses to reach endgame'\n",
    "        p.yaxis.axis_label = 'counts'\n",
    "        show(p)"
   ]
  },
  {
   "cell_type": "code",
   "execution_count": 158,
   "metadata": {},
   "outputs": [
    {
     "name": "stdout",
     "output_type": "stream",
     "text": [
      "Average number of tosses to win =  16.08\n"
     ]
    },
    {
     "data": {
      "text/html": [
       "\n",
       "\n",
       "\n",
       "\n",
       "\n",
       "\n",
       "  <div class=\"bk-root\" id=\"f48eb7a0-b69f-4a2a-a401-88378e32563d\"></div>\n"
      ]
     },
     "metadata": {},
     "output_type": "display_data"
    },
    {
     "data": {
      "application/javascript": [
       "(function(root) {\n",
       "  function embed_document(root) {\n",
       "    \n",
       "  var docs_json = {\"b6562cc0-227c-4c3b-8168-c98aa6596f18\":{\"roots\":{\"references\":[{\"attributes\":{\"plot\":{\"id\":\"15514798-e2aa-4a21-aac6-2d4685677c70\",\"subtype\":\"Figure\",\"type\":\"Plot\"},\"ticker\":{\"id\":\"bd1a03c2-7751-4742-8b68-451085061915\",\"type\":\"BasicTicker\"}},\"id\":\"6dcd874b-6937-4a8d-8542-aa22bd63d632\",\"type\":\"Grid\"},{\"attributes\":{\"plot\":null,\"text\":\"\"},\"id\":\"8862620c-0e7e-438c-947c-ba73fb590ff9\",\"type\":\"Title\"},{\"attributes\":{\"callback\":null},\"id\":\"f42547d3-34e6-4cc4-a045-f3ae15ccabcc\",\"type\":\"DataRange1d\"},{\"attributes\":{},\"id\":\"af1ea5ad-ae3d-4b7b-b272-11c9d818062c\",\"type\":\"LinearScale\"},{\"attributes\":{},\"id\":\"58cdde84-8010-4369-85f6-e217ca4c2897\",\"type\":\"LinearScale\"},{\"attributes\":{\"axis_label\":\"counts\",\"formatter\":{\"id\":\"3e40cffc-e4c0-4dce-bb60-467098969311\",\"type\":\"BasicTickFormatter\"},\"plot\":{\"id\":\"15514798-e2aa-4a21-aac6-2d4685677c70\",\"subtype\":\"Figure\",\"type\":\"Plot\"},\"ticker\":{\"id\":\"58c03813-e7ad-41b7-8315-8d931293cac9\",\"type\":\"BasicTicker\"}},\"id\":\"53afa2f9-5ddd-4b9c-ac15-0017722e6e1c\",\"type\":\"LinearAxis\"},{\"attributes\":{\"callback\":null,\"start\":0},\"id\":\"509d813b-1f72-4123-a314-eba6a139a393\",\"type\":\"DataRange1d\"},{\"attributes\":{\"callback\":null,\"data\":{\"left\":{\"__ndarray__\":\"AAAAAAAACEAzMzMzMzMRQGZmZmZmZhZAmpmZmZmZG0BmZmZmZmYgQAAAAAAAACNAmpmZmZmZJUAzMzMzMzMoQM3MzMzMzCpAZ2ZmZmZmLUAAAAAAAAAwQM3MzMzMTDFAmpmZmZmZMkBnZmZmZuYzQDMzMzMzMzVAAAAAAACANkDNzMzMzMw3QJqZmZmZGTlAZ2ZmZmZmOkAzMzMzM7M7QAAAAAAAAD1AzczMzMxMPkCamZmZmZk/QDQzMzMzc0BAmpmZmZkZQUAAAAAAAMBBQGdmZmZmZkJAzczMzMwMQ0AzMzMzM7NDQJqZmZmZWURAAAAAAAAARUBnZmZmZqZFQM3MzMzMTEZAMzMzMzPzRkCamZmZmZlHQAAAAAAAQEhAZ2ZmZmbmSEDNzMzMzIxJQDMzMzMzM0pAmpmZmZnZSkAAAAAAAIBLQGdmZmZmJkxAzczMzMzMTEAzMzMzM3NNQJqZmZmZGU5AAAAAAADATkBnZmZmZmZPQGZmZmZmBlBAmpmZmZlZUEDNzMzMzKxQQA==\",\"dtype\":\"float64\",\"shape\":[50]},\"right\":{\"__ndarray__\":\"MzMzMzMzEUBmZmZmZmYWQJqZmZmZmRtAZmZmZmZmIEAAAAAAAAAjQJqZmZmZmSVAMzMzMzMzKEDNzMzMzMwqQGdmZmZmZi1AAAAAAAAAMEDNzMzMzEwxQJqZmZmZmTJAZ2ZmZmbmM0AzMzMzMzM1QAAAAAAAgDZAzczMzMzMN0CamZmZmRk5QGdmZmZmZjpAMzMzMzOzO0AAAAAAAAA9QM3MzMzMTD5AmpmZmZmZP0A0MzMzM3NAQJqZmZmZGUFAAAAAAADAQUBnZmZmZmZCQM3MzMzMDENAMzMzMzOzQ0CamZmZmVlEQAAAAAAAAEVAZ2ZmZmamRUDNzMzMzExGQDMzMzMz80ZAmpmZmZmZR0AAAAAAAEBIQGdmZmZm5khAzczMzMyMSUAzMzMzMzNKQJqZmZmZ2UpAAAAAAACAS0BnZmZmZiZMQM3MzMzMzExAMzMzMzNzTUCamZmZmRlOQAAAAAAAwE5AZ2ZmZmZmT0BmZmZmZgZQQJqZmZmZWVBAzczMzMysUEAAAAAAAABRQA==\",\"dtype\":\"float64\",\"shape\":[50]},\"top\":[31,14,6,17,11,7,15,8,4,3,9,8,8,8,4,8,3,4,5,0,5,1,3,2,0,2,1,1,0,0,0,1,0,1,0,1,4,0,0,0,1,0,0,2,0,0,1,0,0,1]},\"selected\":{\"id\":\"75d18e09-68f1-47bd-91f9-26894f9f0223\",\"type\":\"Selection\"},\"selection_policy\":{\"id\":\"a4625a5f-b56b-467c-a09e-002cf3983c01\",\"type\":\"UnionRenderers\"}},\"id\":\"4bedab6c-f232-4ac1-a3b9-d8e187e8a9ac\",\"type\":\"ColumnDataSource\"},{\"attributes\":{\"active_drag\":\"auto\",\"active_inspect\":\"auto\",\"active_multi\":null,\"active_scroll\":\"auto\",\"active_tap\":\"auto\"},\"id\":\"c8643aee-6f5f-4f76-8b44-f4fbf192aa31\",\"type\":\"Toolbar\"},{\"attributes\":{},\"id\":\"3e40cffc-e4c0-4dce-bb60-467098969311\",\"type\":\"BasicTickFormatter\"},{\"attributes\":{\"axis_label\":\"Number of tosses to reach endgame\",\"formatter\":{\"id\":\"7f1f7108-16e7-4053-8fb2-ec7be1b9bd16\",\"type\":\"BasicTickFormatter\"},\"plot\":{\"id\":\"15514798-e2aa-4a21-aac6-2d4685677c70\",\"subtype\":\"Figure\",\"type\":\"Plot\"},\"ticker\":{\"id\":\"bd1a03c2-7751-4742-8b68-451085061915\",\"type\":\"BasicTicker\"}},\"id\":\"f181a328-fddf-4d62-a911-1eec9962bc11\",\"type\":\"LinearAxis\"},{\"attributes\":{\"data_source\":{\"id\":\"4bedab6c-f232-4ac1-a3b9-d8e187e8a9ac\",\"type\":\"ColumnDataSource\"},\"glyph\":{\"id\":\"c15c569f-58e1-49ae-bcff-0d17628efe95\",\"type\":\"Quad\"},\"hover_glyph\":null,\"muted_glyph\":null,\"nonselection_glyph\":{\"id\":\"e90cbd6f-627b-4812-829d-f7014125f742\",\"type\":\"Quad\"},\"selection_glyph\":null,\"view\":{\"id\":\"a9f9c31d-cffa-45f1-9abf-344a33c5128a\",\"type\":\"CDSView\"}},\"id\":\"cdea7e0d-d66f-4312-b925-f8e0d6c5ff38\",\"type\":\"GlyphRenderer\"},{\"attributes\":{\"bottom\":{\"value\":0},\"fill_alpha\":{\"value\":0.1},\"fill_color\":{\"value\":\"#1f77b4\"},\"left\":{\"field\":\"left\"},\"line_alpha\":{\"value\":0.1},\"line_color\":{\"value\":\"#1f77b4\"},\"right\":{\"field\":\"right\"},\"top\":{\"field\":\"top\"}},\"id\":\"e90cbd6f-627b-4812-829d-f7014125f742\",\"type\":\"Quad\"},{\"attributes\":{\"source\":{\"id\":\"4bedab6c-f232-4ac1-a3b9-d8e187e8a9ac\",\"type\":\"ColumnDataSource\"}},\"id\":\"a9f9c31d-cffa-45f1-9abf-344a33c5128a\",\"type\":\"CDSView\"},{\"attributes\":{\"dimension\":1,\"plot\":{\"id\":\"15514798-e2aa-4a21-aac6-2d4685677c70\",\"subtype\":\"Figure\",\"type\":\"Plot\"},\"ticker\":{\"id\":\"58c03813-e7ad-41b7-8315-8d931293cac9\",\"type\":\"BasicTicker\"}},\"id\":\"8d23e6e5-5b2e-4acc-bbad-580bb43b9e85\",\"type\":\"Grid\"},{\"attributes\":{},\"id\":\"75d18e09-68f1-47bd-91f9-26894f9f0223\",\"type\":\"Selection\"},{\"attributes\":{},\"id\":\"58c03813-e7ad-41b7-8315-8d931293cac9\",\"type\":\"BasicTicker\"},{\"attributes\":{},\"id\":\"a4625a5f-b56b-467c-a09e-002cf3983c01\",\"type\":\"UnionRenderers\"},{\"attributes\":{\"bottom\":{\"value\":0},\"fill_alpha\":{\"value\":0.5},\"fill_color\":{\"value\":\"navy\"},\"left\":{\"field\":\"left\"},\"line_alpha\":{\"value\":0.5},\"line_color\":{\"value\":\"white\"},\"right\":{\"field\":\"right\"},\"top\":{\"field\":\"top\"}},\"id\":\"c15c569f-58e1-49ae-bcff-0d17628efe95\",\"type\":\"Quad\"},{\"attributes\":{},\"id\":\"bd1a03c2-7751-4742-8b68-451085061915\",\"type\":\"BasicTicker\"},{\"attributes\":{},\"id\":\"7f1f7108-16e7-4053-8fb2-ec7be1b9bd16\",\"type\":\"BasicTickFormatter\"},{\"attributes\":{\"background_fill_color\":{\"value\":\"#fafafa\"},\"below\":[{\"id\":\"f181a328-fddf-4d62-a911-1eec9962bc11\",\"type\":\"LinearAxis\"}],\"left\":[{\"id\":\"53afa2f9-5ddd-4b9c-ac15-0017722e6e1c\",\"type\":\"LinearAxis\"}],\"renderers\":[{\"id\":\"f181a328-fddf-4d62-a911-1eec9962bc11\",\"type\":\"LinearAxis\"},{\"id\":\"6dcd874b-6937-4a8d-8542-aa22bd63d632\",\"type\":\"Grid\"},{\"id\":\"53afa2f9-5ddd-4b9c-ac15-0017722e6e1c\",\"type\":\"LinearAxis\"},{\"id\":\"8d23e6e5-5b2e-4acc-bbad-580bb43b9e85\",\"type\":\"Grid\"},{\"id\":\"cdea7e0d-d66f-4312-b925-f8e0d6c5ff38\",\"type\":\"GlyphRenderer\"}],\"title\":{\"id\":\"8862620c-0e7e-438c-947c-ba73fb590ff9\",\"type\":\"Title\"},\"toolbar\":{\"id\":\"c8643aee-6f5f-4f76-8b44-f4fbf192aa31\",\"type\":\"Toolbar\"},\"x_range\":{\"id\":\"f42547d3-34e6-4cc4-a045-f3ae15ccabcc\",\"type\":\"DataRange1d\"},\"x_scale\":{\"id\":\"af1ea5ad-ae3d-4b7b-b272-11c9d818062c\",\"type\":\"LinearScale\"},\"y_range\":{\"id\":\"509d813b-1f72-4123-a314-eba6a139a393\",\"type\":\"DataRange1d\"},\"y_scale\":{\"id\":\"58cdde84-8010-4369-85f6-e217ca4c2897\",\"type\":\"LinearScale\"}},\"id\":\"15514798-e2aa-4a21-aac6-2d4685677c70\",\"subtype\":\"Figure\",\"type\":\"Plot\"}],\"root_ids\":[\"15514798-e2aa-4a21-aac6-2d4685677c70\"]},\"title\":\"Bokeh Application\",\"version\":\"0.13.0\"}};\n",
       "  var render_items = [{\"docid\":\"b6562cc0-227c-4c3b-8168-c98aa6596f18\",\"roots\":{\"15514798-e2aa-4a21-aac6-2d4685677c70\":\"f48eb7a0-b69f-4a2a-a401-88378e32563d\"}}];\n",
       "  root.Bokeh.embed.embed_items_notebook(docs_json, render_items);\n",
       "\n",
       "  }\n",
       "  if (root.Bokeh !== undefined) {\n",
       "    embed_document(root);\n",
       "  } else {\n",
       "    var attempts = 0;\n",
       "    var timer = setInterval(function(root) {\n",
       "      if (root.Bokeh !== undefined) {\n",
       "        embed_document(root);\n",
       "        clearInterval(timer);\n",
       "      }\n",
       "      attempts++;\n",
       "      if (attempts > 100) {\n",
       "        console.log(\"Bokeh: ERROR: Unable to run BokehJS code because BokehJS library is missing\")\n",
       "        clearInterval(timer);\n",
       "      }\n",
       "    }, 10, root)\n",
       "  }\n",
       "})(window);"
      ],
      "application/vnd.bokehjs_exec.v0+json": ""
     },
     "metadata": {
      "application/vnd.bokehjs_exec.v0+json": {
       "id": "15514798-e2aa-4a21-aac6-2d4685677c70"
      }
     },
     "output_type": "display_data"
    }
   ],
   "source": [
    "# Example of running 200 games with the endgame sequence TTT\n",
    "c1 = CoinToss(200, 'TTT')\n",
    "c1.run()\n",
    "c1.plot_counts()"
   ]
  },
  {
   "cell_type": "code",
   "execution_count": 159,
   "metadata": {},
   "outputs": [
    {
     "name": "stdout",
     "output_type": "stream",
     "text": [
      "Average number of tosses to win =  9.75\n"
     ]
    },
    {
     "data": {
      "text/html": [
       "\n",
       "\n",
       "\n",
       "\n",
       "\n",
       "\n",
       "  <div class=\"bk-root\" id=\"4558e873-0649-49ae-a984-3b71ef543c2c\"></div>\n"
      ]
     },
     "metadata": {},
     "output_type": "display_data"
    },
    {
     "data": {
      "application/javascript": [
       "(function(root) {\n",
       "  function embed_document(root) {\n",
       "    \n",
       "  var docs_json = {\"889eae70-836d-410d-bda9-48d197eb5e88\":{\"roots\":{\"references\":[{\"attributes\":{},\"id\":\"8ef71bc8-2027-4e22-ab84-0b91b3b82890\",\"type\":\"LinearScale\"},{\"attributes\":{\"active_drag\":\"auto\",\"active_inspect\":\"auto\",\"active_multi\":null,\"active_scroll\":\"auto\",\"active_tap\":\"auto\"},\"id\":\"b1cd109d-1668-4310-8574-aa1ccb822822\",\"type\":\"Toolbar\"},{\"attributes\":{},\"id\":\"a0d43b23-5554-4a38-a40f-cab568d1c5a0\",\"type\":\"BasicTicker\"},{\"attributes\":{},\"id\":\"39cb80ea-5ef8-485e-8b2b-56e8b5716ae7\",\"type\":\"UnionRenderers\"},{\"attributes\":{\"axis_label\":\"Number of tosses to reach endgame\",\"formatter\":{\"id\":\"d9a06396-91c7-40c9-b5b2-11eeb63b53d0\",\"type\":\"BasicTickFormatter\"},\"plot\":{\"id\":\"5ac00453-6107-482a-8e97-244ff3f33cef\",\"subtype\":\"Figure\",\"type\":\"Plot\"},\"ticker\":{\"id\":\"f0b2b68b-ebf3-4833-b666-051f88fb1e44\",\"type\":\"BasicTicker\"}},\"id\":\"3cc46be4-51d9-4789-abd3-e291650c65a1\",\"type\":\"LinearAxis\"},{\"attributes\":{\"plot\":{\"id\":\"5ac00453-6107-482a-8e97-244ff3f33cef\",\"subtype\":\"Figure\",\"type\":\"Plot\"},\"ticker\":{\"id\":\"f0b2b68b-ebf3-4833-b666-051f88fb1e44\",\"type\":\"BasicTicker\"}},\"id\":\"7f8ad4b5-6bb4-4f98-9a4d-85ed4b4e775e\",\"type\":\"Grid\"},{\"attributes\":{\"plot\":null,\"text\":\"\"},\"id\":\"17c202d9-a64e-4554-b215-360ee16231e0\",\"type\":\"Title\"},{\"attributes\":{},\"id\":\"f7ee0f2d-141e-4d6b-8cf3-56e86c698482\",\"type\":\"BasicTickFormatter\"},{\"attributes\":{\"callback\":null,\"start\":0},\"id\":\"e8f2947b-5e14-40b6-96c6-84ed74f2a377\",\"type\":\"DataRange1d\"},{\"attributes\":{},\"id\":\"f0b2b68b-ebf3-4833-b666-051f88fb1e44\",\"type\":\"BasicTicker\"},{\"attributes\":{\"source\":{\"id\":\"0623d643-6960-45d6-bb29-436b6da4bb52\",\"type\":\"ColumnDataSource\"}},\"id\":\"fd54627d-cf0d-47fd-a021-b21b5e852d59\",\"type\":\"CDSView\"},{\"attributes\":{},\"id\":\"d9a06396-91c7-40c9-b5b2-11eeb63b53d0\",\"type\":\"BasicTickFormatter\"},{\"attributes\":{\"axis_label\":\"counts\",\"formatter\":{\"id\":\"f7ee0f2d-141e-4d6b-8cf3-56e86c698482\",\"type\":\"BasicTickFormatter\"},\"plot\":{\"id\":\"5ac00453-6107-482a-8e97-244ff3f33cef\",\"subtype\":\"Figure\",\"type\":\"Plot\"},\"ticker\":{\"id\":\"a0d43b23-5554-4a38-a40f-cab568d1c5a0\",\"type\":\"BasicTicker\"}},\"id\":\"7b4f0f09-1d90-4b84-98de-a7e280f22281\",\"type\":\"LinearAxis\"},{\"attributes\":{\"bottom\":{\"value\":0},\"fill_alpha\":{\"value\":0.1},\"fill_color\":{\"value\":\"#1f77b4\"},\"left\":{\"field\":\"left\"},\"line_alpha\":{\"value\":0.1},\"line_color\":{\"value\":\"#1f77b4\"},\"right\":{\"field\":\"right\"},\"top\":{\"field\":\"top\"}},\"id\":\"fc80ce38-77f2-47d4-9acd-f513f35e567b\",\"type\":\"Quad\"},{\"attributes\":{\"callback\":null,\"data\":{\"left\":{\"__ndarray__\":\"AAAAAAAACEDhehSuR+EOQOF6FK5H4RJAUrgehetRFkDC9Shcj8IZQDMzMzMzMx1AUrgehetRIEAK16NwPQoiQML1KFyPwiNAexSuR+F6JUAzMzMzMzMnQOtRuB6F6yhApHA9CtejKkBcj8L1KFwsQBSuR+F6FC5AzczMzMzML0DC9Shcj8IwQB6F61G4njFAexSuR+F6MkDXo3A9ClczQDMzMzMzMzRAj8L1KFwPNUDrUbgehes1QEjhehSuxzZApHA9CtejN0AAAAAAAIA4QFyPwvUoXDlAuB6F61E4OkAUrkfhehQ7QHE9Ctej8DtAzczMzMzMPEApXI/C9ag9QIXrUbgehT5A4XoUrkdhP0AehetRuB5AQMzMzMzMjEBAexSuR+H6QEApXI/C9WhBQNejcD0K10FAhetRuB5FQkAzMzMzM7NCQOF6FK5HIUNAj8L1KFyPQ0A9CtejcP1DQOtRuB6Fa0RAmpmZmZnZREBI4XoUrkdFQPYoXI/CtUVApHA9CtcjRkBSuB6F65FGQA==\",\"dtype\":\"float64\",\"shape\":[50]},\"right\":{\"__ndarray__\":\"4XoUrkfhDkDhehSuR+ESQFK4HoXrURZAwvUoXI/CGUAzMzMzMzMdQFK4HoXrUSBACtejcD0KIkDC9Shcj8IjQHsUrkfheiVAMzMzMzMzJ0DrUbgehesoQKRwPQrXoypAXI/C9ShcLEAUrkfhehQuQM3MzMzMzC9AwvUoXI/CMEAehetRuJ4xQHsUrkfhejJA16NwPQpXM0AzMzMzMzM0QI/C9ShcDzVA61G4HoXrNUBI4XoUrsc2QKRwPQrXozdAAAAAAACAOEBcj8L1KFw5QLgehetRODpAFK5H4XoUO0BxPQrXo/A7QM3MzMzMzDxAKVyPwvWoPUCF61G4HoU+QOF6FK5HYT9AHoXrUbgeQEDMzMzMzIxAQHsUrkfh+kBAKVyPwvVoQUDXo3A9CtdBQIXrUbgeRUJAMzMzMzOzQkDhehSuRyFDQI/C9Shcj0NAPQrXo3D9Q0DrUbgehWtEQJqZmZmZ2URASOF6FK5HRUD2KFyPwrVFQKRwPQrXI0ZAUrgeheuRRkAAAAAAAABHQA==\",\"dtype\":\"float64\",\"shape\":[50]},\"top\":[29,26,20,12,13,12,14,0,12,6,9,5,5,4,0,5,6,3,1,1,0,0,4,0,2,0,1,0,0,1,1,1,0,2,1,0,1,0,0,0,1,0,0,0,0,0,0,0,0,2]},\"selected\":{\"id\":\"838476eb-8064-45a6-bc99-99d359302941\",\"type\":\"Selection\"},\"selection_policy\":{\"id\":\"39cb80ea-5ef8-485e-8b2b-56e8b5716ae7\",\"type\":\"UnionRenderers\"}},\"id\":\"0623d643-6960-45d6-bb29-436b6da4bb52\",\"type\":\"ColumnDataSource\"},{\"attributes\":{},\"id\":\"d1a878ff-d1fb-437c-b6dd-62d0b44d4ba9\",\"type\":\"LinearScale\"},{\"attributes\":{},\"id\":\"838476eb-8064-45a6-bc99-99d359302941\",\"type\":\"Selection\"},{\"attributes\":{\"callback\":null},\"id\":\"b4ead7ae-e8de-4fb9-8367-83502f1b562c\",\"type\":\"DataRange1d\"},{\"attributes\":{\"dimension\":1,\"plot\":{\"id\":\"5ac00453-6107-482a-8e97-244ff3f33cef\",\"subtype\":\"Figure\",\"type\":\"Plot\"},\"ticker\":{\"id\":\"a0d43b23-5554-4a38-a40f-cab568d1c5a0\",\"type\":\"BasicTicker\"}},\"id\":\"6af2b62f-2f8f-4dcc-9b8a-d6391f048131\",\"type\":\"Grid\"},{\"attributes\":{\"background_fill_color\":{\"value\":\"#fafafa\"},\"below\":[{\"id\":\"3cc46be4-51d9-4789-abd3-e291650c65a1\",\"type\":\"LinearAxis\"}],\"left\":[{\"id\":\"7b4f0f09-1d90-4b84-98de-a7e280f22281\",\"type\":\"LinearAxis\"}],\"renderers\":[{\"id\":\"3cc46be4-51d9-4789-abd3-e291650c65a1\",\"type\":\"LinearAxis\"},{\"id\":\"7f8ad4b5-6bb4-4f98-9a4d-85ed4b4e775e\",\"type\":\"Grid\"},{\"id\":\"7b4f0f09-1d90-4b84-98de-a7e280f22281\",\"type\":\"LinearAxis\"},{\"id\":\"6af2b62f-2f8f-4dcc-9b8a-d6391f048131\",\"type\":\"Grid\"},{\"id\":\"980f1a51-b5ee-4aae-b8ec-b8257b78331f\",\"type\":\"GlyphRenderer\"}],\"title\":{\"id\":\"17c202d9-a64e-4554-b215-360ee16231e0\",\"type\":\"Title\"},\"toolbar\":{\"id\":\"b1cd109d-1668-4310-8574-aa1ccb822822\",\"type\":\"Toolbar\"},\"x_range\":{\"id\":\"b4ead7ae-e8de-4fb9-8367-83502f1b562c\",\"type\":\"DataRange1d\"},\"x_scale\":{\"id\":\"d1a878ff-d1fb-437c-b6dd-62d0b44d4ba9\",\"type\":\"LinearScale\"},\"y_range\":{\"id\":\"e8f2947b-5e14-40b6-96c6-84ed74f2a377\",\"type\":\"DataRange1d\"},\"y_scale\":{\"id\":\"8ef71bc8-2027-4e22-ab84-0b91b3b82890\",\"type\":\"LinearScale\"}},\"id\":\"5ac00453-6107-482a-8e97-244ff3f33cef\",\"subtype\":\"Figure\",\"type\":\"Plot\"},{\"attributes\":{\"data_source\":{\"id\":\"0623d643-6960-45d6-bb29-436b6da4bb52\",\"type\":\"ColumnDataSource\"},\"glyph\":{\"id\":\"7ac7d35f-dc83-4e44-b75f-0267afcc3c24\",\"type\":\"Quad\"},\"hover_glyph\":null,\"muted_glyph\":null,\"nonselection_glyph\":{\"id\":\"fc80ce38-77f2-47d4-9acd-f513f35e567b\",\"type\":\"Quad\"},\"selection_glyph\":null,\"view\":{\"id\":\"fd54627d-cf0d-47fd-a021-b21b5e852d59\",\"type\":\"CDSView\"}},\"id\":\"980f1a51-b5ee-4aae-b8ec-b8257b78331f\",\"type\":\"GlyphRenderer\"},{\"attributes\":{\"bottom\":{\"value\":0},\"fill_alpha\":{\"value\":0.5},\"fill_color\":{\"value\":\"navy\"},\"left\":{\"field\":\"left\"},\"line_alpha\":{\"value\":0.5},\"line_color\":{\"value\":\"white\"},\"right\":{\"field\":\"right\"},\"top\":{\"field\":\"top\"}},\"id\":\"7ac7d35f-dc83-4e44-b75f-0267afcc3c24\",\"type\":\"Quad\"}],\"root_ids\":[\"5ac00453-6107-482a-8e97-244ff3f33cef\"]},\"title\":\"Bokeh Application\",\"version\":\"0.13.0\"}};\n",
       "  var render_items = [{\"docid\":\"889eae70-836d-410d-bda9-48d197eb5e88\",\"roots\":{\"5ac00453-6107-482a-8e97-244ff3f33cef\":\"4558e873-0649-49ae-a984-3b71ef543c2c\"}}];\n",
       "  root.Bokeh.embed.embed_items_notebook(docs_json, render_items);\n",
       "\n",
       "  }\n",
       "  if (root.Bokeh !== undefined) {\n",
       "    embed_document(root);\n",
       "  } else {\n",
       "    var attempts = 0;\n",
       "    var timer = setInterval(function(root) {\n",
       "      if (root.Bokeh !== undefined) {\n",
       "        embed_document(root);\n",
       "        clearInterval(timer);\n",
       "      }\n",
       "      attempts++;\n",
       "      if (attempts > 100) {\n",
       "        console.log(\"Bokeh: ERROR: Unable to run BokehJS code because BokehJS library is missing\")\n",
       "        clearInterval(timer);\n",
       "      }\n",
       "    }, 10, root)\n",
       "  }\n",
       "})(window);"
      ],
      "application/vnd.bokehjs_exec.v0+json": ""
     },
     "metadata": {
      "application/vnd.bokehjs_exec.v0+json": {
       "id": "5ac00453-6107-482a-8e97-244ff3f33cef"
      }
     },
     "output_type": "display_data"
    }
   ],
   "source": [
    "# Example of running 200 games with the endgame sequence THT\n",
    "c2 = CoinToss(200, 'THT')\n",
    "c2.run()\n",
    "c2.plot_counts()"
   ]
  },
  {
   "cell_type": "code",
   "execution_count": 160,
   "metadata": {},
   "outputs": [
    {
     "name": "stdout",
     "output_type": "stream",
     "text": [
      "Average number of tosses to win =  35.9155\n"
     ]
    },
    {
     "data": {
      "text/html": [
       "\n",
       "\n",
       "\n",
       "\n",
       "\n",
       "\n",
       "  <div class=\"bk-root\" id=\"4696793b-225b-47a2-a85b-4643003fcf47\"></div>\n"
      ]
     },
     "metadata": {},
     "output_type": "display_data"
    },
    {
     "data": {
      "application/javascript": [
       "(function(root) {\n",
       "  function embed_document(root) {\n",
       "    \n",
       "  var docs_json = {\"bf2aa421-0ad9-4098-a1d6-548b44c5b4fc\":{\"roots\":{\"references\":[{\"attributes\":{\"dimension\":1,\"plot\":{\"id\":\"71ff1525-2d96-418c-a8c2-23894259890d\",\"subtype\":\"Figure\",\"type\":\"Plot\"},\"ticker\":{\"id\":\"6d2c3481-538b-4b98-8512-5df89ba914cc\",\"type\":\"BasicTicker\"}},\"id\":\"801c09c9-0e44-4580-b319-0e3e061b68b3\",\"type\":\"Grid\"},{\"attributes\":{\"axis_label\":\"Number of tosses to reach endgame\",\"formatter\":{\"id\":\"4ed469ca-2330-4415-b429-997ec7fb74de\",\"type\":\"BasicTickFormatter\"},\"plot\":{\"id\":\"71ff1525-2d96-418c-a8c2-23894259890d\",\"subtype\":\"Figure\",\"type\":\"Plot\"},\"ticker\":{\"id\":\"b6df271b-5922-4632-ba20-f070a4cad71b\",\"type\":\"BasicTicker\"}},\"id\":\"637030ce-7d46-424a-875f-c75f24d56c66\",\"type\":\"LinearAxis\"},{\"attributes\":{},\"id\":\"44ea4cd9-e463-42ae-8367-81ebf52749a8\",\"type\":\"BasicTickFormatter\"},{\"attributes\":{\"plot\":null,\"text\":\"\"},\"id\":\"0d7a10db-d36d-42ac-a39c-d30241420ba3\",\"type\":\"Title\"},{\"attributes\":{\"source\":{\"id\":\"190311c0-ce9e-4c7d-8479-233226024ee3\",\"type\":\"ColumnDataSource\"}},\"id\":\"1c85dcc7-6767-4e70-89f4-5f64eb342179\",\"type\":\"CDSView\"},{\"attributes\":{},\"id\":\"b6df271b-5922-4632-ba20-f070a4cad71b\",\"type\":\"BasicTicker\"},{\"attributes\":{\"data_source\":{\"id\":\"190311c0-ce9e-4c7d-8479-233226024ee3\",\"type\":\"ColumnDataSource\"},\"glyph\":{\"id\":\"1094e47e-11f0-4804-8b29-2696867d0596\",\"type\":\"Quad\"},\"hover_glyph\":null,\"muted_glyph\":null,\"nonselection_glyph\":{\"id\":\"e32ceebf-1255-4f40-bacb-4a79a5f476ca\",\"type\":\"Quad\"},\"selection_glyph\":null,\"view\":{\"id\":\"1c85dcc7-6767-4e70-89f4-5f64eb342179\",\"type\":\"CDSView\"}},\"id\":\"e9c7620e-4155-45da-a3d4-f1e438402927\",\"type\":\"GlyphRenderer\"},{\"attributes\":{},\"id\":\"451a18de-c40d-40cb-8544-cdc8159e43e2\",\"type\":\"UnionRenderers\"},{\"attributes\":{\"callback\":null},\"id\":\"42b9cc86-b174-4825-ba30-a455f082a642\",\"type\":\"DataRange1d\"},{\"attributes\":{},\"id\":\"4ed469ca-2330-4415-b429-997ec7fb74de\",\"type\":\"BasicTickFormatter\"},{\"attributes\":{\"callback\":null,\"start\":0},\"id\":\"3677f342-37fb-4907-a6f3-87f5c874db89\",\"type\":\"DataRange1d\"},{\"attributes\":{\"bottom\":{\"value\":0},\"fill_alpha\":{\"value\":0.1},\"fill_color\":{\"value\":\"#1f77b4\"},\"left\":{\"field\":\"left\"},\"line_alpha\":{\"value\":0.1},\"line_color\":{\"value\":\"#1f77b4\"},\"right\":{\"field\":\"right\"},\"top\":{\"field\":\"top\"}},\"id\":\"e32ceebf-1255-4f40-bacb-4a79a5f476ca\",\"type\":\"Quad\"},{\"attributes\":{\"plot\":{\"id\":\"71ff1525-2d96-418c-a8c2-23894259890d\",\"subtype\":\"Figure\",\"type\":\"Plot\"},\"ticker\":{\"id\":\"b6df271b-5922-4632-ba20-f070a4cad71b\",\"type\":\"BasicTicker\"}},\"id\":\"2eebfaf3-314f-4bf4-b429-e5f8c626268c\",\"type\":\"Grid\"},{\"attributes\":{\"background_fill_color\":{\"value\":\"#fafafa\"},\"below\":[{\"id\":\"637030ce-7d46-424a-875f-c75f24d56c66\",\"type\":\"LinearAxis\"}],\"left\":[{\"id\":\"782509ff-da8b-45b4-ada1-b39e0c873193\",\"type\":\"LinearAxis\"}],\"renderers\":[{\"id\":\"637030ce-7d46-424a-875f-c75f24d56c66\",\"type\":\"LinearAxis\"},{\"id\":\"2eebfaf3-314f-4bf4-b429-e5f8c626268c\",\"type\":\"Grid\"},{\"id\":\"782509ff-da8b-45b4-ada1-b39e0c873193\",\"type\":\"LinearAxis\"},{\"id\":\"801c09c9-0e44-4580-b319-0e3e061b68b3\",\"type\":\"Grid\"},{\"id\":\"e9c7620e-4155-45da-a3d4-f1e438402927\",\"type\":\"GlyphRenderer\"}],\"title\":{\"id\":\"0d7a10db-d36d-42ac-a39c-d30241420ba3\",\"type\":\"Title\"},\"toolbar\":{\"id\":\"19b17b30-8600-4519-8219-f34d44124dea\",\"type\":\"Toolbar\"},\"x_range\":{\"id\":\"42b9cc86-b174-4825-ba30-a455f082a642\",\"type\":\"DataRange1d\"},\"x_scale\":{\"id\":\"f072b334-93cd-4753-a331-507f3506a32d\",\"type\":\"LinearScale\"},\"y_range\":{\"id\":\"3677f342-37fb-4907-a6f3-87f5c874db89\",\"type\":\"DataRange1d\"},\"y_scale\":{\"id\":\"c1173bf6-0590-496d-ad6a-c8209208abf5\",\"type\":\"LinearScale\"}},\"id\":\"71ff1525-2d96-418c-a8c2-23894259890d\",\"subtype\":\"Figure\",\"type\":\"Plot\"},{\"attributes\":{},\"id\":\"6d2c3481-538b-4b98-8512-5df89ba914cc\",\"type\":\"BasicTicker\"},{\"attributes\":{\"bottom\":{\"value\":0},\"fill_alpha\":{\"value\":0.5},\"fill_color\":{\"value\":\"navy\"},\"left\":{\"field\":\"left\"},\"line_alpha\":{\"value\":0.5},\"line_color\":{\"value\":\"white\"},\"right\":{\"field\":\"right\"},\"top\":{\"field\":\"top\"}},\"id\":\"1094e47e-11f0-4804-8b29-2696867d0596\",\"type\":\"Quad\"},{\"attributes\":{},\"id\":\"c1173bf6-0590-496d-ad6a-c8209208abf5\",\"type\":\"LinearScale\"},{\"attributes\":{\"callback\":null,\"data\":{\"left\":{\"__ndarray__\":\"AAAAAAAAFECQwvUoXI8kQB+F61G4Hi9A16NwPQrXNEAfhetRuB46QGdmZmZmZj9A16NwPQpXQkB7FK5H4fpEQB+F61G4nkdAw/UoXI9CSkBnZmZmZuZMQAvXo3A9ik9A16NwPQoXUUApXI/C9WhSQHsUrkfhulNAzczMzMwMVUAfhetRuF5WQHE9CtejsFdAw/UoXI8CWUAVrkfhelRaQGdmZmZmpltAuR6F61H4XEAL16NwPUpeQF2PwvUonF9A16NwPQp3YEAAAAAAACBhQClcj8L1yGFAUrgehetxYkB7FK5H4RpjQKRwPQrXw2NAzczMzMxsZED2KFyPwhVlQB+F61G4vmVASOF6FK5nZkBxPQrXoxBnQJqZmZmZuWdAw/UoXI9iaEDsUbgehQtpQBWuR+F6tGlAPgrXo3BdakBnZmZmZgZrQJDC9Shcr2tAuR6F61FYbEDiehSuRwFtQAvXo3A9qm1ANDMzMzNTbkBdj8L1KPxuQIbrUbgepW9A16NwPQoncEDsUbgehXtwQA==\",\"dtype\":\"float64\",\"shape\":[50]},\"right\":{\"__ndarray__\":\"kML1KFyPJEAfhetRuB4vQNejcD0K1zRAH4XrUbgeOkBnZmZmZmY/QNejcD0KV0JAexSuR+H6REAfhetRuJ5HQMP1KFyPQkpAZ2ZmZmbmTEAL16NwPYpPQNejcD0KF1FAKVyPwvVoUkB7FK5H4bpTQM3MzMzMDFVAH4XrUbheVkBxPQrXo7BXQMP1KFyPAllAFa5H4XpUWkBnZmZmZqZbQLkehetR+FxAC9ejcD1KXkBdj8L1KJxfQNejcD0Kd2BAAAAAAAAgYUApXI/C9chhQFK4HoXrcWJAexSuR+EaY0CkcD0K18NjQM3MzMzMbGRA9ihcj8IVZUAfhetRuL5lQEjhehSuZ2ZAcT0K16MQZ0CamZmZmblnQMP1KFyPYmhA7FG4HoULaUAVrkfherRpQD4K16NwXWpAZ2ZmZmYGa0CQwvUoXK9rQLkehetRWGxA4noUrkcBbUAL16NwPaptQDQzMzMzU25AXY/C9Sj8bkCG61G4HqVvQNejcD0KJ3BA7FG4HoV7cEAAAAAAANBwQA==\",\"dtype\":\"float64\",\"shape\":[50]},\"top\":[371,236,199,210,131,117,106,107,81,64,74,57,27,36,29,22,25,15,11,16,14,9,5,2,4,7,2,2,4,2,2,2,1,2,0,0,1,1,0,2,1,1,0,0,1,0,0,0,0,1]},\"selected\":{\"id\":\"4d87e343-ffab-475a-9619-53d9f36e7f05\",\"type\":\"Selection\"},\"selection_policy\":{\"id\":\"451a18de-c40d-40cb-8544-cdc8159e43e2\",\"type\":\"UnionRenderers\"}},\"id\":\"190311c0-ce9e-4c7d-8479-233226024ee3\",\"type\":\"ColumnDataSource\"},{\"attributes\":{},\"id\":\"f072b334-93cd-4753-a331-507f3506a32d\",\"type\":\"LinearScale\"},{\"attributes\":{\"active_drag\":\"auto\",\"active_inspect\":\"auto\",\"active_multi\":null,\"active_scroll\":\"auto\",\"active_tap\":\"auto\"},\"id\":\"19b17b30-8600-4519-8219-f34d44124dea\",\"type\":\"Toolbar\"},{\"attributes\":{\"axis_label\":\"counts\",\"formatter\":{\"id\":\"44ea4cd9-e463-42ae-8367-81ebf52749a8\",\"type\":\"BasicTickFormatter\"},\"plot\":{\"id\":\"71ff1525-2d96-418c-a8c2-23894259890d\",\"subtype\":\"Figure\",\"type\":\"Plot\"},\"ticker\":{\"id\":\"6d2c3481-538b-4b98-8512-5df89ba914cc\",\"type\":\"BasicTicker\"}},\"id\":\"782509ff-da8b-45b4-ada1-b39e0c873193\",\"type\":\"LinearAxis\"},{\"attributes\":{},\"id\":\"4d87e343-ffab-475a-9619-53d9f36e7f05\",\"type\":\"Selection\"}],\"root_ids\":[\"71ff1525-2d96-418c-a8c2-23894259890d\"]},\"title\":\"Bokeh Application\",\"version\":\"0.13.0\"}};\n",
       "  var render_items = [{\"docid\":\"bf2aa421-0ad9-4098-a1d6-548b44c5b4fc\",\"roots\":{\"71ff1525-2d96-418c-a8c2-23894259890d\":\"4696793b-225b-47a2-a85b-4643003fcf47\"}}];\n",
       "  root.Bokeh.embed.embed_items_notebook(docs_json, render_items);\n",
       "\n",
       "  }\n",
       "  if (root.Bokeh !== undefined) {\n",
       "    embed_document(root);\n",
       "  } else {\n",
       "    var attempts = 0;\n",
       "    var timer = setInterval(function(root) {\n",
       "      if (root.Bokeh !== undefined) {\n",
       "        embed_document(root);\n",
       "        clearInterval(timer);\n",
       "      }\n",
       "      attempts++;\n",
       "      if (attempts > 100) {\n",
       "        console.log(\"Bokeh: ERROR: Unable to run BokehJS code because BokehJS library is missing\")\n",
       "        clearInterval(timer);\n",
       "      }\n",
       "    }, 10, root)\n",
       "  }\n",
       "})(window);"
      ],
      "application/vnd.bokehjs_exec.v0+json": ""
     },
     "metadata": {
      "application/vnd.bokehjs_exec.v0+json": {
       "id": "71ff1525-2d96-418c-a8c2-23894259890d"
      }
     },
     "output_type": "display_data"
    }
   ],
   "source": [
    "# Example of running 2000 games with the endgame sequence HTHHT\n",
    "c3 = CoinToss(2000, 'HTHHT')\n",
    "c3.run()\n",
    "c3.plot_counts()"
   ]
  },
  {
   "cell_type": "code",
   "execution_count": null,
   "metadata": {},
   "outputs": [],
   "source": [
    "# Example of running 2000 games with the endgame sequence HHHHH\n",
    "c3 = CoinToss(2000, 'HHHHH')\n",
    "c3.run()\n",
    "c3.plot_counts()"
   ]
  },
  {
   "cell_type": "code",
   "execution_count": null,
   "metadata": {},
   "outputs": [],
   "source": []
  }
 ],
 "metadata": {
  "kernelspec": {
   "display_name": "Python 3",
   "language": "python",
   "name": "python3"
  },
  "language_info": {
   "codemirror_mode": {
    "name": "ipython",
    "version": 3
   },
   "file_extension": ".py",
   "mimetype": "text/x-python",
   "name": "python",
   "nbconvert_exporter": "python",
   "pygments_lexer": "ipython3",
   "version": "3.6.2"
  }
 },
 "nbformat": 4,
 "nbformat_minor": 2
}
