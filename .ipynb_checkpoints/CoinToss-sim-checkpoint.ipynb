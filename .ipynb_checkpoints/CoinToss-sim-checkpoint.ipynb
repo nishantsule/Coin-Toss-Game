{
 "cells": [
  {
   "cell_type": "markdown",
   "metadata": {},
   "source": [
    "## Coin Toss Game"
   ]
  },
  {
   "cell_type": "markdown",
   "metadata": {},
   "source": [
    "This notebook simulates a coin tossing game where the player gets to pick a string of head/tail occurances as the endgame. A coin is tossed until the chosen sequence of head/tail occurs. When the endgame sequence occurs the game ends. The objective is that for a given length of the endgame what is the sequence of head/tail occurances that will be end the game with the least number of tosses. This is simulated by running a given number of coin toss games with the chosen endgame sequence. The avarage number of tosses required to win is computed and its distribution is plotted."
   ]
  },
  {
   "cell_type": "code",
   "execution_count": null,
   "metadata": {},
   "outputs": [],
   "source": [
    "# Import useful packages\n",
    "import numpy as np\n",
    "from collections import deque\n",
    "from bokeh.io import push_notebook, show, output_notebook\n",
    "from bokeh.plotting import figure \n",
    "output_notebook()"
   ]
  },
  {
   "cell_type": "code",
   "execution_count": 171,
   "metadata": {},
   "outputs": [],
   "source": [
    "# Defines a class for the coin toss game\n",
    "class CoinToss:\n",
    "    # Initializing variables\n",
    "    def __init__(self, number_of_games, endgame):\n",
    "        self.numgames = number_of_games\n",
    "        self.endgamelen = len(endgame)\n",
    "        self.endgame = endgame\n",
    "        self.reset()\n",
    "    # Reset all the counters\n",
    "    def reset(self):\n",
    "        self.counter = np.zeros(self.numgames)\n",
    "    # Run the coin toss game\n",
    "    def run(self):\n",
    "        curr_seq = deque('', self.endgamelen)\n",
    "        endgame_reached = False\n",
    "        for i in range(self.numgames):\n",
    "            while not endgame_reached:\n",
    "                self.counter[i] += 1\n",
    "                if np.random.random_sample() < 0.5:\n",
    "                    curr_seq.append('H')\n",
    "                else:\n",
    "                    curr_seq.append('T')\n",
    "                check = sum(cs == eg for (cs, eg) in zip(curr_seq, self.endgame))\n",
    "                if check == self.endgamelen:\n",
    "                    endgame_reached = True\n",
    "                    curr_seq.clear()\n",
    "            endgame_reached = False\n",
    "        print('Average number of tosses to reach endgame = ', np.mean(self.counter))\n",
    "    # Plot the distribution of number of tosses required to end the game\n",
    "    def plot_counts(self):\n",
    "        hist, edges = np.histogram(self.counter, density=False, bins=50)\n",
    "        p = figure(title='{} games with endgame {}'.format(self.numgames, self.endgame), \n",
    "                   tools='', background_fill_color='#fafafa')\n",
    "        p.quad(top=hist, bottom=0, left=edges[:-1], right=edges[1:], fill_color=\"navy\", line_color=\"white\", alpha=0.5)\n",
    "        p.y_range.start = 0\n",
    "        p.xaxis.axis_label = 'Number of tosses to reach endgame'\n",
    "        p.yaxis.axis_label = 'counts'\n",
    "        show(p)"
   ]
  },
  {
   "cell_type": "code",
   "execution_count": 172,
   "metadata": {},
   "outputs": [
    {
     "name": "stdout",
     "output_type": "stream",
     "text": [
      "Average number of tosses to win =  13.13\n"
     ]
    },
    {
     "data": {
      "text/html": [
       "\n",
       "\n",
       "\n",
       "\n",
       "\n",
       "\n",
       "  <div class=\"bk-root\" id=\"bebccea9-36ff-42b3-bdba-219d2f4a3a61\"></div>\n"
      ]
     },
     "metadata": {},
     "output_type": "display_data"
    },
    {
     "data": {
      "application/javascript": [
       "(function(root) {\n",
       "  function embed_document(root) {\n",
       "    \n",
       "  var docs_json = {\"c88c6b0d-46be-4b5a-aaf0-e98ae659e63c\":{\"roots\":{\"references\":[{\"attributes\":{\"active_drag\":\"auto\",\"active_inspect\":\"auto\",\"active_multi\":null,\"active_scroll\":\"auto\",\"active_tap\":\"auto\"},\"id\":\"b0c2bafc-68f4-4918-88d6-f5ad32aacfcb\",\"type\":\"Toolbar\"},{\"attributes\":{\"callback\":null,\"data\":{\"left\":{\"__ndarray__\":\"AAAAAAAACEAzMzMzMzMRQGZmZmZmZhZAmpmZmZmZG0BmZmZmZmYgQAAAAAAAACNAmpmZmZmZJUAzMzMzMzMoQM3MzMzMzCpAZ2ZmZmZmLUAAAAAAAAAwQM3MzMzMTDFAmpmZmZmZMkBnZmZmZuYzQDMzMzMzMzVAAAAAAACANkDNzMzMzMw3QJqZmZmZGTlAZ2ZmZmZmOkAzMzMzM7M7QAAAAAAAAD1AzczMzMxMPkCamZmZmZk/QDQzMzMzc0BAmpmZmZkZQUAAAAAAAMBBQGdmZmZmZkJAzczMzMwMQ0AzMzMzM7NDQJqZmZmZWURAAAAAAAAARUBnZmZmZqZFQM3MzMzMTEZAMzMzMzPzRkCamZmZmZlHQAAAAAAAQEhAZ2ZmZmbmSEDNzMzMzIxJQDMzMzMzM0pAmpmZmZnZSkAAAAAAAIBLQGdmZmZmJkxAzczMzMzMTEAzMzMzM3NNQJqZmZmZGU5AAAAAAADATkBnZmZmZmZPQGZmZmZmBlBAmpmZmZlZUEDNzMzMzKxQQA==\",\"dtype\":\"float64\",\"shape\":[50]},\"right\":{\"__ndarray__\":\"MzMzMzMzEUBmZmZmZmYWQJqZmZmZmRtAZmZmZmZmIEAAAAAAAAAjQJqZmZmZmSVAMzMzMzMzKEDNzMzMzMwqQGdmZmZmZi1AAAAAAAAAMEDNzMzMzEwxQJqZmZmZmTJAZ2ZmZmbmM0AzMzMzMzM1QAAAAAAAgDZAzczMzMzMN0CamZmZmRk5QGdmZmZmZjpAMzMzMzOzO0AAAAAAAAA9QM3MzMzMTD5AmpmZmZmZP0A0MzMzM3NAQJqZmZmZGUFAAAAAAADAQUBnZmZmZmZCQM3MzMzMDENAMzMzMzOzQ0CamZmZmVlEQAAAAAAAAEVAZ2ZmZmamRUDNzMzMzExGQDMzMzMz80ZAmpmZmZmZR0AAAAAAAEBIQGdmZmZm5khAzczMzMyMSUAzMzMzMzNKQJqZmZmZ2UpAAAAAAACAS0BnZmZmZiZMQM3MzMzMzExAMzMzMzNzTUCamZmZmRlOQAAAAAAAwE5AZ2ZmZmZmT0BmZmZmZgZQQJqZmZmZWVBAzczMzMysUEAAAAAAAABRQA==\",\"dtype\":\"float64\",\"shape\":[50]},\"top\":[49,10,14,24,8,9,12,5,6,5,12,1,5,5,2,4,5,2,0,2,1,1,2,2,1,1,1,1,2,1,0,1,1,0,0,0,1,0,0,0,1,0,1,0,0,0,0,0,0,2]},\"selected\":{\"id\":\"a1d69d8a-751d-49bd-a416-d3ad34c2655f\",\"type\":\"Selection\"},\"selection_policy\":{\"id\":\"86b78acc-3732-4815-859a-496bb67f42ba\",\"type\":\"UnionRenderers\"}},\"id\":\"5cfef3b6-3cdd-4a31-ad79-538d4c6f91a3\",\"type\":\"ColumnDataSource\"},{\"attributes\":{\"callback\":null},\"id\":\"8c1e125a-37d7-4642-88f8-8e1f9ef5afba\",\"type\":\"DataRange1d\"},{\"attributes\":{\"source\":{\"id\":\"5cfef3b6-3cdd-4a31-ad79-538d4c6f91a3\",\"type\":\"ColumnDataSource\"}},\"id\":\"a2f31c24-5992-4447-8427-c3edea9b0761\",\"type\":\"CDSView\"},{\"attributes\":{\"bottom\":{\"value\":0},\"fill_alpha\":{\"value\":0.5},\"fill_color\":{\"value\":\"navy\"},\"left\":{\"field\":\"left\"},\"line_alpha\":{\"value\":0.5},\"line_color\":{\"value\":\"white\"},\"right\":{\"field\":\"right\"},\"top\":{\"field\":\"top\"}},\"id\":\"118e538e-6f7b-45ef-95bd-3997cfb9dfeb\",\"type\":\"Quad\"},{\"attributes\":{\"dimension\":1,\"plot\":{\"id\":\"1b552b3a-b4f7-4b39-b6db-c6c0b8781b6d\",\"subtype\":\"Figure\",\"type\":\"Plot\"},\"ticker\":{\"id\":\"27e88b62-68e0-4a75-aa26-3eaebe8aeca2\",\"type\":\"BasicTicker\"}},\"id\":\"81f5670c-5032-4c0d-8927-681b2196abc8\",\"type\":\"Grid\"},{\"attributes\":{\"data_source\":{\"id\":\"5cfef3b6-3cdd-4a31-ad79-538d4c6f91a3\",\"type\":\"ColumnDataSource\"},\"glyph\":{\"id\":\"118e538e-6f7b-45ef-95bd-3997cfb9dfeb\",\"type\":\"Quad\"},\"hover_glyph\":null,\"muted_glyph\":null,\"nonselection_glyph\":{\"id\":\"5eb1c4fd-4fdd-46e7-ae35-396a8557dfc4\",\"type\":\"Quad\"},\"selection_glyph\":null,\"view\":{\"id\":\"a2f31c24-5992-4447-8427-c3edea9b0761\",\"type\":\"CDSView\"}},\"id\":\"f865859d-7f07-4568-8d36-7d5b7ce36040\",\"type\":\"GlyphRenderer\"},{\"attributes\":{},\"id\":\"27e88b62-68e0-4a75-aa26-3eaebe8aeca2\",\"type\":\"BasicTicker\"},{\"attributes\":{},\"id\":\"41257cf7-3d64-4e61-a44d-b3ef877ae140\",\"type\":\"LinearScale\"},{\"attributes\":{},\"id\":\"a1d69d8a-751d-49bd-a416-d3ad34c2655f\",\"type\":\"Selection\"},{\"attributes\":{\"bottom\":{\"value\":0},\"fill_alpha\":{\"value\":0.1},\"fill_color\":{\"value\":\"#1f77b4\"},\"left\":{\"field\":\"left\"},\"line_alpha\":{\"value\":0.1},\"line_color\":{\"value\":\"#1f77b4\"},\"right\":{\"field\":\"right\"},\"top\":{\"field\":\"top\"}},\"id\":\"5eb1c4fd-4fdd-46e7-ae35-396a8557dfc4\",\"type\":\"Quad\"},{\"attributes\":{\"plot\":null,\"text\":\"200 games with endgame TTT\"},\"id\":\"5ac0b0ef-1d29-436f-8ed4-8a93940e0717\",\"type\":\"Title\"},{\"attributes\":{\"callback\":null,\"start\":0},\"id\":\"096f61d4-25ad-4639-990e-7b170f3024a8\",\"type\":\"DataRange1d\"},{\"attributes\":{\"axis_label\":\"counts\",\"formatter\":{\"id\":\"35533850-3088-433e-a6e0-d774b49a4cb9\",\"type\":\"BasicTickFormatter\"},\"plot\":{\"id\":\"1b552b3a-b4f7-4b39-b6db-c6c0b8781b6d\",\"subtype\":\"Figure\",\"type\":\"Plot\"},\"ticker\":{\"id\":\"27e88b62-68e0-4a75-aa26-3eaebe8aeca2\",\"type\":\"BasicTicker\"}},\"id\":\"768b3e8a-de75-4f8f-a051-778220825569\",\"type\":\"LinearAxis\"},{\"attributes\":{},\"id\":\"10354422-c9c3-4878-990d-a7724a697122\",\"type\":\"BasicTicker\"},{\"attributes\":{\"axis_label\":\"Number of tosses to reach endgame\",\"formatter\":{\"id\":\"6b1677de-acfd-4e17-b64d-b8a729615ce9\",\"type\":\"BasicTickFormatter\"},\"plot\":{\"id\":\"1b552b3a-b4f7-4b39-b6db-c6c0b8781b6d\",\"subtype\":\"Figure\",\"type\":\"Plot\"},\"ticker\":{\"id\":\"10354422-c9c3-4878-990d-a7724a697122\",\"type\":\"BasicTicker\"}},\"id\":\"ed43159b-363a-4593-bcae-a8c7fad47965\",\"type\":\"LinearAxis\"},{\"attributes\":{},\"id\":\"35533850-3088-433e-a6e0-d774b49a4cb9\",\"type\":\"BasicTickFormatter\"},{\"attributes\":{},\"id\":\"3aacbc63-77a6-4d20-80da-3c4c3860e71b\",\"type\":\"LinearScale\"},{\"attributes\":{\"background_fill_color\":{\"value\":\"#fafafa\"},\"below\":[{\"id\":\"ed43159b-363a-4593-bcae-a8c7fad47965\",\"type\":\"LinearAxis\"}],\"left\":[{\"id\":\"768b3e8a-de75-4f8f-a051-778220825569\",\"type\":\"LinearAxis\"}],\"renderers\":[{\"id\":\"ed43159b-363a-4593-bcae-a8c7fad47965\",\"type\":\"LinearAxis\"},{\"id\":\"d01db7d5-29f3-4639-91ba-4d20f5b11849\",\"type\":\"Grid\"},{\"id\":\"768b3e8a-de75-4f8f-a051-778220825569\",\"type\":\"LinearAxis\"},{\"id\":\"81f5670c-5032-4c0d-8927-681b2196abc8\",\"type\":\"Grid\"},{\"id\":\"f865859d-7f07-4568-8d36-7d5b7ce36040\",\"type\":\"GlyphRenderer\"}],\"title\":{\"id\":\"5ac0b0ef-1d29-436f-8ed4-8a93940e0717\",\"type\":\"Title\"},\"toolbar\":{\"id\":\"b0c2bafc-68f4-4918-88d6-f5ad32aacfcb\",\"type\":\"Toolbar\"},\"x_range\":{\"id\":\"8c1e125a-37d7-4642-88f8-8e1f9ef5afba\",\"type\":\"DataRange1d\"},\"x_scale\":{\"id\":\"41257cf7-3d64-4e61-a44d-b3ef877ae140\",\"type\":\"LinearScale\"},\"y_range\":{\"id\":\"096f61d4-25ad-4639-990e-7b170f3024a8\",\"type\":\"DataRange1d\"},\"y_scale\":{\"id\":\"3aacbc63-77a6-4d20-80da-3c4c3860e71b\",\"type\":\"LinearScale\"}},\"id\":\"1b552b3a-b4f7-4b39-b6db-c6c0b8781b6d\",\"subtype\":\"Figure\",\"type\":\"Plot\"},{\"attributes\":{},\"id\":\"6b1677de-acfd-4e17-b64d-b8a729615ce9\",\"type\":\"BasicTickFormatter\"},{\"attributes\":{},\"id\":\"86b78acc-3732-4815-859a-496bb67f42ba\",\"type\":\"UnionRenderers\"},{\"attributes\":{\"plot\":{\"id\":\"1b552b3a-b4f7-4b39-b6db-c6c0b8781b6d\",\"subtype\":\"Figure\",\"type\":\"Plot\"},\"ticker\":{\"id\":\"10354422-c9c3-4878-990d-a7724a697122\",\"type\":\"BasicTicker\"}},\"id\":\"d01db7d5-29f3-4639-91ba-4d20f5b11849\",\"type\":\"Grid\"}],\"root_ids\":[\"1b552b3a-b4f7-4b39-b6db-c6c0b8781b6d\"]},\"title\":\"Bokeh Application\",\"version\":\"0.13.0\"}};\n",
       "  var render_items = [{\"docid\":\"c88c6b0d-46be-4b5a-aaf0-e98ae659e63c\",\"roots\":{\"1b552b3a-b4f7-4b39-b6db-c6c0b8781b6d\":\"bebccea9-36ff-42b3-bdba-219d2f4a3a61\"}}];\n",
       "  root.Bokeh.embed.embed_items_notebook(docs_json, render_items);\n",
       "\n",
       "  }\n",
       "  if (root.Bokeh !== undefined) {\n",
       "    embed_document(root);\n",
       "  } else {\n",
       "    var attempts = 0;\n",
       "    var timer = setInterval(function(root) {\n",
       "      if (root.Bokeh !== undefined) {\n",
       "        embed_document(root);\n",
       "        clearInterval(timer);\n",
       "      }\n",
       "      attempts++;\n",
       "      if (attempts > 100) {\n",
       "        console.log(\"Bokeh: ERROR: Unable to run BokehJS code because BokehJS library is missing\")\n",
       "        clearInterval(timer);\n",
       "      }\n",
       "    }, 10, root)\n",
       "  }\n",
       "})(window);"
      ],
      "application/vnd.bokehjs_exec.v0+json": ""
     },
     "metadata": {
      "application/vnd.bokehjs_exec.v0+json": {
       "id": "1b552b3a-b4f7-4b39-b6db-c6c0b8781b6d"
      }
     },
     "output_type": "display_data"
    }
   ],
   "source": [
    "# Example of running 200 games with the endgame sequence TTT\n",
    "c1 = CoinToss(200, 'TTT')\n",
    "c1.run()\n",
    "c1.plot_counts()"
   ]
  },
  {
   "cell_type": "code",
   "execution_count": 173,
   "metadata": {},
   "outputs": [
    {
     "name": "stdout",
     "output_type": "stream",
     "text": [
      "Average number of tosses to win =  9.54\n"
     ]
    },
    {
     "data": {
      "text/html": [
       "\n",
       "\n",
       "\n",
       "\n",
       "\n",
       "\n",
       "  <div class=\"bk-root\" id=\"ca7c3da2-b947-4789-92b6-801c6a6c5aa6\"></div>\n"
      ]
     },
     "metadata": {},
     "output_type": "display_data"
    },
    {
     "data": {
      "application/javascript": [
       "(function(root) {\n",
       "  function embed_document(root) {\n",
       "    \n",
       "  var docs_json = {\"8d54ae95-e54c-44e4-a2b1-dbce2691e92d\":{\"roots\":{\"references\":[{\"attributes\":{\"callback\":null,\"start\":0},\"id\":\"0c0afd89-c63b-48d4-8309-4fe66ca4457d\",\"type\":\"DataRange1d\"},{\"attributes\":{\"axis_label\":\"counts\",\"formatter\":{\"id\":\"ce806ad6-4c9d-4ead-a528-75a1efc8481b\",\"type\":\"BasicTickFormatter\"},\"plot\":{\"id\":\"124c8eaa-d548-4552-ba43-4692e32611f2\",\"subtype\":\"Figure\",\"type\":\"Plot\"},\"ticker\":{\"id\":\"d88ff8d3-10c4-4679-8bed-0a6d9498cf47\",\"type\":\"BasicTicker\"}},\"id\":\"693adfbf-0304-47b4-bb6f-ddd0cd8962a8\",\"type\":\"LinearAxis\"},{\"attributes\":{\"bottom\":{\"value\":0},\"fill_alpha\":{\"value\":0.1},\"fill_color\":{\"value\":\"#1f77b4\"},\"left\":{\"field\":\"left\"},\"line_alpha\":{\"value\":0.1},\"line_color\":{\"value\":\"#1f77b4\"},\"right\":{\"field\":\"right\"},\"top\":{\"field\":\"top\"}},\"id\":\"2a74bd32-c792-40ab-ac59-6a5ca5a8b19d\",\"type\":\"Quad\"},{\"attributes\":{\"callback\":null,\"data\":{\"left\":{\"__ndarray__\":\"AAAAAAAACEAUrkfhehQQQClcj8L1KBRAPgrXo3A9GEBSuB6F61EcQDMzMzMzMyBAPgrXo3A9IkBI4XoUrkckQFK4HoXrUSZAXI/C9ShcKEBmZmZmZmYqQHE9CtejcCxAexSuR+F6LkDC9Shcj0IwQEjhehSuRzFAzczMzMxMMkBSuB6F61EzQNejcD0KVzRAXI/C9ShcNUDhehSuR2E2QGZmZmZmZjdA7FG4HoVrOEBxPQrXo3A5QPYoXI/CdTpAexSuR+F6O0AAAAAAAIA8QIXrUbgehT1ACtejcD2KPkCQwvUoXI8/QArXo3A9SkBAzczMzMzMQECQwvUoXE9BQFK4HoXr0UFAFa5H4XpUQkDXo3A9CtdCQJqZmZmZWUNAXI/C9SjcQ0AfhetRuF5EQOF6FK5H4URApHA9CtdjRUBmZmZmZuZFQClcj8L1aEZA7FG4HoXrRkCuR+F6FG5HQHE9Ctej8EdAMzMzMzNzSED2KFyPwvVIQLgehetReElAexSuR+H6SUA+CtejcH1KQA==\",\"dtype\":\"float64\",\"shape\":[50]},\"right\":{\"__ndarray__\":\"FK5H4XoUEEApXI/C9SgUQD4K16NwPRhAUrgehetRHEAzMzMzMzMgQD4K16NwPSJASOF6FK5HJEBSuB6F61EmQFyPwvUoXChAZmZmZmZmKkBxPQrXo3AsQHsUrkfhei5AwvUoXI9CMEBI4XoUrkcxQM3MzMzMTDJAUrgehetRM0DXo3A9Clc0QFyPwvUoXDVA4XoUrkdhNkBmZmZmZmY3QOxRuB6FazhAcT0K16NwOUD2KFyPwnU6QHsUrkfhejtAAAAAAACAPECF61G4HoU9QArXo3A9ij5AkML1KFyPP0AK16NwPUpAQM3MzMzMzEBAkML1KFxPQUBSuB6F69FBQBWuR+F6VEJA16NwPQrXQkCamZmZmVlDQFyPwvUo3ENAH4XrUbheREDhehSuR+FEQKRwPQrXY0VAZmZmZmbmRUApXI/C9WhGQOxRuB6F60ZArkfhehRuR0BxPQrXo/BHQDMzMzMzc0hA9ihcj8L1SEC4HoXrUXhJQHsUrkfh+klAPgrXo3B9SkAAAAAAAABLQA==\",\"dtype\":\"float64\",\"shape\":[50]},\"top\":[56,15,17,13,14,8,14,15,6,3,5,7,1,5,1,2,1,0,3,3,1,2,1,1,0,1,0,0,0,0,0,1,0,1,1,0,0,1,0,0,0,0,0,0,0,0,0,0,0,1]},\"selected\":{\"id\":\"e7fc9bde-c84b-44ad-b1ad-dad0708e57ea\",\"type\":\"Selection\"},\"selection_policy\":{\"id\":\"474c7898-fbf1-4856-bbf6-bd1e8c8e13b0\",\"type\":\"UnionRenderers\"}},\"id\":\"70458794-de6f-4741-9290-985dda24e266\",\"type\":\"ColumnDataSource\"},{\"attributes\":{\"plot\":{\"id\":\"124c8eaa-d548-4552-ba43-4692e32611f2\",\"subtype\":\"Figure\",\"type\":\"Plot\"},\"ticker\":{\"id\":\"29fd6a82-ee5e-48e0-8349-76d8b942e115\",\"type\":\"BasicTicker\"}},\"id\":\"28b41ee1-a094-41fc-969d-c38794600070\",\"type\":\"Grid\"},{\"attributes\":{},\"id\":\"29fd6a82-ee5e-48e0-8349-76d8b942e115\",\"type\":\"BasicTicker\"},{\"attributes\":{\"bottom\":{\"value\":0},\"fill_alpha\":{\"value\":0.5},\"fill_color\":{\"value\":\"navy\"},\"left\":{\"field\":\"left\"},\"line_alpha\":{\"value\":0.5},\"line_color\":{\"value\":\"white\"},\"right\":{\"field\":\"right\"},\"top\":{\"field\":\"top\"}},\"id\":\"5089b3b0-ccb0-4b6f-aca6-03ec222c4df8\",\"type\":\"Quad\"},{\"attributes\":{},\"id\":\"2ef5bcf3-86eb-44ad-b845-ec0595014e69\",\"type\":\"BasicTickFormatter\"},{\"attributes\":{\"background_fill_color\":{\"value\":\"#fafafa\"},\"below\":[{\"id\":\"292a0d27-5c29-4abb-a213-1f2895422439\",\"type\":\"LinearAxis\"}],\"left\":[{\"id\":\"693adfbf-0304-47b4-bb6f-ddd0cd8962a8\",\"type\":\"LinearAxis\"}],\"renderers\":[{\"id\":\"292a0d27-5c29-4abb-a213-1f2895422439\",\"type\":\"LinearAxis\"},{\"id\":\"28b41ee1-a094-41fc-969d-c38794600070\",\"type\":\"Grid\"},{\"id\":\"693adfbf-0304-47b4-bb6f-ddd0cd8962a8\",\"type\":\"LinearAxis\"},{\"id\":\"3e18a92f-5c41-4eb1-9013-10546fc4e8c7\",\"type\":\"Grid\"},{\"id\":\"c9a7032d-7f48-487c-a703-e3da09977be9\",\"type\":\"GlyphRenderer\"}],\"title\":{\"id\":\"1b63bc12-47e6-4c4f-b93f-1526f25a392a\",\"type\":\"Title\"},\"toolbar\":{\"id\":\"7321e7c4-e2c6-4a2d-bd5f-b7121586b68b\",\"type\":\"Toolbar\"},\"x_range\":{\"id\":\"1ee1dca9-637d-46bd-96e3-0193ad8255ff\",\"type\":\"DataRange1d\"},\"x_scale\":{\"id\":\"9a47c4fe-098b-425c-8222-dd2116ddd2ff\",\"type\":\"LinearScale\"},\"y_range\":{\"id\":\"0c0afd89-c63b-48d4-8309-4fe66ca4457d\",\"type\":\"DataRange1d\"},\"y_scale\":{\"id\":\"4d028b99-9ad2-4b98-9ec4-a3b577f66ed5\",\"type\":\"LinearScale\"}},\"id\":\"124c8eaa-d548-4552-ba43-4692e32611f2\",\"subtype\":\"Figure\",\"type\":\"Plot\"},{\"attributes\":{\"source\":{\"id\":\"70458794-de6f-4741-9290-985dda24e266\",\"type\":\"ColumnDataSource\"}},\"id\":\"aeff8657-beb4-422a-86cb-e2f46fb35a65\",\"type\":\"CDSView\"},{\"attributes\":{\"callback\":null},\"id\":\"1ee1dca9-637d-46bd-96e3-0193ad8255ff\",\"type\":\"DataRange1d\"},{\"attributes\":{\"active_drag\":\"auto\",\"active_inspect\":\"auto\",\"active_multi\":null,\"active_scroll\":\"auto\",\"active_tap\":\"auto\"},\"id\":\"7321e7c4-e2c6-4a2d-bd5f-b7121586b68b\",\"type\":\"Toolbar\"},{\"attributes\":{\"axis_label\":\"Number of tosses to reach endgame\",\"formatter\":{\"id\":\"2ef5bcf3-86eb-44ad-b845-ec0595014e69\",\"type\":\"BasicTickFormatter\"},\"plot\":{\"id\":\"124c8eaa-d548-4552-ba43-4692e32611f2\",\"subtype\":\"Figure\",\"type\":\"Plot\"},\"ticker\":{\"id\":\"29fd6a82-ee5e-48e0-8349-76d8b942e115\",\"type\":\"BasicTicker\"}},\"id\":\"292a0d27-5c29-4abb-a213-1f2895422439\",\"type\":\"LinearAxis\"},{\"attributes\":{},\"id\":\"e7fc9bde-c84b-44ad-b1ad-dad0708e57ea\",\"type\":\"Selection\"},{\"attributes\":{},\"id\":\"d88ff8d3-10c4-4679-8bed-0a6d9498cf47\",\"type\":\"BasicTicker\"},{\"attributes\":{\"data_source\":{\"id\":\"70458794-de6f-4741-9290-985dda24e266\",\"type\":\"ColumnDataSource\"},\"glyph\":{\"id\":\"5089b3b0-ccb0-4b6f-aca6-03ec222c4df8\",\"type\":\"Quad\"},\"hover_glyph\":null,\"muted_glyph\":null,\"nonselection_glyph\":{\"id\":\"2a74bd32-c792-40ab-ac59-6a5ca5a8b19d\",\"type\":\"Quad\"},\"selection_glyph\":null,\"view\":{\"id\":\"aeff8657-beb4-422a-86cb-e2f46fb35a65\",\"type\":\"CDSView\"}},\"id\":\"c9a7032d-7f48-487c-a703-e3da09977be9\",\"type\":\"GlyphRenderer\"},{\"attributes\":{},\"id\":\"9a47c4fe-098b-425c-8222-dd2116ddd2ff\",\"type\":\"LinearScale\"},{\"attributes\":{\"plot\":null,\"text\":\"200 games with endgame THT\"},\"id\":\"1b63bc12-47e6-4c4f-b93f-1526f25a392a\",\"type\":\"Title\"},{\"attributes\":{},\"id\":\"ce806ad6-4c9d-4ead-a528-75a1efc8481b\",\"type\":\"BasicTickFormatter\"},{\"attributes\":{\"dimension\":1,\"plot\":{\"id\":\"124c8eaa-d548-4552-ba43-4692e32611f2\",\"subtype\":\"Figure\",\"type\":\"Plot\"},\"ticker\":{\"id\":\"d88ff8d3-10c4-4679-8bed-0a6d9498cf47\",\"type\":\"BasicTicker\"}},\"id\":\"3e18a92f-5c41-4eb1-9013-10546fc4e8c7\",\"type\":\"Grid\"},{\"attributes\":{},\"id\":\"474c7898-fbf1-4856-bbf6-bd1e8c8e13b0\",\"type\":\"UnionRenderers\"},{\"attributes\":{},\"id\":\"4d028b99-9ad2-4b98-9ec4-a3b577f66ed5\",\"type\":\"LinearScale\"}],\"root_ids\":[\"124c8eaa-d548-4552-ba43-4692e32611f2\"]},\"title\":\"Bokeh Application\",\"version\":\"0.13.0\"}};\n",
       "  var render_items = [{\"docid\":\"8d54ae95-e54c-44e4-a2b1-dbce2691e92d\",\"roots\":{\"124c8eaa-d548-4552-ba43-4692e32611f2\":\"ca7c3da2-b947-4789-92b6-801c6a6c5aa6\"}}];\n",
       "  root.Bokeh.embed.embed_items_notebook(docs_json, render_items);\n",
       "\n",
       "  }\n",
       "  if (root.Bokeh !== undefined) {\n",
       "    embed_document(root);\n",
       "  } else {\n",
       "    var attempts = 0;\n",
       "    var timer = setInterval(function(root) {\n",
       "      if (root.Bokeh !== undefined) {\n",
       "        embed_document(root);\n",
       "        clearInterval(timer);\n",
       "      }\n",
       "      attempts++;\n",
       "      if (attempts > 100) {\n",
       "        console.log(\"Bokeh: ERROR: Unable to run BokehJS code because BokehJS library is missing\")\n",
       "        clearInterval(timer);\n",
       "      }\n",
       "    }, 10, root)\n",
       "  }\n",
       "})(window);"
      ],
      "application/vnd.bokehjs_exec.v0+json": ""
     },
     "metadata": {
      "application/vnd.bokehjs_exec.v0+json": {
       "id": "124c8eaa-d548-4552-ba43-4692e32611f2"
      }
     },
     "output_type": "display_data"
    }
   ],
   "source": [
    "# Example of running 200 games with the endgame sequence THT\n",
    "c2 = CoinToss(200, 'THT')\n",
    "c2.run()\n",
    "c2.plot_counts()"
   ]
  },
  {
   "cell_type": "code",
   "execution_count": 174,
   "metadata": {},
   "outputs": [
    {
     "name": "stdout",
     "output_type": "stream",
     "text": [
      "Average number of tosses to win =  35.852\n"
     ]
    },
    {
     "data": {
      "text/html": [
       "\n",
       "\n",
       "\n",
       "\n",
       "\n",
       "\n",
       "  <div class=\"bk-root\" id=\"0f6f417a-11c3-4af9-baf4-545a1cf92e8e\"></div>\n"
      ]
     },
     "metadata": {},
     "output_type": "display_data"
    },
    {
     "data": {
      "application/javascript": [
       "(function(root) {\n",
       "  function embed_document(root) {\n",
       "    \n",
       "  var docs_json = {\"dfe75e6c-6fbb-4271-9f97-30c8c6a91474\":{\"roots\":{\"references\":[{\"attributes\":{},\"id\":\"a4a9fef9-edf3-4f51-8133-768c64ddaba7\",\"type\":\"BasicTicker\"},{\"attributes\":{\"axis_label\":\"Number of tosses to reach endgame\",\"formatter\":{\"id\":\"437a0720-1436-4460-9b73-fe0ace91f0a6\",\"type\":\"BasicTickFormatter\"},\"plot\":{\"id\":\"f052c23e-f11e-4218-8a37-42f02db9ebb3\",\"subtype\":\"Figure\",\"type\":\"Plot\"},\"ticker\":{\"id\":\"a4a9fef9-edf3-4f51-8133-768c64ddaba7\",\"type\":\"BasicTicker\"}},\"id\":\"0edd567e-dd8a-43d0-a7db-ba2e757cd1c0\",\"type\":\"LinearAxis\"},{\"attributes\":{\"callback\":null,\"start\":0},\"id\":\"e65d9e89-9379-4229-a185-4cbeecc3ae58\",\"type\":\"DataRange1d\"},{\"attributes\":{\"axis_label\":\"counts\",\"formatter\":{\"id\":\"8e6e6ac6-8374-4788-8cfc-ff7b9f8a4770\",\"type\":\"BasicTickFormatter\"},\"plot\":{\"id\":\"f052c23e-f11e-4218-8a37-42f02db9ebb3\",\"subtype\":\"Figure\",\"type\":\"Plot\"},\"ticker\":{\"id\":\"12f44d54-1732-4687-bcff-e2c31d9ddc4f\",\"type\":\"BasicTicker\"}},\"id\":\"f8306616-b73b-481a-8a93-9b27fbcbbdef\",\"type\":\"LinearAxis\"},{\"attributes\":{\"plot\":{\"id\":\"f052c23e-f11e-4218-8a37-42f02db9ebb3\",\"subtype\":\"Figure\",\"type\":\"Plot\"},\"ticker\":{\"id\":\"a4a9fef9-edf3-4f51-8133-768c64ddaba7\",\"type\":\"BasicTicker\"}},\"id\":\"9799fb4d-20a9-46cc-abe8-ab636d23aec3\",\"type\":\"Grid\"},{\"attributes\":{},\"id\":\"7dec7a04-60c2-479a-b7c3-c1a1eb7e6426\",\"type\":\"LinearScale\"},{\"attributes\":{},\"id\":\"12f44d54-1732-4687-bcff-e2c31d9ddc4f\",\"type\":\"BasicTicker\"},{\"attributes\":{},\"id\":\"8e6e6ac6-8374-4788-8cfc-ff7b9f8a4770\",\"type\":\"BasicTickFormatter\"},{\"attributes\":{\"plot\":null,\"text\":\"2000 games with endgame HTHHT\"},\"id\":\"da01bec2-7621-4a0e-bb1e-1ef6247cb3f2\",\"type\":\"Title\"},{\"attributes\":{\"background_fill_color\":{\"value\":\"#fafafa\"},\"below\":[{\"id\":\"0edd567e-dd8a-43d0-a7db-ba2e757cd1c0\",\"type\":\"LinearAxis\"}],\"left\":[{\"id\":\"f8306616-b73b-481a-8a93-9b27fbcbbdef\",\"type\":\"LinearAxis\"}],\"renderers\":[{\"id\":\"0edd567e-dd8a-43d0-a7db-ba2e757cd1c0\",\"type\":\"LinearAxis\"},{\"id\":\"9799fb4d-20a9-46cc-abe8-ab636d23aec3\",\"type\":\"Grid\"},{\"id\":\"f8306616-b73b-481a-8a93-9b27fbcbbdef\",\"type\":\"LinearAxis\"},{\"id\":\"9480cfde-0b31-4541-8d36-fe809dc008d6\",\"type\":\"Grid\"},{\"id\":\"f135c167-de8f-44e5-ae03-8c5f9ed99784\",\"type\":\"GlyphRenderer\"}],\"title\":{\"id\":\"da01bec2-7621-4a0e-bb1e-1ef6247cb3f2\",\"type\":\"Title\"},\"toolbar\":{\"id\":\"f67e17ec-5aea-49a0-985d-9264598dc09e\",\"type\":\"Toolbar\"},\"x_range\":{\"id\":\"d382bdac-d207-4a03-827d-ff5fa2f92d55\",\"type\":\"DataRange1d\"},\"x_scale\":{\"id\":\"7dec7a04-60c2-479a-b7c3-c1a1eb7e6426\",\"type\":\"LinearScale\"},\"y_range\":{\"id\":\"e65d9e89-9379-4229-a185-4cbeecc3ae58\",\"type\":\"DataRange1d\"},\"y_scale\":{\"id\":\"961651e1-c056-4b45-b133-fd4a38f36302\",\"type\":\"LinearScale\"}},\"id\":\"f052c23e-f11e-4218-8a37-42f02db9ebb3\",\"subtype\":\"Figure\",\"type\":\"Plot\"},{\"attributes\":{\"callback\":null,\"data\":{\"left\":{\"__ndarray__\":\"AAAAAAAAFEDiehSuR+EiQMP1KFyPwitAUrgehetRMkDD9Shcj8I2QDQzMzMzMztApHA9CtejP0AK16NwPQpCQMP1KFyPQkRAexSuR+F6RkA0MzMzM7NIQOxRuB6F60pApHA9CtcjTUBdj8L1KFxPQArXo3A9ylBAZ2ZmZmbmUUDD9ShcjwJTQB+F61G4HlRAexSuR+E6VUDYo3A9CldWQDQzMzMzc1dAkML1KFyPWEDsUbgehatZQEjhehSux1pApHA9CtfjW0ABAAAAAABdQF2PwvUoHF5AuR6F61E4X0AK16NwPSpgQLkehetRuGBAZ2ZmZmZGYUAVrkfhetRhQMP1KFyPYmJAcT0K16PwYkAfhetRuH5jQM3MzMzMDGRAexSuR+GaZEApXI/C9ShlQNijcD0Kt2VAhutRuB5FZkA0MzMzM9NmQOJ6FK5HYWdAkML1KFzvZ0A+CtejcH1oQOxRuB6FC2lAmpmZmZmZaUBI4XoUridqQPYoXI/CtWpApHA9CtdDa0BTuB6F69FrQA==\",\"dtype\":\"float64\",\"shape\":[50]},\"right\":{\"__ndarray__\":\"4noUrkfhIkDD9Shcj8IrQFK4HoXrUTJAw/UoXI/CNkA0MzMzMzM7QKRwPQrXoz9ACtejcD0KQkDD9Shcj0JEQHsUrkfhekZANDMzMzOzSEDsUbgehetKQKRwPQrXI01AXY/C9ShcT0AK16NwPcpQQGdmZmZm5lFAw/UoXI8CU0AfhetRuB5UQHsUrkfhOlVA2KNwPQpXVkA0MzMzM3NXQJDC9Shcj1hA7FG4HoWrWUBI4XoUrsdaQKRwPQrX41tAAQAAAAAAXUBdj8L1KBxeQLkehetROF9ACtejcD0qYEC5HoXrUbhgQGdmZmZmRmFAFa5H4XrUYUDD9Shcj2JiQHE9Ctej8GJAH4XrUbh+Y0DNzMzMzAxkQHsUrkfhmmRAKVyPwvUoZUDYo3A9CrdlQIbrUbgeRWZANDMzMzPTZkDiehSuR2FnQJDC9Shc72dAPgrXo3B9aEDsUbgehQtpQJqZmZmZmWlASOF6FK4nakD2KFyPwrVqQKRwPQrXQ2tAU7gehevRa0AAAAAAAGBsQA==\",\"dtype\":\"float64\",\"shape\":[50]},\"top\":[284,191,222,165,158,122,118,103,86,71,68,47,46,53,41,26,28,15,24,18,15,12,16,7,15,8,8,5,3,2,2,3,1,2,1,2,2,1,2,1,1,0,1,1,0,2,0,0,0,1]},\"selected\":{\"id\":\"117ca0a4-afe6-45b1-91ba-c28062f86404\",\"type\":\"Selection\"},\"selection_policy\":{\"id\":\"24396139-ad20-46ca-bcda-270667d06543\",\"type\":\"UnionRenderers\"}},\"id\":\"04019886-ea76-4d00-a801-a6fb545832df\",\"type\":\"ColumnDataSource\"},{\"attributes\":{\"bottom\":{\"value\":0},\"fill_alpha\":{\"value\":0.5},\"fill_color\":{\"value\":\"navy\"},\"left\":{\"field\":\"left\"},\"line_alpha\":{\"value\":0.5},\"line_color\":{\"value\":\"white\"},\"right\":{\"field\":\"right\"},\"top\":{\"field\":\"top\"}},\"id\":\"bdffd0c6-9e40-4132-a76f-cab7a6958815\",\"type\":\"Quad\"},{\"attributes\":{\"source\":{\"id\":\"04019886-ea76-4d00-a801-a6fb545832df\",\"type\":\"ColumnDataSource\"}},\"id\":\"87252607-0ed3-4b2d-9cb4-edf6c0448909\",\"type\":\"CDSView\"},{\"attributes\":{\"active_drag\":\"auto\",\"active_inspect\":\"auto\",\"active_multi\":null,\"active_scroll\":\"auto\",\"active_tap\":\"auto\"},\"id\":\"f67e17ec-5aea-49a0-985d-9264598dc09e\",\"type\":\"Toolbar\"},{\"attributes\":{},\"id\":\"961651e1-c056-4b45-b133-fd4a38f36302\",\"type\":\"LinearScale\"},{\"attributes\":{},\"id\":\"437a0720-1436-4460-9b73-fe0ace91f0a6\",\"type\":\"BasicTickFormatter\"},{\"attributes\":{\"dimension\":1,\"plot\":{\"id\":\"f052c23e-f11e-4218-8a37-42f02db9ebb3\",\"subtype\":\"Figure\",\"type\":\"Plot\"},\"ticker\":{\"id\":\"12f44d54-1732-4687-bcff-e2c31d9ddc4f\",\"type\":\"BasicTicker\"}},\"id\":\"9480cfde-0b31-4541-8d36-fe809dc008d6\",\"type\":\"Grid\"},{\"attributes\":{},\"id\":\"24396139-ad20-46ca-bcda-270667d06543\",\"type\":\"UnionRenderers\"},{\"attributes\":{},\"id\":\"117ca0a4-afe6-45b1-91ba-c28062f86404\",\"type\":\"Selection\"},{\"attributes\":{\"data_source\":{\"id\":\"04019886-ea76-4d00-a801-a6fb545832df\",\"type\":\"ColumnDataSource\"},\"glyph\":{\"id\":\"bdffd0c6-9e40-4132-a76f-cab7a6958815\",\"type\":\"Quad\"},\"hover_glyph\":null,\"muted_glyph\":null,\"nonselection_glyph\":{\"id\":\"5e1f6d2b-ca1f-4f60-861d-f814cb24611f\",\"type\":\"Quad\"},\"selection_glyph\":null,\"view\":{\"id\":\"87252607-0ed3-4b2d-9cb4-edf6c0448909\",\"type\":\"CDSView\"}},\"id\":\"f135c167-de8f-44e5-ae03-8c5f9ed99784\",\"type\":\"GlyphRenderer\"},{\"attributes\":{\"bottom\":{\"value\":0},\"fill_alpha\":{\"value\":0.1},\"fill_color\":{\"value\":\"#1f77b4\"},\"left\":{\"field\":\"left\"},\"line_alpha\":{\"value\":0.1},\"line_color\":{\"value\":\"#1f77b4\"},\"right\":{\"field\":\"right\"},\"top\":{\"field\":\"top\"}},\"id\":\"5e1f6d2b-ca1f-4f60-861d-f814cb24611f\",\"type\":\"Quad\"},{\"attributes\":{\"callback\":null},\"id\":\"d382bdac-d207-4a03-827d-ff5fa2f92d55\",\"type\":\"DataRange1d\"}],\"root_ids\":[\"f052c23e-f11e-4218-8a37-42f02db9ebb3\"]},\"title\":\"Bokeh Application\",\"version\":\"0.13.0\"}};\n",
       "  var render_items = [{\"docid\":\"dfe75e6c-6fbb-4271-9f97-30c8c6a91474\",\"roots\":{\"f052c23e-f11e-4218-8a37-42f02db9ebb3\":\"0f6f417a-11c3-4af9-baf4-545a1cf92e8e\"}}];\n",
       "  root.Bokeh.embed.embed_items_notebook(docs_json, render_items);\n",
       "\n",
       "  }\n",
       "  if (root.Bokeh !== undefined) {\n",
       "    embed_document(root);\n",
       "  } else {\n",
       "    var attempts = 0;\n",
       "    var timer = setInterval(function(root) {\n",
       "      if (root.Bokeh !== undefined) {\n",
       "        embed_document(root);\n",
       "        clearInterval(timer);\n",
       "      }\n",
       "      attempts++;\n",
       "      if (attempts > 100) {\n",
       "        console.log(\"Bokeh: ERROR: Unable to run BokehJS code because BokehJS library is missing\")\n",
       "        clearInterval(timer);\n",
       "      }\n",
       "    }, 10, root)\n",
       "  }\n",
       "})(window);"
      ],
      "application/vnd.bokehjs_exec.v0+json": ""
     },
     "metadata": {
      "application/vnd.bokehjs_exec.v0+json": {
       "id": "f052c23e-f11e-4218-8a37-42f02db9ebb3"
      }
     },
     "output_type": "display_data"
    }
   ],
   "source": [
    "# Example of running 2000 games with the endgame sequence HTHHT\n",
    "c3 = CoinToss(2000, 'HTHHT')\n",
    "c3.run()\n",
    "c3.plot_counts()"
   ]
  },
  {
   "cell_type": "code",
   "execution_count": 175,
   "metadata": {},
   "outputs": [
    {
     "name": "stdout",
     "output_type": "stream",
     "text": [
      "Average number of tosses to win =  61.3615\n"
     ]
    },
    {
     "data": {
      "text/html": [
       "\n",
       "\n",
       "\n",
       "\n",
       "\n",
       "\n",
       "  <div class=\"bk-root\" id=\"1af50128-07c5-475e-90d6-50fc29b9d5db\"></div>\n"
      ]
     },
     "metadata": {},
     "output_type": "display_data"
    },
    {
     "data": {
      "application/javascript": [
       "(function(root) {\n",
       "  function embed_document(root) {\n",
       "    \n",
       "  var docs_json = {\"a66d3aac-901c-4098-a57e-3e9e87f795f6\":{\"roots\":{\"references\":[{\"attributes\":{\"callback\":null},\"id\":\"48fd969d-acc8-4350-8658-90d595190887\",\"type\":\"DataRange1d\"},{\"attributes\":{\"dimension\":1,\"plot\":{\"id\":\"2a389e2c-c5c8-4cde-83b0-108073e726fe\",\"subtype\":\"Figure\",\"type\":\"Plot\"},\"ticker\":{\"id\":\"066318f2-d32f-4915-a8d9-545dcd6d5bec\",\"type\":\"BasicTicker\"}},\"id\":\"0e0a3a8f-ecc3-4be5-b56c-ffab48bd412a\",\"type\":\"Grid\"},{\"attributes\":{\"background_fill_color\":{\"value\":\"#fafafa\"},\"below\":[{\"id\":\"20643e1c-ff05-4176-9c8c-26067cf95cd2\",\"type\":\"LinearAxis\"}],\"left\":[{\"id\":\"1f81c56a-4e65-4f46-86ab-b2ae4b80cc64\",\"type\":\"LinearAxis\"}],\"renderers\":[{\"id\":\"20643e1c-ff05-4176-9c8c-26067cf95cd2\",\"type\":\"LinearAxis\"},{\"id\":\"3e930e57-6355-4896-bdc8-2c8a781fd28b\",\"type\":\"Grid\"},{\"id\":\"1f81c56a-4e65-4f46-86ab-b2ae4b80cc64\",\"type\":\"LinearAxis\"},{\"id\":\"0e0a3a8f-ecc3-4be5-b56c-ffab48bd412a\",\"type\":\"Grid\"},{\"id\":\"8dae2e7b-e44d-44f5-af78-bb3e6c8533ca\",\"type\":\"GlyphRenderer\"}],\"title\":{\"id\":\"1e46d7b0-adce-4305-8989-9f60cc29866c\",\"type\":\"Title\"},\"toolbar\":{\"id\":\"a410a76d-e009-405f-9d3d-6827962db501\",\"type\":\"Toolbar\"},\"x_range\":{\"id\":\"48fd969d-acc8-4350-8658-90d595190887\",\"type\":\"DataRange1d\"},\"x_scale\":{\"id\":\"0901bdb4-15b8-440a-8b84-ee63ce6ebf37\",\"type\":\"LinearScale\"},\"y_range\":{\"id\":\"7726e9c8-b8f6-4899-bb04-bf1d6a4cf636\",\"type\":\"DataRange1d\"},\"y_scale\":{\"id\":\"5af9bb03-f0c1-44c0-a49e-753ce24c93e4\",\"type\":\"LinearScale\"}},\"id\":\"2a389e2c-c5c8-4cde-83b0-108073e726fe\",\"subtype\":\"Figure\",\"type\":\"Plot\"},{\"attributes\":{},\"id\":\"aca1d906-46a1-422e-baca-2a18f0a47488\",\"type\":\"UnionRenderers\"},{\"attributes\":{\"callback\":null,\"start\":0},\"id\":\"7726e9c8-b8f6-4899-bb04-bf1d6a4cf636\",\"type\":\"DataRange1d\"},{\"attributes\":{\"axis_label\":\"counts\",\"formatter\":{\"id\":\"7baee4c9-7eea-4da3-8073-d010aeecb32a\",\"type\":\"BasicTickFormatter\"},\"plot\":{\"id\":\"2a389e2c-c5c8-4cde-83b0-108073e726fe\",\"subtype\":\"Figure\",\"type\":\"Plot\"},\"ticker\":{\"id\":\"066318f2-d32f-4915-a8d9-545dcd6d5bec\",\"type\":\"BasicTicker\"}},\"id\":\"1f81c56a-4e65-4f46-86ab-b2ae4b80cc64\",\"type\":\"LinearAxis\"},{\"attributes\":{\"source\":{\"id\":\"be6e1bb1-387a-4b63-862d-54def5d3756e\",\"type\":\"ColumnDataSource\"}},\"id\":\"10672e8c-0062-4d2f-87cf-a96cae1e89dd\",\"type\":\"CDSView\"},{\"attributes\":{\"plot\":{\"id\":\"2a389e2c-c5c8-4cde-83b0-108073e726fe\",\"subtype\":\"Figure\",\"type\":\"Plot\"},\"ticker\":{\"id\":\"f373c9b0-e1f4-44c6-bd03-fe2d5ff877f6\",\"type\":\"BasicTicker\"}},\"id\":\"3e930e57-6355-4896-bdc8-2c8a781fd28b\",\"type\":\"Grid\"},{\"attributes\":{\"plot\":null,\"text\":\"2000 games with endgame HHHHH\"},\"id\":\"1e46d7b0-adce-4305-8989-9f60cc29866c\",\"type\":\"Title\"},{\"attributes\":{},\"id\":\"8164eff1-6880-4367-bd92-7cc54a748eae\",\"type\":\"BasicTickFormatter\"},{\"attributes\":{},\"id\":\"f373c9b0-e1f4-44c6-bd03-fe2d5ff877f6\",\"type\":\"BasicTicker\"},{\"attributes\":{},\"id\":\"0901bdb4-15b8-440a-8b84-ee63ce6ebf37\",\"type\":\"LinearScale\"},{\"attributes\":{},\"id\":\"7baee4c9-7eea-4da3-8073-d010aeecb32a\",\"type\":\"BasicTickFormatter\"},{\"attributes\":{\"bottom\":{\"value\":0},\"fill_alpha\":{\"value\":0.5},\"fill_color\":{\"value\":\"navy\"},\"left\":{\"field\":\"left\"},\"line_alpha\":{\"value\":0.5},\"line_color\":{\"value\":\"white\"},\"right\":{\"field\":\"right\"},\"top\":{\"field\":\"top\"}},\"id\":\"3bffe838-21c6-4c0a-a366-994d37009e61\",\"type\":\"Quad\"},{\"attributes\":{\"axis_label\":\"Number of tosses to reach endgame\",\"formatter\":{\"id\":\"8164eff1-6880-4367-bd92-7cc54a748eae\",\"type\":\"BasicTickFormatter\"},\"plot\":{\"id\":\"2a389e2c-c5c8-4cde-83b0-108073e726fe\",\"subtype\":\"Figure\",\"type\":\"Plot\"},\"ticker\":{\"id\":\"f373c9b0-e1f4-44c6-bd03-fe2d5ff877f6\",\"type\":\"BasicTicker\"}},\"id\":\"20643e1c-ff05-4176-9c8c-26067cf95cd2\",\"type\":\"LinearAxis\"},{\"attributes\":{\"active_drag\":\"auto\",\"active_inspect\":\"auto\",\"active_multi\":null,\"active_scroll\":\"auto\",\"active_tap\":\"auto\"},\"id\":\"a410a76d-e009-405f-9d3d-6827962db501\",\"type\":\"Toolbar\"},{\"attributes\":{\"callback\":null,\"data\":{\"left\":{\"__ndarray__\":\"AAAAAAAAFEDNzMzMzMwtQM3MzMzMzDhAmpmZmZlZQUDNzMzMzExGQAAAAAAAQEtAmpmZmZkZUEAzMzMzM5NSQM3MzMzMDFVAZ2ZmZmaGV0AAAAAAAABaQJqZmZmZeVxANDMzMzPzXkBnZmZmZrZgQDMzMzMz82FAAAAAAAAwY0DNzMzMzGxkQJqZmZmZqWVAZ2ZmZmbmZkAzMzMzMyNoQAAAAAAAYGlAzczMzMycakCamZmZmdlrQGdmZmZmFm1ANDMzMzNTbkAAAAAAAJBvQGdmZmZmZnBAzczMzMwEcUAzMzMzM6NxQJqZmZmZQXJAAAAAAADgckBnZmZmZn5zQM3MzMzMHHRAMzMzMzO7dECamZmZmVl1QAAAAAAA+HVAZ2ZmZmaWdkDNzMzMzDR3QDMzMzMz03dAmpmZmZlxeEAAAAAAABB5QGdmZmZmrnlAzczMzMxMekAzMzMzM+t6QJqZmZmZiXtAAAAAAAAofEBnZmZmZsZ8QM3MzMzMZH1ANDMzMzMDfkCamZmZmaF+QA==\",\"dtype\":\"float64\",\"shape\":[50]},\"right\":{\"__ndarray__\":\"zczMzMzMLUDNzMzMzMw4QJqZmZmZWUFAzczMzMxMRkAAAAAAAEBLQJqZmZmZGVBAMzMzMzOTUkDNzMzMzAxVQGdmZmZmhldAAAAAAAAAWkCamZmZmXlcQDQzMzMz815AZ2ZmZma2YEAzMzMzM/NhQAAAAAAAMGNAzczMzMxsZECamZmZmallQGdmZmZm5mZAMzMzMzMjaEAAAAAAAGBpQM3MzMzMnGpAmpmZmZnZa0BnZmZmZhZtQDQzMzMzU25AAAAAAACQb0BnZmZmZmZwQM3MzMzMBHFAMzMzMzOjcUCamZmZmUFyQAAAAAAA4HJAZ2ZmZmZ+c0DNzMzMzBx0QDMzMzMzu3RAmpmZmZlZdUAAAAAAAPh1QGdmZmZmlnZAzczMzMw0d0AzMzMzM9N3QJqZmZmZcXhAAAAAAAAQeUBnZmZmZq55QM3MzMzMTHpAMzMzMzPrekCamZmZmYl7QAAAAAAAKHxAZ2ZmZmbGfEDNzMzMzGR9QDQzMzMzA35AmpmZmZmhfkAAAAAAAEB/QA==\",\"dtype\":\"float64\",\"shape\":[50]},\"top\":[348,262,213,194,166,114,121,94,83,63,60,46,35,23,28,18,21,19,10,7,14,7,7,8,4,2,4,9,4,3,1,1,0,3,3,2,1,0,1,0,0,0,0,0,0,0,0,0,0,1]},\"selected\":{\"id\":\"0185916e-8e10-4f8d-ae44-582f684cf750\",\"type\":\"Selection\"},\"selection_policy\":{\"id\":\"aca1d906-46a1-422e-baca-2a18f0a47488\",\"type\":\"UnionRenderers\"}},\"id\":\"be6e1bb1-387a-4b63-862d-54def5d3756e\",\"type\":\"ColumnDataSource\"},{\"attributes\":{},\"id\":\"066318f2-d32f-4915-a8d9-545dcd6d5bec\",\"type\":\"BasicTicker\"},{\"attributes\":{},\"id\":\"5af9bb03-f0c1-44c0-a49e-753ce24c93e4\",\"type\":\"LinearScale\"},{\"attributes\":{},\"id\":\"0185916e-8e10-4f8d-ae44-582f684cf750\",\"type\":\"Selection\"},{\"attributes\":{\"data_source\":{\"id\":\"be6e1bb1-387a-4b63-862d-54def5d3756e\",\"type\":\"ColumnDataSource\"},\"glyph\":{\"id\":\"3bffe838-21c6-4c0a-a366-994d37009e61\",\"type\":\"Quad\"},\"hover_glyph\":null,\"muted_glyph\":null,\"nonselection_glyph\":{\"id\":\"463c28d5-e54c-4b98-9e60-9833738f4f3b\",\"type\":\"Quad\"},\"selection_glyph\":null,\"view\":{\"id\":\"10672e8c-0062-4d2f-87cf-a96cae1e89dd\",\"type\":\"CDSView\"}},\"id\":\"8dae2e7b-e44d-44f5-af78-bb3e6c8533ca\",\"type\":\"GlyphRenderer\"},{\"attributes\":{\"bottom\":{\"value\":0},\"fill_alpha\":{\"value\":0.1},\"fill_color\":{\"value\":\"#1f77b4\"},\"left\":{\"field\":\"left\"},\"line_alpha\":{\"value\":0.1},\"line_color\":{\"value\":\"#1f77b4\"},\"right\":{\"field\":\"right\"},\"top\":{\"field\":\"top\"}},\"id\":\"463c28d5-e54c-4b98-9e60-9833738f4f3b\",\"type\":\"Quad\"}],\"root_ids\":[\"2a389e2c-c5c8-4cde-83b0-108073e726fe\"]},\"title\":\"Bokeh Application\",\"version\":\"0.13.0\"}};\n",
       "  var render_items = [{\"docid\":\"a66d3aac-901c-4098-a57e-3e9e87f795f6\",\"roots\":{\"2a389e2c-c5c8-4cde-83b0-108073e726fe\":\"1af50128-07c5-475e-90d6-50fc29b9d5db\"}}];\n",
       "  root.Bokeh.embed.embed_items_notebook(docs_json, render_items);\n",
       "\n",
       "  }\n",
       "  if (root.Bokeh !== undefined) {\n",
       "    embed_document(root);\n",
       "  } else {\n",
       "    var attempts = 0;\n",
       "    var timer = setInterval(function(root) {\n",
       "      if (root.Bokeh !== undefined) {\n",
       "        embed_document(root);\n",
       "        clearInterval(timer);\n",
       "      }\n",
       "      attempts++;\n",
       "      if (attempts > 100) {\n",
       "        console.log(\"Bokeh: ERROR: Unable to run BokehJS code because BokehJS library is missing\")\n",
       "        clearInterval(timer);\n",
       "      }\n",
       "    }, 10, root)\n",
       "  }\n",
       "})(window);"
      ],
      "application/vnd.bokehjs_exec.v0+json": ""
     },
     "metadata": {
      "application/vnd.bokehjs_exec.v0+json": {
       "id": "2a389e2c-c5c8-4cde-83b0-108073e726fe"
      }
     },
     "output_type": "display_data"
    }
   ],
   "source": [
    "# Example of running 2000 games with the endgame sequence HHHHH\n",
    "c3 = CoinToss(2000, 'HHHHH')\n",
    "c3.run()\n",
    "c3.plot_counts()"
   ]
  },
  {
   "cell_type": "code",
   "execution_count": null,
   "metadata": {},
   "outputs": [],
   "source": []
  }
 ],
 "metadata": {
  "kernelspec": {
   "display_name": "Python 3",
   "language": "python",
   "name": "python3"
  },
  "language_info": {
   "codemirror_mode": {
    "name": "ipython",
    "version": 3
   },
   "file_extension": ".py",
   "mimetype": "text/x-python",
   "name": "python",
   "nbconvert_exporter": "python",
   "pygments_lexer": "ipython3",
   "version": "3.6.2"
  }
 },
 "nbformat": 4,
 "nbformat_minor": 2
}
