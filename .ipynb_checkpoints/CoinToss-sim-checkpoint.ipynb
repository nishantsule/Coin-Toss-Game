{
 "cells": [
  {
   "cell_type": "markdown",
   "metadata": {},
   "source": [
    "## Coin Toss Game"
   ]
  },
  {
   "cell_type": "markdown",
   "metadata": {},
   "source": [
    "This notebook simulates a coin tossing game where the player gets to pick a sequence of head/tail occurences as the endgame. A coin is tossed until the chosen sequence of head/tail occurs and the game ends. The objective is to find the sequence of head/tail occurences that will end the game with the least number of tosses. This is simulated by running a given number of coin toss games with the chosen endgame sequence. The average number of tosses required to win is computed and its distribution is plotted."
   ]
  },
  {
   "cell_type": "code",
   "execution_count": null,
   "metadata": {},
   "outputs": [],
   "source": [
    "# Import useful packages\n",
    "import sys\n",
    "import numpy as np\n",
    "from collections import deque\n",
    "import ipywidgets as widgets\n",
    "from IPython.display import display\n",
    "from bokeh.io import push_notebook, show, output_notebook\n",
    "from bokeh.plotting import figure \n",
    "output_notebook()"
   ]
  },
  {
   "cell_type": "code",
   "execution_count": null,
   "metadata": {},
   "outputs": [],
   "source": [
    "# Defines a class for the coin toss game\n",
    "class CoinToss:\n",
    "    \n",
    "    # Initializing variables\n",
    "    # Arguments: number of games to simulate, sequence of head/tail to end the game\n",
    "    def __init__(self, number_of_games, endgame):\n",
    "        self.numgames = number_of_games\n",
    "        self.endgamelen = len(endgame)\n",
    "        self.endgame = endgame\n",
    "        self.reset()\n",
    "        self.check_endgame()\n",
    "        \n",
    "    # Reset all the counters\n",
    "    def reset(self):\n",
    "        self.counter = np.zeros(self.numgames)\n",
    "        \n",
    "    # Check if endgame is correctly inputted    \n",
    "    def check_endgame(self):\n",
    "        if self.endgame.strip('HT'):\n",
    "            sys.exit('ERROR: Endgame can only be a string containing Hs and/or Ts')\n",
    "                \n",
    "    # Run the coin toss game    \n",
    "    def run(self):        \n",
    "        # Initialize a queue for the current sequence\n",
    "        curr_seq = deque('', self.endgamelen)\n",
    "        endgame_reached = False\n",
    "        # Start looping through number of games \n",
    "        for i in range(self.numgames):\n",
    "            while not endgame_reached:\n",
    "                # Update counter for current game\n",
    "                self.counter[i] += 1\n",
    "                # Check if coin toss resulted in a Head or a Tail\n",
    "                if np.random.random_sample() < 0.5:\n",
    "                    curr_seq.append('H')\n",
    "                else:\n",
    "                    curr_seq.append('T')\n",
    "                # Check if the current sequence is equal to the endgame\n",
    "                check = sum(cs == eg for (cs, eg) in zip(curr_seq, self.endgame))\n",
    "                if check == self.endgamelen:\n",
    "                    endgame_reached = True\n",
    "                    curr_seq.clear()\n",
    "            endgame_reached = False\n",
    "        print('Average number of tosses to reach endgame = ', np.mean(self.counter))\n",
    "        \n",
    "    # Plot the distribution of number of tosses required to end the game\n",
    "    def plot_counts(self):\n",
    "        hist, edges = np.histogram(self.counter, density=False, bins=50)\n",
    "        p = figure(title='{} games with endgame {}'.format(self.numgames, self.endgame), \n",
    "                   tools='', background_fill_color='#fafafa')\n",
    "        p.quad(top=hist, bottom=0, left=edges[:-1], right=edges[1:], fill_color=\"navy\", \n",
    "               line_color=\"white\", alpha=0.5)\n",
    "        p.y_range.start = 0\n",
    "        p.xaxis.axis_label = 'Number of tosses to reach endgame'\n",
    "        p.yaxis.axis_label = 'counts'\n",
    "        show(p)"
   ]
  },
  {
   "cell_type": "code",
   "execution_count": null,
   "metadata": {},
   "outputs": [],
   "source": [
    "# Start the coin tossing game simulation\n",
    "def start_tossing(number_of_games=200, endgame='HH'):\n",
    "    c = CoinToss(number_of_games, endgame)\n",
    "    c.run()\n",
    "    c.plot_counts()\n",
    "\n",
    "# Interactive control for entering number of games\n",
    "style = {'description_width': 'initial'}    \n",
    "number_of_games = widgets.IntSlider(description='Number of games', style=style, \n",
    "                                    min=10, max=5000, step=1, value=200, continuous_update=False)\n",
    "# Interactive control for entering the endgame\n",
    "endgame=widgets.Text(value='HH', placeholder='Type endgame', \n",
    "                     description='Endgame:', disabled=False)\n",
    "# Creating the interactive controls\n",
    "widget_ui = widgets.HBox([number_of_games, endgame])\n",
    "widget_out = widgets.interactive_output(start_tossing, \n",
    "                                        {'number_of_games': number_of_games, 'endgame': endgame})\n",
    "# Display the controls\n",
    "display(widget_ui, widget_out)"
   ]
  },
  {
   "cell_type": "code",
   "execution_count": null,
   "metadata": {},
   "outputs": [],
   "source": []
  }
 ],
 "metadata": {
  "kernelspec": {
   "display_name": "Python 3",
   "language": "python",
   "name": "python3"
  },
  "language_info": {
   "codemirror_mode": {
    "name": "ipython",
    "version": 3
   },
   "file_extension": ".py",
   "mimetype": "text/x-python",
   "name": "python",
   "nbconvert_exporter": "python",
   "pygments_lexer": "ipython3",
   "version": "3.6.2"
  }
 },
 "nbformat": 4,
 "nbformat_minor": 2
}
