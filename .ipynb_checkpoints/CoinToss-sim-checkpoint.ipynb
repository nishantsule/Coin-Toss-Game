{
 "cells": [
  {
   "cell_type": "markdown",
   "metadata": {},
   "source": [
    "## Coin Toss Game"
   ]
  },
  {
   "cell_type": "markdown",
   "metadata": {},
   "source": [
    "This notebook simulates a coin tossing game where the player gets to pick a string of head/tail occurances as the endgame. A coin is tossed until the chosen sequence of head/tail occurs. When the endgame sequence occurs the game ends. The objective is that for a given length of the endgame what is the sequence of head/tail occurances that will be end the game with the least number of tosses. This is simulated by running a given number of coin toss games with the chosen endgame sequence. The avarage number of tosses required to win is computed and its distribution is plotted."
   ]
  },
  {
   "cell_type": "code",
   "execution_count": 1,
   "metadata": {},
   "outputs": [
    {
     "data": {
      "text/html": [
       "\n",
       "    <div class=\"bk-root\">\n",
       "        <a href=\"https://bokeh.pydata.org\" target=\"_blank\" class=\"bk-logo bk-logo-small bk-logo-notebook\"></a>\n",
       "        <span id=\"a77205f4-b7ca-4bea-b318-469b018d1761\">Loading BokehJS ...</span>\n",
       "    </div>"
      ]
     },
     "metadata": {},
     "output_type": "display_data"
    },
    {
     "data": {
      "application/javascript": [
       "\n",
       "(function(root) {\n",
       "  function now() {\n",
       "    return new Date();\n",
       "  }\n",
       "\n",
       "  var force = true;\n",
       "\n",
       "  if (typeof (root._bokeh_onload_callbacks) === \"undefined\" || force === true) {\n",
       "    root._bokeh_onload_callbacks = [];\n",
       "    root._bokeh_is_loading = undefined;\n",
       "  }\n",
       "\n",
       "  var JS_MIME_TYPE = 'application/javascript';\n",
       "  var HTML_MIME_TYPE = 'text/html';\n",
       "  var EXEC_MIME_TYPE = 'application/vnd.bokehjs_exec.v0+json';\n",
       "  var CLASS_NAME = 'output_bokeh rendered_html';\n",
       "\n",
       "  /**\n",
       "   * Render data to the DOM node\n",
       "   */\n",
       "  function render(props, node) {\n",
       "    var script = document.createElement(\"script\");\n",
       "    node.appendChild(script);\n",
       "  }\n",
       "\n",
       "  /**\n",
       "   * Handle when an output is cleared or removed\n",
       "   */\n",
       "  function handleClearOutput(event, handle) {\n",
       "    var cell = handle.cell;\n",
       "\n",
       "    var id = cell.output_area._bokeh_element_id;\n",
       "    var server_id = cell.output_area._bokeh_server_id;\n",
       "    // Clean up Bokeh references\n",
       "    if (id != null && id in Bokeh.index) {\n",
       "      Bokeh.index[id].model.document.clear();\n",
       "      delete Bokeh.index[id];\n",
       "    }\n",
       "\n",
       "    if (server_id !== undefined) {\n",
       "      // Clean up Bokeh references\n",
       "      var cmd = \"from bokeh.io.state import curstate; print(curstate().uuid_to_server['\" + server_id + \"'].get_sessions()[0].document.roots[0]._id)\";\n",
       "      cell.notebook.kernel.execute(cmd, {\n",
       "        iopub: {\n",
       "          output: function(msg) {\n",
       "            var id = msg.content.text.trim();\n",
       "            if (id in Bokeh.index) {\n",
       "              Bokeh.index[id].model.document.clear();\n",
       "              delete Bokeh.index[id];\n",
       "            }\n",
       "          }\n",
       "        }\n",
       "      });\n",
       "      // Destroy server and session\n",
       "      var cmd = \"import bokeh.io.notebook as ion; ion.destroy_server('\" + server_id + \"')\";\n",
       "      cell.notebook.kernel.execute(cmd);\n",
       "    }\n",
       "  }\n",
       "\n",
       "  /**\n",
       "   * Handle when a new output is added\n",
       "   */\n",
       "  function handleAddOutput(event, handle) {\n",
       "    var output_area = handle.output_area;\n",
       "    var output = handle.output;\n",
       "\n",
       "    // limit handleAddOutput to display_data with EXEC_MIME_TYPE content only\n",
       "    if ((output.output_type != \"display_data\") || (!output.data.hasOwnProperty(EXEC_MIME_TYPE))) {\n",
       "      return\n",
       "    }\n",
       "\n",
       "    var toinsert = output_area.element.find(\".\" + CLASS_NAME.split(' ')[0]);\n",
       "\n",
       "    if (output.metadata[EXEC_MIME_TYPE][\"id\"] !== undefined) {\n",
       "      toinsert[toinsert.length - 1].firstChild.textContent = output.data[JS_MIME_TYPE];\n",
       "      // store reference to embed id on output_area\n",
       "      output_area._bokeh_element_id = output.metadata[EXEC_MIME_TYPE][\"id\"];\n",
       "    }\n",
       "    if (output.metadata[EXEC_MIME_TYPE][\"server_id\"] !== undefined) {\n",
       "      var bk_div = document.createElement(\"div\");\n",
       "      bk_div.innerHTML = output.data[HTML_MIME_TYPE];\n",
       "      var script_attrs = bk_div.children[0].attributes;\n",
       "      for (var i = 0; i < script_attrs.length; i++) {\n",
       "        toinsert[toinsert.length - 1].firstChild.setAttribute(script_attrs[i].name, script_attrs[i].value);\n",
       "      }\n",
       "      // store reference to server id on output_area\n",
       "      output_area._bokeh_server_id = output.metadata[EXEC_MIME_TYPE][\"server_id\"];\n",
       "    }\n",
       "  }\n",
       "\n",
       "  function register_renderer(events, OutputArea) {\n",
       "\n",
       "    function append_mime(data, metadata, element) {\n",
       "      // create a DOM node to render to\n",
       "      var toinsert = this.create_output_subarea(\n",
       "        metadata,\n",
       "        CLASS_NAME,\n",
       "        EXEC_MIME_TYPE\n",
       "      );\n",
       "      this.keyboard_manager.register_events(toinsert);\n",
       "      // Render to node\n",
       "      var props = {data: data, metadata: metadata[EXEC_MIME_TYPE]};\n",
       "      render(props, toinsert[toinsert.length - 1]);\n",
       "      element.append(toinsert);\n",
       "      return toinsert\n",
       "    }\n",
       "\n",
       "    /* Handle when an output is cleared or removed */\n",
       "    events.on('clear_output.CodeCell', handleClearOutput);\n",
       "    events.on('delete.Cell', handleClearOutput);\n",
       "\n",
       "    /* Handle when a new output is added */\n",
       "    events.on('output_added.OutputArea', handleAddOutput);\n",
       "\n",
       "    /**\n",
       "     * Register the mime type and append_mime function with output_area\n",
       "     */\n",
       "    OutputArea.prototype.register_mime_type(EXEC_MIME_TYPE, append_mime, {\n",
       "      /* Is output safe? */\n",
       "      safe: true,\n",
       "      /* Index of renderer in `output_area.display_order` */\n",
       "      index: 0\n",
       "    });\n",
       "  }\n",
       "\n",
       "  // register the mime type if in Jupyter Notebook environment and previously unregistered\n",
       "  if (root.Jupyter !== undefined) {\n",
       "    var events = require('base/js/events');\n",
       "    var OutputArea = require('notebook/js/outputarea').OutputArea;\n",
       "\n",
       "    if (OutputArea.prototype.mime_types().indexOf(EXEC_MIME_TYPE) == -1) {\n",
       "      register_renderer(events, OutputArea);\n",
       "    }\n",
       "  }\n",
       "\n",
       "  \n",
       "  if (typeof (root._bokeh_timeout) === \"undefined\" || force === true) {\n",
       "    root._bokeh_timeout = Date.now() + 5000;\n",
       "    root._bokeh_failed_load = false;\n",
       "  }\n",
       "\n",
       "  var NB_LOAD_WARNING = {'data': {'text/html':\n",
       "     \"<div style='background-color: #fdd'>\\n\"+\n",
       "     \"<p>\\n\"+\n",
       "     \"BokehJS does not appear to have successfully loaded. If loading BokehJS from CDN, this \\n\"+\n",
       "     \"may be due to a slow or bad network connection. Possible fixes:\\n\"+\n",
       "     \"</p>\\n\"+\n",
       "     \"<ul>\\n\"+\n",
       "     \"<li>re-rerun `output_notebook()` to attempt to load from CDN again, or</li>\\n\"+\n",
       "     \"<li>use INLINE resources instead, as so:</li>\\n\"+\n",
       "     \"</ul>\\n\"+\n",
       "     \"<code>\\n\"+\n",
       "     \"from bokeh.resources import INLINE\\n\"+\n",
       "     \"output_notebook(resources=INLINE)\\n\"+\n",
       "     \"</code>\\n\"+\n",
       "     \"</div>\"}};\n",
       "\n",
       "  function display_loaded() {\n",
       "    var el = document.getElementById(\"a77205f4-b7ca-4bea-b318-469b018d1761\");\n",
       "    if (el != null) {\n",
       "      el.textContent = \"BokehJS is loading...\";\n",
       "    }\n",
       "    if (root.Bokeh !== undefined) {\n",
       "      if (el != null) {\n",
       "        el.textContent = \"BokehJS \" + root.Bokeh.version + \" successfully loaded.\";\n",
       "      }\n",
       "    } else if (Date.now() < root._bokeh_timeout) {\n",
       "      setTimeout(display_loaded, 100)\n",
       "    }\n",
       "  }\n",
       "\n",
       "\n",
       "  function run_callbacks() {\n",
       "    try {\n",
       "      root._bokeh_onload_callbacks.forEach(function(callback) { callback() });\n",
       "    }\n",
       "    finally {\n",
       "      delete root._bokeh_onload_callbacks\n",
       "    }\n",
       "    console.info(\"Bokeh: all callbacks have finished\");\n",
       "  }\n",
       "\n",
       "  function load_libs(js_urls, callback) {\n",
       "    root._bokeh_onload_callbacks.push(callback);\n",
       "    if (root._bokeh_is_loading > 0) {\n",
       "      console.log(\"Bokeh: BokehJS is being loaded, scheduling callback at\", now());\n",
       "      return null;\n",
       "    }\n",
       "    if (js_urls == null || js_urls.length === 0) {\n",
       "      run_callbacks();\n",
       "      return null;\n",
       "    }\n",
       "    console.log(\"Bokeh: BokehJS not loaded, scheduling load and callback at\", now());\n",
       "    root._bokeh_is_loading = js_urls.length;\n",
       "    for (var i = 0; i < js_urls.length; i++) {\n",
       "      var url = js_urls[i];\n",
       "      var s = document.createElement('script');\n",
       "      s.src = url;\n",
       "      s.async = false;\n",
       "      s.onreadystatechange = s.onload = function() {\n",
       "        root._bokeh_is_loading--;\n",
       "        if (root._bokeh_is_loading === 0) {\n",
       "          console.log(\"Bokeh: all BokehJS libraries loaded\");\n",
       "          run_callbacks()\n",
       "        }\n",
       "      };\n",
       "      s.onerror = function() {\n",
       "        console.warn(\"failed to load library \" + url);\n",
       "      };\n",
       "      console.log(\"Bokeh: injecting script tag for BokehJS library: \", url);\n",
       "      document.getElementsByTagName(\"head\")[0].appendChild(s);\n",
       "    }\n",
       "  };var element = document.getElementById(\"a77205f4-b7ca-4bea-b318-469b018d1761\");\n",
       "  if (element == null) {\n",
       "    console.log(\"Bokeh: ERROR: autoload.js configured with elementid 'a77205f4-b7ca-4bea-b318-469b018d1761' but no matching script tag was found. \")\n",
       "    return false;\n",
       "  }\n",
       "\n",
       "  var js_urls = [\"https://cdn.pydata.org/bokeh/release/bokeh-0.13.0.min.js\", \"https://cdn.pydata.org/bokeh/release/bokeh-widgets-0.13.0.min.js\", \"https://cdn.pydata.org/bokeh/release/bokeh-tables-0.13.0.min.js\", \"https://cdn.pydata.org/bokeh/release/bokeh-gl-0.13.0.min.js\"];\n",
       "\n",
       "  var inline_js = [\n",
       "    function(Bokeh) {\n",
       "      Bokeh.set_log_level(\"info\");\n",
       "    },\n",
       "    \n",
       "    function(Bokeh) {\n",
       "      \n",
       "    },\n",
       "    function(Bokeh) {\n",
       "      console.log(\"Bokeh: injecting CSS: https://cdn.pydata.org/bokeh/release/bokeh-0.13.0.min.css\");\n",
       "      Bokeh.embed.inject_css(\"https://cdn.pydata.org/bokeh/release/bokeh-0.13.0.min.css\");\n",
       "      console.log(\"Bokeh: injecting CSS: https://cdn.pydata.org/bokeh/release/bokeh-widgets-0.13.0.min.css\");\n",
       "      Bokeh.embed.inject_css(\"https://cdn.pydata.org/bokeh/release/bokeh-widgets-0.13.0.min.css\");\n",
       "      console.log(\"Bokeh: injecting CSS: https://cdn.pydata.org/bokeh/release/bokeh-tables-0.13.0.min.css\");\n",
       "      Bokeh.embed.inject_css(\"https://cdn.pydata.org/bokeh/release/bokeh-tables-0.13.0.min.css\");\n",
       "    }\n",
       "  ];\n",
       "\n",
       "  function run_inline_js() {\n",
       "    \n",
       "    if ((root.Bokeh !== undefined) || (force === true)) {\n",
       "      for (var i = 0; i < inline_js.length; i++) {\n",
       "        inline_js[i].call(root, root.Bokeh);\n",
       "      }if (force === true) {\n",
       "        display_loaded();\n",
       "      }} else if (Date.now() < root._bokeh_timeout) {\n",
       "      setTimeout(run_inline_js, 100);\n",
       "    } else if (!root._bokeh_failed_load) {\n",
       "      console.log(\"Bokeh: BokehJS failed to load within specified timeout.\");\n",
       "      root._bokeh_failed_load = true;\n",
       "    } else if (force !== true) {\n",
       "      var cell = $(document.getElementById(\"a77205f4-b7ca-4bea-b318-469b018d1761\")).parents('.cell').data().cell;\n",
       "      cell.output_area.append_execute_result(NB_LOAD_WARNING)\n",
       "    }\n",
       "\n",
       "  }\n",
       "\n",
       "  if (root._bokeh_is_loading === 0) {\n",
       "    console.log(\"Bokeh: BokehJS loaded, going straight to plotting\");\n",
       "    run_inline_js();\n",
       "  } else {\n",
       "    load_libs(js_urls, function() {\n",
       "      console.log(\"Bokeh: BokehJS plotting callback run at\", now());\n",
       "      run_inline_js();\n",
       "    });\n",
       "  }\n",
       "}(window));"
      ],
      "application/vnd.bokehjs_load.v0+json": "\n(function(root) {\n  function now() {\n    return new Date();\n  }\n\n  var force = true;\n\n  if (typeof (root._bokeh_onload_callbacks) === \"undefined\" || force === true) {\n    root._bokeh_onload_callbacks = [];\n    root._bokeh_is_loading = undefined;\n  }\n\n  \n\n  \n  if (typeof (root._bokeh_timeout) === \"undefined\" || force === true) {\n    root._bokeh_timeout = Date.now() + 5000;\n    root._bokeh_failed_load = false;\n  }\n\n  var NB_LOAD_WARNING = {'data': {'text/html':\n     \"<div style='background-color: #fdd'>\\n\"+\n     \"<p>\\n\"+\n     \"BokehJS does not appear to have successfully loaded. If loading BokehJS from CDN, this \\n\"+\n     \"may be due to a slow or bad network connection. Possible fixes:\\n\"+\n     \"</p>\\n\"+\n     \"<ul>\\n\"+\n     \"<li>re-rerun `output_notebook()` to attempt to load from CDN again, or</li>\\n\"+\n     \"<li>use INLINE resources instead, as so:</li>\\n\"+\n     \"</ul>\\n\"+\n     \"<code>\\n\"+\n     \"from bokeh.resources import INLINE\\n\"+\n     \"output_notebook(resources=INLINE)\\n\"+\n     \"</code>\\n\"+\n     \"</div>\"}};\n\n  function display_loaded() {\n    var el = document.getElementById(\"a77205f4-b7ca-4bea-b318-469b018d1761\");\n    if (el != null) {\n      el.textContent = \"BokehJS is loading...\";\n    }\n    if (root.Bokeh !== undefined) {\n      if (el != null) {\n        el.textContent = \"BokehJS \" + root.Bokeh.version + \" successfully loaded.\";\n      }\n    } else if (Date.now() < root._bokeh_timeout) {\n      setTimeout(display_loaded, 100)\n    }\n  }\n\n\n  function run_callbacks() {\n    try {\n      root._bokeh_onload_callbacks.forEach(function(callback) { callback() });\n    }\n    finally {\n      delete root._bokeh_onload_callbacks\n    }\n    console.info(\"Bokeh: all callbacks have finished\");\n  }\n\n  function load_libs(js_urls, callback) {\n    root._bokeh_onload_callbacks.push(callback);\n    if (root._bokeh_is_loading > 0) {\n      console.log(\"Bokeh: BokehJS is being loaded, scheduling callback at\", now());\n      return null;\n    }\n    if (js_urls == null || js_urls.length === 0) {\n      run_callbacks();\n      return null;\n    }\n    console.log(\"Bokeh: BokehJS not loaded, scheduling load and callback at\", now());\n    root._bokeh_is_loading = js_urls.length;\n    for (var i = 0; i < js_urls.length; i++) {\n      var url = js_urls[i];\n      var s = document.createElement('script');\n      s.src = url;\n      s.async = false;\n      s.onreadystatechange = s.onload = function() {\n        root._bokeh_is_loading--;\n        if (root._bokeh_is_loading === 0) {\n          console.log(\"Bokeh: all BokehJS libraries loaded\");\n          run_callbacks()\n        }\n      };\n      s.onerror = function() {\n        console.warn(\"failed to load library \" + url);\n      };\n      console.log(\"Bokeh: injecting script tag for BokehJS library: \", url);\n      document.getElementsByTagName(\"head\")[0].appendChild(s);\n    }\n  };var element = document.getElementById(\"a77205f4-b7ca-4bea-b318-469b018d1761\");\n  if (element == null) {\n    console.log(\"Bokeh: ERROR: autoload.js configured with elementid 'a77205f4-b7ca-4bea-b318-469b018d1761' but no matching script tag was found. \")\n    return false;\n  }\n\n  var js_urls = [\"https://cdn.pydata.org/bokeh/release/bokeh-0.13.0.min.js\", \"https://cdn.pydata.org/bokeh/release/bokeh-widgets-0.13.0.min.js\", \"https://cdn.pydata.org/bokeh/release/bokeh-tables-0.13.0.min.js\", \"https://cdn.pydata.org/bokeh/release/bokeh-gl-0.13.0.min.js\"];\n\n  var inline_js = [\n    function(Bokeh) {\n      Bokeh.set_log_level(\"info\");\n    },\n    \n    function(Bokeh) {\n      \n    },\n    function(Bokeh) {\n      console.log(\"Bokeh: injecting CSS: https://cdn.pydata.org/bokeh/release/bokeh-0.13.0.min.css\");\n      Bokeh.embed.inject_css(\"https://cdn.pydata.org/bokeh/release/bokeh-0.13.0.min.css\");\n      console.log(\"Bokeh: injecting CSS: https://cdn.pydata.org/bokeh/release/bokeh-widgets-0.13.0.min.css\");\n      Bokeh.embed.inject_css(\"https://cdn.pydata.org/bokeh/release/bokeh-widgets-0.13.0.min.css\");\n      console.log(\"Bokeh: injecting CSS: https://cdn.pydata.org/bokeh/release/bokeh-tables-0.13.0.min.css\");\n      Bokeh.embed.inject_css(\"https://cdn.pydata.org/bokeh/release/bokeh-tables-0.13.0.min.css\");\n    }\n  ];\n\n  function run_inline_js() {\n    \n    if ((root.Bokeh !== undefined) || (force === true)) {\n      for (var i = 0; i < inline_js.length; i++) {\n        inline_js[i].call(root, root.Bokeh);\n      }if (force === true) {\n        display_loaded();\n      }} else if (Date.now() < root._bokeh_timeout) {\n      setTimeout(run_inline_js, 100);\n    } else if (!root._bokeh_failed_load) {\n      console.log(\"Bokeh: BokehJS failed to load within specified timeout.\");\n      root._bokeh_failed_load = true;\n    } else if (force !== true) {\n      var cell = $(document.getElementById(\"a77205f4-b7ca-4bea-b318-469b018d1761\")).parents('.cell').data().cell;\n      cell.output_area.append_execute_result(NB_LOAD_WARNING)\n    }\n\n  }\n\n  if (root._bokeh_is_loading === 0) {\n    console.log(\"Bokeh: BokehJS loaded, going straight to plotting\");\n    run_inline_js();\n  } else {\n    load_libs(js_urls, function() {\n      console.log(\"Bokeh: BokehJS plotting callback run at\", now());\n      run_inline_js();\n    });\n  }\n}(window));"
     },
     "metadata": {},
     "output_type": "display_data"
    }
   ],
   "source": [
    "# Import useful packages\n",
    "import numpy as np\n",
    "from collections import deque\n",
    "from bokeh.io import push_notebook, show, output_notebook\n",
    "from bokeh.plotting import figure \n",
    "output_notebook()"
   ]
  },
  {
   "cell_type": "code",
   "execution_count": 2,
   "metadata": {},
   "outputs": [],
   "source": [
    "# Defines a class for the coin toss game\n",
    "class CoinToss:\n",
    "    \n",
    "    # Initializing variables\n",
    "    def __init__(self, number_of_games, endgame):\n",
    "        self.numgames = number_of_games\n",
    "        self.endgamelen = len(endgame)\n",
    "        self.endgame = endgame\n",
    "        self.reset()\n",
    "        \n",
    "    # Reset all the counters\n",
    "    def reset(self):\n",
    "        self.counter = np.zeros(self.numgames)\n",
    "        \n",
    "    # Run the coin toss game\n",
    "    def run(self):\n",
    "        # Initialize a queue for the current sequence\n",
    "        curr_seq = deque('', self.endgamelen)\n",
    "        endgame_reached = False\n",
    "        # Start looping through number of games \n",
    "        for i in range(self.numgames):\n",
    "            while not endgame_reached:\n",
    "                # Update counter for current game\n",
    "                self.counter[i] += 1\n",
    "                # Check if coin toss resulted in a Head or a Tail\n",
    "                if np.random.random_sample() < 0.5:\n",
    "                    curr_seq.append('H')\n",
    "                else:\n",
    "                    curr_seq.append('T')\n",
    "                # Check if the current sequence is equal to the endgame\n",
    "                check = sum(cs == eg for (cs, eg) in zip(curr_seq, self.endgame))\n",
    "                if check == self.endgamelen:\n",
    "                    endgame_reached = True\n",
    "                    curr_seq.clear()\n",
    "            endgame_reached = False\n",
    "        print('Average number of tosses to reach endgame = ', np.mean(self.counter))\n",
    "        \n",
    "    # Plot the distribution of number of tosses required to end the game\n",
    "    def plot_counts(self):\n",
    "        hist, edges = np.histogram(self.counter, density=False, bins=50)\n",
    "        p = figure(title='{} games with endgame {}'.format(self.numgames, self.endgame), \n",
    "                   tools='', background_fill_color='#fafafa')\n",
    "        p.quad(top=hist, bottom=0, left=edges[:-1], right=edges[1:], fill_color=\"navy\", line_color=\"white\", alpha=0.5)\n",
    "        p.y_range.start = 0\n",
    "        p.xaxis.axis_label = 'Number of tosses to reach endgame'\n",
    "        p.yaxis.axis_label = 'counts'\n",
    "        show(p)"
   ]
  },
  {
   "cell_type": "code",
   "execution_count": 3,
   "metadata": {},
   "outputs": [
    {
     "name": "stdout",
     "output_type": "stream",
     "text": [
      "Average number of tosses to reach endgame =  12.57\n"
     ]
    },
    {
     "data": {
      "text/html": [
       "\n",
       "\n",
       "\n",
       "\n",
       "\n",
       "\n",
       "  <div class=\"bk-root\" id=\"01be5a06-d007-4113-b385-07864271114b\"></div>\n"
      ]
     },
     "metadata": {},
     "output_type": "display_data"
    },
    {
     "data": {
      "application/javascript": [
       "(function(root) {\n",
       "  function embed_document(root) {\n",
       "    \n",
       "  var docs_json = {\"cb686676-0e70-4057-9296-96523d5e7b92\":{\"roots\":{\"references\":[{\"attributes\":{},\"id\":\"fd98f063-9cf5-4d36-93ac-c9b8db1d2f8e\",\"type\":\"LinearScale\"},{\"attributes\":{},\"id\":\"c3fe10be-f0e4-450d-8f75-59b782743d64\",\"type\":\"BasicTicker\"},{\"attributes\":{\"bottom\":{\"value\":0},\"fill_alpha\":{\"value\":0.1},\"fill_color\":{\"value\":\"#1f77b4\"},\"left\":{\"field\":\"left\"},\"line_alpha\":{\"value\":0.1},\"line_color\":{\"value\":\"#1f77b4\"},\"right\":{\"field\":\"right\"},\"top\":{\"field\":\"top\"}},\"id\":\"6b0cdfea-9990-4a6a-bdc7-95d824aa60d8\",\"type\":\"Quad\"},{\"attributes\":{},\"id\":\"06bc428a-2675-4670-82d8-8a68b90403b6\",\"type\":\"UnionRenderers\"},{\"attributes\":{\"axis_label\":\"counts\",\"formatter\":{\"id\":\"4240b123-210c-49e6-952c-ee5744cef90a\",\"type\":\"BasicTickFormatter\"},\"plot\":{\"id\":\"4ffc9d2b-864c-4c65-8bfa-56bb70bb004b\",\"subtype\":\"Figure\",\"type\":\"Plot\"},\"ticker\":{\"id\":\"c3fe10be-f0e4-450d-8f75-59b782743d64\",\"type\":\"BasicTicker\"}},\"id\":\"b2820940-0f11-4811-86af-08f9f8fd63c5\",\"type\":\"LinearAxis\"},{\"attributes\":{\"axis_label\":\"Number of tosses to reach endgame\",\"formatter\":{\"id\":\"8df461d3-18cb-47d5-acc3-a9b4fa9e8537\",\"type\":\"BasicTickFormatter\"},\"plot\":{\"id\":\"4ffc9d2b-864c-4c65-8bfa-56bb70bb004b\",\"subtype\":\"Figure\",\"type\":\"Plot\"},\"ticker\":{\"id\":\"c10a1d12-900b-4ef7-b023-91e59c5649a4\",\"type\":\"BasicTicker\"}},\"id\":\"d913c56a-ea11-48e1-a2b5-d4045045d1b3\",\"type\":\"LinearAxis\"},{\"attributes\":{},\"id\":\"4240b123-210c-49e6-952c-ee5744cef90a\",\"type\":\"BasicTickFormatter\"},{\"attributes\":{},\"id\":\"c10a1d12-900b-4ef7-b023-91e59c5649a4\",\"type\":\"BasicTicker\"},{\"attributes\":{\"bottom\":{\"value\":0},\"fill_alpha\":{\"value\":0.5},\"fill_color\":{\"value\":\"navy\"},\"left\":{\"field\":\"left\"},\"line_alpha\":{\"value\":0.5},\"line_color\":{\"value\":\"white\"},\"right\":{\"field\":\"right\"},\"top\":{\"field\":\"top\"}},\"id\":\"c5ec06a0-0469-4fea-81ae-ee544f251f58\",\"type\":\"Quad\"},{\"attributes\":{},\"id\":\"22db42bc-531c-4971-8512-985b2f72de7d\",\"type\":\"Selection\"},{\"attributes\":{\"plot\":{\"id\":\"4ffc9d2b-864c-4c65-8bfa-56bb70bb004b\",\"subtype\":\"Figure\",\"type\":\"Plot\"},\"ticker\":{\"id\":\"c10a1d12-900b-4ef7-b023-91e59c5649a4\",\"type\":\"BasicTicker\"}},\"id\":\"f4922fb7-4203-4b3d-96a2-63960850f745\",\"type\":\"Grid\"},{\"attributes\":{},\"id\":\"50107abd-51b7-4e0b-86ea-19226606d3c5\",\"type\":\"LinearScale\"},{\"attributes\":{\"dimension\":1,\"plot\":{\"id\":\"4ffc9d2b-864c-4c65-8bfa-56bb70bb004b\",\"subtype\":\"Figure\",\"type\":\"Plot\"},\"ticker\":{\"id\":\"c3fe10be-f0e4-450d-8f75-59b782743d64\",\"type\":\"BasicTicker\"}},\"id\":\"298044f6-ad14-4066-8dc3-1b5b1e6f182c\",\"type\":\"Grid\"},{\"attributes\":{},\"id\":\"8df461d3-18cb-47d5-acc3-a9b4fa9e8537\",\"type\":\"BasicTickFormatter\"},{\"attributes\":{\"callback\":null},\"id\":\"4cf47b1b-d0ea-428a-8da1-cea2929e4e7e\",\"type\":\"DataRange1d\"},{\"attributes\":{\"active_drag\":\"auto\",\"active_inspect\":\"auto\",\"active_multi\":null,\"active_scroll\":\"auto\",\"active_tap\":\"auto\"},\"id\":\"a25806e1-1f16-450e-98e3-2934ca3b7f8e\",\"type\":\"Toolbar\"},{\"attributes\":{\"source\":{\"id\":\"794b0486-40fa-4644-aedc-84b2fb928ce8\",\"type\":\"ColumnDataSource\"}},\"id\":\"25d364eb-252b-4cda-a80b-b6b3b0601288\",\"type\":\"CDSView\"},{\"attributes\":{\"callback\":null,\"data\":{\"left\":{\"__ndarray__\":\"AAAAAAAACEB7FK5H4XoQQPYoXI/C9RRAcT0K16NwGUDsUbgehesdQDQzMzMzMyFAcT0K16NwI0CuR+F6FK4lQOxRuB6F6ydAKlyPwvUoKkBnZmZmZmYsQKRwPQrXoy5AcT0K16NwMECQwvUoXI8xQK5H4XoUrjJAzczMzMzMM0DsUbgehes0QAvXo3A9CjZAKlyPwvUoN0BI4XoUrkc4QGdmZmZmZjlAhutRuB6FOkCkcD0K16M7QMP1KFyPwjxA4noUrkfhPUABAAAAAAA/QJDC9ShcD0BAH4XrUbieQECuR+F6FC5BQD4K16NwvUFAzczMzMxMQkBdj8L1KNxCQOxRuB6Fa0NAexSuR+H6Q0AL16NwPYpEQJqZmZmZGUVAKlyPwvWoRUC5HoXrUThGQEjhehSux0ZA2KNwPQpXR0BnZmZmZuZHQPYoXI/CdUhAhutRuB4FSUAVrkfhepRJQKRwPQrXI0pANDMzMzOzSkDD9Shcj0JLQFO4HoXr0UtA4noUrkdhTEBxPQrXo/BMQA==\",\"dtype\":\"float64\",\"shape\":[50]},\"right\":{\"__ndarray__\":\"exSuR+F6EED2KFyPwvUUQHE9CtejcBlA7FG4HoXrHUA0MzMzMzMhQHE9CtejcCNArkfhehSuJUDsUbgehesnQCpcj8L1KCpAZ2ZmZmZmLECkcD0K16MuQHE9CtejcDBAkML1KFyPMUCuR+F6FK4yQM3MzMzMzDNA7FG4HoXrNEAL16NwPQo2QCpcj8L1KDdASOF6FK5HOEBnZmZmZmY5QIbrUbgehTpApHA9CtejO0DD9Shcj8I8QOJ6FK5H4T1AAQAAAAAAP0CQwvUoXA9AQB+F61G4nkBArkfhehQuQUA+CtejcL1BQM3MzMzMTEJAXY/C9SjcQkDsUbgehWtDQHsUrkfh+kNAC9ejcD2KRECamZmZmRlFQCpcj8L1qEVAuR6F61E4RkBI4XoUrsdGQNijcD0KV0dAZ2ZmZmbmR0D2KFyPwnVIQIbrUbgeBUlAFa5H4XqUSUCkcD0K1yNKQDQzMzMzs0pAw/UoXI9CS0BTuB6F69FLQOJ6FK5HYUxAcT0K16PwTEAAAAAAAIBNQA==\",\"dtype\":\"float64\",\"shape\":[50]},\"top\":[48,14,13,14,6,8,2,5,18,8,7,6,4,1,3,5,9,3,1,3,1,2,4,1,1,2,0,0,2,2,2,0,0,1,0,1,0,0,0,1,0,0,0,1,0,0,0,0,0,1]},\"selected\":{\"id\":\"22db42bc-531c-4971-8512-985b2f72de7d\",\"type\":\"Selection\"},\"selection_policy\":{\"id\":\"06bc428a-2675-4670-82d8-8a68b90403b6\",\"type\":\"UnionRenderers\"}},\"id\":\"794b0486-40fa-4644-aedc-84b2fb928ce8\",\"type\":\"ColumnDataSource\"},{\"attributes\":{\"plot\":null,\"text\":\"200 games with endgame TTT\"},\"id\":\"cab64ed7-2434-44f7-ac70-4c81422e336e\",\"type\":\"Title\"},{\"attributes\":{\"background_fill_color\":{\"value\":\"#fafafa\"},\"below\":[{\"id\":\"d913c56a-ea11-48e1-a2b5-d4045045d1b3\",\"type\":\"LinearAxis\"}],\"left\":[{\"id\":\"b2820940-0f11-4811-86af-08f9f8fd63c5\",\"type\":\"LinearAxis\"}],\"renderers\":[{\"id\":\"d913c56a-ea11-48e1-a2b5-d4045045d1b3\",\"type\":\"LinearAxis\"},{\"id\":\"f4922fb7-4203-4b3d-96a2-63960850f745\",\"type\":\"Grid\"},{\"id\":\"b2820940-0f11-4811-86af-08f9f8fd63c5\",\"type\":\"LinearAxis\"},{\"id\":\"298044f6-ad14-4066-8dc3-1b5b1e6f182c\",\"type\":\"Grid\"},{\"id\":\"a88aa71d-eb2e-4a7f-ad6f-54687401f27e\",\"type\":\"GlyphRenderer\"}],\"title\":{\"id\":\"cab64ed7-2434-44f7-ac70-4c81422e336e\",\"type\":\"Title\"},\"toolbar\":{\"id\":\"a25806e1-1f16-450e-98e3-2934ca3b7f8e\",\"type\":\"Toolbar\"},\"x_range\":{\"id\":\"4cf47b1b-d0ea-428a-8da1-cea2929e4e7e\",\"type\":\"DataRange1d\"},\"x_scale\":{\"id\":\"50107abd-51b7-4e0b-86ea-19226606d3c5\",\"type\":\"LinearScale\"},\"y_range\":{\"id\":\"5c829436-e2f2-4708-a8ac-70e575e3ef83\",\"type\":\"DataRange1d\"},\"y_scale\":{\"id\":\"fd98f063-9cf5-4d36-93ac-c9b8db1d2f8e\",\"type\":\"LinearScale\"}},\"id\":\"4ffc9d2b-864c-4c65-8bfa-56bb70bb004b\",\"subtype\":\"Figure\",\"type\":\"Plot\"},{\"attributes\":{\"data_source\":{\"id\":\"794b0486-40fa-4644-aedc-84b2fb928ce8\",\"type\":\"ColumnDataSource\"},\"glyph\":{\"id\":\"c5ec06a0-0469-4fea-81ae-ee544f251f58\",\"type\":\"Quad\"},\"hover_glyph\":null,\"muted_glyph\":null,\"nonselection_glyph\":{\"id\":\"6b0cdfea-9990-4a6a-bdc7-95d824aa60d8\",\"type\":\"Quad\"},\"selection_glyph\":null,\"view\":{\"id\":\"25d364eb-252b-4cda-a80b-b6b3b0601288\",\"type\":\"CDSView\"}},\"id\":\"a88aa71d-eb2e-4a7f-ad6f-54687401f27e\",\"type\":\"GlyphRenderer\"},{\"attributes\":{\"callback\":null,\"start\":0},\"id\":\"5c829436-e2f2-4708-a8ac-70e575e3ef83\",\"type\":\"DataRange1d\"}],\"root_ids\":[\"4ffc9d2b-864c-4c65-8bfa-56bb70bb004b\"]},\"title\":\"Bokeh Application\",\"version\":\"0.13.0\"}};\n",
       "  var render_items = [{\"docid\":\"cb686676-0e70-4057-9296-96523d5e7b92\",\"roots\":{\"4ffc9d2b-864c-4c65-8bfa-56bb70bb004b\":\"01be5a06-d007-4113-b385-07864271114b\"}}];\n",
       "  root.Bokeh.embed.embed_items_notebook(docs_json, render_items);\n",
       "\n",
       "  }\n",
       "  if (root.Bokeh !== undefined) {\n",
       "    embed_document(root);\n",
       "  } else {\n",
       "    var attempts = 0;\n",
       "    var timer = setInterval(function(root) {\n",
       "      if (root.Bokeh !== undefined) {\n",
       "        embed_document(root);\n",
       "        clearInterval(timer);\n",
       "      }\n",
       "      attempts++;\n",
       "      if (attempts > 100) {\n",
       "        console.log(\"Bokeh: ERROR: Unable to run BokehJS code because BokehJS library is missing\")\n",
       "        clearInterval(timer);\n",
       "      }\n",
       "    }, 10, root)\n",
       "  }\n",
       "})(window);"
      ],
      "application/vnd.bokehjs_exec.v0+json": ""
     },
     "metadata": {
      "application/vnd.bokehjs_exec.v0+json": {
       "id": "4ffc9d2b-864c-4c65-8bfa-56bb70bb004b"
      }
     },
     "output_type": "display_data"
    }
   ],
   "source": [
    "# Example of running 200 games with the endgame sequence TTT\n",
    "\n",
    "c1 = CoinToss(200, 'TTT')\n",
    "c1.run()\n",
    "c1.plot_counts()"
   ]
  },
  {
   "cell_type": "code",
   "execution_count": 4,
   "metadata": {},
   "outputs": [
    {
     "name": "stdout",
     "output_type": "stream",
     "text": [
      "Average number of tosses to reach endgame =  10.135\n"
     ]
    },
    {
     "data": {
      "text/html": [
       "\n",
       "\n",
       "\n",
       "\n",
       "\n",
       "\n",
       "  <div class=\"bk-root\" id=\"78de7d4c-6a48-4060-96b6-e51e5f2684f0\"></div>\n"
      ]
     },
     "metadata": {},
     "output_type": "display_data"
    },
    {
     "data": {
      "application/javascript": [
       "(function(root) {\n",
       "  function embed_document(root) {\n",
       "    \n",
       "  var docs_json = {\"7a6f07ec-288d-47d1-aa7d-1ffcecf05f1d\":{\"roots\":{\"references\":[{\"attributes\":{\"plot\":null,\"text\":\"200 games with endgame THT\"},\"id\":\"e5af4a95-c372-4b87-a203-e7ba26f55dd2\",\"type\":\"Title\"},{\"attributes\":{\"axis_label\":\"counts\",\"formatter\":{\"id\":\"bcd88089-1e07-4022-9686-75b3616a0d5d\",\"type\":\"BasicTickFormatter\"},\"plot\":{\"id\":\"d25ed44e-b242-4644-9e80-c8046934433a\",\"subtype\":\"Figure\",\"type\":\"Plot\"},\"ticker\":{\"id\":\"9baea6d1-ea43-4bea-a32a-58d8567ed35c\",\"type\":\"BasicTicker\"}},\"id\":\"b2195ff7-4d71-4851-8820-11a7b702696d\",\"type\":\"LinearAxis\"},{\"attributes\":{\"callback\":null,\"start\":0},\"id\":\"8a3002b7-4818-43a8-8bfc-127c5c6d408f\",\"type\":\"DataRange1d\"},{\"attributes\":{\"data_source\":{\"id\":\"ff7f0f98-c2a8-40f6-805a-ae2764b595c7\",\"type\":\"ColumnDataSource\"},\"glyph\":{\"id\":\"361f5a1d-1bd2-4b01-bd45-0a19d224559f\",\"type\":\"Quad\"},\"hover_glyph\":null,\"muted_glyph\":null,\"nonselection_glyph\":{\"id\":\"437cc000-f01e-47f5-8df7-041dcbad452f\",\"type\":\"Quad\"},\"selection_glyph\":null,\"view\":{\"id\":\"a4eede53-8905-4ab4-927f-a831d1cef228\",\"type\":\"CDSView\"}},\"id\":\"ea8e93e1-4ca2-41e2-b362-b447ce40ca1f\",\"type\":\"GlyphRenderer\"},{\"attributes\":{\"axis_label\":\"Number of tosses to reach endgame\",\"formatter\":{\"id\":\"cc7e5c90-a5b2-4391-ab96-9cc278ddaa72\",\"type\":\"BasicTickFormatter\"},\"plot\":{\"id\":\"d25ed44e-b242-4644-9e80-c8046934433a\",\"subtype\":\"Figure\",\"type\":\"Plot\"},\"ticker\":{\"id\":\"f418d292-a9db-403a-b953-d3e7e8812b03\",\"type\":\"BasicTicker\"}},\"id\":\"f44dd621-01ea-4f9d-9cd5-23e3a043e823\",\"type\":\"LinearAxis\"},{\"attributes\":{},\"id\":\"f418d292-a9db-403a-b953-d3e7e8812b03\",\"type\":\"BasicTicker\"},{\"attributes\":{\"dimension\":1,\"plot\":{\"id\":\"d25ed44e-b242-4644-9e80-c8046934433a\",\"subtype\":\"Figure\",\"type\":\"Plot\"},\"ticker\":{\"id\":\"9baea6d1-ea43-4bea-a32a-58d8567ed35c\",\"type\":\"BasicTicker\"}},\"id\":\"424419a4-61f4-4891-b9c3-b0f6e2b5a1b8\",\"type\":\"Grid\"},{\"attributes\":{\"callback\":null},\"id\":\"1e4f6dd9-3193-46f1-a96f-cc4e8be8a1da\",\"type\":\"DataRange1d\"},{\"attributes\":{},\"id\":\"543624ba-e237-44fa-9275-497325638af2\",\"type\":\"LinearScale\"},{\"attributes\":{\"callback\":null,\"data\":{\"left\":{\"__ndarray__\":\"AAAAAAAACEC4HoXrUbgOQLgehetRuBJAFK5H4XoUFkBwPQrXo3AZQM3MzMzMzBxAFK5H4XoUIEDC9Shcj8IhQHA9CtejcCNAHoXrUbgeJUDNzMzMzMwmQHsUrkfheihAKVyPwvUoKkDXo3A9CtcrQIXrUbgehS1AMzMzMzMzL0BwPQrXo3AwQEjhehSuRzFAHoXrUbgeMkD2KFyPwvUyQM3MzMzMzDNApHA9CtejNEB7FK5H4Xo1QFK4HoXrUTZAKVyPwvUoN0AAAAAAAAA4QNejcD0K1zhArkfhehSuOUCF61G4HoU6QFyPwvUoXDtAMzMzMzMzPEAK16NwPQo9QOF6FK5H4T1AuB6F61G4PkCPwvUoXI8/QDMzMzMzM0BAHoXrUbieQEAK16NwPQpBQPYoXI/CdUFA4XoUrkfhQUDNzMzMzExCQLgehetRuEJApHA9CtcjQ0CPwvUoXI9DQHsUrkfh+kNAZmZmZmZmREBSuB6F69FEQD0K16NwPUVAKVyPwvWoRUAUrkfhehRGQA==\",\"dtype\":\"float64\",\"shape\":[50]},\"right\":{\"__ndarray__\":\"uB6F61G4DkC4HoXrUbgSQBSuR+F6FBZAcD0K16NwGUDNzMzMzMwcQBSuR+F6FCBAwvUoXI/CIUBwPQrXo3AjQB6F61G4HiVAzczMzMzMJkB7FK5H4XooQClcj8L1KCpA16NwPQrXK0CF61G4HoUtQDMzMzMzMy9AcD0K16NwMEBI4XoUrkcxQB6F61G4HjJA9ihcj8L1MkDNzMzMzMwzQKRwPQrXozRAexSuR+F6NUBSuB6F61E2QClcj8L1KDdAAAAAAAAAOEDXo3A9Ctc4QK5H4XoUrjlAhetRuB6FOkBcj8L1KFw7QDMzMzMzMzxACtejcD0KPUDhehSuR+E9QLgehetRuD5Aj8L1KFyPP0AzMzMzMzNAQB6F61G4nkBACtejcD0KQUD2KFyPwnVBQOF6FK5H4UFAzczMzMxMQkC4HoXrUbhCQKRwPQrXI0NAj8L1KFyPQ0B7FK5H4fpDQGZmZmZmZkRAUrgehevRREA9CtejcD1FQClcj8L1qEVAFK5H4XoURkAAAAAAAIBGQA==\",\"dtype\":\"float64\",\"shape\":[50]},\"top\":[21,27,22,15,13,12,0,12,9,5,7,7,0,8,3,9,5,3,0,2,2,1,2,4,0,0,1,1,1,0,0,0,1,0,1,2,1,0,0,0,0,0,1,0,0,0,1,0,0,1]},\"selected\":{\"id\":\"cc3dba2e-5735-49de-8a87-987ce7b59112\",\"type\":\"Selection\"},\"selection_policy\":{\"id\":\"4b6d4e5a-8bfe-4bd7-89f1-7e99f09a924c\",\"type\":\"UnionRenderers\"}},\"id\":\"ff7f0f98-c2a8-40f6-805a-ae2764b595c7\",\"type\":\"ColumnDataSource\"},{\"attributes\":{\"bottom\":{\"value\":0},\"fill_alpha\":{\"value\":0.5},\"fill_color\":{\"value\":\"navy\"},\"left\":{\"field\":\"left\"},\"line_alpha\":{\"value\":0.5},\"line_color\":{\"value\":\"white\"},\"right\":{\"field\":\"right\"},\"top\":{\"field\":\"top\"}},\"id\":\"361f5a1d-1bd2-4b01-bd45-0a19d224559f\",\"type\":\"Quad\"},{\"attributes\":{\"active_drag\":\"auto\",\"active_inspect\":\"auto\",\"active_multi\":null,\"active_scroll\":\"auto\",\"active_tap\":\"auto\"},\"id\":\"268f333b-8eeb-417c-9bc0-c7379239dc84\",\"type\":\"Toolbar\"},{\"attributes\":{\"bottom\":{\"value\":0},\"fill_alpha\":{\"value\":0.1},\"fill_color\":{\"value\":\"#1f77b4\"},\"left\":{\"field\":\"left\"},\"line_alpha\":{\"value\":0.1},\"line_color\":{\"value\":\"#1f77b4\"},\"right\":{\"field\":\"right\"},\"top\":{\"field\":\"top\"}},\"id\":\"437cc000-f01e-47f5-8df7-041dcbad452f\",\"type\":\"Quad\"},{\"attributes\":{\"plot\":{\"id\":\"d25ed44e-b242-4644-9e80-c8046934433a\",\"subtype\":\"Figure\",\"type\":\"Plot\"},\"ticker\":{\"id\":\"f418d292-a9db-403a-b953-d3e7e8812b03\",\"type\":\"BasicTicker\"}},\"id\":\"caa92b99-9cf4-4188-aa1d-034bf1e9d6bf\",\"type\":\"Grid\"},{\"attributes\":{\"source\":{\"id\":\"ff7f0f98-c2a8-40f6-805a-ae2764b595c7\",\"type\":\"ColumnDataSource\"}},\"id\":\"a4eede53-8905-4ab4-927f-a831d1cef228\",\"type\":\"CDSView\"},{\"attributes\":{},\"id\":\"cc7e5c90-a5b2-4391-ab96-9cc278ddaa72\",\"type\":\"BasicTickFormatter\"},{\"attributes\":{},\"id\":\"bcd88089-1e07-4022-9686-75b3616a0d5d\",\"type\":\"BasicTickFormatter\"},{\"attributes\":{},\"id\":\"cc3dba2e-5735-49de-8a87-987ce7b59112\",\"type\":\"Selection\"},{\"attributes\":{},\"id\":\"9baea6d1-ea43-4bea-a32a-58d8567ed35c\",\"type\":\"BasicTicker\"},{\"attributes\":{},\"id\":\"4b6d4e5a-8bfe-4bd7-89f1-7e99f09a924c\",\"type\":\"UnionRenderers\"},{\"attributes\":{},\"id\":\"70cb3f2c-6941-4e51-82ca-854023a6943e\",\"type\":\"LinearScale\"},{\"attributes\":{\"background_fill_color\":{\"value\":\"#fafafa\"},\"below\":[{\"id\":\"f44dd621-01ea-4f9d-9cd5-23e3a043e823\",\"type\":\"LinearAxis\"}],\"left\":[{\"id\":\"b2195ff7-4d71-4851-8820-11a7b702696d\",\"type\":\"LinearAxis\"}],\"renderers\":[{\"id\":\"f44dd621-01ea-4f9d-9cd5-23e3a043e823\",\"type\":\"LinearAxis\"},{\"id\":\"caa92b99-9cf4-4188-aa1d-034bf1e9d6bf\",\"type\":\"Grid\"},{\"id\":\"b2195ff7-4d71-4851-8820-11a7b702696d\",\"type\":\"LinearAxis\"},{\"id\":\"424419a4-61f4-4891-b9c3-b0f6e2b5a1b8\",\"type\":\"Grid\"},{\"id\":\"ea8e93e1-4ca2-41e2-b362-b447ce40ca1f\",\"type\":\"GlyphRenderer\"}],\"title\":{\"id\":\"e5af4a95-c372-4b87-a203-e7ba26f55dd2\",\"type\":\"Title\"},\"toolbar\":{\"id\":\"268f333b-8eeb-417c-9bc0-c7379239dc84\",\"type\":\"Toolbar\"},\"x_range\":{\"id\":\"1e4f6dd9-3193-46f1-a96f-cc4e8be8a1da\",\"type\":\"DataRange1d\"},\"x_scale\":{\"id\":\"70cb3f2c-6941-4e51-82ca-854023a6943e\",\"type\":\"LinearScale\"},\"y_range\":{\"id\":\"8a3002b7-4818-43a8-8bfc-127c5c6d408f\",\"type\":\"DataRange1d\"},\"y_scale\":{\"id\":\"543624ba-e237-44fa-9275-497325638af2\",\"type\":\"LinearScale\"}},\"id\":\"d25ed44e-b242-4644-9e80-c8046934433a\",\"subtype\":\"Figure\",\"type\":\"Plot\"}],\"root_ids\":[\"d25ed44e-b242-4644-9e80-c8046934433a\"]},\"title\":\"Bokeh Application\",\"version\":\"0.13.0\"}};\n",
       "  var render_items = [{\"docid\":\"7a6f07ec-288d-47d1-aa7d-1ffcecf05f1d\",\"roots\":{\"d25ed44e-b242-4644-9e80-c8046934433a\":\"78de7d4c-6a48-4060-96b6-e51e5f2684f0\"}}];\n",
       "  root.Bokeh.embed.embed_items_notebook(docs_json, render_items);\n",
       "\n",
       "  }\n",
       "  if (root.Bokeh !== undefined) {\n",
       "    embed_document(root);\n",
       "  } else {\n",
       "    var attempts = 0;\n",
       "    var timer = setInterval(function(root) {\n",
       "      if (root.Bokeh !== undefined) {\n",
       "        embed_document(root);\n",
       "        clearInterval(timer);\n",
       "      }\n",
       "      attempts++;\n",
       "      if (attempts > 100) {\n",
       "        console.log(\"Bokeh: ERROR: Unable to run BokehJS code because BokehJS library is missing\")\n",
       "        clearInterval(timer);\n",
       "      }\n",
       "    }, 10, root)\n",
       "  }\n",
       "})(window);"
      ],
      "application/vnd.bokehjs_exec.v0+json": ""
     },
     "metadata": {
      "application/vnd.bokehjs_exec.v0+json": {
       "id": "d25ed44e-b242-4644-9e80-c8046934433a"
      }
     },
     "output_type": "display_data"
    }
   ],
   "source": [
    "# Example of running 200 games with the endgame sequence THT\n",
    "\n",
    "c2 = CoinToss(200, 'THT')\n",
    "c2.run()\n",
    "c2.plot_counts()"
   ]
  },
  {
   "cell_type": "code",
   "execution_count": 5,
   "metadata": {},
   "outputs": [
    {
     "name": "stdout",
     "output_type": "stream",
     "text": [
      "Average number of tosses to reach endgame =  37.0125\n"
     ]
    },
    {
     "data": {
      "text/html": [
       "\n",
       "\n",
       "\n",
       "\n",
       "\n",
       "\n",
       "  <div class=\"bk-root\" id=\"3a1d7195-182b-4682-851e-fefaed555d13\"></div>\n"
      ]
     },
     "metadata": {},
     "output_type": "display_data"
    },
    {
     "data": {
      "application/javascript": [
       "(function(root) {\n",
       "  function embed_document(root) {\n",
       "    \n",
       "  var docs_json = {\"5424ca5c-79f3-4fbb-bcc5-768ad933dcc1\":{\"roots\":{\"references\":[{\"attributes\":{\"callback\":null,\"data\":{\"left\":{\"__ndarray__\":\"AAAAAAAAFEDXo3A9CtckQK5H4XoUri9AwvUoXI9CNUCuR+F6FK46QM3MzMzMDEBAwvUoXI/CQkC4HoXrUXhFQK5H4XoULkhApHA9CtfjSkCamZmZmZlNQEjhehSuJ1BAwvUoXI+CUUA9CtejcN1SQLgehetROFRAMzMzMzOTVUCuR+F6FO5WQClcj8L1SFhApHA9CtejWUAfhetRuP5aQJqZmZmZWVxAFK5H4Xq0XUCPwvUoXA9fQIXrUbgeNWBAwvUoXI/iYEAAAAAAAJBhQD0K16NwPWJAexSuR+HqYkC4HoXrUZhjQPYoXI/CRWRAMzMzMzPzZEBxPQrXo6BlQK5H4XoUTmZA61G4HoX7ZkApXI/C9ahnQGZmZmZmVmhApHA9CtcDaUDhehSuR7FpQB+F61G4XmpAXI/C9SgMa0CamZmZmblrQNejcD0KZ2xAFK5H4XoUbUBSuB6F68FtQI/C9Shcb25AzczMzMwcb0AK16NwPcpvQKRwPQrXO3BAwvUoXI+ScEDhehSuR+lwQA==\",\"dtype\":\"float64\",\"shape\":[50]},\"right\":{\"__ndarray__\":\"16NwPQrXJECuR+F6FK4vQML1KFyPQjVArkfhehSuOkDNzMzMzAxAQML1KFyPwkJAuB6F61F4RUCuR+F6FC5IQKRwPQrX40pAmpmZmZmZTUBI4XoUridQQML1KFyPglFAPQrXo3DdUkC4HoXrUThUQDMzMzMzk1VArkfhehTuVkApXI/C9UhYQKRwPQrXo1lAH4XrUbj+WkCamZmZmVlcQBSuR+F6tF1Aj8L1KFwPX0CF61G4HjVgQML1KFyP4mBAAAAAAACQYUA9CtejcD1iQHsUrkfh6mJAuB6F61GYY0D2KFyPwkVkQDMzMzMz82RAcT0K16OgZUCuR+F6FE5mQOtRuB6F+2ZAKVyPwvWoZ0BmZmZmZlZoQKRwPQrXA2lA4XoUrkexaUAfhetRuF5qQFyPwvUoDGtAmpmZmZm5a0DXo3A9CmdsQBSuR+F6FG1AUrgehevBbUCPwvUoXG9uQM3MzMzMHG9ACtejcD3Kb0CkcD0K1ztwQML1KFyPknBA4XoUrkfpcEAAAAAAAEBxQA==\",\"dtype\":\"float64\",\"shape\":[50]},\"top\":[340,231,249,168,183,131,98,95,58,79,39,57,42,34,30,23,27,13,12,19,11,14,4,11,2,5,3,0,2,0,4,0,3,3,2,1,1,0,1,1,2,0,1,0,0,0,0,0,0,1]},\"selected\":{\"id\":\"dfeb92c6-6961-4dff-bcf4-84188b3fff01\",\"type\":\"Selection\"},\"selection_policy\":{\"id\":\"902f5e13-5807-455c-bc52-b9d7731f10a1\",\"type\":\"UnionRenderers\"}},\"id\":\"7a48ce1a-0be1-47a4-abc0-1e0a8079278f\",\"type\":\"ColumnDataSource\"},{\"attributes\":{\"background_fill_color\":{\"value\":\"#fafafa\"},\"below\":[{\"id\":\"d8dd80ea-b301-48c6-a810-bf49238ef45a\",\"type\":\"LinearAxis\"}],\"left\":[{\"id\":\"e1ac11d6-fbe1-4c98-9b6f-b75cfd7cdddb\",\"type\":\"LinearAxis\"}],\"renderers\":[{\"id\":\"d8dd80ea-b301-48c6-a810-bf49238ef45a\",\"type\":\"LinearAxis\"},{\"id\":\"c42305fa-85f6-4df0-b701-a987b310d0e7\",\"type\":\"Grid\"},{\"id\":\"e1ac11d6-fbe1-4c98-9b6f-b75cfd7cdddb\",\"type\":\"LinearAxis\"},{\"id\":\"f99fc584-3a4a-49b4-a5c1-d4a99e5ffced\",\"type\":\"Grid\"},{\"id\":\"3d1b64aa-c55e-4af8-8fdf-32ea6dffb1f9\",\"type\":\"GlyphRenderer\"}],\"title\":{\"id\":\"64c3e4f6-1b54-46d4-94af-6b9794bda0a8\",\"type\":\"Title\"},\"toolbar\":{\"id\":\"7a55c9af-e603-4037-b8fb-2754889e70e9\",\"type\":\"Toolbar\"},\"x_range\":{\"id\":\"3135edad-d968-47fe-bef5-b8a2d5436649\",\"type\":\"DataRange1d\"},\"x_scale\":{\"id\":\"3cb73bc7-6d22-43dc-8fc6-14b6a056f398\",\"type\":\"LinearScale\"},\"y_range\":{\"id\":\"9ce89d06-0f45-45ee-a734-2f927270bebc\",\"type\":\"DataRange1d\"},\"y_scale\":{\"id\":\"fbcbe243-2db5-4733-a0fa-dee13658e9be\",\"type\":\"LinearScale\"}},\"id\":\"e7e8f95e-329f-4b24-869e-16295432fef8\",\"subtype\":\"Figure\",\"type\":\"Plot\"},{\"attributes\":{\"callback\":null},\"id\":\"3135edad-d968-47fe-bef5-b8a2d5436649\",\"type\":\"DataRange1d\"},{\"attributes\":{\"bottom\":{\"value\":0},\"fill_alpha\":{\"value\":0.5},\"fill_color\":{\"value\":\"navy\"},\"left\":{\"field\":\"left\"},\"line_alpha\":{\"value\":0.5},\"line_color\":{\"value\":\"white\"},\"right\":{\"field\":\"right\"},\"top\":{\"field\":\"top\"}},\"id\":\"1d853703-0545-4941-ae0f-ee9bb1563161\",\"type\":\"Quad\"},{\"attributes\":{\"plot\":{\"id\":\"e7e8f95e-329f-4b24-869e-16295432fef8\",\"subtype\":\"Figure\",\"type\":\"Plot\"},\"ticker\":{\"id\":\"a7438964-c7a9-4bd9-bf7a-74f7df9d3830\",\"type\":\"BasicTicker\"}},\"id\":\"c42305fa-85f6-4df0-b701-a987b310d0e7\",\"type\":\"Grid\"},{\"attributes\":{\"active_drag\":\"auto\",\"active_inspect\":\"auto\",\"active_multi\":null,\"active_scroll\":\"auto\",\"active_tap\":\"auto\"},\"id\":\"7a55c9af-e603-4037-b8fb-2754889e70e9\",\"type\":\"Toolbar\"},{\"attributes\":{},\"id\":\"fbcbe243-2db5-4733-a0fa-dee13658e9be\",\"type\":\"LinearScale\"},{\"attributes\":{},\"id\":\"902f5e13-5807-455c-bc52-b9d7731f10a1\",\"type\":\"UnionRenderers\"},{\"attributes\":{},\"id\":\"3cb73bc7-6d22-43dc-8fc6-14b6a056f398\",\"type\":\"LinearScale\"},{\"attributes\":{\"callback\":null,\"start\":0},\"id\":\"9ce89d06-0f45-45ee-a734-2f927270bebc\",\"type\":\"DataRange1d\"},{\"attributes\":{\"axis_label\":\"Number of tosses to reach endgame\",\"formatter\":{\"id\":\"29dc7a40-effd-4702-94ae-a077c2e15f4a\",\"type\":\"BasicTickFormatter\"},\"plot\":{\"id\":\"e7e8f95e-329f-4b24-869e-16295432fef8\",\"subtype\":\"Figure\",\"type\":\"Plot\"},\"ticker\":{\"id\":\"a7438964-c7a9-4bd9-bf7a-74f7df9d3830\",\"type\":\"BasicTicker\"}},\"id\":\"d8dd80ea-b301-48c6-a810-bf49238ef45a\",\"type\":\"LinearAxis\"},{\"attributes\":{},\"id\":\"981cc0f5-86f2-4673-a657-85f59f28cf77\",\"type\":\"BasicTicker\"},{\"attributes\":{\"source\":{\"id\":\"7a48ce1a-0be1-47a4-abc0-1e0a8079278f\",\"type\":\"ColumnDataSource\"}},\"id\":\"47c9bc38-e1eb-498a-9f72-81625f8f5207\",\"type\":\"CDSView\"},{\"attributes\":{\"bottom\":{\"value\":0},\"fill_alpha\":{\"value\":0.1},\"fill_color\":{\"value\":\"#1f77b4\"},\"left\":{\"field\":\"left\"},\"line_alpha\":{\"value\":0.1},\"line_color\":{\"value\":\"#1f77b4\"},\"right\":{\"field\":\"right\"},\"top\":{\"field\":\"top\"}},\"id\":\"246f44ab-ddf7-4764-8a5b-b09dc1f6f6b3\",\"type\":\"Quad\"},{\"attributes\":{\"data_source\":{\"id\":\"7a48ce1a-0be1-47a4-abc0-1e0a8079278f\",\"type\":\"ColumnDataSource\"},\"glyph\":{\"id\":\"1d853703-0545-4941-ae0f-ee9bb1563161\",\"type\":\"Quad\"},\"hover_glyph\":null,\"muted_glyph\":null,\"nonselection_glyph\":{\"id\":\"246f44ab-ddf7-4764-8a5b-b09dc1f6f6b3\",\"type\":\"Quad\"},\"selection_glyph\":null,\"view\":{\"id\":\"47c9bc38-e1eb-498a-9f72-81625f8f5207\",\"type\":\"CDSView\"}},\"id\":\"3d1b64aa-c55e-4af8-8fdf-32ea6dffb1f9\",\"type\":\"GlyphRenderer\"},{\"attributes\":{},\"id\":\"a7438964-c7a9-4bd9-bf7a-74f7df9d3830\",\"type\":\"BasicTicker\"},{\"attributes\":{},\"id\":\"29dc7a40-effd-4702-94ae-a077c2e15f4a\",\"type\":\"BasicTickFormatter\"},{\"attributes\":{\"plot\":null,\"text\":\"2000 games with endgame HTHHT\"},\"id\":\"64c3e4f6-1b54-46d4-94af-6b9794bda0a8\",\"type\":\"Title\"},{\"attributes\":{},\"id\":\"cccaf55b-53f3-46e7-a532-0e745e8f4ab8\",\"type\":\"BasicTickFormatter\"},{\"attributes\":{\"dimension\":1,\"plot\":{\"id\":\"e7e8f95e-329f-4b24-869e-16295432fef8\",\"subtype\":\"Figure\",\"type\":\"Plot\"},\"ticker\":{\"id\":\"981cc0f5-86f2-4673-a657-85f59f28cf77\",\"type\":\"BasicTicker\"}},\"id\":\"f99fc584-3a4a-49b4-a5c1-d4a99e5ffced\",\"type\":\"Grid\"},{\"attributes\":{\"axis_label\":\"counts\",\"formatter\":{\"id\":\"cccaf55b-53f3-46e7-a532-0e745e8f4ab8\",\"type\":\"BasicTickFormatter\"},\"plot\":{\"id\":\"e7e8f95e-329f-4b24-869e-16295432fef8\",\"subtype\":\"Figure\",\"type\":\"Plot\"},\"ticker\":{\"id\":\"981cc0f5-86f2-4673-a657-85f59f28cf77\",\"type\":\"BasicTicker\"}},\"id\":\"e1ac11d6-fbe1-4c98-9b6f-b75cfd7cdddb\",\"type\":\"LinearAxis\"},{\"attributes\":{},\"id\":\"dfeb92c6-6961-4dff-bcf4-84188b3fff01\",\"type\":\"Selection\"}],\"root_ids\":[\"e7e8f95e-329f-4b24-869e-16295432fef8\"]},\"title\":\"Bokeh Application\",\"version\":\"0.13.0\"}};\n",
       "  var render_items = [{\"docid\":\"5424ca5c-79f3-4fbb-bcc5-768ad933dcc1\",\"roots\":{\"e7e8f95e-329f-4b24-869e-16295432fef8\":\"3a1d7195-182b-4682-851e-fefaed555d13\"}}];\n",
       "  root.Bokeh.embed.embed_items_notebook(docs_json, render_items);\n",
       "\n",
       "  }\n",
       "  if (root.Bokeh !== undefined) {\n",
       "    embed_document(root);\n",
       "  } else {\n",
       "    var attempts = 0;\n",
       "    var timer = setInterval(function(root) {\n",
       "      if (root.Bokeh !== undefined) {\n",
       "        embed_document(root);\n",
       "        clearInterval(timer);\n",
       "      }\n",
       "      attempts++;\n",
       "      if (attempts > 100) {\n",
       "        console.log(\"Bokeh: ERROR: Unable to run BokehJS code because BokehJS library is missing\")\n",
       "        clearInterval(timer);\n",
       "      }\n",
       "    }, 10, root)\n",
       "  }\n",
       "})(window);"
      ],
      "application/vnd.bokehjs_exec.v0+json": ""
     },
     "metadata": {
      "application/vnd.bokehjs_exec.v0+json": {
       "id": "e7e8f95e-329f-4b24-869e-16295432fef8"
      }
     },
     "output_type": "display_data"
    }
   ],
   "source": [
    "# Example of running 2000 games with the endgame sequence HTHHT\n",
    "\n",
    "c3 = CoinToss(2000, 'HTHHT')\n",
    "c3.run()\n",
    "c3.plot_counts()"
   ]
  },
  {
   "cell_type": "code",
   "execution_count": 6,
   "metadata": {},
   "outputs": [
    {
     "name": "stdout",
     "output_type": "stream",
     "text": [
      "Average number of tosses to reach endgame =  62.084\n"
     ]
    },
    {
     "data": {
      "text/html": [
       "\n",
       "\n",
       "\n",
       "\n",
       "\n",
       "\n",
       "  <div class=\"bk-root\" id=\"4081905a-1e46-43ac-9d54-0177a1b19c15\"></div>\n"
      ]
     },
     "metadata": {},
     "output_type": "display_data"
    },
    {
     "data": {
      "application/javascript": [
       "(function(root) {\n",
       "  function embed_document(root) {\n",
       "    \n",
       "  var docs_json = {\"086a16fc-19de-4d09-9ed9-d49507892574\":{\"roots\":{\"references\":[{\"attributes\":{\"source\":{\"id\":\"25572281-497b-4b4b-97a8-bf52b0fc13e5\",\"type\":\"ColumnDataSource\"}},\"id\":\"43d0351b-e492-43ac-80e4-8ac4eca993ee\",\"type\":\"CDSView\"},{\"attributes\":{\"active_drag\":\"auto\",\"active_inspect\":\"auto\",\"active_multi\":null,\"active_scroll\":\"auto\",\"active_tap\":\"auto\"},\"id\":\"8e35d991-c3b3-41b1-b43a-c853d5e500d0\",\"type\":\"Toolbar\"},{\"attributes\":{\"bottom\":{\"value\":0},\"fill_alpha\":{\"value\":0.1},\"fill_color\":{\"value\":\"#1f77b4\"},\"left\":{\"field\":\"left\"},\"line_alpha\":{\"value\":0.1},\"line_color\":{\"value\":\"#1f77b4\"},\"right\":{\"field\":\"right\"},\"top\":{\"field\":\"top\"}},\"id\":\"152471e8-ddef-4c1b-90f9-896dd49f1113\",\"type\":\"Quad\"},{\"attributes\":{},\"id\":\"5ed0ce7f-a4e3-4ffd-939a-c6f7353144d6\",\"type\":\"BasicTicker\"},{\"attributes\":{\"data_source\":{\"id\":\"25572281-497b-4b4b-97a8-bf52b0fc13e5\",\"type\":\"ColumnDataSource\"},\"glyph\":{\"id\":\"58c722c4-c9eb-443a-b4d8-7b9ef5d74382\",\"type\":\"Quad\"},\"hover_glyph\":null,\"muted_glyph\":null,\"nonselection_glyph\":{\"id\":\"152471e8-ddef-4c1b-90f9-896dd49f1113\",\"type\":\"Quad\"},\"selection_glyph\":null,\"view\":{\"id\":\"43d0351b-e492-43ac-80e4-8ac4eca993ee\",\"type\":\"CDSView\"}},\"id\":\"ee7264b9-e972-4ff5-8947-9887c4e71c8e\",\"type\":\"GlyphRenderer\"},{\"attributes\":{\"background_fill_color\":{\"value\":\"#fafafa\"},\"below\":[{\"id\":\"eff35715-6581-4069-b9a6-c683e152fd04\",\"type\":\"LinearAxis\"}],\"left\":[{\"id\":\"75ab3c8e-0122-4fbd-a45a-64e672be4e59\",\"type\":\"LinearAxis\"}],\"renderers\":[{\"id\":\"eff35715-6581-4069-b9a6-c683e152fd04\",\"type\":\"LinearAxis\"},{\"id\":\"44887eb6-d2ee-4411-ace4-8d7410d5412b\",\"type\":\"Grid\"},{\"id\":\"75ab3c8e-0122-4fbd-a45a-64e672be4e59\",\"type\":\"LinearAxis\"},{\"id\":\"aa0c05dd-1ea7-4971-807f-4b05e085790d\",\"type\":\"Grid\"},{\"id\":\"ee7264b9-e972-4ff5-8947-9887c4e71c8e\",\"type\":\"GlyphRenderer\"}],\"title\":{\"id\":\"65c9ebd1-5d9b-4c6a-85d9-9f79a5bfc1ba\",\"type\":\"Title\"},\"toolbar\":{\"id\":\"8e35d991-c3b3-41b1-b43a-c853d5e500d0\",\"type\":\"Toolbar\"},\"x_range\":{\"id\":\"58e6ce22-0e18-4641-8ad3-ef0612673357\",\"type\":\"DataRange1d\"},\"x_scale\":{\"id\":\"4f13759f-d890-492b-815e-9f1a2241e8e2\",\"type\":\"LinearScale\"},\"y_range\":{\"id\":\"25dbd6f4-3c38-4b36-b2f1-42971d0ce48b\",\"type\":\"DataRange1d\"},\"y_scale\":{\"id\":\"b4bfd6d0-879e-4daa-88a1-b791dfb8678c\",\"type\":\"LinearScale\"}},\"id\":\"40a65455-a7eb-4b21-b7cb-cc470076dae2\",\"subtype\":\"Figure\",\"type\":\"Plot\"},{\"attributes\":{\"callback\":null,\"data\":{\"left\":{\"__ndarray__\":\"AAAAAAAAFEAAAAAAAAAuQAAAAAAAADlAAAAAAACAQUAAAAAAAIBGQAAAAAAAgEtAAAAAAABAUEAAAAAAAMBSQAAAAAAAQFVAAAAAAADAV0AAAAAAAEBaQAAAAAAAwFxAAAAAAABAX0AAAAAAAOBgQAAAAAAAIGJAAAAAAABgY0AAAAAAAKBkQAAAAAAA4GVAAAAAAAAgZ0AAAAAAAGBoQAAAAAAAoGlAAAAAAADgakAAAAAAACBsQAAAAAAAYG1AAAAAAACgbkAAAAAAAOBvQAAAAAAAkHBAAAAAAAAwcUAAAAAAANBxQAAAAAAAcHJAAAAAAAAQc0AAAAAAALBzQAAAAAAAUHRAAAAAAADwdEAAAAAAAJB1QAAAAAAAMHZAAAAAAADQdkAAAAAAAHB3QAAAAAAAEHhAAAAAAACweEAAAAAAAFB5QAAAAAAA8HlAAAAAAACQekAAAAAAADB7QAAAAAAA0HtAAAAAAABwfEAAAAAAABB9QAAAAAAAsH1AAAAAAABQfkAAAAAAAPB+QA==\",\"dtype\":\"float64\",\"shape\":[50]},\"right\":{\"__ndarray__\":\"AAAAAAAALkAAAAAAAAA5QAAAAAAAgEFAAAAAAACARkAAAAAAAIBLQAAAAAAAQFBAAAAAAADAUkAAAAAAAEBVQAAAAAAAwFdAAAAAAABAWkAAAAAAAMBcQAAAAAAAQF9AAAAAAADgYEAAAAAAACBiQAAAAAAAYGNAAAAAAACgZEAAAAAAAOBlQAAAAAAAIGdAAAAAAABgaEAAAAAAAKBpQAAAAAAA4GpAAAAAAAAgbEAAAAAAAGBtQAAAAAAAoG5AAAAAAADgb0AAAAAAAJBwQAAAAAAAMHFAAAAAAADQcUAAAAAAAHByQAAAAAAAEHNAAAAAAACwc0AAAAAAAFB0QAAAAAAA8HRAAAAAAACQdUAAAAAAADB2QAAAAAAA0HZAAAAAAABwd0AAAAAAABB4QAAAAAAAsHhAAAAAAABQeUAAAAAAAPB5QAAAAAAAkHpAAAAAAAAwe0AAAAAAANB7QAAAAAAAcHxAAAAAAAAQfUAAAAAAALB9QAAAAAAAUH5AAAAAAADwfkAAAAAAAJB/QA==\",\"dtype\":\"float64\",\"shape\":[50]},\"top\":[343,282,207,177,149,146,112,84,74,60,62,40,62,31,26,16,15,18,16,16,10,9,6,9,3,2,1,1,4,2,3,2,1,2,1,3,1,0,1,2,0,0,0,0,0,0,0,0,0,1]},\"selected\":{\"id\":\"ad6fcdce-4751-459b-8137-5a15b6cd1085\",\"type\":\"Selection\"},\"selection_policy\":{\"id\":\"9018fb09-4bcb-4524-bf3a-b2ee3904bed9\",\"type\":\"UnionRenderers\"}},\"id\":\"25572281-497b-4b4b-97a8-bf52b0fc13e5\",\"type\":\"ColumnDataSource\"},{\"attributes\":{\"plot\":{\"id\":\"40a65455-a7eb-4b21-b7cb-cc470076dae2\",\"subtype\":\"Figure\",\"type\":\"Plot\"},\"ticker\":{\"id\":\"5ed0ce7f-a4e3-4ffd-939a-c6f7353144d6\",\"type\":\"BasicTicker\"}},\"id\":\"44887eb6-d2ee-4411-ace4-8d7410d5412b\",\"type\":\"Grid\"},{\"attributes\":{},\"id\":\"58d9afd4-0da4-4b35-ab3b-011a26e6b937\",\"type\":\"BasicTicker\"},{\"attributes\":{\"axis_label\":\"Number of tosses to reach endgame\",\"formatter\":{\"id\":\"1acae672-7526-4839-afcd-a20ad43371e0\",\"type\":\"BasicTickFormatter\"},\"plot\":{\"id\":\"40a65455-a7eb-4b21-b7cb-cc470076dae2\",\"subtype\":\"Figure\",\"type\":\"Plot\"},\"ticker\":{\"id\":\"5ed0ce7f-a4e3-4ffd-939a-c6f7353144d6\",\"type\":\"BasicTicker\"}},\"id\":\"eff35715-6581-4069-b9a6-c683e152fd04\",\"type\":\"LinearAxis\"},{\"attributes\":{},\"id\":\"b4bfd6d0-879e-4daa-88a1-b791dfb8678c\",\"type\":\"LinearScale\"},{\"attributes\":{\"bottom\":{\"value\":0},\"fill_alpha\":{\"value\":0.5},\"fill_color\":{\"value\":\"navy\"},\"left\":{\"field\":\"left\"},\"line_alpha\":{\"value\":0.5},\"line_color\":{\"value\":\"white\"},\"right\":{\"field\":\"right\"},\"top\":{\"field\":\"top\"}},\"id\":\"58c722c4-c9eb-443a-b4d8-7b9ef5d74382\",\"type\":\"Quad\"},{\"attributes\":{},\"id\":\"6508ba41-41cb-45fa-a0df-60267a3bbd5c\",\"type\":\"BasicTickFormatter\"},{\"attributes\":{\"plot\":null,\"text\":\"2000 games with endgame HHHHH\"},\"id\":\"65c9ebd1-5d9b-4c6a-85d9-9f79a5bfc1ba\",\"type\":\"Title\"},{\"attributes\":{},\"id\":\"ad6fcdce-4751-459b-8137-5a15b6cd1085\",\"type\":\"Selection\"},{\"attributes\":{\"callback\":null,\"start\":0},\"id\":\"25dbd6f4-3c38-4b36-b2f1-42971d0ce48b\",\"type\":\"DataRange1d\"},{\"attributes\":{\"axis_label\":\"counts\",\"formatter\":{\"id\":\"6508ba41-41cb-45fa-a0df-60267a3bbd5c\",\"type\":\"BasicTickFormatter\"},\"plot\":{\"id\":\"40a65455-a7eb-4b21-b7cb-cc470076dae2\",\"subtype\":\"Figure\",\"type\":\"Plot\"},\"ticker\":{\"id\":\"58d9afd4-0da4-4b35-ab3b-011a26e6b937\",\"type\":\"BasicTicker\"}},\"id\":\"75ab3c8e-0122-4fbd-a45a-64e672be4e59\",\"type\":\"LinearAxis\"},{\"attributes\":{},\"id\":\"4f13759f-d890-492b-815e-9f1a2241e8e2\",\"type\":\"LinearScale\"},{\"attributes\":{},\"id\":\"1acae672-7526-4839-afcd-a20ad43371e0\",\"type\":\"BasicTickFormatter\"},{\"attributes\":{\"callback\":null},\"id\":\"58e6ce22-0e18-4641-8ad3-ef0612673357\",\"type\":\"DataRange1d\"},{\"attributes\":{},\"id\":\"9018fb09-4bcb-4524-bf3a-b2ee3904bed9\",\"type\":\"UnionRenderers\"},{\"attributes\":{\"dimension\":1,\"plot\":{\"id\":\"40a65455-a7eb-4b21-b7cb-cc470076dae2\",\"subtype\":\"Figure\",\"type\":\"Plot\"},\"ticker\":{\"id\":\"58d9afd4-0da4-4b35-ab3b-011a26e6b937\",\"type\":\"BasicTicker\"}},\"id\":\"aa0c05dd-1ea7-4971-807f-4b05e085790d\",\"type\":\"Grid\"}],\"root_ids\":[\"40a65455-a7eb-4b21-b7cb-cc470076dae2\"]},\"title\":\"Bokeh Application\",\"version\":\"0.13.0\"}};\n",
       "  var render_items = [{\"docid\":\"086a16fc-19de-4d09-9ed9-d49507892574\",\"roots\":{\"40a65455-a7eb-4b21-b7cb-cc470076dae2\":\"4081905a-1e46-43ac-9d54-0177a1b19c15\"}}];\n",
       "  root.Bokeh.embed.embed_items_notebook(docs_json, render_items);\n",
       "\n",
       "  }\n",
       "  if (root.Bokeh !== undefined) {\n",
       "    embed_document(root);\n",
       "  } else {\n",
       "    var attempts = 0;\n",
       "    var timer = setInterval(function(root) {\n",
       "      if (root.Bokeh !== undefined) {\n",
       "        embed_document(root);\n",
       "        clearInterval(timer);\n",
       "      }\n",
       "      attempts++;\n",
       "      if (attempts > 100) {\n",
       "        console.log(\"Bokeh: ERROR: Unable to run BokehJS code because BokehJS library is missing\")\n",
       "        clearInterval(timer);\n",
       "      }\n",
       "    }, 10, root)\n",
       "  }\n",
       "})(window);"
      ],
      "application/vnd.bokehjs_exec.v0+json": ""
     },
     "metadata": {
      "application/vnd.bokehjs_exec.v0+json": {
       "id": "40a65455-a7eb-4b21-b7cb-cc470076dae2"
      }
     },
     "output_type": "display_data"
    }
   ],
   "source": [
    "# Example of running 2000 games with the endgame sequence HHHHH\n",
    "\n",
    "c3 = CoinToss(2000, 'HHHHH')\n",
    "c3.run()\n",
    "c3.plot_counts()"
   ]
  },
  {
   "cell_type": "code",
   "execution_count": null,
   "metadata": {},
   "outputs": [],
   "source": []
  }
 ],
 "metadata": {
  "kernelspec": {
   "display_name": "Python 3",
   "language": "python",
   "name": "python3"
  },
  "language_info": {
   "codemirror_mode": {
    "name": "ipython",
    "version": 3
   },
   "file_extension": ".py",
   "mimetype": "text/x-python",
   "name": "python",
   "nbconvert_exporter": "python",
   "pygments_lexer": "ipython3",
   "version": "3.6.2"
  }
 },
 "nbformat": 4,
 "nbformat_minor": 2
}
